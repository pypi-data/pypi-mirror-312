{
 "cells": [
  {
   "cell_type": "markdown",
   "id": "a65bd49c-d2e7-40ff-8dd0-764d93a26196",
   "metadata": {},
   "source": [
    "# Tutorial 1: Demonstrating zap_toolkit usage in agentic systems"
   ]
  },
  {
   "cell_type": "markdown",
   "id": "3ce570a3-49f8-4ebf-b987-114ebeb58d2f",
   "metadata": {},
   "source": [
    "In this notebook we demonstrate how to use of the zap_toolkit in a simple single-agent system to perform basic operations:\n",
    "- initiate the ZAP API session\n",
    "- crawl the target\n",
    "- retrieve the findings from the passive scanner\n",
    "\n",
    "Basic understanding of Langchain/Langgraph libraries is recommended. We will be using locally run ZAP API service based on the latest docker image.\n"
   ]
  },
  {
   "cell_type": "markdown",
   "id": "4bed9c8b-0a11-4292-82bf-2e69c589fdd1",
   "metadata": {},
   "source": [
    "You can execute this notebook by:\n",
    "1. Cloning the github repo: https://github.com/ishish222/zap_toolkit\n",
    "2. Installing dev/testing dependencies in a virtual environment with:\n",
    "```sh\n",
    "poetry install --with dev\n",
    "```\n",
    "5. Registering ipykernel with:\n",
    "```sh\n",
    "poetry shell\n",
    "poetry run python -m ipykernel install --user --name=zap-toolkit-tests --display-name \"Python (zap-toolkit-tests)\"\n",
    "poetry run jupyter notebook\n",
    "```\n",
    "4. Selecting appropriate kernel from the list and executing the cells"
   ]
  },
  {
   "cell_type": "markdown",
   "id": "43c46b14-1c46-479f-9bc3-022fd304f086",
   "metadata": {},
   "source": [
    "Please note:\n",
    "You need to configure relevant env variables in your environment or .env file:\n",
    "- OPENAI_API_KEY\n",
    "- ZAP_API_ENDPOINT_HTTP\n",
    "- ZAP_API_ENDPOINT_HTTPS\n",
    "- ZAP_API_KEY\n",
    "\n",
    "As for the ZAP_* variables you can use for the purpose of the locally run tutorial:\n",
    "```sh\n",
    "ZAP_API_ENDPOINT_HTTP=\"http://127.0.0.1:8081\"\n",
    "ZAP_API_ENDPOINT_HTTPS=\"https://127.0.0.1:8081\"\n",
    "ZAP_API_KEY=\"abcd0123\"\n",
    "```"
   ]
  },
  {
   "cell_type": "markdown",
   "id": "883363ea-3923-42cc-8920-5852ff24aead",
   "metadata": {},
   "source": [
    "Example command for running the latest ZAP API docker image: \n",
    "```sh\n",
    "docker run -u zap -p 8081:8080 zaproxy/zap-stable zap.sh -daemon -host 0.0.0.0 -port 8080 -config api.addrs.addr.name=.* -config api.addrs.addr.regex=true -config api.key=abcd0123\n",
    "```"
   ]
  },
  {
   "cell_type": "markdown",
   "id": "059e6d91-032e-4882-84a4-c96473a6a6a1",
   "metadata": {},
   "source": [
    "## Initial imports and env setup"
   ]
  },
  {
   "cell_type": "code",
   "execution_count": null,
   "id": "cd3414f7-e99f-49a2-9d83-53ee4cd2c752",
   "metadata": {},
   "outputs": [],
   "source": [
    "from langgraph.graph import StateGraph, END\n",
    "from typing import TypedDict, Annotated, List\n",
    "import operator\n",
    "from langgraph.checkpoint.memory import MemorySaver\n",
    "from langchain_core.messages import SystemMessage, HumanMessage, AIMessage, ToolMessage\n",
    "from langchain_core.prompts import SystemMessagePromptTemplate\n",
    "from dotenv import load_dotenv, find_dotenv\n",
    "from langchain_openai import ChatOpenAI\n",
    "from langgraph.prebuilt import ToolNode\n",
    "\n",
    "import os\n",
    "import sys\n"
   ]
  },
  {
   "cell_type": "code",
   "execution_count": null,
   "id": "d8a75ea1-cb58-46fe-b64e-439f0922231a",
   "metadata": {},
   "outputs": [],
   "source": [
    "_ = load_dotenv(find_dotenv())\n",
    "memory = MemorySaver()\n"
   ]
  },
  {
   "cell_type": "markdown",
   "id": "83650781-b115-41b3-a23c-8cfe974ad334",
   "metadata": {},
   "source": [
    "## Preparing some templates"
   ]
  },
  {
   "cell_type": "code",
   "execution_count": null,
   "id": "7f058e7e-6c53-416c-bd8a-5935930c4a66",
   "metadata": {},
   "outputs": [],
   "source": [
    "system_template = SystemMessagePromptTemplate.from_template(\n",
    "\"\"\"\n",
    "You are a skilled and seasoned penetration tester working for one of \n",
    "the best IT security companies in the world. You have the following \n",
    "certifications: OSCP, OSCE, CISSP. You are tasked with assisting the \n",
    "operator in carrying out some tasks related to the OWASP Top 10 \n",
    "penetration tests, specifically with performing crawling of a target \n",
    "website and reporting any findings.\n",
    "\n",
    "You are focused and motivated (if you do this task right, you wil \n",
    "be promoted). You only return information which you are asked for, \n",
    "without additional chatter and in the format that is requested of you.\n",
    "\n",
    "This specific task is about managing a set of provided tools to perform\n",
    "ZAP API session initiation, crawling and retrieving findings from the \n",
    "passive scanner.\n",
    "\n",
    "The following are out of scope of this task:\n",
    "- compiling a test report\n",
    "- planning the remaining steps of the OWASP penetration test\n",
    "- executing the analysis of the target URI\n",
    "\n",
    "The target URIs in scope of this task:\n",
    "{target_uris}\n",
    "\n",
    "Here are additional rules:\n",
    "- Remember, you need to initialize session before any other interactions \n",
    "    with ZAP API.\n",
    "\"\"\")"
   ]
  },
  {
   "cell_type": "code",
   "execution_count": null,
   "id": "c8e9aeef-cf42-4eb6-9c7d-c1a183715d93",
   "metadata": {},
   "outputs": [],
   "source": [
    "reasoning_message = \"\"\"\n",
    "Please examine the conversation so far and decide on the subsequent \n",
    "course of action.\n",
    "\"\"\""
   ]
  },
  {
   "cell_type": "code",
   "execution_count": null,
   "id": "8301be48-68c2-4d28-a275-5f6e2f37a493",
   "metadata": {},
   "outputs": [],
   "source": [
    "observation_message = \"\"\"\n",
    "Please examine the result of the action executed and interpret it in \n",
    "the context of the task at hand.\n",
    "\"\"\""
   ]
  },
  {
   "cell_type": "markdown",
   "id": "9a2531c6-3ebe-4cd7-87ad-56fa68763714",
   "metadata": {},
   "source": [
    "## Configuring the Langchain agent"
   ]
  },
  {
   "cell_type": "code",
   "execution_count": null,
   "id": "0176028a-1094-42fa-a515-d6efb022bffa",
   "metadata": {},
   "outputs": [],
   "source": [
    "class ParameterAgentState(TypedDict):\n",
    "    target_uris: List[str]\n",
    "    messages: Annotated[list[str], operator.add]\n",
    "    interation_number: int\n",
    "    max_interation_number: int"
   ]
  },
  {
   "cell_type": "code",
   "execution_count": null,
   "id": "69e89c2b-864b-4e85-b1a5-b83b9755ad2c",
   "metadata": {},
   "outputs": [],
   "source": [
    "class ParameterAgent:\n",
    "    def __init__(self, model, tools, checkpointer):\n",
    "        \n",
    "        # initialize agent w/ system message\n",
    "\n",
    "        graph = StateGraph(ParameterAgentState)\n",
    "\n",
    "        # nodes\n",
    "        graph.add_node(\"system\", self.system)\n",
    "        graph.add_node(\"reasoning\", self.reasoning)\n",
    "        graph.add_node(\"tool\", ToolNode(tools))\n",
    "        graph.add_node(\"observation\", self.observation)\n",
    "\n",
    "        # edges\n",
    "        graph.add_edge(\"system\", \"reasoning\")\n",
    "        graph.add_edge(\"tool\", \"observation\")\n",
    "        graph.add_edge(\"observation\", \"reasoning\")\n",
    "\n",
    "        graph.add_conditional_edges(\n",
    "            \"reasoning\",\n",
    "            self.determine_action,\n",
    "            {\n",
    "            \"tool\": \"tool\",\n",
    "            \"END\": END\n",
    "            }\n",
    "        )\n",
    "        \n",
    "        graph.set_entry_point(\"system\")\n",
    "\n",
    "        #compiling\n",
    "        self.graph = graph.compile(checkpointer=checkpointer)\n",
    "        self.tools = {t.name: t for t in tools}\n",
    "        self.model_wo_tools = model\n",
    "        self.model = model.bind_tools(tools)\n",
    "\n",
    "    def system(self, state: ParameterAgentState):\n",
    "        formatted_target_uris = \"\\n\".join(state['target_uris'])\n",
    "        system_message = system_template.format(target_uris=formatted_target_uris)\n",
    "        return {'messages': [system_message]}\n",
    "    \n",
    "    def reasoning(self, state: ParameterAgentState):\n",
    "        messages = state['messages']\n",
    "        \n",
    "        # update messages\n",
    "        state['messages'].append(HumanMessage(content=reasoning_message))\n",
    "        messages = state['messages']\n",
    "        \n",
    "        message = self.model.invoke(messages)\n",
    "        return {'messages': [message], 'interation_number': state['interation_number']+1}\n",
    "    \n",
    "    def observation(self, state: ParameterAgentState):\n",
    "\n",
    "        state['messages'].append(HumanMessage(content=observation_message))\n",
    "        messages = state['messages']\n",
    "        message = self.model_wo_tools.invoke(messages)\n",
    "        return {'messages': [message], 'interation_number': state['interation_number']+1}\n",
    "\n",
    "    def determine_action(\n",
    "            self,\n",
    "            state: TypedDict\n",
    "            ):\n",
    "        \n",
    "        print(\"In determine_action\")\n",
    "        result = state['messages'][-1]\n",
    "        \n",
    "        if len(result.tool_calls) == 0:\n",
    "            return \"END\"\n",
    "        else:\n",
    "            return \"tool\"\n",
    "        "
   ]
  },
  {
   "cell_type": "markdown",
   "id": "6fd7d110-dd34-4c4b-b409-39c3fd62595e",
   "metadata": {},
   "source": [
    "## Initiating tools"
   ]
  },
  {
   "cell_type": "code",
   "execution_count": null,
   "id": "02eb4777-980d-448a-ab17-7223bf8fb5a4",
   "metadata": {},
   "outputs": [],
   "source": [
    "from zap_toolkit import *"
   ]
  },
  {
   "cell_type": "code",
   "execution_count": null,
   "id": "df4f378c-bdb8-476d-abd1-ce352fd92a4b",
   "metadata": {},
   "outputs": [],
   "source": [
    "tools = [\n",
    "    SessionInitTool(),\n",
    "    SessionCloseTool(),\n",
    "    PassiveScannerRetrieveFindingsTool(),\n",
    "    CrawlingTool()\n",
    "]"
   ]
  },
  {
   "cell_type": "markdown",
   "id": "fd52d1e3-b31e-438a-875e-eb4ee89e4d92",
   "metadata": {},
   "source": [
    "## Using the agentic system to initiate session, crawl the target website and retrieve passive scan results"
   ]
  },
  {
   "cell_type": "code",
   "execution_count": null,
   "id": "40d46cf2-0774-463a-ac65-77f90d0281f4",
   "metadata": {},
   "outputs": [],
   "source": [
    "model = ChatOpenAI(model=\"gpt-4o\", temperature=0.0)\n",
    "zap_agent = ParameterAgent(model, tools, memory)"
   ]
  },
  {
   "cell_type": "code",
   "execution_count": null,
   "id": "4ea34a9a-b310-4402-8342-68b2ac788114",
   "metadata": {},
   "outputs": [],
   "source": [
    "from IPython.display import Image, display\n",
    "\n",
    "try:\n",
    "    display(Image(zap_agent.graph.get_graph().draw_mermaid_png()))\n",
    "except Exception as e:\n",
    "    print(e)"
   ]
  },
  {
   "cell_type": "code",
   "execution_count": null,
   "id": "ad082439-fa5f-4555-8f43-32c3f63c3a57",
   "metadata": {},
   "outputs": [],
   "source": [
    "thread = {\"configurable\": {\"thread_id\": \"example_thread_id_1\"}}"
   ]
  },
  {
   "cell_type": "code",
   "execution_count": null,
   "id": "8abfbf36-1956-4277-8def-1da6ae092748",
   "metadata": {},
   "outputs": [],
   "source": [
    "for event in zap_agent.graph.stream({\n",
    "    'target_uris': ['http://testphp.vulnweb.com'], \n",
    "    'interation_number': 1,\n",
    "    'max_interation_number': 10\n",
    "}, thread):\n",
    "    for v in event.values():\n",
    "        print(v['messages'])"
   ]
  },
  {
   "cell_type": "code",
   "execution_count": null,
   "id": "ad02d3bc-23e3-4619-8a3a-f17e527ce06a",
   "metadata": {},
   "outputs": [],
   "source": []
  },
  {
   "cell_type": "code",
   "execution_count": null,
   "id": "d58f2ef9-df3e-43b7-8310-733c22faf74c",
   "metadata": {},
   "outputs": [],
   "source": []
  }
 ],
 "metadata": {
  "kernelspec": {
   "display_name": "Python (zap-toolkit-tests)",
   "language": "python",
   "name": "zap-toolkit-tests"
  },
  "language_info": {
   "codemirror_mode": {
    "name": "ipython",
    "version": 3
   },
   "file_extension": ".py",
   "mimetype": "text/x-python",
   "name": "python",
   "nbconvert_exporter": "python",
   "pygments_lexer": "ipython3",
   "version": "3.12.2"
  }
 },
 "nbformat": 4,
 "nbformat_minor": 5
}
