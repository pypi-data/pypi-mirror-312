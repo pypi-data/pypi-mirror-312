{
 "cells": [
  {
   "cell_type": "markdown",
   "metadata": {},
   "source": [
    "Usage"
   ]
  },
  {
   "cell_type": "code",
   "execution_count": 1,
   "metadata": {},
   "outputs": [
    {
     "name": "stdout",
     "output_type": "stream",
     "text": [
      "[1/2 2/3]\n",
      "[[1/4 2/5]\n",
      " [1/2 4/7]]\n"
     ]
    }
   ],
   "source": [
    "import rationalpy as rp\n",
    "\n",
    "# Create a 1D RationalArray object\n",
    "rarr = rp.rational_array([1, 2], [2, 3])\n",
    "print(rarr)\n",
    "# Output: [1/2 2/3]\n",
    "\n",
    "# Create a 2D array\n",
    "rarr_2d = rp.rational_array([[1, 2], [3, 4]], [[4, 5], [6, 7]])\n",
    "print(rarr_2d)\n",
    "# Output: [[1/4 2/5]\n",
    "#          [1/2 4/7]]"
   ]
  },
  {
   "cell_type": "markdown",
   "metadata": {},
   "source": [
    "Simple arithmetic"
   ]
  },
  {
   "cell_type": "code",
   "execution_count": 2,
   "metadata": {},
   "outputs": [
    {
     "name": "stdout",
     "output_type": "stream",
     "text": [
      "[0/1 1/2 2/3 3/4 4/5]\n",
      "[1/1 1/2 1/3 1/4 1/5]\n",
      "[1/1 1/1 1/1 1/1 1/1]\n",
      "[-1/1 0/1 1/3 1/2 3/5]\n",
      "[0/1 1/4 2/9 3/16 4/25]\n",
      "[0/1 1/1 2/1 3/1 4/1]\n"
     ]
    }
   ],
   "source": [
    "import rationalpy as rp\n",
    "\n",
    "rarr1 = rp.rational_array([0, 1, 2, 3, 4], [1, 2, 3, 4, 5])\n",
    "print(rarr1)\n",
    "# Output: [0/1 1/2 2/3 3/4 4/5]\n",
    "\n",
    "rarr2 = rp.rational_array(1, [1, 2, 3, 4, 5])\n",
    "print(rarr2)\n",
    "# Output: [1/1 1/2 1/3 1/4 1/5]\n",
    "\n",
    "print(rarr1 + rarr2)\n",
    "# Output: [1/1 1/1 1/1 1/1 1/1]\n",
    "\n",
    "print(rarr1 - rarr2)\n",
    "# Output: [-1/1 0/1 1/3 1/2 3/5]\n",
    "\n",
    "print(rarr1 * rarr2)\n",
    "# Output: [0/1 1/4 2/9 3/16 4/25]\n",
    "\n",
    "print(rarr1 / rarr2)\n",
    "# Output: [0/1 1/1 2/1 3/1 4/1]"
   ]
  },
  {
   "cell_type": "markdown",
   "metadata": {},
   "source": [
    "Call basic numpy functions:"
   ]
  },
  {
   "cell_type": "code",
   "execution_count": 3,
   "metadata": {},
   "outputs": [
    {
     "name": "stdout",
     "output_type": "stream",
     "text": [
      "S_1=1/1\n",
      "S_2=3/2\n",
      "S_3=11/6\n",
      "S_4=25/12\n",
      "S_5=137/60\n",
      "S_6=49/20\n",
      "S_7=363/140\n",
      "S_8=761/280\n",
      "S_9=7129/2520\n",
      "S_10=7381/2520\n"
     ]
    }
   ],
   "source": [
    "import numpy as np\n",
    "\n",
    "for N in range(1, 11):\n",
    "    rarr = rp.rational_array(1,  np.arange(1, N+1))\n",
    "    print(f\"S_{N}={np.sum(rarr)}\")\n",
    "# Output: S_1=1/1\n",
    "#         S_2=3/2\n",
    "#         S_3=11/6\n",
    "#         S_4=25/12\n",
    "#         S_5=137/60\n",
    "#         S_6=49/20\n",
    "#         S_7=363/140\n",
    "#         S_8=761/280\n",
    "#         S_9=7129/2520\n",
    "#         S_10=7381/2520"
   ]
  },
  {
   "cell_type": "markdown",
   "metadata": {},
   "source": [
    "Convert back to numpy arrays:"
   ]
  },
  {
   "cell_type": "code",
   "execution_count": 4,
   "metadata": {},
   "outputs": [
    {
     "name": "stdout",
     "output_type": "stream",
     "text": [
      "[0.5        0.66666667]\n"
     ]
    }
   ],
   "source": [
    "rarr = rp.rational_array([1, 2], [2, 3])\n",
    "print(rp.asnumpy(rarr))\n",
    "# Output: [0.5       0.66666667]"
   ]
  }
 ],
 "metadata": {
  "kernelspec": {
   "display_name": "rationalpy",
   "language": "python",
   "name": "python3"
  },
  "language_info": {
   "codemirror_mode": {
    "name": "ipython",
    "version": 3
   },
   "file_extension": ".py",
   "mimetype": "text/x-python",
   "name": "python",
   "nbconvert_exporter": "python",
   "pygments_lexer": "ipython3",
   "version": "3.12.7"
  }
 },
 "nbformat": 4,
 "nbformat_minor": 2
}
