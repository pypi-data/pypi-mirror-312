{
 "cells": [
  {
   "cell_type": "code",
   "execution_count": 1,
   "id": "7cce1f00-8249-410f-a974-b19c0d2dca64",
   "metadata": {},
   "outputs": [],
   "source": [
    "import illoominate\n",
    "import matplotlib.pyplot as plt\n",
    "import pandas as pd"
   ]
  },
  {
   "cell_type": "code",
   "execution_count": 2,
   "id": "7bab22cc-37d9-4fe1-8994-17d8645db5c9",
   "metadata": {},
   "outputs": [],
   "source": [
    "train_df = pd.read_csv('data/nowplaying1m/processed/train.csv', sep='\\t')\n",
    "validation_df = pd.read_csv('data/nowplaying1m/processed/valid.csv', sep='\\t')"
   ]
  },
  {
   "cell_type": "code",
   "execution_count": 3,
   "id": "6fb35241-eb58-471d-af5e-9b40cdf383e0",
   "metadata": {},
   "outputs": [
    {
     "data": {
      "image/png": "[encoded data removed]",
      "text/plain": [
       "<Figure size 640x480 with 1 Axes>"
      ]
     },
     "metadata": {},
     "output_type": "display_data"
    }
   ],
   "source": [
    "loo_values = illoominate.data_loo_values(\n",
    "    train_df=train_df,\n",
    "    validation_df=validation_df,\n",
    "    model='vmis',\n",
    "    metric='mrr@20',\n",
    "    params={'m':500, 'k':100, 'seed': 42},\n",
    ")\n",
    "\n",
    "plt.hist(loo_values['score'], density=False, bins=100)\n",
    "plt.title('Distribution of Data LOO Values')\n",
    "plt.yscale('log')\n",
    "plt.ylabel('Frequency')\n",
    "plt.xlabel('Data LOO Values')\n",
    "plt.savefig('images/loo.png', dpi=300)\n",
    "plt.show()\n"
   ]
  },
  {
   "cell_type": "code",
   "execution_count": null,
   "id": "088400d5-94ea-45ef-879f-8558db7fd5be",
   "metadata": {},
   "outputs": [],
   "source": [
    "shapley_values = illoominate.data_shapley_values(\n",
    "    train_df=train_df,\n",
    "    validation_df=validation_df,\n",
    "    model='vmis',\n",
    "    metric='mrr@20',\n",
    "    params={'m':500, 'k':100, 'seed': 42, 'convergence_threshold': 2000},\n",
    ")\n",
    "\n",
    "\n",
    "plt.hist(shapley_values['score'], density=False, bins=100)\n",
    "plt.title('Distribution of Data Shapley Values')\n",
    "plt.yscale('log')\n",
    "plt.ylabel('Frequency')\n",
    "plt.xlabel('Data Shapley Values')\n",
    "plt.savefig('images/shapley.png', dpi=300)\n",
    "plt.show()\n"
   ]
  },
  {
   "cell_type": "code",
   "execution_count": 9,
   "id": "7877c94b-da15-4f9a-aca6-e00075dc6e1c",
   "metadata": {},
   "outputs": [
    {
     "data": {
      "text/html": [
       "<div>\n",
       "<style scoped>\n",
       "    .dataframe tbody tr th:only-of-type {\n",
       "        vertical-align: middle;\n",
       "    }\n",
       "\n",
       "    .dataframe tbody tr th {\n",
       "        vertical-align: top;\n",
       "    }\n",
       "\n",
       "    .dataframe thead th {\n",
       "        text-align: right;\n",
       "    }\n",
       "</style>\n",
       "<table border=\"1\" class=\"dataframe\">\n",
       "  <thead>\n",
       "    <tr style=\"text-align: right;\">\n",
       "      <th></th>\n",
       "      <th>session_id</th>\n",
       "      <th>item_id</th>\n",
       "      <th>timestamp</th>\n",
       "      <th>score</th>\n",
       "    </tr>\n",
       "  </thead>\n",
       "  <tbody>\n",
       "    <tr>\n",
       "      <th>0</th>\n",
       "      <td>5076</td>\n",
       "      <td>64</td>\n",
       "      <td>1585507853</td>\n",
       "      <td>-2.931978e-05</td>\n",
       "    </tr>\n",
       "    <tr>\n",
       "      <th>1</th>\n",
       "      <td>13946</td>\n",
       "      <td>119</td>\n",
       "      <td>1584189394</td>\n",
       "      <td>-2.606203e-05</td>\n",
       "    </tr>\n",
       "    <tr>\n",
       "      <th>2</th>\n",
       "      <td>13951</td>\n",
       "      <td>173</td>\n",
       "      <td>1585417176</td>\n",
       "      <td>-6.515507e-06</td>\n",
       "    </tr>\n",
       "    <tr>\n",
       "      <th>3</th>\n",
       "      <td>3090</td>\n",
       "      <td>199</td>\n",
       "      <td>1584196605</td>\n",
       "      <td>-2.393995e-05</td>\n",
       "    </tr>\n",
       "    <tr>\n",
       "      <th>4</th>\n",
       "      <td>5076</td>\n",
       "      <td>205</td>\n",
       "      <td>1585507872</td>\n",
       "      <td>-2.931978e-05</td>\n",
       "    </tr>\n",
       "    <tr>\n",
       "      <th>...</th>\n",
       "      <td>...</td>\n",
       "      <td>...</td>\n",
       "      <td>...</td>\n",
       "      <td>...</td>\n",
       "    </tr>\n",
       "    <tr>\n",
       "      <th>956</th>\n",
       "      <td>13951</td>\n",
       "      <td>5860</td>\n",
       "      <td>1585416925</td>\n",
       "      <td>-6.515507e-06</td>\n",
       "    </tr>\n",
       "    <tr>\n",
       "      <th>957</th>\n",
       "      <td>447</td>\n",
       "      <td>3786</td>\n",
       "      <td>1584448579</td>\n",
       "      <td>-5.092383e-06</td>\n",
       "    </tr>\n",
       "    <tr>\n",
       "      <th>958</th>\n",
       "      <td>7573</td>\n",
       "      <td>14467</td>\n",
       "      <td>1584450303</td>\n",
       "      <td>-7.107826e-07</td>\n",
       "    </tr>\n",
       "    <tr>\n",
       "      <th>959</th>\n",
       "      <td>5123</td>\n",
       "      <td>47</td>\n",
       "      <td>1584808576</td>\n",
       "      <td>-4.295939e-07</td>\n",
       "    </tr>\n",
       "    <tr>\n",
       "      <th>960</th>\n",
       "      <td>11339</td>\n",
       "      <td>4855</td>\n",
       "      <td>1585391332</td>\n",
       "      <td>-1.579517e-06</td>\n",
       "    </tr>\n",
       "  </tbody>\n",
       "</table>\n",
       "<p>961 rows × 4 columns</p>\n",
       "</div>"
      ],
      "text/plain": [
       "     session_id  item_id   timestamp         score\n",
       "0          5076       64  1585507853 -2.931978e-05\n",
       "1         13946      119  1584189394 -2.606203e-05\n",
       "2         13951      173  1585417176 -6.515507e-06\n",
       "3          3090      199  1584196605 -2.393995e-05\n",
       "4          5076      205  1585507872 -2.931978e-05\n",
       "..          ...      ...         ...           ...\n",
       "956       13951     5860  1585416925 -6.515507e-06\n",
       "957         447     3786  1584448579 -5.092383e-06\n",
       "958        7573    14467  1584450303 -7.107826e-07\n",
       "959        5123       47  1584808576 -4.295939e-07\n",
       "960       11339     4855  1585391332 -1.579517e-06\n",
       "\n",
       "[961 rows x 4 columns]"
      ]
     },
     "execution_count": 9,
     "metadata": {},
     "output_type": "execute_result"
    }
   ],
   "source": [
    "negative = shapley_values[shapley_values.score < 0]\n",
    "corrupt_sessions = train_df.merge(negative, on='session_id')\n",
    "corrupt_sessions"
   ]
  },
  {
   "cell_type": "code",
   "execution_count": null,
   "id": "c461d346-0efc-42d7-88ce-f4b4e1295af5",
   "metadata": {},
   "outputs": [],
   "source": []
  },
  {
   "cell_type": "code",
   "execution_count": null,
   "id": "d6d31413-6637-465c-8e22-ded81cc65722",
   "metadata": {},
   "outputs": [],
   "source": []
  }
 ],
 "metadata": {
  "kernelspec": {
   "display_name": "Python 3 (ipykernel)",
   "language": "python",
   "name": "python3"
  },
  "language_info": {
   "codemirror_mode": {
    "name": "ipython",
    "version": 3
   },
   "file_extension": ".py",
   "mimetype": "text/x-python",
   "name": "python",
   "nbconvert_exporter": "python",
   "pygments_lexer": "ipython3",
   "version": "3.10.15"
  }
 },
 "nbformat": 4,
 "nbformat_minor": 5
}
