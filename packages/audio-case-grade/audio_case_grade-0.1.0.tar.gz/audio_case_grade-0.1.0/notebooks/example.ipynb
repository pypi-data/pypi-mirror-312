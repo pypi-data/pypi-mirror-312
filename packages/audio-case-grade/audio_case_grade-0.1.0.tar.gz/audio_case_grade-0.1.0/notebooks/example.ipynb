{
 "cells": [
  {
   "cell_type": "markdown",
   "metadata": {},
   "source": [
    "# Example\n",
    "\n",
    "## Installing Package\n",
    "\n",
    "1. Install Python\n",
    "2. Install [uv](https://docs.astral.sh/uv/getting-started/installation/)\n",
    "3. Setup [virtual environment](https://docs.astral.sh/uv/pip/environments/) `uv venv`\n",
    "4. Sync dev dependencies `uv sync --dev`\n",
    "4. Install package into environment `uv pip install -e .` "
   ]
  },
  {
   "cell_type": "markdown",
   "metadata": {},
   "source": [
    "## Hello World\n",
    "\n",
    "A simple example to prove the library loaded correctly"
   ]
  },
  {
   "cell_type": "code",
   "execution_count": 1,
   "metadata": {},
   "outputs": [
    {
     "name": "stdout",
     "output_type": "stream",
     "text": [
      "Welcome to audio-case-grade!\n"
     ]
    }
   ],
   "source": [
    "from audio_case_grade.core import hello\n",
    "\n",
    "print(hello())\n"
   ]
  }
 ],
 "metadata": {
  "kernelspec": {
   "display_name": ".venv",
   "language": "python",
   "name": "python3"
  },
  "language_info": {
   "codemirror_mode": {
    "name": "ipython",
    "version": 3
   },
   "file_extension": ".py",
   "mimetype": "text/x-python",
   "name": "python",
   "nbconvert_exporter": "python",
   "pygments_lexer": "ipython3",
   "version": "3.13.0"
  }
 },
 "nbformat": 4,
 "nbformat_minor": 2
}
