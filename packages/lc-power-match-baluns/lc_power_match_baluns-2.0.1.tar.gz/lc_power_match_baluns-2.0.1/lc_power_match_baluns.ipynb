{
 "cells": [
  {
   "cell_type": "code",
   "execution_count": null,
   "metadata": {},
   "outputs": [],
   "source": [
    "\"\"\"\n",
    "This file is part of lc-power-match-baluns.\n",
    "Copyright © 2023 Technical University of Denmark (developed by Rasmus Jepsen)\n",
    "\n",
    "This library is free software; you can redistribute it and/or\n",
    "modify it under the terms of the GNU Lesser General Public\n",
    "License as published by the Free Software Foundation; either\n",
    "version 2.1 of the License, or (at your option) any later version.\n",
    "\n",
    "This library is distributed in the hope that it will be useful,\n",
    "but WITHOUT ANY WARRANTY; without even the implied warranty of\n",
    "MERCHANTABILITY or FITNESS FOR A PARTICULAR PURPOSE.  See the GNU\n",
    "Lesser General Public License for more details.\n",
    "\n",
    "You should have received a copy of the GNU Lesser General Public\n",
    "License along with this library; if not, write to the Free Software\n",
    "Foundation, Inc., 51 Franklin Street, Fifth Floor, Boston, MA  02110-1301  USA\n",
    "\"\"\""
   ]
  },
  {
   "cell_type": "code",
   "execution_count": null,
   "metadata": {},
   "outputs": [],
   "source": [
    "\"\"\"\n",
    "This notebook calculates component values for LC power matching baluns and displays circuit diagrams for the calculated networks.\n",
    "\"\"\""
   ]
  },
  {
   "cell_type": "code",
   "execution_count": null,
   "metadata": {},
   "outputs": [],
   "source": [
    "# import modules\n",
    "import lc_power_match_baluns.topology\n",
    "import numpy as np"
   ]
  },
  {
   "cell_type": "code",
   "execution_count": null,
   "metadata": {},
   "outputs": [],
   "source": [
    "# inputs\n",
    "\n",
    "# design frequency (Hz)\n",
    "f0 = 300e6\n",
    "\n",
    "# impedance at balanced port (Ohm)\n",
    "Zb = 73 + 43j\n",
    "\n",
    "# impedance at unbalanced port (Ohm)\n",
    "Zu = 50 + 0j\n",
    "\n",
    "# The Q-factors below are used to provide performance estimates at the design frequency.\n",
    "# These performance estimates are only rough and do not account for non-ideal effects other than the Q-factor.\n",
    "# Capacitors are modelled as series RC circuits and inductors as parallel RL circuits.\n",
    "# These estimates are not shown in the ideal case where both Q-factors are set to infinity.\n",
    "\n",
    "# capacitor Q-factor at the design frequency\n",
    "Qc=2000\n",
    "\n",
    "# inductor Q-factor at the design frequency\n",
    "Ql=50\n",
    "\n",
    "# whether to display TikZ code for circuit diagrams\n",
    "printTikZ = False"
   ]
  },
  {
   "cell_type": "code",
   "execution_count": null,
   "metadata": {},
   "outputs": [],
   "source": [
    "# draw templates\n",
    "for cls in lc_power_match_baluns.topology.PowerMatchingBalunTopology.__subclasses__():\n",
    "    if cls.netlist is not None:\n",
    "        template_circuit = cls.lcapy_circuit()\n",
    "        print(cls.name)\n",
    "        template_circuit.draw()\n",
    "        if printTikZ:\n",
    "            print(template_circuit.sch._tikz_draw())"
   ]
  },
  {
   "cell_type": "code",
   "execution_count": null,
   "metadata": {},
   "outputs": [],
   "source": [
    "# output results\n",
    "for cls_index, cls in enumerate(lc_power_match_baluns.topology.PowerMatchingBalunTopology.__subclasses__()):\n",
    "    print(f\"\\n{cls.name}\")\n",
    "    topology_solutions = cls.calculate_elements_from_impedances(Zb, Zu)\n",
    "    if len(topology_solutions) == 0:\n",
    "        print(\"No solutions\")\n",
    "        continue\n",
    "    for solution_index, solution_reactances in enumerate(topology_solutions):\n",
    "        print(f\"\\nSolution {solution_index + 1}\")\n",
    "        components = lc_power_match_baluns.oneport.SimpleLosslessOnePort.from_reactances_at_frequency(solution_reactances, f0)\n",
    "        if cls.netlist is not None:\n",
    "            circuit_lc = cls.lcapy_lc_circuit(components)\n",
    "            circuit_lc.draw()\n",
    "        for reactance_index, topology_reactance in enumerate(solution_reactances):\n",
    "            print(f\"X{reactance_index + 1} = {topology_reactance} Ohm\")\n",
    "        for component in components:\n",
    "            print(component)\n",
    "        if printTikZ:\n",
    "            print(circuit_lc.sch._tikz_draw())\n",
    "        if (np.isfinite(Ql) or np.isfinite(Qc)):\n",
    "            lossy_element_impedances = [component.calculate_impedance(f0, Ql if isinstance(component, lc_power_match_baluns.oneport.Inductor) else Qc) for component in components]\n",
    "            cmrr = cls.calculate_cmrr(Zb, Zu, lossy_element_impedances)\n",
    "            insertion_loss = cls.calculate_insertion_loss(Zb, Zu, lossy_element_impedances)\n",
    "            balanced_return_loss, unbalanced_return_loss = cls.calculate_return_losses(Zb, Zu, lossy_element_impedances)\n",
    "            print(f\"\\nPerformance estimates at {f0} Hz:\")\n",
    "            print(f\"CMRR: {cmrr} dB\")\n",
    "            print(f\"Insertion loss: {insertion_loss} dB\")\n",
    "            print(f\"Balanced port return loss: {balanced_return_loss} dB\")\n",
    "            print(f\"Unbalanced port return loss: {unbalanced_return_loss} dB\")"
   ]
  }
 ],
 "metadata": {
  "kernelspec": {
   "display_name": "Python 3",
   "language": "python",
   "name": "python3"
  },
  "language_info": {
   "codemirror_mode": {
    "name": "ipython",
    "version": 3
   },
   "file_extension": ".py",
   "mimetype": "text/x-python",
   "name": "python",
   "nbconvert_exporter": "python",
   "pygments_lexer": "ipython3",
   "version": "3.11.3"
  }
 },
 "nbformat": 4,
 "nbformat_minor": 2
}
