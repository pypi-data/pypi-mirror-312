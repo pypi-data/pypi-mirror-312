{
 "cells": [
  {
   "cell_type": "code",
   "execution_count": 2,
   "id": "c6bc80ca-df07-4a44-a3ca-a549db8df2a5",
   "metadata": {},
   "outputs": [
    {
     "name": "stdout",
     "output_type": "stream",
     "text": [
      "'SEEQ_EMATICA_ADDON_PCA' is not installed. Installing...\n",
      "Collecting SEEQ_EMATICA_ADDON_PCA\n",
      "  Downloading SEEQ_EMATICA_ADDON_PCA-0.0.24-py3-none-any.whl.metadata (910 bytes)\n",
      "Collecting ipyvuetify~=1.9.4 (from SEEQ_EMATICA_ADDON_PCA)\n",
      "  Downloading ipyvuetify-1.9.4-py2.py3-none-any.whl.metadata (7.4 kB)\n",
      "Requirement already satisfied: ipywidgets in /usr/local/.pyenv/versions/3.11.10/lib/python3.11/site-packages (from SEEQ_EMATICA_ADDON_PCA) (8.1.3)\n",
      "Requirement already satisfied: IPython in /usr/local/.pyenv/versions/3.11.10/lib/python3.11/site-packages (from SEEQ_EMATICA_ADDON_PCA) (8.24.0)\n",
      "Requirement already satisfied: pandas in /usr/local/.pyenv/versions/3.11.10/lib/python3.11/site-packages (from SEEQ_EMATICA_ADDON_PCA) (2.2.2)\n",
      "Requirement already satisfied: scikit-learn in ./.local/lib/python3.11/site-packages (from SEEQ_EMATICA_ADDON_PCA) (1.5.2)\n",
      "Requirement already satisfied: seeq~=66.0.0.dev20241031 in /usr/local/.pyenv/versions/3.11.10/lib/python3.11/site-packages (from SEEQ_EMATICA_ADDON_PCA) (66.0.0.dev20241120)\n",
      "Requirement already satisfied: seeq-spy in /usr/local/.pyenv/versions/3.11.10/lib/python3.11/site-packages (from SEEQ_EMATICA_ADDON_PCA) (193.14)\n",
      "Requirement already satisfied: numpy in /usr/local/.pyenv/versions/3.11.10/lib/python3.11/site-packages (from SEEQ_EMATICA_ADDON_PCA) (1.26.4)\n",
      "Collecting datetime (from SEEQ_EMATICA_ADDON_PCA)\n",
      "  Downloading DateTime-5.5-py3-none-any.whl.metadata (33 kB)\n",
      "Requirement already satisfied: pytz in /usr/local/.pyenv/versions/3.11.10/lib/python3.11/site-packages (from SEEQ_EMATICA_ADDON_PCA) (2024.1)\n",
      "Requirement already satisfied: plotly in ./.local/lib/python3.11/site-packages (from SEEQ_EMATICA_ADDON_PCA) (5.24.1)\n",
      "Collecting configparser_crypt (from SEEQ_EMATICA_ADDON_PCA)\n",
      "  Downloading configparser_crypt-1.1.0-py3-none-any.whl.metadata (7.4 kB)\n",
      "Collecting ipyvue<2,>=1.7 (from ipyvuetify~=1.9.4->SEEQ_EMATICA_ADDON_PCA)\n",
      "  Downloading ipyvue-1.11.2-py2.py3-none-any.whl.metadata (1.1 kB)\n",
      "Requirement already satisfied: certifi>=14.05.14 in /usr/local/.pyenv/versions/3.11.10/lib/python3.11/site-packages (from seeq~=66.0.0.dev20241031->SEEQ_EMATICA_ADDON_PCA) (2024.8.30)\n",
      "Requirement already satisfied: six>=1.10 in /usr/local/.pyenv/versions/3.11.10/lib/python3.11/site-packages (from seeq~=66.0.0.dev20241031->SEEQ_EMATICA_ADDON_PCA) (1.16.0)\n",
      "Requirement already satisfied: urllib3<2.0.0,>=1.15.1 in /usr/local/.pyenv/versions/3.11.10/lib/python3.11/site-packages (from seeq~=66.0.0.dev20241031->SEEQ_EMATICA_ADDON_PCA) (1.26.19)\n",
      "Requirement already satisfied: requests>=2.21.0 in /usr/local/.pyenv/versions/3.11.10/lib/python3.11/site-packages (from seeq~=66.0.0.dev20241031->SEEQ_EMATICA_ADDON_PCA) (2.31.0)\n",
      "Requirement already satisfied: cryptography>=3.2 in /usr/local/.pyenv/versions/3.11.10/lib/python3.11/site-packages (from seeq~=66.0.0.dev20241031->SEEQ_EMATICA_ADDON_PCA) (42.0.8)\n",
      "Collecting cryptidy>=1.2.2 (from configparser_crypt->SEEQ_EMATICA_ADDON_PCA)\n",
      "  Downloading cryptidy-1.2.3-py3-none-any.whl.metadata (4.3 kB)\n",
      "Requirement already satisfied: zope.interface in ./.local/lib/python3.11/site-packages (from datetime->SEEQ_EMATICA_ADDON_PCA) (7.2)\n",
      "Requirement already satisfied: decorator in /usr/local/.pyenv/versions/3.11.10/lib/python3.11/site-packages (from IPython->SEEQ_EMATICA_ADDON_PCA) (5.1.1)\n",
      "Requirement already satisfied: jedi>=0.16 in /usr/local/.pyenv/versions/3.11.10/lib/python3.11/site-packages (from IPython->SEEQ_EMATICA_ADDON_PCA) (0.19.1)\n",
      "Requirement already satisfied: matplotlib-inline in /usr/local/.pyenv/versions/3.11.10/lib/python3.11/site-packages (from IPython->SEEQ_EMATICA_ADDON_PCA) (0.1.7)\n",
      "Requirement already satisfied: prompt-toolkit<3.1.0,>=3.0.41 in /usr/local/.pyenv/versions/3.11.10/lib/python3.11/site-packages (from IPython->SEEQ_EMATICA_ADDON_PCA) (3.0.43)\n",
      "Requirement already satisfied: pygments>=2.4.0 in /usr/local/.pyenv/versions/3.11.10/lib/python3.11/site-packages (from IPython->SEEQ_EMATICA_ADDON_PCA) (2.18.0)\n",
      "Requirement already satisfied: stack-data in /usr/local/.pyenv/versions/3.11.10/lib/python3.11/site-packages (from IPython->SEEQ_EMATICA_ADDON_PCA) (0.6.3)\n",
      "Requirement already satisfied: traitlets>=5.13.0 in /usr/local/.pyenv/versions/3.11.10/lib/python3.11/site-packages (from IPython->SEEQ_EMATICA_ADDON_PCA) (5.14.3)\n",
      "Requirement already satisfied: typing-extensions>=4.6 in /usr/local/.pyenv/versions/3.11.10/lib/python3.11/site-packages (from IPython->SEEQ_EMATICA_ADDON_PCA) (4.11.0)\n",
      "Requirement already satisfied: pexpect>4.3 in /usr/local/.pyenv/versions/3.11.10/lib/python3.11/site-packages (from IPython->SEEQ_EMATICA_ADDON_PCA) (4.9.0)\n",
      "Requirement already satisfied: comm>=0.1.3 in /usr/local/.pyenv/versions/3.11.10/lib/python3.11/site-packages (from ipywidgets->SEEQ_EMATICA_ADDON_PCA) (0.2.2)\n",
      "Requirement already satisfied: widgetsnbextension~=4.0.11 in /usr/local/.pyenv/versions/3.11.10/lib/python3.11/site-packages (from ipywidgets->SEEQ_EMATICA_ADDON_PCA) (4.0.11)\n",
      "Requirement already satisfied: jupyterlab-widgets~=3.0.11 in /usr/local/.pyenv/versions/3.11.10/lib/python3.11/site-packages (from ipywidgets->SEEQ_EMATICA_ADDON_PCA) (3.0.11)\n",
      "Requirement already satisfied: python-dateutil>=2.8.2 in /usr/local/.pyenv/versions/3.11.10/lib/python3.11/site-packages (from pandas->SEEQ_EMATICA_ADDON_PCA) (2.9.0.post0)\n",
      "Requirement already satisfied: tzdata>=2022.7 in /usr/local/.pyenv/versions/3.11.10/lib/python3.11/site-packages (from pandas->SEEQ_EMATICA_ADDON_PCA) (2024.1)\n",
      "Requirement already satisfied: tenacity>=6.2.0 in ./.local/lib/python3.11/site-packages (from plotly->SEEQ_EMATICA_ADDON_PCA) (9.0.0)\n",
      "Requirement already satisfied: packaging in /usr/local/.pyenv/versions/3.11.10/lib/python3.11/site-packages (from plotly->SEEQ_EMATICA_ADDON_PCA) (24.0)\n",
      "Requirement already satisfied: scipy>=1.6.0 in ./.local/lib/python3.11/site-packages (from scikit-learn->SEEQ_EMATICA_ADDON_PCA) (1.14.1)\n",
      "Requirement already satisfied: joblib>=1.2.0 in ./.local/lib/python3.11/site-packages (from scikit-learn->SEEQ_EMATICA_ADDON_PCA) (1.4.2)\n",
      "Requirement already satisfied: threadpoolctl>=3.1.0 in ./.local/lib/python3.11/site-packages (from scikit-learn->SEEQ_EMATICA_ADDON_PCA) (3.5.0)\n",
      "Requirement already satisfied: Deprecated>=1.2.6 in /usr/local/.pyenv/versions/3.11.10/lib/python3.11/site-packages (from seeq-spy->SEEQ_EMATICA_ADDON_PCA) (1.2.14)\n",
      "Requirement already satisfied: pycryptodomex>=3.6.0 in ./.local/lib/python3.11/site-packages (from cryptidy>=1.2.2->configparser_crypt->SEEQ_EMATICA_ADDON_PCA) (3.21.0)\n",
      "Requirement already satisfied: cffi>=1.12 in /usr/local/.pyenv/versions/3.11.10/lib/python3.11/site-packages (from cryptography>=3.2->seeq~=66.0.0.dev20241031->SEEQ_EMATICA_ADDON_PCA) (1.16.0)\n",
      "Requirement already satisfied: wrapt<2,>=1.10 in /usr/local/.pyenv/versions/3.11.10/lib/python3.11/site-packages (from Deprecated>=1.2.6->seeq-spy->SEEQ_EMATICA_ADDON_PCA) (1.16.0)\n",
      "Requirement already satisfied: parso<0.9.0,>=0.8.3 in /usr/local/.pyenv/versions/3.11.10/lib/python3.11/site-packages (from jedi>=0.16->IPython->SEEQ_EMATICA_ADDON_PCA) (0.8.4)\n",
      "Requirement already satisfied: ptyprocess>=0.5 in /usr/local/.pyenv/versions/3.11.10/lib/python3.11/site-packages (from pexpect>4.3->IPython->SEEQ_EMATICA_ADDON_PCA) (0.7.0)\n",
      "Requirement already satisfied: wcwidth in /usr/local/.pyenv/versions/3.11.10/lib/python3.11/site-packages (from prompt-toolkit<3.1.0,>=3.0.41->IPython->SEEQ_EMATICA_ADDON_PCA) (0.2.13)\n",
      "Requirement already satisfied: charset-normalizer<4,>=2 in /usr/local/.pyenv/versions/3.11.10/lib/python3.11/site-packages (from requests>=2.21.0->seeq~=66.0.0.dev20241031->SEEQ_EMATICA_ADDON_PCA) (3.3.2)\n",
      "Requirement already satisfied: idna<4,>=2.5 in /usr/local/.pyenv/versions/3.11.10/lib/python3.11/site-packages (from requests>=2.21.0->seeq~=66.0.0.dev20241031->SEEQ_EMATICA_ADDON_PCA) (3.7)\n",
      "Requirement already satisfied: executing>=1.2.0 in /usr/local/.pyenv/versions/3.11.10/lib/python3.11/site-packages (from stack-data->IPython->SEEQ_EMATICA_ADDON_PCA) (2.0.1)\n",
      "Requirement already satisfied: asttokens>=2.1.0 in /usr/local/.pyenv/versions/3.11.10/lib/python3.11/site-packages (from stack-data->IPython->SEEQ_EMATICA_ADDON_PCA) (2.4.1)\n",
      "Requirement already satisfied: pure-eval in /usr/local/.pyenv/versions/3.11.10/lib/python3.11/site-packages (from stack-data->IPython->SEEQ_EMATICA_ADDON_PCA) (0.2.2)\n",
      "Requirement already satisfied: setuptools in /usr/local/.pyenv/versions/3.11.10/lib/python3.11/site-packages (from zope.interface->datetime->SEEQ_EMATICA_ADDON_PCA) (72.2.0)\n",
      "Requirement already satisfied: pycparser in /usr/local/.pyenv/versions/3.11.10/lib/python3.11/site-packages (from cffi>=1.12->cryptography>=3.2->seeq~=66.0.0.dev20241031->SEEQ_EMATICA_ADDON_PCA) (2.22)\n",
      "Downloading SEEQ_EMATICA_ADDON_PCA-0.0.24-py3-none-any.whl (12 kB)\n",
      "Downloading ipyvuetify-1.9.4-py2.py3-none-any.whl (6.1 MB)\n",
      "\u001b[2K   \u001b[90m━━━━━━━━━━━━━━━━━━━━━━━━━━━━━━━━━━━━━━━━\u001b[0m \u001b[32m6.1/6.1 MB\u001b[0m \u001b[31m193.1 MB/s\u001b[0m eta \u001b[36m0:00:00\u001b[0m\n",
      "\u001b[?25hDownloading configparser_crypt-1.1.0-py3-none-any.whl (7.9 kB)\n",
      "Downloading DateTime-5.5-py3-none-any.whl (52 kB)\n",
      "Downloading cryptidy-1.2.3-py3-none-any.whl (12 kB)\n",
      "Downloading ipyvue-1.11.2-py2.py3-none-any.whl (2.7 MB)\n",
      "\u001b[2K   \u001b[90m━━━━━━━━━━━━━━━━━━━━━━━━━━━━━━━━━━━━━━━━\u001b[0m \u001b[32m2.7/2.7 MB\u001b[0m \u001b[31m244.5 MB/s\u001b[0m eta \u001b[36m0:00:00\u001b[0m\n",
      "\u001b[?25hInstalling collected packages: cryptidy, datetime, configparser_crypt, ipyvue, ipyvuetify, SEEQ_EMATICA_ADDON_PCA\n",
      "Successfully installed SEEQ_EMATICA_ADDON_PCA-0.0.24 configparser_crypt-1.1.0 cryptidy-1.2.3 datetime-5.5 ipyvue-1.11.2 ipyvuetify-1.9.4\n",
      "'SEEQ_EMATICA_ADDON_PCA' has been installed.\n"
     ]
    }
   ],
   "source": [
    "import subprocess\n",
    "import sys\n",
    "\n",
    "def check_and_install_library(library_name):\n",
    "    try:\n",
    "        __import__(library_name)  # Try to import the library\n",
    "        print(f\"'{library_name}' is already installed.\")\n",
    "    except ImportError:\n",
    "        print(f\"'{library_name}' is not installed. Installing...\")\n",
    "        subprocess.check_call([sys.executable, \"-m\", \"pip\", \"install\", library_name])\n",
    "        print(f\"'{library_name}' has been installed.\")\n",
    "\n",
    "# Example usage:\n",
    "check_and_install_library(\"SEEQ_EMATICA_ADDON_PCA\")  # Replace 'requests' with the desired library name\n"
   ]
  },
  {
   "cell_type": "code",
   "execution_count": 3,
   "id": "0a5a4c1a-2dd2-4e0e-b8e3-149ad6267e9f",
   "metadata": {},
   "outputs": [
    {
     "ename": "KeyError",
     "evalue": "'workbookId'",
     "output_type": "error",
     "traceback": [
      "\u001b[0;31m---------------------------------------------------------------------------\u001b[0m",
      "\u001b[0;31mKeyError\u001b[0m                                  Traceback (most recent call last)",
      "Cell \u001b[0;32mIn[3], line 14\u001b[0m\n\u001b[1;32m     12\u001b[0m url \u001b[38;5;241m=\u001b[39m jupyter_notebook_url\n\u001b[1;32m     13\u001b[0m parsed\u001b[38;5;241m=\u001b[39murlparse\u001b[38;5;241m.\u001b[39murlparse(url)\n\u001b[0;32m---> 14\u001b[0m workbook_id \u001b[38;5;241m=\u001b[39m \u001b[43mparse_qs\u001b[49m\u001b[43m(\u001b[49m\u001b[43mparsed\u001b[49m\u001b[38;5;241;43m.\u001b[39;49m\u001b[43mquery\u001b[49m\u001b[43m)\u001b[49m\u001b[43m[\u001b[49m\u001b[38;5;124;43m'\u001b[39;49m\u001b[38;5;124;43mworkbookId\u001b[39;49m\u001b[38;5;124;43m'\u001b[39;49m\u001b[43m]\u001b[49m[\u001b[38;5;241m0\u001b[39m]\n\u001b[1;32m     15\u001b[0m worksheet_id \u001b[38;5;241m=\u001b[39m parse_qs(parsed\u001b[38;5;241m.\u001b[39mquery)[\u001b[38;5;124m'\u001b[39m\u001b[38;5;124mworksheetId\u001b[39m\u001b[38;5;124m'\u001b[39m][\u001b[38;5;241m0\u001b[39m]\n\u001b[1;32m     16\u001b[0m url\u001b[38;5;241m=\u001b[39mhost\u001b[38;5;241m+\u001b[39m\u001b[38;5;124m'\u001b[39m\u001b[38;5;124m/workbook/\u001b[39m\u001b[38;5;132;01m{workbookID}\u001b[39;00m\u001b[38;5;124m/worksheet/\u001b[39m\u001b[38;5;132;01m{worksheetID}\u001b[39;00m\u001b[38;5;124m'\u001b[39m\u001b[38;5;241m.\u001b[39mformat(workbookID\u001b[38;5;241m=\u001b[39mworkbook_id,worksheetID\u001b[38;5;241m=\u001b[39mworksheet_id)\n",
      "\u001b[0;31mKeyError\u001b[0m: 'workbookId'"
     ]
    }
   ],
   "source": [
    "from SEEQ_EMATICA_ADDON_PCA import PCA_Widget_Addon\n",
    "import urllib.parse as urlparse\n",
    "from urllib.parse import parse_qs\n",
    "import os\n",
    "\n",
    "# Set the compatibility option so that you maximize the chance that SPy will remain compatible with your notebook/script\n",
    "spy.options.compatibility = 192\n",
    "spy.options.friendly_exceptions=False\n",
    "\n",
    "# Retrieve the host URL from an environment variable\n",
    "host = os.getenv('SEEQ_SERVER_URL')\n",
    "url = jupyter_notebook_url\n",
    "parsed=urlparse.urlparse(url)\n",
    "workbook_id = parse_qs(parsed.query)['workbookId'][0]\n",
    "worksheet_id = parse_qs(parsed.query)['worksheetId'][0]\n",
    "url=host+'/workbook/{workbookID}/worksheet/{worksheetID}'.format(workbookID=workbook_id,worksheetID=worksheet_id)\n",
    "\n",
    "newWidget=PCA_Widget_Addon(host,url,workbook_id,worksheet_id)\n"
   ]
  },
  {
   "cell_type": "code",
   "execution_count": null,
   "id": "962596e5-ec26-4ad2-b87b-9ea66480ea86",
   "metadata": {},
   "outputs": [],
   "source": []
  }
 ],
 "metadata": {
  "kernelspec": {
   "display_name": "Python 3.11",
   "language": "python",
   "name": "python311"
  },
  "language_info": {
   "codemirror_mode": {
    "name": "ipython",
    "version": 3
   },
   "file_extension": ".py",
   "mimetype": "text/x-python",
   "name": "python",
   "nbconvert_exporter": "python",
   "pygments_lexer": "ipython3",
   "version": "3.11.10"
  }
 },
 "nbformat": 4,
 "nbformat_minor": 5
}
