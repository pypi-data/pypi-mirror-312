{
 "cells": [
  {
   "cell_type": "code",
   "execution_count": 27,
   "id": "0a5a4c1a-2dd2-4e0e-b8e3-149ad6267e9f",
   "metadata": {},
   "outputs": [
    {
     "data": {
      "text/html": [
       "\n",
       "    <style>\n",
       "    .absolute-position {\n",
       "        position: absolute;\n",
       "        top: 0;\n",
       "        left: 0;\n",
       "        width: 100%;\n",
       "        padding: 0;\n",
       "        margin: 0;\n",
       "    }\n",
       "    .bold-text {\n",
       "        font-weight: bold;\n",
       "    }\n",
       "    .no-header {\n",
       "        padding-top: 0 !important;\n",
       "        margin-top: 0 !important;\n",
       "    }\n",
       "    </style>\n",
       "    "
      ],
      "text/plain": [
       "<IPython.core.display.HTML object>"
      ]
     },
     "metadata": {},
     "output_type": "display_data"
    },
    {
     "data": {
      "application/vnd.jupyter.widget-view+json": {
       "model_id": "3b7b446a47a747009e3f84662fbe8311",
       "version_major": 2,
       "version_minor": 0
      },
      "text/plain": [
       "Select(color='#007960', dense=True, label='Phase Condition', layout=None, outlined=True, return_object=True, v…"
      ]
     },
     "metadata": {},
     "output_type": "display_data"
    },
    {
     "data": {
      "application/vnd.jupyter.widget-view+json": {
       "model_id": "b04080eed53e475e87431373c766cae4",
       "version_major": 2,
       "version_minor": 0
      },
      "text/plain": [
       "Html(children=[AppBar(children=[ToolbarTitle(children=['PCA Analysis'], layout=None)], color='#007960', dark=T…"
      ]
     },
     "metadata": {},
     "output_type": "display_data"
    }
   ],
   "source": [
    "from SEEQ_EMATICA_ADDON_PCA import PCA_Widget_Addon\n",
    "import urllib.parse as urlparse\n",
    "from urllib.parse import parse_qs\n",
    "import os\n",
    "\n",
    "# Set the compatibility option so that you maximize the chance that SPy will remain compatible with your notebook/script\n",
    "spy.options.compatibility = 192\n",
    "spy.options.friendly_exceptions=False\n",
    "\n",
    "# Retrieve the host URL from an environment variable\n",
    "host = os.getenv('SEEQ_SERVER_URL')\n",
    "url = jupyter_notebook_url\n",
    "parsed=urlparse.urlparse(url)\n",
    "workbook_id = parse_qs(parsed.query)['workbookId'][0]\n",
    "worksheet_id = parse_qs(parsed.query)['worksheetId'][0]\n",
    "url=host+'/workbook/{workbookID}/worksheet/{worksheetID}'.format(workbookID=workbook_id,worksheetID=worksheet_id)\n",
    "\n",
    "newWidget=PCA_Widget_Addon(host,url,workbook_id,worksheet_id)\n"
   ]
  },
  {
   "cell_type": "code",
   "execution_count": null,
   "id": "962596e5-ec26-4ad2-b87b-9ea66480ea86",
   "metadata": {},
   "outputs": [],
   "source": []
  }
 ],
 "metadata": {
  "kernelspec": {
   "display_name": "Python 3.11",
   "language": "python",
   "name": "python311"
  },
  "language_info": {
   "codemirror_mode": {
    "name": "ipython",
    "version": 3
   },
   "file_extension": ".py",
   "mimetype": "text/x-python",
   "name": "python",
   "nbconvert_exporter": "python",
   "pygments_lexer": "ipython3",
   "version": "3.11.10"
  }
 },
 "nbformat": 4,
 "nbformat_minor": 5
}
