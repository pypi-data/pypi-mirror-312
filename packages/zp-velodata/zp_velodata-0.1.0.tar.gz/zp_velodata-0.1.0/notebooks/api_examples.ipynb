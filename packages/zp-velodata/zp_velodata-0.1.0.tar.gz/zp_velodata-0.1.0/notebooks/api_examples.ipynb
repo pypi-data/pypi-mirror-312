{
 "cells": [
  {
   "metadata": {},
   "cell_type": "code",
   "source": [
    "# Enable automatic reloading of modules\n",
    "%load_ext autoreload\n",
    "%autoreload 2"
   ],
   "id": "ac04e3c68649aeb5",
   "outputs": [],
   "execution_count": null
  },
  {
   "metadata": {
    "collapsed": true
   },
   "cell_type": "code",
   "source": [
    "\n",
    "from zp_velodata.api_models import TeamRiders\n",
    "import os\n",
    "from src.zp_velodata.zp_client import ZPSession\n",
    "from dotenv import load_dotenv\n",
    "load_dotenv()\n",
    "print(f\"Have username, {os.getenv(\"ZP_USERNAME\", False)}\")\n",
    "login_data = {\"username\":os.getenv(\"ZP_USERNAME\"), \"password\":os.getenv(\"ZP_PASSWORD\")}\n",
    "zp = ZPSession(login_data=login_data)\n",
    "zp.login()\n",
    "\n"
   ],
   "id": "initial_id",
   "outputs": [],
   "execution_count": null
  },
  {
   "metadata": {},
   "cell_type": "code",
   "source": [
    "team_riders = TeamRiders(id=4516)\n",
    "team_riders.fetch(zp)\n",
    "# team_riders.data\n",
    "team_riders.riders[0]"
   ],
   "id": "bfd9703e85f987a9",
   "outputs": [],
   "execution_count": null
  },
  {
   "metadata": {},
   "cell_type": "code",
   "source": "team_riders.df\n",
   "id": "a4e09ae1f182923d",
   "outputs": [],
   "execution_count": null
  },
  {
   "metadata": {},
   "cell_type": "code",
   "source": [
    "from zp_velodata.api_models import Rider\n",
    "# team_riders.data = [Rider.model_validate(r) for r in team_riders.raw_data['data']\n",
    "riders = []\n",
    "for r in team_riders.data['data']:\n",
    "    try:\n",
    "        riders.append(Rider.model_validate(r))\n",
    "    except Exception as e:\n",
    "        raise e\n",
    "        print(\"####\")\n",
    "        print(r.get(\"skill\", \"No skill\"))\n",
    "        print(r.get(\"ftp\", \"ftp\"))\n",
    "        print(r.get(\"w\", \"w\"))\n",
    "        print(r)\n",
    "        print(e)\n",
    "\n"
   ],
   "id": "ff2c2661614fb998",
   "outputs": [],
   "execution_count": null
  },
  {
   "metadata": {},
   "cell_type": "code",
   "source": "",
   "id": "c47c2a1abc7ca4b5",
   "outputs": [],
   "execution_count": null
  }
 ],
 "metadata": {
  "kernelspec": {
   "display_name": "Python 3",
   "language": "python",
   "name": "python3"
  },
  "language_info": {
   "codemirror_mode": {
    "name": "ipython",
    "version": 2
   },
   "file_extension": ".py",
   "mimetype": "text/x-python",
   "name": "python",
   "nbconvert_exporter": "python",
   "pygments_lexer": "ipython2",
   "version": "2.7.6"
  }
 },
 "nbformat": 4,
 "nbformat_minor": 5
}
