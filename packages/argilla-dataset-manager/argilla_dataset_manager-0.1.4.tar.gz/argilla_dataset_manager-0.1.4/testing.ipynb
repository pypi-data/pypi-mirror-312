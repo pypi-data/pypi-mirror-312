{
 "cells": [
  {
   "cell_type": "code",
   "execution_count": 6,
   "metadata": {},
   "outputs": [],
   "source": [
    "from my_datasets.settings_manager import SettingsManager, create_qa_dataset_settings\n",
    "from utils.dataset_manager import DatasetManager\n",
    "from utils.argilla_client import get_argilla_client\n",
    "\n"
   ]
  },
  {
   "cell_type": "code",
   "execution_count": 11,
   "metadata": {},
   "outputs": [],
   "source": [
    "dataset_manager = DatasetManager(get_argilla_client())\n",
    "settings_manager = SettingsManager()\n",
    "\n",
    "settings = settings_manager.create_settings(create_qa_dataset_settings(\n",
    "    name=\"qa_dataset\",\n",
    "    include_context=True,\n",
    "    include_keywords=True\n",
    "))\n",
    "\n",
    "dataset_manager.create_dataset(\n",
    "    workspace=\"keboola-slack-ft-model-comparison\",\n",
    "    dataset=\"qa_dataset\",\n",
    "    settings=settings\n",
    ")\n"
   ]
  },
  {
   "cell_type": "code",
   "execution_count": null,
   "metadata": {},
   "outputs": [],
   "source": []
  },
  {
   "cell_type": "code",
   "execution_count": 12,
   "metadata": {},
   "outputs": [
    {
     "data": {
      "text/plain": [
       "Dataset(id=UUID('384ee03b-db70-4b10-b6e1-cfbe2c1800af') inserted_at=datetime.datetime(2024, 12, 1, 17, 26, 52, 192519) updated_at=datetime.datetime(2024, 12, 1, 17, 26, 52, 931036) name='qa_dataset' status='ready' guidelines='Dataset for Q&A pairs with optional context and keywords' allow_extra_metadata=False distribution=OverlapTaskDistributionModel(strategy='overlap', min_submitted=1) workspace_id=UUID('31f6ab7f-9dae-4617-aadb-c19211b2ad27') last_activity_at=datetime.datetime(2024, 12, 1, 17, 26, 52, 931036))"
      ]
     },
     "execution_count": 12,
     "metadata": {},
     "output_type": "execute_result"
    }
   ],
   "source": []
  },
  {
   "cell_type": "code",
   "execution_count": null,
   "metadata": {},
   "outputs": [],
   "source": []
  }
 ],
 "metadata": {
  "kernelspec": {
   "display_name": "base",
   "language": "python",
   "name": "python3"
  },
  "language_info": {
   "codemirror_mode": {
    "name": "ipython",
    "version": 3
   },
   "file_extension": ".py",
   "mimetype": "text/x-python",
   "name": "python",
   "nbconvert_exporter": "python",
   "pygments_lexer": "ipython3",
   "version": "3.11.8"
  }
 },
 "nbformat": 4,
 "nbformat_minor": 2
}
