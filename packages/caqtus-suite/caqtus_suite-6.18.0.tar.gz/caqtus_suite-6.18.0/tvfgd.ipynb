{
 "cells": [
  {
   "cell_type": "code",
   "id": "initial_id",
   "metadata": {
    "collapsed": true,
    "ExecuteTime": {
     "end_time": "2024-09-02T20:57:07.564570Z",
     "start_time": "2024-09-02T20:57:05.844924Z"
    }
   },
   "source": "from PySide6.QtCore import QByteArray",
   "outputs": [],
   "execution_count": 1
  },
  {
   "metadata": {},
   "cell_type": "code",
   "outputs": [],
   "execution_count": null,
   "source": "QByteArray(b\"hello\")",
   "id": "926c4c53359d2b92"
  },
  {
   "metadata": {
    "ExecuteTime": {
     "end_time": "2024-09-02T20:57:18.794517Z",
     "start_time": "2024-09-02T20:57:08.075612Z"
    }
   },
   "cell_type": "code",
   "source": [
    "loader = LoadShotParameters(which=\"all\")\n",
    "\n",
    "\n",
    "with experiment.storage_session() as session:\n",
    "    sequence = session.get_sequence(r\"\\new folder\\new sequence\")\n",
    "    shot = list(sequence.get_shots())[0]\n",
    "    %timeit loader(shot)"
   ],
   "id": "a87968f68bc3025e",
   "outputs": [
    {
     "name": "stdout",
     "output_type": "stream",
     "text": [
      "1.29 ms ± 56.7 μs per loop (mean ± std. dev. of 7 runs, 1,000 loops each)\n"
     ]
    }
   ],
   "execution_count": 2
  },
  {
   "metadata": {
    "ExecuteTime": {
     "end_time": "2024-09-02T20:49:38.863820Z",
     "start_time": "2024-09-02T20:49:38.855487Z"
    }
   },
   "cell_type": "code",
   "source": [
    "from collections.abc import Mapping\n",
    "from typing import Literal, Any\n",
    "\n",
    "import attrs\n",
    "import polars\n",
    "\n",
    "from caqtus.session import Shot\n",
    "from caqtus.types.variable_name import DottedVariableName\n",
    "from ._combinable_importers import CombinableLoader\n",
    "\n",
    "\n",
    "@attrs.define\n",
    "class LoadShotParameters(CombinableLoader):\n",
    "    \"\"\"Loads the parameters of a shot.\n",
    "\n",
    "    When it is evaluated on a shot, it returns a polars dataframe with a single row and\n",
    "    with several columns named after each parameter requested.\n",
    "\n",
    "    If some parameters are quantity with units, the dtype of the associated column will\n",
    "    be a quantity dtype with two fields, magnitude and units.\n",
    "\n",
    "    Parameters:\n",
    "        which: The parameters to load from a shot.\n",
    "\n",
    "            If it is \"sequence\", only the parameters defined at the sequence level are\n",
    "            loaded.\n",
    "            If \"all\", both sequence specific and global parameters are loaded.\n",
    "    \"\"\"\n",
    "\n",
    "    which: Literal[\"sequence\", \"all\"] = \"sequence\"\n",
    "\n",
    "    @staticmethod\n",
    "    def _parameters_to_dataframe(\n",
    "        parameters: Mapping[DottedVariableName, Any]\n",
    "    ) -> polars.DataFrame:\n",
    "        series: list[polars.Series] = []\n",
    "\n",
    "        for parameter_name, value in parameters.items():\n",
    "            name = str(parameter_name)\n",
    "            match value:\n",
    "                case [float(magnitude), str(unit)]:\n",
    "                    s = polars.Series(\n",
    "                        name,\n",
    "                        [\n",
    "                            polars.Series(\n",
    "                                \"magnitude\", [magnitude], dtype=polars.Float64\n",
    "                            ),\n",
    "                            polars.Series(\"units\", [unit], dtype=polars.Categorical),\n",
    "                        ],\n",
    "                        dtype=polars.Struct,\n",
    "                    )\n",
    "                case int():\n",
    "                    s = polars.Series(name, [value], dtype=polars.Int64)\n",
    "                case float():\n",
    "                    s = polars.Series(name, [value], dtype=polars.Float64)\n",
    "                case bool():\n",
    "                    s = polars.Series(name, [value], dtype=polars.Boolean)\n",
    "                case _:\n",
    "                    raise TypeError(\n",
    "                        f\"Unsupported type {type(value)} for parameter {name}.\"\n",
    "                    )\n",
    "            series.append(s)\n",
    "        series.sort(key=lambda s: s.name)\n",
    "        dataframe = polars.DataFrame(series)\n",
    "        return dataframe\n",
    "\n",
    "    def load(self, shot: Shot) -> polars.DataFrame:\n",
    "        \"\"\"Load the parameters of a shot.\"\"\"\n",
    "\n",
    "        parameter_names = shot.sequence.get_parameter_names(self.which)\n",
    "\n",
    "        unstructured_parameters = (\n",
    "            shot._session.sequences.load_unstructured_shot_parameters(\n",
    "                shot.sequence.path, shot.index, parameter_names\n",
    "            )\n",
    "        )\n",
    "\n",
    "        return self._parameters_to_dataframe(unstructured_parameters)\n"
   ],
   "id": "19314ee8854a36a9",
   "outputs": [
    {
     "data": {
      "text/plain": [
       "{DottedVariableName('rep'): 0,\n",
       " DottedVariableName('time'): <Quantity(0.0, 'microsecond')>}"
      ]
     },
     "execution_count": 4,
     "metadata": {},
     "output_type": "execute_result"
    }
   ],
   "execution_count": 4
  }
 ],
 "metadata": {
  "kernelspec": {
   "display_name": "Python 3",
   "language": "python",
   "name": "python3"
  },
  "language_info": {
   "codemirror_mode": {
    "name": "ipython",
    "version": 2
   },
   "file_extension": ".py",
   "mimetype": "text/x-python",
   "name": "python",
   "nbconvert_exporter": "python",
   "pygments_lexer": "ipython2",
   "version": "2.7.6"
  }
 },
 "nbformat": 4,
 "nbformat_minor": 5
}
