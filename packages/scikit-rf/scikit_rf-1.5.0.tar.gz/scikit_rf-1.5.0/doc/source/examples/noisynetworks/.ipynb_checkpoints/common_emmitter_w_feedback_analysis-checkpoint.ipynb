{
 "cells": [
  {
   "cell_type": "markdown",
   "metadata": {},
   "source": [
    "# Noise Analysis of Common Emitter Amplifier with Two-Port Networks\n"
   ]
  },
  {
   "cell_type": "markdown",
   "metadata": {},
   "source": [
    "In this notebook a technique for assembling complex two-port networks is demonstrated. The technique involves algabraically combining small primitive two-port networks to build larger networks. The final network contains a properly calculated noise covariance matrix for calculating noise parameters. Additional sections in the notebook will illustrate why this may be useful as a design tool.\n",
    "\n",
    "Consider the two-port network containing a BJT in common-emitter configuration:\n",
    "\n",
    "![Common-Emitter Two-Port](images/SVG/ce_2port_1.svg)\n",
    "\n",
    "This is an AC model, so it is assumed that the transistor is biased properly. (You can imagine RF chokes at the base and collector of the transistor, which feed biasing current into the device.)\n",
    "\n",
    "Now decompose the circuit into its primitive two-port networks. The following figure identifies three of these primitives: the transistor as a common-emmitter two-port; the degenerative resistor Re as a shunt resistor two-port; and, the feedback resistor Rf as a series resitor two-port. \n",
    "\n",
    "![Primitive Two-Ports](images/SVG/prims.svg)\n",
    "\n",
    "The two capacitors on either end of the circtuit are both series capacitor two-ports. \n",
    "\n",
    "\n",
    "The circuit at the top of the page can now be viewed in its equivalent form as a combination of two-port networks:\n",
    "\n",
    "![Equivalent Form](images/SVG/equivalent_n.svg)\n",
    "\n",
    "Here are some observations:\n",
    "\n",
    "1. The Rf network is parallel to the common-emmitter network,\n",
    "2. That combined network is in series with the Re network,\n",
    "3. The combined network in the last observation is cascaded between the Cin and Cout networks\n",
    "\n",
    "These observations will be stated below using algebra. Consequently, we will use that algebra to construct the final network shown in the first figure.\n",
    "\n",
    "After the complex two-port network has been constructed, the remainder of the notebook will provide examples showing where this technique might be useful.\n",
    "\n"
   ]
  },
  {
   "cell_type": "markdown",
   "metadata": {},
   "source": [
    "## Setup for Simulation with scikit-rf\n",
    "\n",
    "In this first section we do some setup. Parameters for the individual components are set here."
   ]
  },
  {
   "cell_type": "code",
   "execution_count": null,
   "metadata": {
    "tags": []
   },
   "outputs": [],
   "source": [
    "\n",
    "# First import the necessary libraries to do the work\n",
    "import skrf as rf\n",
    "import numpy as npy\n",
    "from skrf.constants import *\n",
    "%matplotlib inline\n",
    "from pylab import * \n",
    "rf.stylely()\n",
    "\n",
    "# Change overloaded Network operators '*', '+' and '|' to work for two-port manipulations. This\n",
    "# will make it so that we can combine two-port networks using algebra.\n",
    "rf.alternative_ops()\n",
    "\n",
    "# Set the S-parameter reference impedance to 50 ohms\n",
    "z0 = 50\n",
    "\n",
    "# Specify the temperature that the measurement is being performed at\n",
    "T = 300\n",
    "kB = K_BOLTZMANN\n",
    "\n",
    "# Set the range of frequencies\n",
    "frequency = rf.Frequency(start=1e6, stop=10e9, npoints=401, unit='Hz', sweep_type='log')\n",
    "\n",
    "#======================================================\n",
    "#             Circuit Parameters\n",
    "#======================================================\n",
    "\n",
    "Rf = 1000     # Feedback resistance\n",
    "Re = 5       # Degeneration resistance\n",
    "Cinf = 1e-9    # For coupling RF into and out of the circuit\n",
    "\n",
    "#======================================================\n",
    "#             BJT Parameters\n",
    "#\n",
    "# These parameters can be determined from SPICE models.\n",
    "# See [1].\n",
    "#\n",
    "# In this case a spice model for the Infineon BFP196\n",
    "# was used to approximate the parameters. (The params\n",
    "# are only approximate in this case because certain\n",
    "# parameters such as cpi, cu, and rbb are dependant\n",
    "# on bias in the Goomel-Poon model. For a better \n",
    "# approximation, a DC analysis of the circuit would\n",
    "# need to be determined first (see [1]).)\n",
    "#======================================================\n",
    "\n",
    "Ic_ma = 31.4 # milliamps\n",
    "beta0 = 107.7\n",
    "cpi = 3.9e-12\n",
    "cu = .8e-12\n",
    "rbb = 5.303\n",
    "rc = 0.3741\n",
    "re = 0.03041\n",
    "ru = 1e12 # just a large value so it doesn't matter\n",
    "r0 = 1e12 # just a large value so it doesn't matter\n",
    "cjx = 1e-18 # just a small value so it doesn't matter\n",
    "cjs = 1e-18 # just a small value so it doesn't matter\n",
    "\n"
   ]
  },
  {
   "cell_type": "markdown",
   "metadata": {},
   "source": [
    "## Creating the Primitives\n",
    "\n",
    "The primitives are all two-port networks of type skrf.Network"
   ]
  },
  {
   "cell_type": "code",
   "execution_count": null,
   "metadata": {},
   "outputs": [],
   "source": [
    "ntwk_bjt = rf.noisyComponents.SmallSig_NPN_BJT_CE_2port(Ic_ma, beta0, cpi, cu, rbb, rc, re, ru,\n",
    "                                                    r0, cjx, cjs, frequency = frequency, T0 = T)\n",
    "\n",
    "ntwk_Rf = rf.noisyComponents.RLC_Series_2port(R = Rf, frequency=frequency, T0 = T)\n",
    "ntwk_Re = rf.noisyComponents.RLC_Shunt_2port(R = Re, frequency=frequency, T0 = T)\n",
    "ntwk_Cin = rf.noisyComponents.RLC_Series_2port(C = Cinf, frequency=frequency, T0 = T)\n",
    "ntwk_Cout = rf.noisyComponents.RLC_Series_2port(C = Cinf, frequency=frequency, T0 = T)"
   ]
  },
  {
   "cell_type": "markdown",
   "metadata": {},
   "source": [
    "## Combining Two-Port Networks\n",
    "This next section of code is simply the realization of the three observations stated at the top of the notebook.\n",
    "\n",
    "We combine the two-ports in two different ways to introduce the operators *, +, and |. \n",
    "\n",
    "*NOTE: to use the operators, you must call rf.alternative_ops() at the top of the script. This is\n",
    "to override the default behavior of the operators.*"
   ]
  },
  {
   "cell_type": "code",
   "execution_count": null,
   "metadata": {},
   "outputs": [],
   "source": [
    "# OBSERVATION 1: ntwk_bjt is parallel to ntwk_Rf, we combine them into a single network:\n",
    "ntwk_1 = rf.parallel_parallel_2port(ntwk_bjt, ntwk_Rf)\n",
    "\n",
    "# Or, using the parallel operator:\n",
    "ntwk_1 = ntwk_bjt | ntwk_Rf\n",
    "\n",
    "# OBSERVATION 2: the resulting network from above (ntwk_1) is in series with ntwk_Re\n",
    "ntwk_2 = rf.series_series_2port(ntwk_1, ntwk_Re)\n",
    "\n",
    "# Or, using the series operator\n",
    "ntwk_2 = ntwk_1 + ntwk_Re\n",
    "\n",
    "# OBSERVATION 3: ntwk_Cin_series is cascaded with ntwk_2, which is cascaded with ntwk_Cout_series\n",
    "ntwk_tmp = rf.cascade_2port(ntwk_Cin, ntwk_2)\n",
    "ntwkT = rf.cascade_2port(ntwk_tmp, ntwk_Cout)\n",
    "ntwkT = ntwk_2\n",
    "\n",
    "# Or, using the two-port cascade operator\n",
    "ntwkT = ntwk_Cin ** ntwk_2 ** ntwk_Cout\n",
    "\n",
    "# since the above processes have been put into operator form, the full network \n",
    "# can be assembled in one line\n",
    "ntwkT = ntwk_Cin ** ((ntwk_bjt | ntwk_Rf) + ntwk_Re) ** ntwk_Cout\n",
    "\n",
    "# Note that the above algebra calculates both the output S-parameters and the \n",
    "# covariance matrices. From the covariance matrices noise parameters can be calculated."
   ]
  },
  {
   "cell_type": "markdown",
   "metadata": {},
   "source": [
    "## Plotting S-Parameters and Noise Parameters\n",
    "\n",
    "ntwkT is the final combined network. We now use scikit-rf to plot the resulting S-paramters and Noise Parameters.\n",
    "\n",
    "*These plots have been compared to simulations in QucsStudio. The results are nearly the same. rbb, cpi, and cu will are slightly different because a DC analysis isn't being performed here.*"
   ]
  },
  {
   "cell_type": "code",
   "execution_count": null,
   "metadata": {},
   "outputs": [],
   "source": [
    "model_nfmin_db = ntwkT.nfmin_db\n",
    "z0 = 50\n",
    "model_nf_db = ntwkT.nf_db(z0)\n",
    "sparams = ntwkT.s_db\n",
    "npy.max(sparams)                                \n",
    "\n",
    "from skrf.plotting import func_on_all_figs as foaf\n",
    "\n",
    "figure(0)\n",
    "title('S-Parameters')\n",
    "title('Magnitude (dB)')\n",
    "semilogx(frequency.f_scaled, sparams[:,1,0], label=r'S21')\n",
    "semilogx(frequency.f_scaled, sparams[:,0,0], label=r'S11')\n",
    "foaf(frequency.labelXAxis)\n",
    "foaf(tight_layout)\n",
    "foaf(legend)\n",
    "tight_layout()\n",
    "\n",
    "figure(1)\n",
    "ylabel('NF')\n",
    "title('Noise Figure')\n",
    "semilogx(frequency.f_scaled, model_nfmin_db, label=r'Model min NF')\n",
    "semilogx(frequency.f_scaled, model_nf_db, label=r'Model NF')\n",
    "\n",
    "#ylim(1,2)\n",
    "foaf(frequency.labelXAxis)\n",
    "foaf(tight_layout)\n",
    "foaf(legend)\n",
    "tight_layout()\n",
    "\n",
    "figure(2)\n",
    "rf.plotting.plot_smith(ntwkT.g_opt, title=\"NF Optimal Source Impedance\")"
   ]
  },
  {
   "cell_type": "markdown",
   "metadata": {},
   "source": [
    "## So What?\n",
    "\n",
    "The above simulation can be done in other packages such as QucsStudio or ADS. So why use scikit-rf to do the same thing? Having the entire structure of the simulation within a programming language provides the programmer with a lot of possibilites. Some of these possibilities are illustrated in the next sections."
   ]
  },
  {
   "cell_type": "markdown",
   "metadata": {},
   "source": [
    "## Noise Figure as a Function of Rf and Re\n",
    "\n",
    "In this example, we place parts of the above simulation within a function. We then run the simulation at a constant frequency, but over a range of Rf and Re values. Contour plots of gain and noise figure are then generated. Finally, we use the generated plots to make design decisions. "
   ]
  },
  {
   "cell_type": "code",
   "execution_count": null,
   "metadata": {
    "tags": []
   },
   "outputs": [],
   "source": [
    "\n",
    "# This function simulates the circuit for a particular Rf, Re and freq. It returns the gain of the circuit and the noise figure.\n",
    "def ce_circuit_s21_nf(Rf, Re, freq, ntwk_bjt, ntwk_Cin, ntwk_Cout):\n",
    "\n",
    "    T = 300\n",
    "\n",
    "    ntwk_Rf = rf.noisyComponents.RLC_Series_2port(R = Rf, frequency=frequency, T0 = T)\n",
    "    ntwk_Re = rf.noisyComponents.RLC_Shunt_2port(R = Re, frequency=frequency, T0 = T)\n",
    "\n",
    "    ntwkT = ntwk_Cin * ((ntwk_bjt | ntwk_Rf) + ntwk_Re) * ntwk_Cout\n",
    "\n",
    "    return ntwkT.s_db[:,1, 0][0], ntwkT.nf_db(50)[0]"
   ]
  },
  {
   "cell_type": "code",
   "execution_count": null,
   "metadata": {
    "tags": []
   },
   "outputs": [],
   "source": [
    "# Suppose we are interested in making a preamplifier for our radio that works \n",
    "# in the 20 meter ham band. We would like our gain to be about 10 dB and our \n",
    "# noise figure to be under 4 dB. Given the circuit design from above, what do we choose our\n",
    "# Rf and Re to be?\n",
    "\n",
    "freq = 14e6 # 20 meter band\n",
    "\n",
    "# Recalculate bjt ntwork and two capacitors at the single frequency\n",
    "frequency = rf.Frequency(start=freq, stop=freq, npoints=1, unit='Hz', sweep_type='log')\n",
    "ntwk_bjt = rf.noisyComponents.SmallSig_NPN_BJT_CE_2port(Ic_ma, beta0, cpi, cu, rbb, rc, re, ru, r0, cjx,                                                   cjs, frequency = frequency, T0 = T)\n",
    "ntwk_Cin = rf.noisyComponents.RLC_Series_2port(C = Cinf, frequency=frequency, T0 = T)\n",
    "ntwk_Cout = rf.noisyComponents.RLC_Series_2port(C = Cinf, frequency=frequency, T0 = T)\n",
    "\n",
    "# create 3D data for our gain and noise figure\n",
    "NN = 20\n",
    "MM = 10\n",
    "rf_vec = npy.linspace(500, 5000, NN)\n",
    "re_vec = npy.linspace(0.5, 100, MM)\n",
    "RF, RE = npy.meshgrid(rf_vec, re_vec)\n",
    "gain = npy.zeros((MM, NN))\n",
    "nf = npy.zeros((MM, NN))\n",
    "\n",
    "# in this loop we call the function from above to calculate our gain and noise figure\n",
    "for n in range(0, NN):\n",
    "    for m in range(0, MM):\n",
    "        gain[m,n], nf[m,n] = ce_circuit_s21_nf(RF[m, n], RE[m, n], frequency, \n",
    "                                               ntwk_bjt, ntwk_Cin, ntwk_Cout)        \n"
   ]
  },
  {
   "cell_type": "code",
   "execution_count": null,
   "metadata": {},
   "outputs": [],
   "source": [
    "# Plot the contours of gain and noise figure\n",
    "\n",
    "figure(0)\n",
    "fig, ax = subplots()\n",
    "CS = ax.contour(RF, RE, gain)\n",
    "ax.clabel(CS, inline=1, fontsize=10)\n",
    "ax.set_title('Gain vs Re and Rf')\n",
    "ylabel('Re')\n",
    "xlabel('Rf')\n",
    "\n",
    "figure(1)\n",
    "fig, ax = subplots()\n",
    "CS = ax.contour(RF, RE, nf)\n",
    "ax.clabel(CS, inline=1, fontsize=10)\n",
    "ax.set_title('NF vs Re and Rf')\n",
    "ylabel('Re')\n",
    "xlabel('Rf')"
   ]
  },
  {
   "cell_type": "markdown",
   "metadata": {
    "tags": []
   },
   "source": [
    "The plots above provide us with a map for finding values of Rf and Re. The gain contour line at 10 dB suggests a range of Rf and Re values. For example, we may choose Rf = 3000 ohms and Re = 30 ohms. If we look at this location on the Noise Figure contour, we see that we are arount 4.5 dB of noise figure. Given our design requirements, to have a noise figure under 4 dB we may need to be satisfied with a preamp that has a little more gain by reducing Re.\n",
    "\n",
    "Gain and noise figure may not be the only constraints we are interested in. Perhaps we also want to minimize the reflection coefficient S11 looking into the circuit. \n"
   ]
  },
  {
   "cell_type": "code",
   "execution_count": null,
   "metadata": {
    "tags": []
   },
   "outputs": [],
   "source": [
    "# Observing the contour plots above, we note that there are a set of Rf and Re values that \n",
    "# produce the roughly 10 dB of gain along with the roughly 4 dB of noise figure:\n",
    "\n",
    "rf_re_set = [[500, 21], [1000, 26], [1500, 30], [2000, 32], [2500, 34], [3000, 35]]\n",
    "\n",
    "# To figure out which set of these minimizes S11, we create another function:\n",
    "def ce_circuit_s11(Rf, Re, freq, ntwk_bjt, ntwk_Cin, ntwk_Cout):\n",
    "    T = 300\n",
    "    ntwk_Rf = rf.noisyComponents.RLC_Series_2port(R = Rf, frequency=frequency, T0 = T)\n",
    "    ntwk_Re = rf.noisyComponents.RLC_Shunt_2port(R = Re, frequency=frequency, T0 = T)\n",
    "\n",
    "    ntwkT = ntwk_Cin * ((ntwk_bjt | ntwk_Rf) + ntwk_Re) * ntwk_Cout\n",
    "\n",
    "    return ntwkT.s_db[:,0, 0][0]\n",
    "\n",
    "# Here we loop over the pairs of resistors to generate a vector of S11 values\n",
    "\n",
    "s11_db = npy.zeros(len(rf_re_set))\n",
    "for n, pair in enumerate(rf_re_set):\n",
    "    s11_db[n] = ce_circuit_s11(pair[0], pair[1], freq, ntwk_bjt, ntwk_Cin, ntwk_Cout)\n",
    "\n",
    "# Finally we plot the values \n",
    "figure(0)\n",
    "title('S11 Magnitude')\n",
    "title('Magnitude (dB)')\n",
    "plot(s11_db)\n",
    "ylabel('Re')\n",
    "xlabel('pair index')\n"
   ]
  },
  {
   "cell_type": "markdown",
   "metadata": {},
   "source": [
    "Clearly, the lower values Rf = 500 and Re = 20 provide a better input match while maintaining 10 dB of gain and a noise figure around 4 dB. We can plug these values into the original model above to see what our S-Parameters and Noise Figure looks like.\n",
    "\n"
   ]
  },
  {
   "cell_type": "code",
   "execution_count": null,
   "metadata": {},
   "outputs": [],
   "source": [
    "# Set the range of frequencies\n",
    "frequency = rf.Frequency(start=1e6, stop=10e9, npoints=401, unit='Hz', sweep_type='log')\n",
    "\n",
    "#======================================================\n",
    "#             Circuit Parameters\n",
    "#======================================================\n",
    "\n",
    "Rf = 500     # Feedback resistance\n",
    "Re = 20       # Degeneration resistance\n",
    "Cinf = 1e-9    # For coupling RF into and out of the circuit\n",
    "\n",
    "\n",
    "#======================================================\n",
    "#         Two-Port Networks Instantiated\n",
    "#======================================================\n",
    "ntwk_bjt = rf.noisyComponents.SmallSig_NPN_BJT_CE_2port(Ic_ma, beta0, cpi, cu, rbb, rc, re, ru,\n",
    "                                                    r0, cjx, cjs, frequency = frequency, T0 = T)\n",
    "\n",
    "ntwk_Rf = rf.noisyComponents.RLC_Series_2port(R = Rf, frequency=frequency, T0 = T)\n",
    "ntwk_Re = rf.noisyComponents.RLC_Shunt_2port(R = Re, frequency=frequency, T0 = T)\n",
    "ntwk_Cin = rf.noisyComponents.RLC_Series_2port(C = Cinf, frequency=frequency, T0 = T)\n",
    "ntwk_Cout = rf.noisyComponents.RLC_Series_2port(C = Cinf, frequency=frequency, T0 = T)\n",
    "\n",
    "ntwkT = ntwk_Cin ** ((ntwk_bjt | ntwk_Rf) + ntwk_Re) ** ntwk_Cout\n",
    "\n",
    "model_nfmin_db = ntwkT.nfmin_db\n",
    "z0 = 50\n",
    "model_nf_db = ntwkT.nf_db(z0)\n",
    "sparams = ntwkT.s_db\n",
    "npy.max(sparams)                                \n",
    "\n",
    "from skrf.plotting import func_on_all_figs as foaf\n",
    "\n",
    "figure(0)\n",
    "title('S-Parameters')\n",
    "title('Magnitude (dB)')\n",
    "semilogx(frequency.f_scaled, sparams[:,1,0], label=r'S21')\n",
    "semilogx(frequency.f_scaled, sparams[:,0,0], label=r'S11')\n",
    "foaf(frequency.labelXAxis)\n",
    "foaf(tight_layout)\n",
    "foaf(legend)\n",
    "tight_layout()\n",
    "\n",
    "figure(1)\n",
    "ylabel('NF')\n",
    "title('Noise Figure')\n",
    "semilogx(frequency.f_scaled, model_nfmin_db, label=r'Model min NF')\n",
    "semilogx(frequency.f_scaled, model_nf_db, label=r'Model NF')\n",
    "\n",
    "#ylim(1,2)\n",
    "foaf(frequency.labelXAxis)\n",
    "foaf(tight_layout)\n",
    "foaf(legend)\n",
    "tight_layout()\n"
   ]
  },
  {
   "cell_type": "markdown",
   "metadata": {},
   "source": [
    "Although the above analysis was done empirically via plots, one could imagine creating a python routine to search for an optimal result based on various constraints. This is the power of simulating these circuits within a programming language that contains libraries such as numpy and scipy.\n",
    "\n",
    "Further, suppose you desire a better match at the input of the circuit. You can imaging adding a few capacitors and inductor to the model above and then writing routines to search for values that would optimize the match."
   ]
  },
  {
   "cell_type": "markdown",
   "metadata": {},
   "source": [
    "## References\n",
    "- [1] Antognetti, Paolo, Giuseppe Massobrio, and Guiseppe Massobrio. Semiconductor device modeling with SPICE. McGraw-Hill, Inc., 1993."
   ]
  }
 ],
 "metadata": {
  "kernelspec": {
   "display_name": "Python 3",
   "language": "python",
   "name": "python3"
  },
  "language_info": {
   "codemirror_mode": {
    "name": "ipython",
    "version": 3
   },
   "file_extension": ".py",
   "mimetype": "text/x-python",
   "name": "python",
   "nbconvert_exporter": "python",
   "pygments_lexer": "ipython3",
   "version": "3.7.8"
  }
 },
 "nbformat": 4,
 "nbformat_minor": 2
}
