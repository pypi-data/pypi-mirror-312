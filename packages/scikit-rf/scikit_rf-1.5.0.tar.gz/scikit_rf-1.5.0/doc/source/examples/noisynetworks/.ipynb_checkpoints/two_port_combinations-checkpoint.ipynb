{
 "cells": [
  {
   "cell_type": "markdown",
   "metadata": {},
   "source": [
    "# Quick test"
   ]
  },
  {
   "cell_type": "code",
   "execution_count": null,
   "metadata": {},
   "outputs": [],
   "source": [
    "import skrf as rf\n",
    "import numpy as npy\n",
    "from skrf.constants import *"
   ]
  },
  {
   "cell_type": "code",
   "execution_count": 1,
   "metadata": {},
   "outputs": [],
   "source": [
    "T0 = 290. # Both resistors are set at room temperature for now\n",
    "frequency = rf.Frequency(start=1000, stop=2000, npoints=10, unit='MHz')\n",
    "\n",
    "ovec = npy.ones(len(frequency))\n",
    "zvec = npy.zeros(len(frequency))\n",
    "rseries = 200*ovec # Series resistance\n",
    "rshunt = 500*ovec  # Shunt resistance\n",
    "\n",
    "### shunted resistor two port ###\n",
    "# This is the Z form of the network parameters for a shunted resistor, the rf.network_array(...) function places the array of vectors into a form the Network object will work with.\n",
    "r_shunt_z = rf.network_array([[rshunt, rshunt],\n",
    "                              [rshunt, rshunt]])\n",
    "\n",
    "# This is the Cz form of the covariance matrix for a shunted resistor\n",
    "r_shunt_z_cov = 4.*K_BOLTZMANN*T0*npy.real(r_shunt_z)\n",
    "\n",
    "# This is the Y form of the network parameters for a series resistor\n",
    "r_series_y = rf.network_array([[1/rseries,  -1/rseries],\n",
    "                               [-1/rseries,  1/rseries]])"
   ]
  },
  {
   "cell_type": "code",
   "execution_count": null,
   "metadata": {},
   "outputs": [],
   "source": []
  }
 ],
 "metadata": {
  "kernelspec": {
   "display_name": "Python 3",
   "language": "python",
   "name": "python3"
  },
  "language_info": {
   "codemirror_mode": {
    "name": "ipython",
    "version": 3
   },
   "file_extension": ".py",
   "mimetype": "text/x-python",
   "name": "python",
   "nbconvert_exporter": "python",
   "pygments_lexer": "ipython3",
   "version": "3.7.8"
  }
 },
 "nbformat": 4,
 "nbformat_minor": 2
}
