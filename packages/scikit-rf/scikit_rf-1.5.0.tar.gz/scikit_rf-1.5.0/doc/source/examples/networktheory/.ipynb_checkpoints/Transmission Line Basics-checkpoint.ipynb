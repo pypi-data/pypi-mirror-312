{
 "cells": [
  {
   "cell_type": "markdown",
   "metadata": {},
   "source": [
    "# Transmission Line Basics\n",
    "In this example we illustrate the use of the [transmission line functions](https://scikit-rf.readthedocs.io/en/latest/api/tlineFunctions.html) provided in scikit-rf for simple transmission line calculations. "
   ]
  },
  {
   "cell_type": "code",
   "execution_count": 5,
   "metadata": {},
   "outputs": [],
   "source": [
    "import skrf as rf\n",
    "rf.stylely()  # for nicer figures"
   ]
  },
  {
   "cell_type": "markdown",
   "metadata": {},
   "source": [
    "## Input Impedance from a given Load\n",
    "A usual problem in RF is to determine the input impedance created by a load $Z_L$ which terminates a transmission line of length $d$ and characteristic impedance $Z_0$:\n",
    "\n",
    "<img src=\"transmission_line_properties.svg\"/>\n",
    "\n",
    "scikit-rf provides convenient functions to deal with such problems. "
   ]
  },
  {
   "cell_type": "code",
   "execution_count": 2,
   "metadata": {},
   "outputs": [],
   "source": [
    "# problem inputs\n",
    "f = 2e9  # Hz\n",
    "d = 1.5  # m\n",
    "Z_0 = 50  # Ohm\n",
    "Z_L = 15 +30j  # Ohm"
   ]
  },
  {
   "cell_type": "code",
   "execution_count": 4,
   "metadata": {},
   "outputs": [
    {
     "data": {
      "text/plain": [
       "array([-0.26829268+0.58536585j])"
      ]
     },
     "execution_count": 4,
     "metadata": {},
     "output_type": "execute_result"
    }
   ],
   "source": [
    "# reflexion coefficient produced by the load:\n",
    "rf.zl_2_Gamma0(Z_0, Z_L)"
   ]
  },
  {
   "cell_type": "markdown",
   "metadata": {},
   "source": [
    "Note: The [propagation constant](https://en.wikipedia.org/wiki/Propagation_constant) $\\gamma$ is defined as $\\gamma=\\alpha+j \\beta$ where $\\alpha$ the real part is the attenuation constant and $\\beta$ the imaginary part is the phase constant (also known as the angular wavenumber). \n",
    "\n",
    "The electrical length $\\theta$ of a section of transmission line of length $d$ and propagation constant $\\gamma$ is $\\theta=\\gamma d$. Thus, it is also a complex value:   "
   ]
  },
  {
   "cell_type": "code",
   "execution_count": 7,
   "metadata": {},
   "outputs": [
    {
     "name": "stdout",
     "output_type": "stream",
     "text": [
      "[0.+62.87535066j]\n"
     ]
    }
   ],
   "source": [
    "gamma = 0 + 1j*2*rf.pi*f/rf.c  # alpha=0 (no loss) and beta=omega/c (TEM wave) in this example\n",
    "theta = rf.electrical_length(gamma, f, d)  # in radians. Shortcut: rf.theta(gamma, f, d)\n",
    "print(theta)"
   ]
  },
  {
   "cell_type": "markdown",
   "metadata": {},
   "source": [
    "The impedance seen at the input of the transmission line is:"
   ]
  },
  {
   "cell_type": "code",
   "execution_count": 8,
   "metadata": {},
   "outputs": [
    {
     "data": {
      "text/plain": [
       "array([15.84235807+32.82665925j])"
      ]
     },
     "execution_count": 8,
     "metadata": {},
     "output_type": "execute_result"
    }
   ],
   "source": [
    "rf.zl_2_zin(Z_0, Z_L, theta)"
   ]
  },
  {
   "cell_type": "markdown",
   "metadata": {},
   "source": [
    "## Smith Chart Plotting"
   ]
  },
  {
   "cell_type": "code",
   "execution_count": null,
   "metadata": {},
   "outputs": [],
   "source": []
  }
 ],
 "metadata": {
  "kernelspec": {
   "display_name": "Python 3",
   "language": "python",
   "name": "python3"
  },
  "language_info": {
   "codemirror_mode": {
    "name": "ipython",
    "version": 3
   },
   "file_extension": ".py",
   "mimetype": "text/x-python",
   "name": "python",
   "nbconvert_exporter": "python",
   "pygments_lexer": "ipython3",
   "version": "3.7.8"
  }
 },
 "nbformat": 4,
 "nbformat_minor": 4
}
