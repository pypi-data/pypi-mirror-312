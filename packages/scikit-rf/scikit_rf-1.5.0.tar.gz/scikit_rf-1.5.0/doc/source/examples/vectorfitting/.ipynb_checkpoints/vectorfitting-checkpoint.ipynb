{
 "cells": [
  {
   "cell_type": "markdown",
   "metadata": {},
   "source": [
    "# Vector Fitting Examples"
   ]
  },
  {
   "cell_type": "markdown",
   "metadata": {},
   "source": [
    "The Vector Fitting feature is demonstrated using to three example networks from the scikit-rf `data` folder. Additional explanations and background information can be found in the Vector Fitting tutorial."
   ]
  },
  {
   "cell_type": "markdown",
   "metadata": {},
   "source": [
    "## Example 1: Ring Slot"
   ]
  },
  {
   "cell_type": "markdown",
   "metadata": {},
   "source": [
    "To create a `VectorFitting` instance, a `Network` containing the frequency responses of the N-port is passed. In this first example the *ring slot* is used:"
   ]
  },
  {
   "cell_type": "code",
   "execution_count": 1,
   "metadata": {},
   "outputs": [],
   "source": [
    "import skrf\n",
    "from skrf.vectorFitting import VectorFitting\n",
    "import numpy as np\n",
    "\n",
    "nw = skrf.data.ring_slot\n",
    "vf = VectorFitting(nw)"
   ]
  },
  {
   "cell_type": "markdown",
   "metadata": {},
   "source": [
    "Now, the vector fit can be performed. The number of poles has to be specified, which depends on the *behaviour* of the responses. A smooth response would only require very few poles (2-5). In this case, 2 poles are sufficient:"
   ]
  },
  {
   "cell_type": "code",
   "execution_count": 2,
   "metadata": {},
   "outputs": [
    {
     "name": "stdout",
     "output_type": "stream",
     "text": [
      "### Starting pole relocation process.\n",
      "\n",
      "Iteration 1\n",
      "A_matrix: condition number = 236582.76113775355\n",
      "d_res = 8.663294917199437\n",
      "Delta_max = 87.91093898358163\n",
      "\n",
      "Iteration 2\n",
      "A_matrix: condition number = 25.438207846134503\n",
      "d_res = 0.9987788510798329\n",
      "Delta_max = 0.25881986297204906\n",
      "\n",
      "Iteration 3\n",
      "A_matrix: condition number = 25.43820784613456\n",
      "d_res = 0.9987788510798341\n",
      "Delta_max = 2.220446049250313e-16\n",
      "\n",
      "Iteration 4\n",
      "A_matrix: condition number = 25.43820784613456\n",
      "d_res = 0.9987788510798341\n",
      "Delta_max = 0.0\n",
      "\n",
      "Pole relocation process converged after 4 iterations.\n",
      "Initial poles before relocation:\n",
      "[-4.71238898e+09+0.j -6.91150384e+09+0.j]\n",
      "\n",
      "Final poles:\n",
      "[-7.80605445e+10+5.32645184e+11j]\n",
      "\n",
      "\n",
      "### Starting zeros calculation process.\n",
      "\n",
      "A_matrix: condition number = 16.749243866057284\n",
      "A_matrix: condition number = 16.749243866057284\n",
      "A_matrix: condition number = 16.749243866057284\n",
      "A_matrix: condition number = 16.749243866057284\n",
      "\n",
      "### Vector fitting finished.\n",
      "\n"
     ]
    }
   ],
   "source": [
    "vf.vectorfit(n_poles_real=2, n_poles_cmplx=0)"
   ]
  },
  {
   "cell_type": "markdown",
   "metadata": {},
   "source": [
    "As shown in the output, the pole relocation process converged quickly after just 4 iteration steps. The fitted model parameters are now stored in the class variables `poles`, `zeros`, `proportional_coeff` and `constant_coeff` for further use. To verify the result, the model response can be compared to the original network response. As the model will return a response at any given frequency, it makes sense to also check its response outside the frequency range of the original samples:"
   ]
  },
  {
   "cell_type": "code",
   "execution_count": null,
   "metadata": {},
   "outputs": [],
   "source": [
    "freqs = np.linspace(0, 200e9, 201)\n",
    "\n",
    "vf.plot_fit_linear(0, 0, freqs) # compare S11\n",
    "vf.plot_fit_linear(1, 0, freqs) # compare S21"
   ]
  },
  {
   "cell_type": "markdown",
   "metadata": {},
   "source": [
    "To use the model in a circuit simulation, an equivalent circuit can be created based on the fitting parameters. This is currently only implemented for SPICE, but the structure of the equivalent circuit can be adopted to any kind of circuit simulator."
   ]
  },
  {
   "cell_type": "code",
   "execution_count": null,
   "metadata": {},
   "outputs": [],
   "source": [
    "vf.write_spice_subckt_s('./equiv_subskt.sp')"
   ]
  },
  {
   "cell_type": "code",
   "execution_count": null,
   "metadata": {},
   "outputs": [],
   "source": []
  }
 ],
 "metadata": {
  "kernelspec": {
   "display_name": "Python 3",
   "language": "python",
   "name": "python3"
  },
  "language_info": {
   "codemirror_mode": {
    "name": "ipython",
    "version": 3
   },
   "file_extension": ".py",
   "mimetype": "text/x-python",
   "name": "python",
   "nbconvert_exporter": "python",
   "pygments_lexer": "ipython3",
   "version": "3.7.8"
  }
 },
 "nbformat": 4,
 "nbformat_minor": 4
}
