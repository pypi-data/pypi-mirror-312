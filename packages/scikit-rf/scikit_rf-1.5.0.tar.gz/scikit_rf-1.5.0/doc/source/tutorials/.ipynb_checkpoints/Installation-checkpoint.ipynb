{
 "cells": [
  {
   "cell_type": "markdown",
   "metadata": {},
   "source": [
    "# Installation\n",
    "\n",
    "\n",
    "\n",
    "## Anaconda (recommended)\n",
    "\n",
    "The easiest way to install **scikit-rf** is to first install \n",
    "[anaconda](http://continuum.io/downloads), a binary package manager for python modules. Once anaconda is setup you can install scikit-rf by entering the following into a terminal (do not forget the `-c conda-forge` option):\n",
    "\n",
    "    conda install -c conda-forge  scikit-rf\n",
    "\n",
    "    \n",
    "\n",
    "## pip\n",
    "\n",
    "\n",
    "Using the [Python Package Index (PyPi)](https://pypi.org/), you can install **scikit-rf** using:\n",
    "\n",
    "    pip install scikit-rf\n",
    "\n",
    "## git\n",
    "\n",
    "The bleeding-edge development version of **scikit-rf** may be installed from our [github page](https://github.com/scikit-rf/scikit-rf). You can use git directly, or download a zipfile.\n",
    "\n",
    "    git clone git@github.com:scikit-rf/scikit-rf.git\n",
    "\n",
    "\n",
    "## Other Optional Modules\n",
    "\n",
    "Some features of scikit-rf wont be available until you install additional modules. You can install these using conda or pip. Please refer to the file `pyproject.toml` to see the list of additional requirements.\n",
    "\n"
   ]
  },
  {
   "cell_type": "code",
   "execution_count": null,
   "metadata": {},
   "outputs": [],
   "source": []
  }
 ],
 "metadata": {
  "anaconda-cloud": {},
  "celltoolbar": "Raw Cell Format",
  "kernelspec": {
   "display_name": "Python 3 (ipykernel)",
   "language": "python",
   "name": "python3"
  },
  "language_info": {
   "codemirror_mode": {
    "name": "ipython",
    "version": 3
   },
   "file_extension": ".py",
   "mimetype": "text/x-python",
   "name": "python",
   "nbconvert_exporter": "python",
   "pygments_lexer": "ipython3",
   "version": "3.10.8"
  },
  "toc": {
   "base_numbering": 1,
   "nav_menu": {},
   "number_sections": true,
   "sideBar": true,
   "skip_h1_title": false,
   "title_cell": "Table of Contents",
   "title_sidebar": "Contents",
   "toc_cell": false,
   "toc_position": {},
   "toc_section_display": "block",
   "toc_window_display": false
  }
 },
 "nbformat": 4,
 "nbformat_minor": 1
}
