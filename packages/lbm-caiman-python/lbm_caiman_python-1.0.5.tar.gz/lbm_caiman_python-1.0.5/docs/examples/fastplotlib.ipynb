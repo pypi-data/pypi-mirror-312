{
 "cells": [
  {
   "cell_type": "markdown",
   "metadata": {},
   "source": [
    "# Fastplotlib Examples"
   ]
  },
  {
   "cell_type": "code",
   "execution_count": 2,
   "metadata": {},
   "outputs": [
    {
     "data": {
      "application/vnd.jupyter.widget-view+json": {
       "model_id": "cb46ef1633b3440cab8c8530df4e2697",
       "version_major": 2,
       "version_minor": 0
      },
      "text/plain": [
       "Image(value=b'\\x89PNG\\r\\n\\x1a\\n\\x00\\x00\\x00\\rIHDR\\x00\\x00\\x01,\\x00\\x00\\x007\\x08\\x06\\x00\\x00\\x00\\xb6\\x1bw\\x99\\x…"
      ]
     },
     "metadata": {},
     "output_type": "display_data"
    },
    {
     "name": "stdout",
     "output_type": "stream",
     "text": [
      "Available devices:\n",
      "✅ (default) | NVIDIA RTX A4000 | DiscreteGPU | Vulkan | 560.94\n",
      "✅ | NVIDIA RTX A4000 | DiscreteGPU | D3D12 | \n",
      "❗ | Microsoft Basic Render Driver | CPU | D3D12 | \n",
      "✅ | NVIDIA RTX A4000 | DiscreteGPU | D3D12 | \n",
      "❗ | NVIDIA RTX A4000/PCIe/SSE2 | Unknown | OpenGL | \n"
     ]
    },
    {
     "name": "stderr",
     "output_type": "stream",
     "text": [
      "c:\\Users\\RBO\\miniforge3\\envs\\lcp\\lib\\site-packages\\numba\\core\\decorators.py:246: RuntimeWarning: nopython is set for njit and is ignored\n",
      "  warnings.warn('nopython is set for njit and is ignored', RuntimeWarning)\n"
     ]
    }
   ],
   "source": [
    "%load_ext autoreload\n",
    "%autoreload 2\n",
    "\n",
    "from pathlib import Path\n",
    "import numpy as np\n",
    "import tifffile\n",
    "import fastplotlib as fpl\n",
    "import matplotlib.pyplot as plt\n",
    "\n",
    "from skophys.preprocessing import Vectorizer, UnVectorizer, PercentileFilter\n",
    "\n",
    "import lbm_caiman_python as lcp"
   ]
  },
  {
   "cell_type": "code",
   "execution_count": 6,
   "metadata": {},
   "outputs": [],
   "source": [
    "movie_path = Path().home() / 'lbm_data' / 'assembled' / 'roi_0_plane_24.tiff'"
   ]
  },
  {
   "cell_type": "code",
   "execution_count": 7,
   "metadata": {},
   "outputs": [
    {
     "data": {
      "text/plain": [
       "(1000, 212, 212)"
      ]
     },
     "execution_count": 7,
     "metadata": {},
     "output_type": "execute_result"
    }
   ],
   "source": [
    "movie = tifffile.imread(movie_path)\n",
    "movie.shape"
   ]
  },
  {
   "cell_type": "markdown",
   "metadata": {},
   "source": [
    "## Smoothing with Gaussian Filter"
   ]
  },
  {
   "cell_type": "code",
   "execution_count": null,
   "metadata": {},
   "outputs": [],
   "source": [
    "## slider\n",
    "from ipywidgets import IntSlider, VBox\n",
    "slider_gsig_filt = IntSlider(value=3, min=1, max=33, step=1,  description=\"gSig_filt\")"
   ]
  },
  {
   "cell_type": "code",
   "execution_count": 9,
   "metadata": {},
   "outputs": [],
   "source": [
    "from caiman.motion_correction import high_pass_filter_space\n",
    "\n",
    "def apply_filter(frame):\n",
    "    gSig_filt = (slider_gsig_filt.value, slider_gsig_filt.value)\n",
    "\n",
    "    # apply filter\n",
    "    return high_pass_filter_space(frame, gSig_filt)\n",
    "\n",
    "# filter shown on 2 right plots, index 1 and 2\n",
    "funcs = {1:apply_filter}"
   ]
  },
  {
   "cell_type": "code",
   "execution_count": null,
   "metadata": {},
   "outputs": [],
   "source": [
    "iw = fpl.ImageWidget(\n",
    "    data=[movie[:500], movie[:500]], # we'll apply the filter to the second movie\n",
    "    frame_apply=funcs,\n",
    "    figure_kwargs={\"size\": (1200, 600)},\n",
    "    names=['raw', 'filtered'],\n",
    "    cmap=\"gnuplot2\"\n",
    ")\n",
    "iw.figure[0, 0].auto_scale()\n",
    "iw.figure[0, 1].auto_scale()\n",
    "\n",
    "iw.figure[\"filtered\"].set_title(f\"filtered: σ={slider_gsig_filt.value}\")\n",
    "iw.window_funcs = {\"t\": (np.mean, 3)}\n",
    "\n",
    "def force_update(*args):\n",
    "    # forces the images to update when the gSig_filt slider is moved\n",
    "    iw.current_index = iw.current_index\n",
    "    iw.reset_vmin_vmax()\n",
    "    iw.figure[\"filtered\"].set_title(f\"filtered: σ={slider_gsig_filt.value}\")\n",
    "\n",
    "iw.reset_vmin_vmax()\n",
    "\n",
    "slider_gsig_filt.observe(force_update, \"value\")\n",
    "\n",
    "VBox([iw.show(), slider_gsig_filt])"
   ]
  },
  {
   "cell_type": "code",
   "execution_count": null,
   "metadata": {},
   "outputs": [],
   "source": [
    "iw.close()"
   ]
  },
  {
   "cell_type": "markdown",
   "metadata": {},
   "source": [
    "## Preview 'raw traces'\n",
    "\n",
    "Show the raw trace for a given pixel by clicking on that pixel."
   ]
  },
  {
   "cell_type": "code",
   "execution_count": 12,
   "metadata": {},
   "outputs": [
    {
     "data": {
      "application/vnd.jupyter.widget-view+json": {
       "model_id": "2bb1b0bf59d54a94852de22299e9d1c4",
       "version_major": 2,
       "version_minor": 0
      },
      "text/plain": [
       "RFBOutputContext()"
      ]
     },
     "metadata": {},
     "output_type": "display_data"
    },
    {
     "data": {
      "application/vnd.jupyter.widget-view+json": {
       "model_id": "9c94b1353c4546ecb9129d7909cf7ae9",
       "version_major": 2,
       "version_minor": 0
      },
      "text/plain": [
       "RFBOutputContext()"
      ]
     },
     "metadata": {},
     "output_type": "display_data"
    },
    {
     "data": {
      "application/vnd.jupyter.widget-view+json": {
       "model_id": "917e3badadbb452d9a96810cfa8c26ec",
       "version_major": 2,
       "version_minor": 0
      },
      "text/plain": [
       "VBox(children=(JupyterOutputContext(children=(JupyterWgpuCanvas(), IpywidgetToolBar(children=(Button(icon='exp…"
      ]
     },
     "execution_count": 12,
     "metadata": {},
     "output_type": "execute_result"
    }
   ],
   "source": [
    "iw_movie = fpl.ImageWidget(movie, cmap=\"viridis\")\n",
    "\n",
    "tfig = fpl.Figure()\n",
    "\n",
    "raw_trace = tfig[0, 0].add_line(np.zeros(movie.shape[0]))\n",
    "\n",
    "@iw_movie.managed_graphics[0].add_event_handler(\"click\")\n",
    "def pixel_clicked(ev):\n",
    "    col, row = ev.pick_info[\"index\"]\n",
    "    raw_trace.data[:, 1] =  iw_movie.data[0][:, row, col]\n",
    "    tfig[0, 0].auto_scale(maintain_aspect=False)\n",
    "\n",
    "VBox([iw_movie.show(), tfig.show()])"
   ]
  },
  {
   "cell_type": "code",
   "execution_count": null,
   "metadata": {},
   "outputs": [],
   "source": []
  }
 ],
 "metadata": {
  "kernelspec": {
   "display_name": "lcp",
   "language": "python",
   "name": "python3"
  },
  "language_info": {
   "codemirror_mode": {
    "name": "ipython",
    "version": 3
   },
   "file_extension": ".py",
   "mimetype": "text/x-python",
   "name": "python",
   "nbconvert_exporter": "python",
   "pygments_lexer": "ipython3",
   "version": "3.10.8"
  }
 },
 "nbformat": 4,
 "nbformat_minor": 2
}
