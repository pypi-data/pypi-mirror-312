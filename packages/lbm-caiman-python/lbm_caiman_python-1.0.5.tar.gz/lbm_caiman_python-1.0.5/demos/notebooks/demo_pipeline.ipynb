{
 "cells": [
  {
   "cell_type": "markdown",
   "id": "3d62244e",
   "metadata": {},
   "source": [
    "## Demo LBM CaImAn Pipeline\n",
    "\n",
    "Processing and exploring the LBM dataset located [here](https://rockefeller-my.sharepoint.com/my?id=%2Fpersonal%2Ffoconnell%5Frockefeller%5Fedu%2FDocuments%2FMBO%2Fdatasets%2Fdemas%5F2023&FolderCTID=0x012000228B6C10491B3546BA7A3CF92268F533I)"
   ]
  },
  {
   "cell_type": "code",
   "execution_count": 3,
   "id": "27af3ad2",
   "metadata": {
    "ExecuteTime": {
     "end_time": "2024-10-01T15:15:04.483052Z",
     "start_time": "2024-10-01T15:14:59.488392Z"
    }
   },
   "outputs": [],
   "source": [
    "import os\n",
    "from pathlib import Path\n",
    "import logging\n",
    "\n",
    "# itertools.product makes it easy to loop through parameter variants\n",
    "# basically, it's easier to read that deeply nested for loops\n",
    "from copy import deepcopy\n",
    "from itertools import product\n",
    "\n",
    "import mesmerize_core as mc\n",
    "from mesmerize_viz import *\n",
    "from mesmerize_core.caiman_extensions.cnmf import cnmf_cache\n",
    "\n",
    "import caiman as cm\n",
    "from caiman.source_extraction.cnmf import cnmf, params\n",
    "from caiman.motion_correction import high_pass_filter_space\n",
    "from caiman.summary_images import correlation_pnr\n",
    "\n",
    "import napari\n",
    "\n",
    "import matplotlib.pyplot as plt\n",
    "import pandas as pd\n",
    "import numpy as np\n",
    "import zarr\n",
    "from ipywidgets import IntSlider, VBox\n",
    "from sidecar import Sidecar\n",
    "\n",
    "try:\n",
    "    import cv2\n",
    "    cv2.setNumThreads(0)\n",
    "except():\n",
    "    pass\n",
    "\n",
    "if os.name == \"nt\":\n",
    "    # disable the cache on windows, this will be automatic in a future version\n",
    "    cnmf_cache.set_maxsize(0)\n",
    "\n",
    "pd.options.display.max_colwidth = 120\n",
    "\n",
    "logger = logging.getLogger(\"caiman\")\n",
    "logger.setLevel(logging.DEBUG)\n",
    "handler = logging.StreamHandler()\n",
    "log_format = logging.Formatter(\"%(relativeCreated)12d [%(filename)s:%(funcName)10s():%(lineno)s] [%(process)d] %(message)s\")\n",
    "handler.setFormatter(log_format)\n",
    "logger.addHandler(handler)\n",
    "\n",
    "logging.getLogger(\"caiman\").setLevel(logging.WARNING)"
   ]
  },
  {
   "cell_type": "code",
   "execution_count": 4,
   "id": "4f8b2c1e",
   "metadata": {
    "ExecuteTime": {
     "end_time": "2024-10-01T15:15:07.770240Z",
     "start_time": "2024-10-01T15:15:07.720197Z"
    }
   },
   "outputs": [
    {
     "data": {
      "text/html": [
       "<div>\n",
       "<style scoped>\n",
       "    .dataframe tbody tr th:only-of-type {\n",
       "        vertical-align: middle;\n",
       "    }\n",
       "\n",
       "    .dataframe tbody tr th {\n",
       "        vertical-align: top;\n",
       "    }\n",
       "\n",
       "    .dataframe thead th {\n",
       "        text-align: right;\n",
       "    }\n",
       "</style>\n",
       "<table border=\"1\" class=\"dataframe\">\n",
       "  <thead>\n",
       "    <tr style=\"text-align: right;\">\n",
       "      <th></th>\n",
       "      <th>algo</th>\n",
       "      <th>item_name</th>\n",
       "      <th>input_movie_path</th>\n",
       "      <th>params</th>\n",
       "      <th>outputs</th>\n",
       "      <th>added_time</th>\n",
       "      <th>ran_time</th>\n",
       "      <th>algo_duration</th>\n",
       "      <th>comments</th>\n",
       "      <th>uuid</th>\n",
       "    </tr>\n",
       "  </thead>\n",
       "  <tbody>\n",
       "    <tr>\n",
       "      <th>0</th>\n",
       "      <td>mcorr</td>\n",
       "      <td>extracted_plane_1</td>\n",
       "      <td>tiff\\extracted_plane_1.tif</td>\n",
       "      <td>{'main': {'var_name_hdf5': 'mov', 'max_shifts': (10, 10), 'strides': (48, 48), 'overlaps': (24, 24), 'max_deviation_...</td>\n",
       "      <td>{'mean-projection-path': b32f41bf-a9a5-4965-be7c-e6779e854328\\b32f41bf-a9a5-4965-be7c-e6779e854328_mean_projection.n...</td>\n",
       "      <td>2024-09-26T11:56:54</td>\n",
       "      <td>2024-09-26T12:02:55</td>\n",
       "      <td>77.3 sec</td>\n",
       "      <td>None</td>\n",
       "      <td>b32f41bf-a9a5-4965-be7c-e6779e854328</td>\n",
       "    </tr>\n",
       "    <tr>\n",
       "      <th>1</th>\n",
       "      <td>cnmf</td>\n",
       "      <td>cnmf_1</td>\n",
       "      <td>b32f41bf-a9a5-4965-be7c-e6779e854328\\b32f41bf-a9a5-4965-be7c-e6779e854328-extracted_plane_1_els__d1_583_d2_536_d3_1_...</td>\n",
       "      <td>{'main': {'fr': 9.62, 'dxy': (1.0, 1.0), 'decay_time': 0.4, 'strides': (48, 48), 'overlaps': (24, 24), 'max_shifts':...</td>\n",
       "      <td>{'mean-projection-path': a057e39e-a2df-41d3-8217-83c9cd7ffb6d\\a057e39e-a2df-41d3-8217-83c9cd7ffb6d_mean_projection.n...</td>\n",
       "      <td>2024-09-26T16:26:20</td>\n",
       "      <td>2024-09-26T16:28:48</td>\n",
       "      <td>143.18 sec</td>\n",
       "      <td>None</td>\n",
       "      <td>a057e39e-a2df-41d3-8217-83c9cd7ffb6d</td>\n",
       "    </tr>\n",
       "    <tr>\n",
       "      <th>2</th>\n",
       "      <td>cnmf</td>\n",
       "      <td>extracted_plane_1</td>\n",
       "      <td>b32f41bf-a9a5-4965-be7c-e6779e854328\\b32f41bf-a9a5-4965-be7c-e6779e854328-extracted_plane_1_els__d1_583_d2_536_d3_1_...</td>\n",
       "      <td>{'main': {'fr': 9.62, 'dxy': (1.0, 1.0), 'decay_time': 0.4, 'strides': (48, 48), 'overlaps': (24, 24), 'max_shifts':...</td>\n",
       "      <td>{'mean-projection-path': 5cb543ec-5358-4b35-83cf-bfd19fa06a68\\5cb543ec-5358-4b35-83cf-bfd19fa06a68_mean_projection.n...</td>\n",
       "      <td>2024-09-27T14:48:59</td>\n",
       "      <td>2024-09-27T14:50:30</td>\n",
       "      <td>80.14 sec</td>\n",
       "      <td>None</td>\n",
       "      <td>5cb543ec-5358-4b35-83cf-bfd19fa06a68</td>\n",
       "    </tr>\n",
       "    <tr>\n",
       "      <th>3</th>\n",
       "      <td>cnmf</td>\n",
       "      <td>extracted_plane_1</td>\n",
       "      <td>b32f41bf-a9a5-4965-be7c-e6779e854328\\b32f41bf-a9a5-4965-be7c-e6779e854328-extracted_plane_1_els__d1_583_d2_536_d3_1_...</td>\n",
       "      <td>{'main': {'fr': 9.62, 'dxy': (1.0, 1.0), 'decay_time': 0.4, 'strides': (48, 48), 'overlaps': (24, 24), 'max_shifts':...</td>\n",
       "      <td>{'mean-projection-path': df52a609-d986-4bc0-a0a2-526cbfda057d\\df52a609-d986-4bc0-a0a2-526cbfda057d_mean_projection.n...</td>\n",
       "      <td>2024-09-27T14:48:59</td>\n",
       "      <td>2024-09-27T14:51:46</td>\n",
       "      <td>75.93 sec</td>\n",
       "      <td>None</td>\n",
       "      <td>df52a609-d986-4bc0-a0a2-526cbfda057d</td>\n",
       "    </tr>\n",
       "    <tr>\n",
       "      <th>4</th>\n",
       "      <td>cnmf</td>\n",
       "      <td>extracted_plane_1</td>\n",
       "      <td>b32f41bf-a9a5-4965-be7c-e6779e854328\\b32f41bf-a9a5-4965-be7c-e6779e854328-extracted_plane_1_els__d1_583_d2_536_d3_1_...</td>\n",
       "      <td>{'main': {'fr': 9.62, 'dxy': (1.0, 1.0), 'decay_time': 0.4, 'strides': (48, 48), 'overlaps': (24, 24), 'max_shifts':...</td>\n",
       "      <td>{'mean-projection-path': b68a8efe-1a3b-4392-b6e7-416312f1f945\\b68a8efe-1a3b-4392-b6e7-416312f1f945_mean_projection.n...</td>\n",
       "      <td>2024-09-27T14:48:59</td>\n",
       "      <td>2024-09-30T10:30:15</td>\n",
       "      <td>96.62 sec</td>\n",
       "      <td>None</td>\n",
       "      <td>b68a8efe-1a3b-4392-b6e7-416312f1f945</td>\n",
       "    </tr>\n",
       "    <tr>\n",
       "      <th>5</th>\n",
       "      <td>cnmf</td>\n",
       "      <td>extracted_plane_1</td>\n",
       "      <td>b32f41bf-a9a5-4965-be7c-e6779e854328\\b32f41bf-a9a5-4965-be7c-e6779e854328-extracted_plane_1_els__d1_583_d2_536_d3_1_...</td>\n",
       "      <td>{'main': {'fr': 9.62, 'dxy': (1.0, 1.0), 'decay_time': 0.4, 'strides': (48, 48), 'overlaps': (24, 24), 'max_shifts':...</td>\n",
       "      <td>{'mean-projection-path': 15e6fb81-fac4-457b-96da-dbb8e2d7b669\\15e6fb81-fac4-457b-96da-dbb8e2d7b669_mean_projection.n...</td>\n",
       "      <td>2024-09-27T14:48:59</td>\n",
       "      <td>2024-09-30T11:32:09</td>\n",
       "      <td>89.61 sec</td>\n",
       "      <td>None</td>\n",
       "      <td>15e6fb81-fac4-457b-96da-dbb8e2d7b669</td>\n",
       "    </tr>\n",
       "    <tr>\n",
       "      <th>6</th>\n",
       "      <td>cnmf</td>\n",
       "      <td>k=40</td>\n",
       "      <td>b32f41bf-a9a5-4965-be7c-e6779e854328\\b32f41bf-a9a5-4965-be7c-e6779e854328-extracted_plane_1_els__d1_583_d2_536_d3_1_...</td>\n",
       "      <td>{'main': {'fr': 9.62, 'dxy': (1.0, 1.0), 'decay_time': 0.4, 'strides': (48, 48), 'overlaps': (24, 24), 'max_shifts':...</td>\n",
       "      <td>{'mean-projection-path': abba269d-f2f3-467b-ba40-f1e33aea8461\\abba269d-f2f3-467b-ba40-f1e33aea8461_mean_projection.n...</td>\n",
       "      <td>2024-09-30T14:02:10</td>\n",
       "      <td>2024-09-30T14:05:00</td>\n",
       "      <td>165.71 sec</td>\n",
       "      <td>None</td>\n",
       "      <td>abba269d-f2f3-467b-ba40-f1e33aea8461</td>\n",
       "    </tr>\n",
       "    <tr>\n",
       "      <th>7</th>\n",
       "      <td>cnmf</td>\n",
       "      <td>cnmf_1</td>\n",
       "      <td>b32f41bf-a9a5-4965-be7c-e6779e854328\\b32f41bf-a9a5-4965-be7c-e6779e854328-extracted_plane_1_els__d1_583_d2_536_d3_1_...</td>\n",
       "      <td>{'main': {'fr': 9.62, 'dxy': (1.0, 1.0), 'decay_time': 0.4, 'strides': (48, 48), 'overlaps': (24, 24), 'max_shifts':...</td>\n",
       "      <td>{'mean-projection-path': 9777376d-092c-43db-b14a-c9be1e142e5c\\9777376d-092c-43db-b14a-c9be1e142e5c_mean_projection.n...</td>\n",
       "      <td>2024-09-30T14:36:58</td>\n",
       "      <td>2024-09-30T14:41:40</td>\n",
       "      <td>161.74 sec</td>\n",
       "      <td>None</td>\n",
       "      <td>9777376d-092c-43db-b14a-c9be1e142e5c</td>\n",
       "    </tr>\n",
       "    <tr>\n",
       "      <th>8</th>\n",
       "      <td>cnmf</td>\n",
       "      <td>cnmf_1</td>\n",
       "      <td>b32f41bf-a9a5-4965-be7c-e6779e854328\\b32f41bf-a9a5-4965-be7c-e6779e854328-extracted_plane_1_els__d1_583_d2_536_d3_1_...</td>\n",
       "      <td>{'main': {'fr': 9.62, 'dxy': (1.0, 1.0), 'decay_time': 0.4, 'strides': (48, 48), 'overlaps': (24, 24), 'max_shifts':...</td>\n",
       "      <td>{'mean-projection-path': 88177367-8fbf-499b-940e-1fb9c331b499\\88177367-8fbf-499b-940e-1fb9c331b499_mean_projection.n...</td>\n",
       "      <td>2024-09-30T14:36:58</td>\n",
       "      <td>2024-09-30T14:44:32</td>\n",
       "      <td>172.71 sec</td>\n",
       "      <td>None</td>\n",
       "      <td>88177367-8fbf-499b-940e-1fb9c331b499</td>\n",
       "    </tr>\n",
       "    <tr>\n",
       "      <th>9</th>\n",
       "      <td>cnmf</td>\n",
       "      <td>cnmf_1</td>\n",
       "      <td>b32f41bf-a9a5-4965-be7c-e6779e854328\\b32f41bf-a9a5-4965-be7c-e6779e854328-extracted_plane_1_els__d1_583_d2_536_d3_1_...</td>\n",
       "      <td>{'main': {'fr': 9.62, 'dxy': (1.0, 1.0), 'decay_time': 0.4, 'strides': (48, 48), 'overlaps': (24, 24), 'max_shifts':...</td>\n",
       "      <td>{'mean-projection-path': a3bd82e1-618e-4279-8a67-ae3fe52a10d2\\a3bd82e1-618e-4279-8a67-ae3fe52a10d2_mean_projection.n...</td>\n",
       "      <td>2024-09-30T14:36:58</td>\n",
       "      <td>2024-09-30T14:47:31</td>\n",
       "      <td>179.02 sec</td>\n",
       "      <td>None</td>\n",
       "      <td>a3bd82e1-618e-4279-8a67-ae3fe52a10d2</td>\n",
       "    </tr>\n",
       "    <tr>\n",
       "      <th>10</th>\n",
       "      <td>cnmf</td>\n",
       "      <td>cnmf_1</td>\n",
       "      <td>b32f41bf-a9a5-4965-be7c-e6779e854328\\b32f41bf-a9a5-4965-be7c-e6779e854328-extracted_plane_1_els__d1_583_d2_536_d3_1_...</td>\n",
       "      <td>{'main': {'fr': 9.62, 'dxy': (1.0, 1.0), 'decay_time': 0.4, 'strides': (48, 48), 'overlaps': (24, 24), 'max_shifts':...</td>\n",
       "      <td>{'mean-projection-path': 03f6d9ca-c686-466e-9c8a-8076f787fc7b\\03f6d9ca-c686-466e-9c8a-8076f787fc7b_mean_projection.n...</td>\n",
       "      <td>2024-09-30T14:36:58</td>\n",
       "      <td>2024-09-30T14:50:13</td>\n",
       "      <td>161.89 sec</td>\n",
       "      <td>None</td>\n",
       "      <td>03f6d9ca-c686-466e-9c8a-8076f787fc7b</td>\n",
       "    </tr>\n",
       "    <tr>\n",
       "      <th>11</th>\n",
       "      <td>cnmf</td>\n",
       "      <td>cnmf_1</td>\n",
       "      <td>b32f41bf-a9a5-4965-be7c-e6779e854328\\b32f41bf-a9a5-4965-be7c-e6779e854328-extracted_plane_1_els__d1_583_d2_536_d3_1_...</td>\n",
       "      <td>{'main': {'fr': 9.62, 'dxy': (1.0, 1.0), 'decay_time': 0.4, 'strides': (48, 48), 'overlaps': (24, 24), 'max_shifts':...</td>\n",
       "      <td>{'mean-projection-path': 4bf6de48-8531-448f-b207-5f31299a12da\\4bf6de48-8531-448f-b207-5f31299a12da_mean_projection.n...</td>\n",
       "      <td>2024-09-30T14:36:58</td>\n",
       "      <td>2024-09-30T14:53:04</td>\n",
       "      <td>170.76 sec</td>\n",
       "      <td>None</td>\n",
       "      <td>4bf6de48-8531-448f-b207-5f31299a12da</td>\n",
       "    </tr>\n",
       "    <tr>\n",
       "      <th>12</th>\n",
       "      <td>cnmf</td>\n",
       "      <td>cnmf_1</td>\n",
       "      <td>b32f41bf-a9a5-4965-be7c-e6779e854328\\b32f41bf-a9a5-4965-be7c-e6779e854328-extracted_plane_1_els__d1_583_d2_536_d3_1_...</td>\n",
       "      <td>{'main': {'fr': 9.62, 'dxy': (1.0, 1.0), 'decay_time': 0.4, 'strides': (48, 48), 'overlaps': (24, 24), 'max_shifts':...</td>\n",
       "      <td>{'mean-projection-path': 3b9e8974-9d74-4f69-9370-ae731296203c\\3b9e8974-9d74-4f69-9370-ae731296203c_mean_projection.n...</td>\n",
       "      <td>2024-09-30T14:36:58</td>\n",
       "      <td>2024-09-30T14:56:01</td>\n",
       "      <td>177.33 sec</td>\n",
       "      <td>None</td>\n",
       "      <td>3b9e8974-9d74-4f69-9370-ae731296203c</td>\n",
       "    </tr>\n",
       "    <tr>\n",
       "      <th>13</th>\n",
       "      <td>cnmf</td>\n",
       "      <td>cnmf_1</td>\n",
       "      <td>b32f41bf-a9a5-4965-be7c-e6779e854328\\b32f41bf-a9a5-4965-be7c-e6779e854328-extracted_plane_1_els__d1_583_d2_536_d3_1_...</td>\n",
       "      <td>{'main': {'fr': 9.62, 'dxy': (1.0, 1.0), 'decay_time': 0.4, 'strides': (48, 48), 'overlaps': (24, 24), 'max_shifts':...</td>\n",
       "      <td>{'mean-projection-path': 705e6404-a883-4a19-9162-53a29aa62132\\705e6404-a883-4a19-9162-53a29aa62132_mean_projection.n...</td>\n",
       "      <td>2024-09-30T14:36:58</td>\n",
       "      <td>2024-09-30T14:59:31</td>\n",
       "      <td>209.84 sec</td>\n",
       "      <td>None</td>\n",
       "      <td>705e6404-a883-4a19-9162-53a29aa62132</td>\n",
       "    </tr>\n",
       "    <tr>\n",
       "      <th>14</th>\n",
       "      <td>cnmf</td>\n",
       "      <td>cnmf_1</td>\n",
       "      <td>b32f41bf-a9a5-4965-be7c-e6779e854328\\b32f41bf-a9a5-4965-be7c-e6779e854328-extracted_plane_1_els__d1_583_d2_536_d3_1_...</td>\n",
       "      <td>{'main': {'fr': 9.62, 'dxy': (1.0, 1.0), 'decay_time': 0.4, 'strides': (48, 48), 'overlaps': (24, 24), 'max_shifts':...</td>\n",
       "      <td>{'mean-projection-path': 8bed5bd7-9261-46bb-bc17-091241f3b414\\8bed5bd7-9261-46bb-bc17-091241f3b414_mean_projection.n...</td>\n",
       "      <td>2024-09-30T14:36:58</td>\n",
       "      <td>2024-09-30T15:03:25</td>\n",
       "      <td>234.05 sec</td>\n",
       "      <td>None</td>\n",
       "      <td>8bed5bd7-9261-46bb-bc17-091241f3b414</td>\n",
       "    </tr>\n",
       "    <tr>\n",
       "      <th>15</th>\n",
       "      <td>cnmf</td>\n",
       "      <td>cnmf_1</td>\n",
       "      <td>b32f41bf-a9a5-4965-be7c-e6779e854328\\b32f41bf-a9a5-4965-be7c-e6779e854328-extracted_plane_1_els__d1_583_d2_536_d3_1_...</td>\n",
       "      <td>{'main': {'fr': 9.62, 'dxy': (1.0, 1.0), 'decay_time': 0.4, 'strides': (48, 48), 'overlaps': (24, 24), 'max_shifts':...</td>\n",
       "      <td>{'mean-projection-path': 4cf62c5c-ed76-40ee-bf5c-6ed878aa924b\\4cf62c5c-ed76-40ee-bf5c-6ed878aa924b_mean_projection.n...</td>\n",
       "      <td>2024-09-30T14:36:58</td>\n",
       "      <td>2024-09-30T15:07:23</td>\n",
       "      <td>237.78 sec</td>\n",
       "      <td>None</td>\n",
       "      <td>4cf62c5c-ed76-40ee-bf5c-6ed878aa924b</td>\n",
       "    </tr>\n",
       "    <tr>\n",
       "      <th>16</th>\n",
       "      <td>cnmf</td>\n",
       "      <td>cnmf_1</td>\n",
       "      <td>b32f41bf-a9a5-4965-be7c-e6779e854328\\b32f41bf-a9a5-4965-be7c-e6779e854328-extracted_plane_1_els__d1_583_d2_536_d3_1_...</td>\n",
       "      <td>{'main': {'fr': 9.62, 'dxy': (1.0, 1.0), 'decay_time': 0.4, 'strides': (48, 48), 'overlaps': (24, 24), 'max_shifts':...</td>\n",
       "      <td>{'mean-projection-path': d46488b0-5e55-4e4f-84dc-9bb14dc9db17\\d46488b0-5e55-4e4f-84dc-9bb14dc9db17_mean_projection.n...</td>\n",
       "      <td>2024-09-30T14:36:58</td>\n",
       "      <td>2024-09-30T15:10:50</td>\n",
       "      <td>207.15 sec</td>\n",
       "      <td>None</td>\n",
       "      <td>d46488b0-5e55-4e4f-84dc-9bb14dc9db17</td>\n",
       "    </tr>\n",
       "    <tr>\n",
       "      <th>17</th>\n",
       "      <td>cnmf</td>\n",
       "      <td>cnmf_1</td>\n",
       "      <td>b32f41bf-a9a5-4965-be7c-e6779e854328\\b32f41bf-a9a5-4965-be7c-e6779e854328-extracted_plane_1_els__d1_583_d2_536_d3_1_...</td>\n",
       "      <td>{'main': {'fr': 9.62, 'dxy': (1.0, 1.0), 'decay_time': 0.4, 'strides': (48, 48), 'overlaps': (24, 24), 'max_shifts':...</td>\n",
       "      <td>{'mean-projection-path': 5158332e-9c9a-4395-8044-70667b0ef869\\5158332e-9c9a-4395-8044-70667b0ef869_mean_projection.n...</td>\n",
       "      <td>2024-09-30T14:36:58</td>\n",
       "      <td>2024-09-30T15:14:44</td>\n",
       "      <td>234.05 sec</td>\n",
       "      <td>None</td>\n",
       "      <td>5158332e-9c9a-4395-8044-70667b0ef869</td>\n",
       "    </tr>\n",
       "    <tr>\n",
       "      <th>18</th>\n",
       "      <td>cnmf</td>\n",
       "      <td>cnmf_1</td>\n",
       "      <td>b32f41bf-a9a5-4965-be7c-e6779e854328\\b32f41bf-a9a5-4965-be7c-e6779e854328-extracted_plane_1_els__d1_583_d2_536_d3_1_...</td>\n",
       "      <td>{'main': {'fr': 9.62, 'dxy': (1.0, 1.0), 'decay_time': 0.4, 'strides': (48, 48), 'overlaps': (24, 24), 'max_shifts':...</td>\n",
       "      <td>{'mean-projection-path': f2d0cc26-ab86-4b8b-95ff-9aacf40c1c92\\f2d0cc26-ab86-4b8b-95ff-9aacf40c1c92_mean_projection.n...</td>\n",
       "      <td>2024-09-30T14:36:58</td>\n",
       "      <td>2024-09-30T15:18:44</td>\n",
       "      <td>239.34 sec</td>\n",
       "      <td>None</td>\n",
       "      <td>f2d0cc26-ab86-4b8b-95ff-9aacf40c1c92</td>\n",
       "    </tr>\n",
       "    <tr>\n",
       "      <th>19</th>\n",
       "      <td>cnmf</td>\n",
       "      <td>cnmf_1</td>\n",
       "      <td>b32f41bf-a9a5-4965-be7c-e6779e854328\\b32f41bf-a9a5-4965-be7c-e6779e854328-extracted_plane_1_els__d1_583_d2_536_d3_1_...</td>\n",
       "      <td>{'main': {'fr': 9.62, 'dxy': (1.0, 1.0), 'decay_time': 0.4, 'strides': (48, 48), 'overlaps': (24, 24), 'max_shifts':...</td>\n",
       "      <td>{'mean-projection-path': 683f31bc-fdb2-4d27-b860-2fd272e83172\\683f31bc-fdb2-4d27-b860-2fd272e83172_mean_projection.n...</td>\n",
       "      <td>2024-09-30T14:36:58</td>\n",
       "      <td>2024-09-30T15:23:16</td>\n",
       "      <td>272.6 sec</td>\n",
       "      <td>None</td>\n",
       "      <td>683f31bc-fdb2-4d27-b860-2fd272e83172</td>\n",
       "    </tr>\n",
       "    <tr>\n",
       "      <th>20</th>\n",
       "      <td>cnmf</td>\n",
       "      <td>cnmf_1</td>\n",
       "      <td>b32f41bf-a9a5-4965-be7c-e6779e854328\\b32f41bf-a9a5-4965-be7c-e6779e854328-extracted_plane_1_els__d1_583_d2_536_d3_1_...</td>\n",
       "      <td>{'main': {'fr': 9.62, 'dxy': (1.0, 1.0), 'decay_time': 0.4, 'strides': (48, 48), 'overlaps': (24, 24), 'max_shifts':...</td>\n",
       "      <td>{'mean-projection-path': 05f36389-5168-47d5-9216-3feabe0a64f3\\05f36389-5168-47d5-9216-3feabe0a64f3_mean_projection.n...</td>\n",
       "      <td>2024-09-30T14:36:58</td>\n",
       "      <td>2024-09-30T15:28:07</td>\n",
       "      <td>290.92 sec</td>\n",
       "      <td>None</td>\n",
       "      <td>05f36389-5168-47d5-9216-3feabe0a64f3</td>\n",
       "    </tr>\n",
       "    <tr>\n",
       "      <th>21</th>\n",
       "      <td>cnmf</td>\n",
       "      <td>cnmf_1</td>\n",
       "      <td>b32f41bf-a9a5-4965-be7c-e6779e854328\\b32f41bf-a9a5-4965-be7c-e6779e854328-extracted_plane_1_els__d1_583_d2_536_d3_1_...</td>\n",
       "      <td>{'main': {'fr': 9.62, 'dxy': (1.0, 1.0), 'decay_time': 0.4, 'strides': (48, 48), 'overlaps': (24, 24), 'max_shifts':...</td>\n",
       "      <td>{'mean-projection-path': 79beadbb-7140-4c23-b914-768a4b5b4a4d\\79beadbb-7140-4c23-b914-768a4b5b4a4d_mean_projection.n...</td>\n",
       "      <td>2024-09-30T14:36:58</td>\n",
       "      <td>2024-09-30T15:33:16</td>\n",
       "      <td>308.79 sec</td>\n",
       "      <td>None</td>\n",
       "      <td>79beadbb-7140-4c23-b914-768a4b5b4a4d</td>\n",
       "    </tr>\n",
       "    <tr>\n",
       "      <th>22</th>\n",
       "      <td>cnmf</td>\n",
       "      <td>cnmf_1</td>\n",
       "      <td>b32f41bf-a9a5-4965-be7c-e6779e854328\\b32f41bf-a9a5-4965-be7c-e6779e854328-extracted_plane_1_els__d1_583_d2_536_d3_1_...</td>\n",
       "      <td>{'main': {'fr': 9.62, 'dxy': (1.0, 1.0), 'decay_time': 0.4, 'strides': (48, 48), 'overlaps': (24, 24), 'max_shifts':...</td>\n",
       "      <td>{'mean-projection-path': 926d6546-12c8-43ac-a033-9a4c97817b31\\926d6546-12c8-43ac-a033-9a4c97817b31_mean_projection.n...</td>\n",
       "      <td>2024-09-30T14:36:58</td>\n",
       "      <td>2024-09-30T15:37:50</td>\n",
       "      <td>273.53 sec</td>\n",
       "      <td>None</td>\n",
       "      <td>926d6546-12c8-43ac-a033-9a4c97817b31</td>\n",
       "    </tr>\n",
       "    <tr>\n",
       "      <th>23</th>\n",
       "      <td>cnmf</td>\n",
       "      <td>cnmf_1</td>\n",
       "      <td>b32f41bf-a9a5-4965-be7c-e6779e854328\\b32f41bf-a9a5-4965-be7c-e6779e854328-extracted_plane_1_els__d1_583_d2_536_d3_1_...</td>\n",
       "      <td>{'main': {'fr': 9.62, 'dxy': (1.0, 1.0), 'decay_time': 0.4, 'strides': (48, 48), 'overlaps': (24, 24), 'max_shifts':...</td>\n",
       "      <td>{'mean-projection-path': e1069d70-5735-47c4-8102-594a1f9f1702\\e1069d70-5735-47c4-8102-594a1f9f1702_mean_projection.n...</td>\n",
       "      <td>2024-09-30T14:36:58</td>\n",
       "      <td>2024-09-30T15:42:58</td>\n",
       "      <td>308.31 sec</td>\n",
       "      <td>None</td>\n",
       "      <td>e1069d70-5735-47c4-8102-594a1f9f1702</td>\n",
       "    </tr>\n",
       "  </tbody>\n",
       "</table>\n",
       "</div>"
      ],
      "text/plain": [
       "     algo          item_name  \\\n",
       "0   mcorr  extracted_plane_1   \n",
       "1    cnmf             cnmf_1   \n",
       "2    cnmf  extracted_plane_1   \n",
       "3    cnmf  extracted_plane_1   \n",
       "4    cnmf  extracted_plane_1   \n",
       "5    cnmf  extracted_plane_1   \n",
       "6    cnmf               k=40   \n",
       "7    cnmf             cnmf_1   \n",
       "8    cnmf             cnmf_1   \n",
       "9    cnmf             cnmf_1   \n",
       "10   cnmf             cnmf_1   \n",
       "11   cnmf             cnmf_1   \n",
       "12   cnmf             cnmf_1   \n",
       "13   cnmf             cnmf_1   \n",
       "14   cnmf             cnmf_1   \n",
       "15   cnmf             cnmf_1   \n",
       "16   cnmf             cnmf_1   \n",
       "17   cnmf             cnmf_1   \n",
       "18   cnmf             cnmf_1   \n",
       "19   cnmf             cnmf_1   \n",
       "20   cnmf             cnmf_1   \n",
       "21   cnmf             cnmf_1   \n",
       "22   cnmf             cnmf_1   \n",
       "23   cnmf             cnmf_1   \n",
       "\n",
       "                                                                                                           input_movie_path  \\\n",
       "0                                                                                                tiff\\extracted_plane_1.tif   \n",
       "1   b32f41bf-a9a5-4965-be7c-e6779e854328\\b32f41bf-a9a5-4965-be7c-e6779e854328-extracted_plane_1_els__d1_583_d2_536_d3_1_...   \n",
       "2   b32f41bf-a9a5-4965-be7c-e6779e854328\\b32f41bf-a9a5-4965-be7c-e6779e854328-extracted_plane_1_els__d1_583_d2_536_d3_1_...   \n",
       "3   b32f41bf-a9a5-4965-be7c-e6779e854328\\b32f41bf-a9a5-4965-be7c-e6779e854328-extracted_plane_1_els__d1_583_d2_536_d3_1_...   \n",
       "4   b32f41bf-a9a5-4965-be7c-e6779e854328\\b32f41bf-a9a5-4965-be7c-e6779e854328-extracted_plane_1_els__d1_583_d2_536_d3_1_...   \n",
       "5   b32f41bf-a9a5-4965-be7c-e6779e854328\\b32f41bf-a9a5-4965-be7c-e6779e854328-extracted_plane_1_els__d1_583_d2_536_d3_1_...   \n",
       "6   b32f41bf-a9a5-4965-be7c-e6779e854328\\b32f41bf-a9a5-4965-be7c-e6779e854328-extracted_plane_1_els__d1_583_d2_536_d3_1_...   \n",
       "7   b32f41bf-a9a5-4965-be7c-e6779e854328\\b32f41bf-a9a5-4965-be7c-e6779e854328-extracted_plane_1_els__d1_583_d2_536_d3_1_...   \n",
       "8   b32f41bf-a9a5-4965-be7c-e6779e854328\\b32f41bf-a9a5-4965-be7c-e6779e854328-extracted_plane_1_els__d1_583_d2_536_d3_1_...   \n",
       "9   b32f41bf-a9a5-4965-be7c-e6779e854328\\b32f41bf-a9a5-4965-be7c-e6779e854328-extracted_plane_1_els__d1_583_d2_536_d3_1_...   \n",
       "10  b32f41bf-a9a5-4965-be7c-e6779e854328\\b32f41bf-a9a5-4965-be7c-e6779e854328-extracted_plane_1_els__d1_583_d2_536_d3_1_...   \n",
       "11  b32f41bf-a9a5-4965-be7c-e6779e854328\\b32f41bf-a9a5-4965-be7c-e6779e854328-extracted_plane_1_els__d1_583_d2_536_d3_1_...   \n",
       "12  b32f41bf-a9a5-4965-be7c-e6779e854328\\b32f41bf-a9a5-4965-be7c-e6779e854328-extracted_plane_1_els__d1_583_d2_536_d3_1_...   \n",
       "13  b32f41bf-a9a5-4965-be7c-e6779e854328\\b32f41bf-a9a5-4965-be7c-e6779e854328-extracted_plane_1_els__d1_583_d2_536_d3_1_...   \n",
       "14  b32f41bf-a9a5-4965-be7c-e6779e854328\\b32f41bf-a9a5-4965-be7c-e6779e854328-extracted_plane_1_els__d1_583_d2_536_d3_1_...   \n",
       "15  b32f41bf-a9a5-4965-be7c-e6779e854328\\b32f41bf-a9a5-4965-be7c-e6779e854328-extracted_plane_1_els__d1_583_d2_536_d3_1_...   \n",
       "16  b32f41bf-a9a5-4965-be7c-e6779e854328\\b32f41bf-a9a5-4965-be7c-e6779e854328-extracted_plane_1_els__d1_583_d2_536_d3_1_...   \n",
       "17  b32f41bf-a9a5-4965-be7c-e6779e854328\\b32f41bf-a9a5-4965-be7c-e6779e854328-extracted_plane_1_els__d1_583_d2_536_d3_1_...   \n",
       "18  b32f41bf-a9a5-4965-be7c-e6779e854328\\b32f41bf-a9a5-4965-be7c-e6779e854328-extracted_plane_1_els__d1_583_d2_536_d3_1_...   \n",
       "19  b32f41bf-a9a5-4965-be7c-e6779e854328\\b32f41bf-a9a5-4965-be7c-e6779e854328-extracted_plane_1_els__d1_583_d2_536_d3_1_...   \n",
       "20  b32f41bf-a9a5-4965-be7c-e6779e854328\\b32f41bf-a9a5-4965-be7c-e6779e854328-extracted_plane_1_els__d1_583_d2_536_d3_1_...   \n",
       "21  b32f41bf-a9a5-4965-be7c-e6779e854328\\b32f41bf-a9a5-4965-be7c-e6779e854328-extracted_plane_1_els__d1_583_d2_536_d3_1_...   \n",
       "22  b32f41bf-a9a5-4965-be7c-e6779e854328\\b32f41bf-a9a5-4965-be7c-e6779e854328-extracted_plane_1_els__d1_583_d2_536_d3_1_...   \n",
       "23  b32f41bf-a9a5-4965-be7c-e6779e854328\\b32f41bf-a9a5-4965-be7c-e6779e854328-extracted_plane_1_els__d1_583_d2_536_d3_1_...   \n",
       "\n",
       "                                                                                                                     params  \\\n",
       "0   {'main': {'var_name_hdf5': 'mov', 'max_shifts': (10, 10), 'strides': (48, 48), 'overlaps': (24, 24), 'max_deviation_...   \n",
       "1   {'main': {'fr': 9.62, 'dxy': (1.0, 1.0), 'decay_time': 0.4, 'strides': (48, 48), 'overlaps': (24, 24), 'max_shifts':...   \n",
       "2   {'main': {'fr': 9.62, 'dxy': (1.0, 1.0), 'decay_time': 0.4, 'strides': (48, 48), 'overlaps': (24, 24), 'max_shifts':...   \n",
       "3   {'main': {'fr': 9.62, 'dxy': (1.0, 1.0), 'decay_time': 0.4, 'strides': (48, 48), 'overlaps': (24, 24), 'max_shifts':...   \n",
       "4   {'main': {'fr': 9.62, 'dxy': (1.0, 1.0), 'decay_time': 0.4, 'strides': (48, 48), 'overlaps': (24, 24), 'max_shifts':...   \n",
       "5   {'main': {'fr': 9.62, 'dxy': (1.0, 1.0), 'decay_time': 0.4, 'strides': (48, 48), 'overlaps': (24, 24), 'max_shifts':...   \n",
       "6   {'main': {'fr': 9.62, 'dxy': (1.0, 1.0), 'decay_time': 0.4, 'strides': (48, 48), 'overlaps': (24, 24), 'max_shifts':...   \n",
       "7   {'main': {'fr': 9.62, 'dxy': (1.0, 1.0), 'decay_time': 0.4, 'strides': (48, 48), 'overlaps': (24, 24), 'max_shifts':...   \n",
       "8   {'main': {'fr': 9.62, 'dxy': (1.0, 1.0), 'decay_time': 0.4, 'strides': (48, 48), 'overlaps': (24, 24), 'max_shifts':...   \n",
       "9   {'main': {'fr': 9.62, 'dxy': (1.0, 1.0), 'decay_time': 0.4, 'strides': (48, 48), 'overlaps': (24, 24), 'max_shifts':...   \n",
       "10  {'main': {'fr': 9.62, 'dxy': (1.0, 1.0), 'decay_time': 0.4, 'strides': (48, 48), 'overlaps': (24, 24), 'max_shifts':...   \n",
       "11  {'main': {'fr': 9.62, 'dxy': (1.0, 1.0), 'decay_time': 0.4, 'strides': (48, 48), 'overlaps': (24, 24), 'max_shifts':...   \n",
       "12  {'main': {'fr': 9.62, 'dxy': (1.0, 1.0), 'decay_time': 0.4, 'strides': (48, 48), 'overlaps': (24, 24), 'max_shifts':...   \n",
       "13  {'main': {'fr': 9.62, 'dxy': (1.0, 1.0), 'decay_time': 0.4, 'strides': (48, 48), 'overlaps': (24, 24), 'max_shifts':...   \n",
       "14  {'main': {'fr': 9.62, 'dxy': (1.0, 1.0), 'decay_time': 0.4, 'strides': (48, 48), 'overlaps': (24, 24), 'max_shifts':...   \n",
       "15  {'main': {'fr': 9.62, 'dxy': (1.0, 1.0), 'decay_time': 0.4, 'strides': (48, 48), 'overlaps': (24, 24), 'max_shifts':...   \n",
       "16  {'main': {'fr': 9.62, 'dxy': (1.0, 1.0), 'decay_time': 0.4, 'strides': (48, 48), 'overlaps': (24, 24), 'max_shifts':...   \n",
       "17  {'main': {'fr': 9.62, 'dxy': (1.0, 1.0), 'decay_time': 0.4, 'strides': (48, 48), 'overlaps': (24, 24), 'max_shifts':...   \n",
       "18  {'main': {'fr': 9.62, 'dxy': (1.0, 1.0), 'decay_time': 0.4, 'strides': (48, 48), 'overlaps': (24, 24), 'max_shifts':...   \n",
       "19  {'main': {'fr': 9.62, 'dxy': (1.0, 1.0), 'decay_time': 0.4, 'strides': (48, 48), 'overlaps': (24, 24), 'max_shifts':...   \n",
       "20  {'main': {'fr': 9.62, 'dxy': (1.0, 1.0), 'decay_time': 0.4, 'strides': (48, 48), 'overlaps': (24, 24), 'max_shifts':...   \n",
       "21  {'main': {'fr': 9.62, 'dxy': (1.0, 1.0), 'decay_time': 0.4, 'strides': (48, 48), 'overlaps': (24, 24), 'max_shifts':...   \n",
       "22  {'main': {'fr': 9.62, 'dxy': (1.0, 1.0), 'decay_time': 0.4, 'strides': (48, 48), 'overlaps': (24, 24), 'max_shifts':...   \n",
       "23  {'main': {'fr': 9.62, 'dxy': (1.0, 1.0), 'decay_time': 0.4, 'strides': (48, 48), 'overlaps': (24, 24), 'max_shifts':...   \n",
       "\n",
       "                                                                                                                    outputs  \\\n",
       "0   {'mean-projection-path': b32f41bf-a9a5-4965-be7c-e6779e854328\\b32f41bf-a9a5-4965-be7c-e6779e854328_mean_projection.n...   \n",
       "1   {'mean-projection-path': a057e39e-a2df-41d3-8217-83c9cd7ffb6d\\a057e39e-a2df-41d3-8217-83c9cd7ffb6d_mean_projection.n...   \n",
       "2   {'mean-projection-path': 5cb543ec-5358-4b35-83cf-bfd19fa06a68\\5cb543ec-5358-4b35-83cf-bfd19fa06a68_mean_projection.n...   \n",
       "3   {'mean-projection-path': df52a609-d986-4bc0-a0a2-526cbfda057d\\df52a609-d986-4bc0-a0a2-526cbfda057d_mean_projection.n...   \n",
       "4   {'mean-projection-path': b68a8efe-1a3b-4392-b6e7-416312f1f945\\b68a8efe-1a3b-4392-b6e7-416312f1f945_mean_projection.n...   \n",
       "5   {'mean-projection-path': 15e6fb81-fac4-457b-96da-dbb8e2d7b669\\15e6fb81-fac4-457b-96da-dbb8e2d7b669_mean_projection.n...   \n",
       "6   {'mean-projection-path': abba269d-f2f3-467b-ba40-f1e33aea8461\\abba269d-f2f3-467b-ba40-f1e33aea8461_mean_projection.n...   \n",
       "7   {'mean-projection-path': 9777376d-092c-43db-b14a-c9be1e142e5c\\9777376d-092c-43db-b14a-c9be1e142e5c_mean_projection.n...   \n",
       "8   {'mean-projection-path': 88177367-8fbf-499b-940e-1fb9c331b499\\88177367-8fbf-499b-940e-1fb9c331b499_mean_projection.n...   \n",
       "9   {'mean-projection-path': a3bd82e1-618e-4279-8a67-ae3fe52a10d2\\a3bd82e1-618e-4279-8a67-ae3fe52a10d2_mean_projection.n...   \n",
       "10  {'mean-projection-path': 03f6d9ca-c686-466e-9c8a-8076f787fc7b\\03f6d9ca-c686-466e-9c8a-8076f787fc7b_mean_projection.n...   \n",
       "11  {'mean-projection-path': 4bf6de48-8531-448f-b207-5f31299a12da\\4bf6de48-8531-448f-b207-5f31299a12da_mean_projection.n...   \n",
       "12  {'mean-projection-path': 3b9e8974-9d74-4f69-9370-ae731296203c\\3b9e8974-9d74-4f69-9370-ae731296203c_mean_projection.n...   \n",
       "13  {'mean-projection-path': 705e6404-a883-4a19-9162-53a29aa62132\\705e6404-a883-4a19-9162-53a29aa62132_mean_projection.n...   \n",
       "14  {'mean-projection-path': 8bed5bd7-9261-46bb-bc17-091241f3b414\\8bed5bd7-9261-46bb-bc17-091241f3b414_mean_projection.n...   \n",
       "15  {'mean-projection-path': 4cf62c5c-ed76-40ee-bf5c-6ed878aa924b\\4cf62c5c-ed76-40ee-bf5c-6ed878aa924b_mean_projection.n...   \n",
       "16  {'mean-projection-path': d46488b0-5e55-4e4f-84dc-9bb14dc9db17\\d46488b0-5e55-4e4f-84dc-9bb14dc9db17_mean_projection.n...   \n",
       "17  {'mean-projection-path': 5158332e-9c9a-4395-8044-70667b0ef869\\5158332e-9c9a-4395-8044-70667b0ef869_mean_projection.n...   \n",
       "18  {'mean-projection-path': f2d0cc26-ab86-4b8b-95ff-9aacf40c1c92\\f2d0cc26-ab86-4b8b-95ff-9aacf40c1c92_mean_projection.n...   \n",
       "19  {'mean-projection-path': 683f31bc-fdb2-4d27-b860-2fd272e83172\\683f31bc-fdb2-4d27-b860-2fd272e83172_mean_projection.n...   \n",
       "20  {'mean-projection-path': 05f36389-5168-47d5-9216-3feabe0a64f3\\05f36389-5168-47d5-9216-3feabe0a64f3_mean_projection.n...   \n",
       "21  {'mean-projection-path': 79beadbb-7140-4c23-b914-768a4b5b4a4d\\79beadbb-7140-4c23-b914-768a4b5b4a4d_mean_projection.n...   \n",
       "22  {'mean-projection-path': 926d6546-12c8-43ac-a033-9a4c97817b31\\926d6546-12c8-43ac-a033-9a4c97817b31_mean_projection.n...   \n",
       "23  {'mean-projection-path': e1069d70-5735-47c4-8102-594a1f9f1702\\e1069d70-5735-47c4-8102-594a1f9f1702_mean_projection.n...   \n",
       "\n",
       "             added_time             ran_time algo_duration comments  \\\n",
       "0   2024-09-26T11:56:54  2024-09-26T12:02:55      77.3 sec     None   \n",
       "1   2024-09-26T16:26:20  2024-09-26T16:28:48    143.18 sec     None   \n",
       "2   2024-09-27T14:48:59  2024-09-27T14:50:30     80.14 sec     None   \n",
       "3   2024-09-27T14:48:59  2024-09-27T14:51:46     75.93 sec     None   \n",
       "4   2024-09-27T14:48:59  2024-09-30T10:30:15     96.62 sec     None   \n",
       "5   2024-09-27T14:48:59  2024-09-30T11:32:09     89.61 sec     None   \n",
       "6   2024-09-30T14:02:10  2024-09-30T14:05:00    165.71 sec     None   \n",
       "7   2024-09-30T14:36:58  2024-09-30T14:41:40    161.74 sec     None   \n",
       "8   2024-09-30T14:36:58  2024-09-30T14:44:32    172.71 sec     None   \n",
       "9   2024-09-30T14:36:58  2024-09-30T14:47:31    179.02 sec     None   \n",
       "10  2024-09-30T14:36:58  2024-09-30T14:50:13    161.89 sec     None   \n",
       "11  2024-09-30T14:36:58  2024-09-30T14:53:04    170.76 sec     None   \n",
       "12  2024-09-30T14:36:58  2024-09-30T14:56:01    177.33 sec     None   \n",
       "13  2024-09-30T14:36:58  2024-09-30T14:59:31    209.84 sec     None   \n",
       "14  2024-09-30T14:36:58  2024-09-30T15:03:25    234.05 sec     None   \n",
       "15  2024-09-30T14:36:58  2024-09-30T15:07:23    237.78 sec     None   \n",
       "16  2024-09-30T14:36:58  2024-09-30T15:10:50    207.15 sec     None   \n",
       "17  2024-09-30T14:36:58  2024-09-30T15:14:44    234.05 sec     None   \n",
       "18  2024-09-30T14:36:58  2024-09-30T15:18:44    239.34 sec     None   \n",
       "19  2024-09-30T14:36:58  2024-09-30T15:23:16     272.6 sec     None   \n",
       "20  2024-09-30T14:36:58  2024-09-30T15:28:07    290.92 sec     None   \n",
       "21  2024-09-30T14:36:58  2024-09-30T15:33:16    308.79 sec     None   \n",
       "22  2024-09-30T14:36:58  2024-09-30T15:37:50    273.53 sec     None   \n",
       "23  2024-09-30T14:36:58  2024-09-30T15:42:58    308.31 sec     None   \n",
       "\n",
       "                                    uuid  \n",
       "0   b32f41bf-a9a5-4965-be7c-e6779e854328  \n",
       "1   a057e39e-a2df-41d3-8217-83c9cd7ffb6d  \n",
       "2   5cb543ec-5358-4b35-83cf-bfd19fa06a68  \n",
       "3   df52a609-d986-4bc0-a0a2-526cbfda057d  \n",
       "4   b68a8efe-1a3b-4392-b6e7-416312f1f945  \n",
       "5   15e6fb81-fac4-457b-96da-dbb8e2d7b669  \n",
       "6   abba269d-f2f3-467b-ba40-f1e33aea8461  \n",
       "7   9777376d-092c-43db-b14a-c9be1e142e5c  \n",
       "8   88177367-8fbf-499b-940e-1fb9c331b499  \n",
       "9   a3bd82e1-618e-4279-8a67-ae3fe52a10d2  \n",
       "10  03f6d9ca-c686-466e-9c8a-8076f787fc7b  \n",
       "11  4bf6de48-8531-448f-b207-5f31299a12da  \n",
       "12  3b9e8974-9d74-4f69-9370-ae731296203c  \n",
       "13  705e6404-a883-4a19-9162-53a29aa62132  \n",
       "14  8bed5bd7-9261-46bb-bc17-091241f3b414  \n",
       "15  4cf62c5c-ed76-40ee-bf5c-6ed878aa924b  \n",
       "16  d46488b0-5e55-4e4f-84dc-9bb14dc9db17  \n",
       "17  5158332e-9c9a-4395-8044-70667b0ef869  \n",
       "18  f2d0cc26-ab86-4b8b-95ff-9aacf40c1c92  \n",
       "19  683f31bc-fdb2-4d27-b860-2fd272e83172  \n",
       "20  05f36389-5168-47d5-9216-3feabe0a64f3  \n",
       "21  79beadbb-7140-4c23-b914-768a4b5b4a4d  \n",
       "22  926d6546-12c8-43ac-a033-9a4c97817b31  \n",
       "23  e1069d70-5735-47c4-8102-594a1f9f1702  "
      ]
     },
     "execution_count": 4,
     "metadata": {},
     "output_type": "execute_result"
    }
   ],
   "source": [
    "parent_path = Path().home() / \"caiman_data\" / \"animal_01\" / \"session_01\"\n",
    "\n",
    "batch_path = parent_path / 'batch.pickle'\n",
    "mc.set_parent_raw_data_path(str(parent_path))\n",
    "\n",
    "# you could alos load the registration batch and\n",
    "# save this patch in a new dataframe (saved to disk automatically)\n",
    "\n",
    "try:\n",
    "    df = mc.load_batch(batch_path)\n",
    "except (IsADirectoryError, FileNotFoundError):\n",
    "    df = mc.create_batch(batch_path)\n",
    "\n",
    "df=df.caiman.reload_from_disk()\n",
    "df"
   ]
  },
  {
   "cell_type": "markdown",
   "id": "12abe13fcc5c99d1",
   "metadata": {},
   "source": [
    "## Decay Times\n",
    "\n",
    "  \tMax dF/F \tHalf-rise time (ms) \tTime to peak (ms) \tHalf-decay time (ms)\n",
    "    jGCaMP7f (control) \t0.21±0.1 \t24.8±6.6 \t99.5±30.2 \t181.9±76.0\n",
    "    jGCaMP8f \t0.41±0.12 \t7.1±0.74 \t24.8±6.1 \t67.4±11.2\n",
    "    jGCaMP8m \t0.76±0.22 \t7.1±0.61 \t29.0±11.2 \t118.3±13.2\n",
    "    jGCaMP8s \t1.11±0.22 \t10.1±0.86 \t57.0±12.9 \t306.7±32.2\n",
    "    jGCaMP8.712* \t0.66±0.18 \t10.9±1.24 \t41.6±8.1 \t94.8±13.3"
   ]
  },
  {
   "cell_type": "code",
   "execution_count": 6,
   "id": "3381ee51",
   "metadata": {
    "ExecuteTime": {
     "end_time": "2024-10-01T15:50:12.286280Z",
     "start_time": "2024-10-01T15:50:12.271069Z"
    }
   },
   "outputs": [],
   "source": [
    "k = 150\n",
    "\n",
    "# general dataset-dependent parameters\n",
    "fr = 9.62                   # imaging rate in frames per second\n",
    "decay_time = 0.4            # length of a typical transient in seconds\n",
    "dxy = (1., 1.)              # spatial resolution in x and y in (um per pixel)\n",
    "\n",
    "# CNMF parameters for source extraction and deconvolution\n",
    "p = 2                       # order of the autoregressive system (set p=2 if there is visible rise time in data)\n",
    "gnb = 1                     # number of global background components (set to 1 or 2)\n",
    "merge_thr = 0.80            # merging threshold, max correlation allowed\n",
    "bas_nonneg = True           # enforce nonnegativity constraint on calcium traces (technically on baseline)\n",
    "rf = 300                     # half-size of the patches in pixels (patch width is rf*2 + 1)\n",
    "stride_cnmf = 15            # amount of overlap between the patches in pixels (overlap is stride_cnmf+1)\n",
    "gSig = np.array([6, 6])     # expected half-width of neurons in pixels (Gaussian kernel standard deviation)\n",
    "gSiz = None #2*gSig + 1     # Gaussian kernel width and hight\n",
    "method_init = 'greedy_roi'  # initialization method (if analyzing dendritic data see demo_dendritic.ipynb)\n",
    "ssub = 1                    # spatial subsampling during initialization\n",
    "tsub = 1                    # temporal subsampling during intialization\n",
    "\n",
    "# parameters for component evaluation\n",
    "min_SNR = 1.4               # signal to noise ratio for accepting a component\n",
    "rval_thr = 0.80             # space correlation threshold for accepting a component\n",
    "\n",
    "params_cnmf = {\n",
    "    'main': {\n",
    "        'fr': fr,\n",
    "        'dxy': dxy,\n",
    "        'decay_time': decay_time,\n",
    "        'p': p,\n",
    "        'nb': gnb,\n",
    "        'rf': rf,\n",
    "        'K':  k,\n",
    "        'gSig': gSig,\n",
    "        'gSiz': gSiz,\n",
    "        'stride': stride_cnmf,\n",
    "        'method_init': method_init,\n",
    "        'rolling_sum': True,\n",
    "        'use_cnn': False,\n",
    "        'ssub': ssub,\n",
    "        'tsub': tsub,\n",
    "        'merge_thr': merge_thr,\n",
    "        'bas_nonneg': bas_nonneg,\n",
    "        'min_SNR': min_SNR,\n",
    "        'rval_thr': rval_thr,\n",
    "    },\n",
    "    'refit': True\n",
    "}"
   ]
  },
  {
   "cell_type": "code",
   "execution_count": 2,
   "id": "ba51b06cf80a87ac",
   "metadata": {
    "ExecuteTime": {
     "end_time": "2024-10-01T15:30:57.910872Z",
     "start_time": "2024-10-01T15:30:57.903872Z"
    }
   },
   "outputs": [
    {
     "data": {
      "text/plain": [
       "2.944"
      ]
     },
     "execution_count": 2,
     "metadata": {},
     "output_type": "execute_result"
    }
   ],
   "source": [
    "result = 9.2e4 * 20e-9 * (1 * 40)**2\n",
    "result"
   ]
  },
  {
   "cell_type": "code",
   "execution_count": 7,
   "id": "cb6000cb",
   "metadata": {},
   "outputs": [],
   "source": [
    "# variants of several parameters\n",
    "K_variants = [40, 60, 80]\n",
    "merge_thr_variants = [0.7, 0.8, 0.95]\n",
    "r_val_variants = [0.7, 0.8]\n",
    "g_sig_variants = [6, 8, 10]\n",
    "\n",
    "# always use deepcopy like before\n",
    "new_params_cnmf = deepcopy(params_cnmf)\n",
    "\n",
    "# create a parameter grid\n",
    "parameter_grid = product(g_sig_variants, K_variants, r_val_variants, merge_thr_variants)\n",
    "\n",
    "# a single for loop to go through all the various parameter combinations\n",
    "for gSig, k, r_val, merge_val in parameter_grid:\n",
    "    # deep copy params dict just like before\n",
    "    new_params_cnmf = deepcopy(new_params_cnmf)\n",
    "\n",
    "    new_params_cnmf[\"main\"][\"gSig\"] = [gSig, gSig]\n",
    "    new_params_cnmf[\"main\"][\"K\"] = k\n",
    "    new_params_cnmf[\"main\"][\"merge_thr\"] = merge_val\n",
    "    new_params_cnmf[\"main\"][\"rval_thr\"] = r_val\n",
    "\n",
    "    # add param combination variant to batch\n",
    "    df.caiman.add_item(\n",
    "        algo=\"cnmf\",\n",
    "        item_name=df.iloc[1][\"item_name\"],  # good mcorr item\n",
    "        input_movie_path=df.iloc[0],\n",
    "        params=new_params_cnmf\n",
    "    )"
   ]
  },
  {
   "cell_type": "code",
   "execution_count": 9,
   "id": "e4807be7",
   "metadata": {},
   "outputs": [
    {
     "name": "stdout",
     "output_type": "stream",
     "text": [
      "Running 9777376d-092c-43db-b14a-c9be1e142e5c with local backend\n",
      "************************************************************************\n",
      "\n",
      "Starting CNMF item:\n",
      "algo                                                                                                                                   cnmf\n",
      "item_name                                                                                                                            cnmf_1\n",
      "input_movie_path    b32f41bf-a9a5-4965-be7c-e6779e854328\\b32f41bf-a9a5-4965-be7c-e6779e854328-extracted_plane_1_els__d1_583_d2_536_d3_1_...\n",
      "params              {'main': {'fr': 9.62, 'dxy': (1.0, 1.0), 'decay_time': 0.4, 'strides': (48, 48), 'overlaps': (24, 24), 'max_shifts':...\n",
      "outputs                                                                                                                                None\n",
      "added_time                                                                                                              2024-09-30T14:36:58\n",
      "ran_time                                                                                                                               None\n",
      "algo_duration                                                                                                                          None\n",
      "comments                                                                                                                               None\n",
      "uuid                                                                                                   9777376d-092c-43db-b14a-c9be1e142e5c\n",
      "Name: 7, dtype: object\n",
      "With params:{'main': {'fr': 9.62, 'dxy': (1.0, 1.0), 'decay_time': 0.4, 'strides': (48, 48), 'overlaps': (24, 24), 'max_shifts': (6, 6), 'max_deviation_rigid': 3, 'pw_rigid': True, 'p': 2, 'nb': 1, 'rf': 40, 'K': 40, 'gSig': (6, 6), 'gSiz': None, 'stride': 10, 'method_init': 'greedy_roi', 'rolling_sum': True, 'use_cnn': False, 'ssub': 1, 'tsub': 1, 'merge_thr': 0.7, 'bas_nonneg': True, 'min_SNR': 1.4, 'rval_thr': 0.7}, 'refit': True}\n"
     ]
    },
    {
     "name": "stderr",
     "output_type": "stream",
     "text": [
      "      472727 [cluster.py:setup_cluster():225] [24368] The local backend is an alias for the multiprocessing backend, and the alias may be removed in some future version of Caiman\n",
      "      472727 [cluster.py:setup_cluster():225] [24368] The local backend is an alias for the multiprocessing backend, and the alias may be removed in some future version of Caiman\n",
      "      472830 [params.py:change_params():1151] [24368] In setting CNMFParams, non-pathed parameters were used; this is deprecated. In some future version of Caiman, allow_legacy will default to False (and eventually will be removed)\n",
      "      472830 [params.py:change_params():1151] [24368] In setting CNMFParams, non-pathed parameters were used; this is deprecated. In some future version of Caiman, allow_legacy will default to False (and eventually will be removed)\n"
     ]
    },
    {
     "name": "stdout",
     "output_type": "stream",
     "text": [
      "making memmap\n"
     ]
    },
    {
     "name": "stderr",
     "output_type": "stream",
     "text": [
      "      482847 [cluster.py:setup_cluster():225] [24368] The local backend is an alias for the multiprocessing backend, and the alias may be removed in some future version of Caiman\n",
      "      482847 [cluster.py:setup_cluster():225] [24368] The local backend is an alias for the multiprocessing backend, and the alias may be removed in some future version of Caiman\n"
     ]
    },
    {
     "name": "stdout",
     "output_type": "stream",
     "text": [
      "performing CNMF\n",
      "fitting images\n",
      "refitting\n",
      "performing eval\n",
      "Running 88177367-8fbf-499b-940e-1fb9c331b499 with local backend\n",
      "************************************************************************\n",
      "\n",
      "Starting CNMF item:\n",
      "algo                                                                                                                                   cnmf\n",
      "item_name                                                                                                                            cnmf_1\n",
      "input_movie_path    b32f41bf-a9a5-4965-be7c-e6779e854328\\b32f41bf-a9a5-4965-be7c-e6779e854328-extracted_plane_1_els__d1_583_d2_536_d3_1_...\n",
      "params              {'main': {'fr': 9.62, 'dxy': (1.0, 1.0), 'decay_time': 0.4, 'strides': (48, 48), 'overlaps': (24, 24), 'max_shifts':...\n",
      "outputs                                                                                                                                None\n",
      "added_time                                                                                                              2024-09-30T14:36:58\n",
      "ran_time                                                                                                                               None\n",
      "algo_duration                                                                                                                          None\n",
      "comments                                                                                                                               None\n",
      "uuid                                                                                                   88177367-8fbf-499b-940e-1fb9c331b499\n",
      "Name: 8, dtype: object\n",
      "With params:{'main': {'fr': 9.62, 'dxy': (1.0, 1.0), 'decay_time': 0.4, 'strides': (48, 48), 'overlaps': (24, 24), 'max_shifts': (6, 6), 'max_deviation_rigid': 3, 'pw_rigid': True, 'p': 2, 'nb': 1, 'rf': 40, 'K': 40, 'gSig': (6, 6), 'gSiz': None, 'stride': 10, 'method_init': 'greedy_roi', 'rolling_sum': True, 'use_cnn': False, 'ssub': 1, 'tsub': 1, 'merge_thr': 0.8, 'bas_nonneg': True, 'min_SNR': 1.4, 'rval_thr': 0.7}, 'refit': True}\n"
     ]
    },
    {
     "name": "stderr",
     "output_type": "stream",
     "text": [
      "      634476 [cluster.py:setup_cluster():225] [24368] The local backend is an alias for the multiprocessing backend, and the alias may be removed in some future version of Caiman\n",
      "      634476 [cluster.py:setup_cluster():225] [24368] The local backend is an alias for the multiprocessing backend, and the alias may be removed in some future version of Caiman\n",
      "      634577 [params.py:change_params():1151] [24368] In setting CNMFParams, non-pathed parameters were used; this is deprecated. In some future version of Caiman, allow_legacy will default to False (and eventually will be removed)\n",
      "      634577 [params.py:change_params():1151] [24368] In setting CNMFParams, non-pathed parameters were used; this is deprecated. In some future version of Caiman, allow_legacy will default to False (and eventually will be removed)\n"
     ]
    },
    {
     "name": "stdout",
     "output_type": "stream",
     "text": [
      "making memmap\n"
     ]
    },
    {
     "name": "stderr",
     "output_type": "stream",
     "text": [
      "      644652 [cluster.py:setup_cluster():225] [24368] The local backend is an alias for the multiprocessing backend, and the alias may be removed in some future version of Caiman\n",
      "      644652 [cluster.py:setup_cluster():225] [24368] The local backend is an alias for the multiprocessing backend, and the alias may be removed in some future version of Caiman\n"
     ]
    },
    {
     "name": "stdout",
     "output_type": "stream",
     "text": [
      "performing CNMF\n",
      "fitting images\n",
      "refitting\n",
      "performing eval\n",
      "Running a3bd82e1-618e-4279-8a67-ae3fe52a10d2 with local backend\n",
      "************************************************************************\n",
      "\n",
      "Starting CNMF item:\n",
      "algo                                                                                                                                   cnmf\n",
      "item_name                                                                                                                            cnmf_1\n",
      "input_movie_path    b32f41bf-a9a5-4965-be7c-e6779e854328\\b32f41bf-a9a5-4965-be7c-e6779e854328-extracted_plane_1_els__d1_583_d2_536_d3_1_...\n",
      "params              {'main': {'fr': 9.62, 'dxy': (1.0, 1.0), 'decay_time': 0.4, 'strides': (48, 48), 'overlaps': (24, 24), 'max_shifts':...\n",
      "outputs                                                                                                                                None\n",
      "added_time                                                                                                              2024-09-30T14:36:58\n",
      "ran_time                                                                                                                               None\n",
      "algo_duration                                                                                                                          None\n",
      "comments                                                                                                                               None\n",
      "uuid                                                                                                   a3bd82e1-618e-4279-8a67-ae3fe52a10d2\n",
      "Name: 9, dtype: object\n",
      "With params:{'main': {'fr': 9.62, 'dxy': (1.0, 1.0), 'decay_time': 0.4, 'strides': (48, 48), 'overlaps': (24, 24), 'max_shifts': (6, 6), 'max_deviation_rigid': 3, 'pw_rigid': True, 'p': 2, 'nb': 1, 'rf': 40, 'K': 40, 'gSig': (6, 6), 'gSiz': None, 'stride': 10, 'method_init': 'greedy_roi', 'rolling_sum': True, 'use_cnn': False, 'ssub': 1, 'tsub': 1, 'merge_thr': 0.95, 'bas_nonneg': True, 'min_SNR': 1.4, 'rval_thr': 0.7}, 'refit': True}\n"
     ]
    },
    {
     "name": "stderr",
     "output_type": "stream",
     "text": [
      "      807206 [cluster.py:setup_cluster():225] [24368] The local backend is an alias for the multiprocessing backend, and the alias may be removed in some future version of Caiman\n",
      "      807206 [cluster.py:setup_cluster():225] [24368] The local backend is an alias for the multiprocessing backend, and the alias may be removed in some future version of Caiman\n",
      "      807307 [params.py:change_params():1151] [24368] In setting CNMFParams, non-pathed parameters were used; this is deprecated. In some future version of Caiman, allow_legacy will default to False (and eventually will be removed)\n",
      "      807307 [params.py:change_params():1151] [24368] In setting CNMFParams, non-pathed parameters were used; this is deprecated. In some future version of Caiman, allow_legacy will default to False (and eventually will be removed)\n"
     ]
    },
    {
     "name": "stdout",
     "output_type": "stream",
     "text": [
      "making memmap\n"
     ]
    },
    {
     "name": "stderr",
     "output_type": "stream",
     "text": [
      "      817354 [cluster.py:setup_cluster():225] [24368] The local backend is an alias for the multiprocessing backend, and the alias may be removed in some future version of Caiman\n",
      "      817354 [cluster.py:setup_cluster():225] [24368] The local backend is an alias for the multiprocessing backend, and the alias may be removed in some future version of Caiman\n"
     ]
    },
    {
     "name": "stdout",
     "output_type": "stream",
     "text": [
      "performing CNMF\n",
      "fitting images\n",
      "refitting\n",
      "performing eval\n",
      "Running 03f6d9ca-c686-466e-9c8a-8076f787fc7b with local backend\n",
      "************************************************************************\n",
      "\n",
      "Starting CNMF item:\n",
      "algo                                                                                                                                   cnmf\n",
      "item_name                                                                                                                            cnmf_1\n",
      "input_movie_path    b32f41bf-a9a5-4965-be7c-e6779e854328\\b32f41bf-a9a5-4965-be7c-e6779e854328-extracted_plane_1_els__d1_583_d2_536_d3_1_...\n",
      "params              {'main': {'fr': 9.62, 'dxy': (1.0, 1.0), 'decay_time': 0.4, 'strides': (48, 48), 'overlaps': (24, 24), 'max_shifts':...\n",
      "outputs                                                                                                                                None\n",
      "added_time                                                                                                              2024-09-30T14:36:58\n",
      "ran_time                                                                                                                               None\n",
      "algo_duration                                                                                                                          None\n",
      "comments                                                                                                                               None\n",
      "uuid                                                                                                   03f6d9ca-c686-466e-9c8a-8076f787fc7b\n",
      "Name: 10, dtype: object\n",
      "With params:{'main': {'fr': 9.62, 'dxy': (1.0, 1.0), 'decay_time': 0.4, 'strides': (48, 48), 'overlaps': (24, 24), 'max_shifts': (6, 6), 'max_deviation_rigid': 3, 'pw_rigid': True, 'p': 2, 'nb': 1, 'rf': 40, 'K': 40, 'gSig': (6, 6), 'gSiz': None, 'stride': 10, 'method_init': 'greedy_roi', 'rolling_sum': True, 'use_cnn': False, 'ssub': 1, 'tsub': 1, 'merge_thr': 0.7, 'bas_nonneg': True, 'min_SNR': 1.4, 'rval_thr': 0.8}, 'refit': True}\n"
     ]
    },
    {
     "name": "stderr",
     "output_type": "stream",
     "text": [
      "      986255 [cluster.py:setup_cluster():225] [24368] The local backend is an alias for the multiprocessing backend, and the alias may be removed in some future version of Caiman\n",
      "      986255 [cluster.py:setup_cluster():225] [24368] The local backend is an alias for the multiprocessing backend, and the alias may be removed in some future version of Caiman\n",
      "      986353 [params.py:change_params():1151] [24368] In setting CNMFParams, non-pathed parameters were used; this is deprecated. In some future version of Caiman, allow_legacy will default to False (and eventually will be removed)\n",
      "      986353 [params.py:change_params():1151] [24368] In setting CNMFParams, non-pathed parameters were used; this is deprecated. In some future version of Caiman, allow_legacy will default to False (and eventually will be removed)\n"
     ]
    },
    {
     "name": "stdout",
     "output_type": "stream",
     "text": [
      "making memmap\n"
     ]
    },
    {
     "name": "stderr",
     "output_type": "stream",
     "text": [
      "      996811 [cluster.py:setup_cluster():225] [24368] The local backend is an alias for the multiprocessing backend, and the alias may be removed in some future version of Caiman\n",
      "      996811 [cluster.py:setup_cluster():225] [24368] The local backend is an alias for the multiprocessing backend, and the alias may be removed in some future version of Caiman\n"
     ]
    },
    {
     "name": "stdout",
     "output_type": "stream",
     "text": [
      "performing CNMF\n",
      "fitting images\n",
      "refitting\n",
      "performing eval\n",
      "Running 4bf6de48-8531-448f-b207-5f31299a12da with local backend\n",
      "************************************************************************\n",
      "\n",
      "Starting CNMF item:\n",
      "algo                                                                                                                                   cnmf\n",
      "item_name                                                                                                                            cnmf_1\n",
      "input_movie_path    b32f41bf-a9a5-4965-be7c-e6779e854328\\b32f41bf-a9a5-4965-be7c-e6779e854328-extracted_plane_1_els__d1_583_d2_536_d3_1_...\n",
      "params              {'main': {'fr': 9.62, 'dxy': (1.0, 1.0), 'decay_time': 0.4, 'strides': (48, 48), 'overlaps': (24, 24), 'max_shifts':...\n",
      "outputs                                                                                                                                None\n",
      "added_time                                                                                                              2024-09-30T14:36:58\n",
      "ran_time                                                                                                                               None\n",
      "algo_duration                                                                                                                          None\n",
      "comments                                                                                                                               None\n",
      "uuid                                                                                                   4bf6de48-8531-448f-b207-5f31299a12da\n",
      "Name: 11, dtype: object\n",
      "With params:{'main': {'fr': 9.62, 'dxy': (1.0, 1.0), 'decay_time': 0.4, 'strides': (48, 48), 'overlaps': (24, 24), 'max_shifts': (6, 6), 'max_deviation_rigid': 3, 'pw_rigid': True, 'p': 2, 'nb': 1, 'rf': 40, 'K': 40, 'gSig': (6, 6), 'gSiz': None, 'stride': 10, 'method_init': 'greedy_roi', 'rolling_sum': True, 'use_cnn': False, 'ssub': 1, 'tsub': 1, 'merge_thr': 0.8, 'bas_nonneg': True, 'min_SNR': 1.4, 'rval_thr': 0.8}, 'refit': True}\n"
     ]
    },
    {
     "name": "stderr",
     "output_type": "stream",
     "text": [
      "     1148159 [cluster.py:setup_cluster():225] [24368] The local backend is an alias for the multiprocessing backend, and the alias may be removed in some future version of Caiman\n",
      "     1148159 [cluster.py:setup_cluster():225] [24368] The local backend is an alias for the multiprocessing backend, and the alias may be removed in some future version of Caiman\n",
      "     1148261 [params.py:change_params():1151] [24368] In setting CNMFParams, non-pathed parameters were used; this is deprecated. In some future version of Caiman, allow_legacy will default to False (and eventually will be removed)\n",
      "     1148261 [params.py:change_params():1151] [24368] In setting CNMFParams, non-pathed parameters were used; this is deprecated. In some future version of Caiman, allow_legacy will default to False (and eventually will be removed)\n"
     ]
    },
    {
     "name": "stdout",
     "output_type": "stream",
     "text": [
      "making memmap\n"
     ]
    },
    {
     "name": "stderr",
     "output_type": "stream",
     "text": [
      "     1158346 [cluster.py:setup_cluster():225] [24368] The local backend is an alias for the multiprocessing backend, and the alias may be removed in some future version of Caiman\n",
      "     1158346 [cluster.py:setup_cluster():225] [24368] The local backend is an alias for the multiprocessing backend, and the alias may be removed in some future version of Caiman\n"
     ]
    },
    {
     "name": "stdout",
     "output_type": "stream",
     "text": [
      "performing CNMF\n",
      "fitting images\n",
      "refitting\n",
      "performing eval\n",
      "Running 3b9e8974-9d74-4f69-9370-ae731296203c with local backend\n",
      "************************************************************************\n",
      "\n",
      "Starting CNMF item:\n",
      "algo                                                                                                                                   cnmf\n",
      "item_name                                                                                                                            cnmf_1\n",
      "input_movie_path    b32f41bf-a9a5-4965-be7c-e6779e854328\\b32f41bf-a9a5-4965-be7c-e6779e854328-extracted_plane_1_els__d1_583_d2_536_d3_1_...\n",
      "params              {'main': {'fr': 9.62, 'dxy': (1.0, 1.0), 'decay_time': 0.4, 'strides': (48, 48), 'overlaps': (24, 24), 'max_shifts':...\n",
      "outputs                                                                                                                                None\n",
      "added_time                                                                                                              2024-09-30T14:36:58\n",
      "ran_time                                                                                                                               None\n",
      "algo_duration                                                                                                                          None\n",
      "comments                                                                                                                               None\n",
      "uuid                                                                                                   3b9e8974-9d74-4f69-9370-ae731296203c\n",
      "Name: 12, dtype: object\n",
      "With params:{'main': {'fr': 9.62, 'dxy': (1.0, 1.0), 'decay_time': 0.4, 'strides': (48, 48), 'overlaps': (24, 24), 'max_shifts': (6, 6), 'max_deviation_rigid': 3, 'pw_rigid': True, 'p': 2, 'nb': 1, 'rf': 40, 'K': 40, 'gSig': (6, 6), 'gSiz': None, 'stride': 10, 'method_init': 'greedy_roi', 'rolling_sum': True, 'use_cnn': False, 'ssub': 1, 'tsub': 1, 'merge_thr': 0.95, 'bas_nonneg': True, 'min_SNR': 1.4, 'rval_thr': 0.8}, 'refit': True}\n"
     ]
    },
    {
     "name": "stderr",
     "output_type": "stream",
     "text": [
      "     1318943 [cluster.py:setup_cluster():225] [24368] The local backend is an alias for the multiprocessing backend, and the alias may be removed in some future version of Caiman\n",
      "     1318943 [cluster.py:setup_cluster():225] [24368] The local backend is an alias for the multiprocessing backend, and the alias may be removed in some future version of Caiman\n",
      "     1319048 [params.py:change_params():1151] [24368] In setting CNMFParams, non-pathed parameters were used; this is deprecated. In some future version of Caiman, allow_legacy will default to False (and eventually will be removed)\n",
      "     1319048 [params.py:change_params():1151] [24368] In setting CNMFParams, non-pathed parameters were used; this is deprecated. In some future version of Caiman, allow_legacy will default to False (and eventually will be removed)\n"
     ]
    },
    {
     "name": "stdout",
     "output_type": "stream",
     "text": [
      "making memmap\n"
     ]
    },
    {
     "name": "stderr",
     "output_type": "stream",
     "text": [
      "     1329425 [cluster.py:setup_cluster():225] [24368] The local backend is an alias for the multiprocessing backend, and the alias may be removed in some future version of Caiman\n",
      "     1329425 [cluster.py:setup_cluster():225] [24368] The local backend is an alias for the multiprocessing backend, and the alias may be removed in some future version of Caiman\n"
     ]
    },
    {
     "name": "stdout",
     "output_type": "stream",
     "text": [
      "performing CNMF\n",
      "fitting images\n",
      "refitting\n",
      "performing eval\n",
      "Running 705e6404-a883-4a19-9162-53a29aa62132 with local backend\n",
      "************************************************************************\n",
      "\n",
      "Starting CNMF item:\n",
      "algo                                                                                                                                   cnmf\n",
      "item_name                                                                                                                            cnmf_1\n",
      "input_movie_path    b32f41bf-a9a5-4965-be7c-e6779e854328\\b32f41bf-a9a5-4965-be7c-e6779e854328-extracted_plane_1_els__d1_583_d2_536_d3_1_...\n",
      "params              {'main': {'fr': 9.62, 'dxy': (1.0, 1.0), 'decay_time': 0.4, 'strides': (48, 48), 'overlaps': (24, 24), 'max_shifts':...\n",
      "outputs                                                                                                                                None\n",
      "added_time                                                                                                              2024-09-30T14:36:58\n",
      "ran_time                                                                                                                               None\n",
      "algo_duration                                                                                                                          None\n",
      "comments                                                                                                                               None\n",
      "uuid                                                                                                   705e6404-a883-4a19-9162-53a29aa62132\n",
      "Name: 13, dtype: object\n",
      "With params:{'main': {'fr': 9.62, 'dxy': (1.0, 1.0), 'decay_time': 0.4, 'strides': (48, 48), 'overlaps': (24, 24), 'max_shifts': (6, 6), 'max_deviation_rigid': 3, 'pw_rigid': True, 'p': 2, 'nb': 1, 'rf': 40, 'K': 60, 'gSig': (6, 6), 'gSiz': None, 'stride': 10, 'method_init': 'greedy_roi', 'rolling_sum': True, 'use_cnn': False, 'ssub': 1, 'tsub': 1, 'merge_thr': 0.7, 'bas_nonneg': True, 'min_SNR': 1.4, 'rval_thr': 0.7}, 'refit': True}\n"
     ]
    },
    {
     "name": "stderr",
     "output_type": "stream",
     "text": [
      "     1496288 [cluster.py:setup_cluster():225] [24368] The local backend is an alias for the multiprocessing backend, and the alias may be removed in some future version of Caiman\n",
      "     1496288 [cluster.py:setup_cluster():225] [24368] The local backend is an alias for the multiprocessing backend, and the alias may be removed in some future version of Caiman\n",
      "     1496392 [params.py:change_params():1151] [24368] In setting CNMFParams, non-pathed parameters were used; this is deprecated. In some future version of Caiman, allow_legacy will default to False (and eventually will be removed)\n",
      "     1496392 [params.py:change_params():1151] [24368] In setting CNMFParams, non-pathed parameters were used; this is deprecated. In some future version of Caiman, allow_legacy will default to False (and eventually will be removed)\n"
     ]
    },
    {
     "name": "stdout",
     "output_type": "stream",
     "text": [
      "making memmap\n"
     ]
    },
    {
     "name": "stderr",
     "output_type": "stream",
     "text": [
      "     1506418 [cluster.py:setup_cluster():225] [24368] The local backend is an alias for the multiprocessing backend, and the alias may be removed in some future version of Caiman\n",
      "     1506418 [cluster.py:setup_cluster():225] [24368] The local backend is an alias for the multiprocessing backend, and the alias may be removed in some future version of Caiman\n"
     ]
    },
    {
     "name": "stdout",
     "output_type": "stream",
     "text": [
      "performing CNMF\n",
      "fitting images\n",
      "refitting\n",
      "performing eval\n",
      "Running 8bed5bd7-9261-46bb-bc17-091241f3b414 with local backend\n",
      "************************************************************************\n",
      "\n",
      "Starting CNMF item:\n",
      "algo                                                                                                                                   cnmf\n",
      "item_name                                                                                                                            cnmf_1\n",
      "input_movie_path    b32f41bf-a9a5-4965-be7c-e6779e854328\\b32f41bf-a9a5-4965-be7c-e6779e854328-extracted_plane_1_els__d1_583_d2_536_d3_1_...\n",
      "params              {'main': {'fr': 9.62, 'dxy': (1.0, 1.0), 'decay_time': 0.4, 'strides': (48, 48), 'overlaps': (24, 24), 'max_shifts':...\n",
      "outputs                                                                                                                                None\n",
      "added_time                                                                                                              2024-09-30T14:36:58\n",
      "ran_time                                                                                                                               None\n",
      "algo_duration                                                                                                                          None\n",
      "comments                                                                                                                               None\n",
      "uuid                                                                                                   8bed5bd7-9261-46bb-bc17-091241f3b414\n",
      "Name: 14, dtype: object\n",
      "With params:{'main': {'fr': 9.62, 'dxy': (1.0, 1.0), 'decay_time': 0.4, 'strides': (48, 48), 'overlaps': (24, 24), 'max_shifts': (6, 6), 'max_deviation_rigid': 3, 'pw_rigid': True, 'p': 2, 'nb': 1, 'rf': 40, 'K': 60, 'gSig': (6, 6), 'gSiz': None, 'stride': 10, 'method_init': 'greedy_roi', 'rolling_sum': True, 'use_cnn': False, 'ssub': 1, 'tsub': 1, 'merge_thr': 0.8, 'bas_nonneg': True, 'min_SNR': 1.4, 'rval_thr': 0.7}, 'refit': True}\n"
     ]
    },
    {
     "name": "stderr",
     "output_type": "stream",
     "text": [
      "     1706140 [cluster.py:setup_cluster():225] [24368] The local backend is an alias for the multiprocessing backend, and the alias may be removed in some future version of Caiman\n",
      "     1706140 [cluster.py:setup_cluster():225] [24368] The local backend is an alias for the multiprocessing backend, and the alias may be removed in some future version of Caiman\n",
      "     1706238 [params.py:change_params():1151] [24368] In setting CNMFParams, non-pathed parameters were used; this is deprecated. In some future version of Caiman, allow_legacy will default to False (and eventually will be removed)\n",
      "     1706238 [params.py:change_params():1151] [24368] In setting CNMFParams, non-pathed parameters were used; this is deprecated. In some future version of Caiman, allow_legacy will default to False (and eventually will be removed)\n"
     ]
    },
    {
     "name": "stdout",
     "output_type": "stream",
     "text": [
      "making memmap\n"
     ]
    },
    {
     "name": "stderr",
     "output_type": "stream",
     "text": [
      "     1716351 [cluster.py:setup_cluster():225] [24368] The local backend is an alias for the multiprocessing backend, and the alias may be removed in some future version of Caiman\n",
      "     1716351 [cluster.py:setup_cluster():225] [24368] The local backend is an alias for the multiprocessing backend, and the alias may be removed in some future version of Caiman\n"
     ]
    },
    {
     "name": "stdout",
     "output_type": "stream",
     "text": [
      "performing CNMF\n",
      "fitting images\n",
      "refitting\n",
      "performing eval\n",
      "Running 4cf62c5c-ed76-40ee-bf5c-6ed878aa924b with local backend\n",
      "************************************************************************\n",
      "\n",
      "Starting CNMF item:\n",
      "algo                                                                                                                                   cnmf\n",
      "item_name                                                                                                                            cnmf_1\n",
      "input_movie_path    b32f41bf-a9a5-4965-be7c-e6779e854328\\b32f41bf-a9a5-4965-be7c-e6779e854328-extracted_plane_1_els__d1_583_d2_536_d3_1_...\n",
      "params              {'main': {'fr': 9.62, 'dxy': (1.0, 1.0), 'decay_time': 0.4, 'strides': (48, 48), 'overlaps': (24, 24), 'max_shifts':...\n",
      "outputs                                                                                                                                None\n",
      "added_time                                                                                                              2024-09-30T14:36:58\n",
      "ran_time                                                                                                                               None\n",
      "algo_duration                                                                                                                          None\n",
      "comments                                                                                                                               None\n",
      "uuid                                                                                                   4cf62c5c-ed76-40ee-bf5c-6ed878aa924b\n",
      "Name: 15, dtype: object\n",
      "With params:{'main': {'fr': 9.62, 'dxy': (1.0, 1.0), 'decay_time': 0.4, 'strides': (48, 48), 'overlaps': (24, 24), 'max_shifts': (6, 6), 'max_deviation_rigid': 3, 'pw_rigid': True, 'p': 2, 'nb': 1, 'rf': 40, 'K': 60, 'gSig': (6, 6), 'gSiz': None, 'stride': 10, 'method_init': 'greedy_roi', 'rolling_sum': True, 'use_cnn': False, 'ssub': 1, 'tsub': 1, 'merge_thr': 0.95, 'bas_nonneg': True, 'min_SNR': 1.4, 'rval_thr': 0.7}, 'refit': True}\n"
     ]
    },
    {
     "name": "stderr",
     "output_type": "stream",
     "text": [
      "     1940211 [cluster.py:setup_cluster():225] [24368] The local backend is an alias for the multiprocessing backend, and the alias may be removed in some future version of Caiman\n",
      "     1940211 [cluster.py:setup_cluster():225] [24368] The local backend is an alias for the multiprocessing backend, and the alias may be removed in some future version of Caiman\n",
      "     1940311 [params.py:change_params():1151] [24368] In setting CNMFParams, non-pathed parameters were used; this is deprecated. In some future version of Caiman, allow_legacy will default to False (and eventually will be removed)\n",
      "     1940311 [params.py:change_params():1151] [24368] In setting CNMFParams, non-pathed parameters were used; this is deprecated. In some future version of Caiman, allow_legacy will default to False (and eventually will be removed)\n"
     ]
    },
    {
     "name": "stdout",
     "output_type": "stream",
     "text": [
      "making memmap\n"
     ]
    },
    {
     "name": "stderr",
     "output_type": "stream",
     "text": [
      "     1950329 [cluster.py:setup_cluster():225] [24368] The local backend is an alias for the multiprocessing backend, and the alias may be removed in some future version of Caiman\n",
      "     1950329 [cluster.py:setup_cluster():225] [24368] The local backend is an alias for the multiprocessing backend, and the alias may be removed in some future version of Caiman\n"
     ]
    },
    {
     "name": "stdout",
     "output_type": "stream",
     "text": [
      "performing CNMF\n",
      "fitting images\n",
      "refitting\n",
      "performing eval\n",
      "Running d46488b0-5e55-4e4f-84dc-9bb14dc9db17 with local backend\n",
      "************************************************************************\n",
      "\n",
      "Starting CNMF item:\n",
      "algo                                                                                                                                   cnmf\n",
      "item_name                                                                                                                            cnmf_1\n",
      "input_movie_path    b32f41bf-a9a5-4965-be7c-e6779e854328\\b32f41bf-a9a5-4965-be7c-e6779e854328-extracted_plane_1_els__d1_583_d2_536_d3_1_...\n",
      "params              {'main': {'fr': 9.62, 'dxy': (1.0, 1.0), 'decay_time': 0.4, 'strides': (48, 48), 'overlaps': (24, 24), 'max_shifts':...\n",
      "outputs                                                                                                                                None\n",
      "added_time                                                                                                              2024-09-30T14:36:58\n",
      "ran_time                                                                                                                               None\n",
      "algo_duration                                                                                                                          None\n",
      "comments                                                                                                                               None\n",
      "uuid                                                                                                   d46488b0-5e55-4e4f-84dc-9bb14dc9db17\n",
      "Name: 16, dtype: object\n",
      "With params:{'main': {'fr': 9.62, 'dxy': (1.0, 1.0), 'decay_time': 0.4, 'strides': (48, 48), 'overlaps': (24, 24), 'max_shifts': (6, 6), 'max_deviation_rigid': 3, 'pw_rigid': True, 'p': 2, 'nb': 1, 'rf': 40, 'K': 60, 'gSig': (6, 6), 'gSiz': None, 'stride': 10, 'method_init': 'greedy_roi', 'rolling_sum': True, 'use_cnn': False, 'ssub': 1, 'tsub': 1, 'merge_thr': 0.7, 'bas_nonneg': True, 'min_SNR': 1.4, 'rval_thr': 0.8}, 'refit': True}\n"
     ]
    },
    {
     "name": "stderr",
     "output_type": "stream",
     "text": [
      "     2178016 [cluster.py:setup_cluster():225] [24368] The local backend is an alias for the multiprocessing backend, and the alias may be removed in some future version of Caiman\n",
      "     2178016 [cluster.py:setup_cluster():225] [24368] The local backend is an alias for the multiprocessing backend, and the alias may be removed in some future version of Caiman\n",
      "     2178128 [params.py:change_params():1151] [24368] In setting CNMFParams, non-pathed parameters were used; this is deprecated. In some future version of Caiman, allow_legacy will default to False (and eventually will be removed)\n",
      "     2178128 [params.py:change_params():1151] [24368] In setting CNMFParams, non-pathed parameters were used; this is deprecated. In some future version of Caiman, allow_legacy will default to False (and eventually will be removed)\n"
     ]
    },
    {
     "name": "stdout",
     "output_type": "stream",
     "text": [
      "making memmap\n"
     ]
    },
    {
     "name": "stderr",
     "output_type": "stream",
     "text": [
      "     2188239 [cluster.py:setup_cluster():225] [24368] The local backend is an alias for the multiprocessing backend, and the alias may be removed in some future version of Caiman\n",
      "     2188239 [cluster.py:setup_cluster():225] [24368] The local backend is an alias for the multiprocessing backend, and the alias may be removed in some future version of Caiman\n"
     ]
    },
    {
     "name": "stdout",
     "output_type": "stream",
     "text": [
      "performing CNMF\n",
      "fitting images\n",
      "refitting\n",
      "performing eval\n",
      "Running 5158332e-9c9a-4395-8044-70667b0ef869 with local backend\n",
      "************************************************************************\n",
      "\n",
      "Starting CNMF item:\n",
      "algo                                                                                                                                   cnmf\n",
      "item_name                                                                                                                            cnmf_1\n",
      "input_movie_path    b32f41bf-a9a5-4965-be7c-e6779e854328\\b32f41bf-a9a5-4965-be7c-e6779e854328-extracted_plane_1_els__d1_583_d2_536_d3_1_...\n",
      "params              {'main': {'fr': 9.62, 'dxy': (1.0, 1.0), 'decay_time': 0.4, 'strides': (48, 48), 'overlaps': (24, 24), 'max_shifts':...\n",
      "outputs                                                                                                                                None\n",
      "added_time                                                                                                              2024-09-30T14:36:58\n",
      "ran_time                                                                                                                               None\n",
      "algo_duration                                                                                                                          None\n",
      "comments                                                                                                                               None\n",
      "uuid                                                                                                   5158332e-9c9a-4395-8044-70667b0ef869\n",
      "Name: 17, dtype: object\n",
      "With params:{'main': {'fr': 9.62, 'dxy': (1.0, 1.0), 'decay_time': 0.4, 'strides': (48, 48), 'overlaps': (24, 24), 'max_shifts': (6, 6), 'max_deviation_rigid': 3, 'pw_rigid': True, 'p': 2, 'nb': 1, 'rf': 40, 'K': 60, 'gSig': (6, 6), 'gSiz': None, 'stride': 10, 'method_init': 'greedy_roi', 'rolling_sum': True, 'use_cnn': False, 'ssub': 1, 'tsub': 1, 'merge_thr': 0.8, 'bas_nonneg': True, 'min_SNR': 1.4, 'rval_thr': 0.8}, 'refit': True}\n"
     ]
    },
    {
     "name": "stderr",
     "output_type": "stream",
     "text": [
      "     2385181 [cluster.py:setup_cluster():225] [24368] The local backend is an alias for the multiprocessing backend, and the alias may be removed in some future version of Caiman\n",
      "     2385181 [cluster.py:setup_cluster():225] [24368] The local backend is an alias for the multiprocessing backend, and the alias may be removed in some future version of Caiman\n",
      "     2385284 [params.py:change_params():1151] [24368] In setting CNMFParams, non-pathed parameters were used; this is deprecated. In some future version of Caiman, allow_legacy will default to False (and eventually will be removed)\n",
      "     2385284 [params.py:change_params():1151] [24368] In setting CNMFParams, non-pathed parameters were used; this is deprecated. In some future version of Caiman, allow_legacy will default to False (and eventually will be removed)\n"
     ]
    },
    {
     "name": "stdout",
     "output_type": "stream",
     "text": [
      "making memmap\n"
     ]
    },
    {
     "name": "stderr",
     "output_type": "stream",
     "text": [
      "     2395057 [cluster.py:setup_cluster():225] [24368] The local backend is an alias for the multiprocessing backend, and the alias may be removed in some future version of Caiman\n",
      "     2395057 [cluster.py:setup_cluster():225] [24368] The local backend is an alias for the multiprocessing backend, and the alias may be removed in some future version of Caiman\n"
     ]
    },
    {
     "name": "stdout",
     "output_type": "stream",
     "text": [
      "performing CNMF\n",
      "fitting images\n",
      "refitting\n",
      "performing eval\n",
      "Running f2d0cc26-ab86-4b8b-95ff-9aacf40c1c92 with local backend\n",
      "************************************************************************\n",
      "\n",
      "Starting CNMF item:\n",
      "algo                                                                                                                                   cnmf\n",
      "item_name                                                                                                                            cnmf_1\n",
      "input_movie_path    b32f41bf-a9a5-4965-be7c-e6779e854328\\b32f41bf-a9a5-4965-be7c-e6779e854328-extracted_plane_1_els__d1_583_d2_536_d3_1_...\n",
      "params              {'main': {'fr': 9.62, 'dxy': (1.0, 1.0), 'decay_time': 0.4, 'strides': (48, 48), 'overlaps': (24, 24), 'max_shifts':...\n",
      "outputs                                                                                                                                None\n",
      "added_time                                                                                                              2024-09-30T14:36:58\n",
      "ran_time                                                                                                                               None\n",
      "algo_duration                                                                                                                          None\n",
      "comments                                                                                                                               None\n",
      "uuid                                                                                                   f2d0cc26-ab86-4b8b-95ff-9aacf40c1c92\n",
      "Name: 18, dtype: object\n",
      "With params:{'main': {'fr': 9.62, 'dxy': (1.0, 1.0), 'decay_time': 0.4, 'strides': (48, 48), 'overlaps': (24, 24), 'max_shifts': (6, 6), 'max_deviation_rigid': 3, 'pw_rigid': True, 'p': 2, 'nb': 1, 'rf': 40, 'K': 60, 'gSig': (6, 6), 'gSiz': None, 'stride': 10, 'method_init': 'greedy_roi', 'rolling_sum': True, 'use_cnn': False, 'ssub': 1, 'tsub': 1, 'merge_thr': 0.95, 'bas_nonneg': True, 'min_SNR': 1.4, 'rval_thr': 0.8}, 'refit': True}\n"
     ]
    },
    {
     "name": "stderr",
     "output_type": "stream",
     "text": [
      "     2619255 [cluster.py:setup_cluster():225] [24368] The local backend is an alias for the multiprocessing backend, and the alias may be removed in some future version of Caiman\n",
      "     2619255 [cluster.py:setup_cluster():225] [24368] The local backend is an alias for the multiprocessing backend, and the alias may be removed in some future version of Caiman\n",
      "     2619362 [params.py:change_params():1151] [24368] In setting CNMFParams, non-pathed parameters were used; this is deprecated. In some future version of Caiman, allow_legacy will default to False (and eventually will be removed)\n",
      "     2619362 [params.py:change_params():1151] [24368] In setting CNMFParams, non-pathed parameters were used; this is deprecated. In some future version of Caiman, allow_legacy will default to False (and eventually will be removed)\n"
     ]
    },
    {
     "name": "stdout",
     "output_type": "stream",
     "text": [
      "making memmap\n"
     ]
    },
    {
     "name": "stderr",
     "output_type": "stream",
     "text": [
      "     2629477 [cluster.py:setup_cluster():225] [24368] The local backend is an alias for the multiprocessing backend, and the alias may be removed in some future version of Caiman\n",
      "     2629477 [cluster.py:setup_cluster():225] [24368] The local backend is an alias for the multiprocessing backend, and the alias may be removed in some future version of Caiman\n"
     ]
    },
    {
     "name": "stdout",
     "output_type": "stream",
     "text": [
      "performing CNMF\n",
      "fitting images\n",
      "refitting\n",
      "performing eval\n",
      "Running 683f31bc-fdb2-4d27-b860-2fd272e83172 with local backend\n",
      "************************************************************************\n",
      "\n",
      "Starting CNMF item:\n",
      "algo                                                                                                                                   cnmf\n",
      "item_name                                                                                                                            cnmf_1\n",
      "input_movie_path    b32f41bf-a9a5-4965-be7c-e6779e854328\\b32f41bf-a9a5-4965-be7c-e6779e854328-extracted_plane_1_els__d1_583_d2_536_d3_1_...\n",
      "params              {'main': {'fr': 9.62, 'dxy': (1.0, 1.0), 'decay_time': 0.4, 'strides': (48, 48), 'overlaps': (24, 24), 'max_shifts':...\n",
      "outputs                                                                                                                                None\n",
      "added_time                                                                                                              2024-09-30T14:36:58\n",
      "ran_time                                                                                                                               None\n",
      "algo_duration                                                                                                                          None\n",
      "comments                                                                                                                               None\n",
      "uuid                                                                                                   683f31bc-fdb2-4d27-b860-2fd272e83172\n",
      "Name: 19, dtype: object\n",
      "With params:{'main': {'fr': 9.62, 'dxy': (1.0, 1.0), 'decay_time': 0.4, 'strides': (48, 48), 'overlaps': (24, 24), 'max_shifts': (6, 6), 'max_deviation_rigid': 3, 'pw_rigid': True, 'p': 2, 'nb': 1, 'rf': 40, 'K': 80, 'gSig': (6, 6), 'gSiz': None, 'stride': 10, 'method_init': 'greedy_roi', 'rolling_sum': True, 'use_cnn': False, 'ssub': 1, 'tsub': 1, 'merge_thr': 0.7, 'bas_nonneg': True, 'min_SNR': 1.4, 'rval_thr': 0.7}, 'refit': True}\n"
     ]
    },
    {
     "name": "stderr",
     "output_type": "stream",
     "text": [
      "     2858619 [cluster.py:setup_cluster():225] [24368] The local backend is an alias for the multiprocessing backend, and the alias may be removed in some future version of Caiman\n",
      "     2858619 [cluster.py:setup_cluster():225] [24368] The local backend is an alias for the multiprocessing backend, and the alias may be removed in some future version of Caiman\n",
      "     2858717 [params.py:change_params():1151] [24368] In setting CNMFParams, non-pathed parameters were used; this is deprecated. In some future version of Caiman, allow_legacy will default to False (and eventually will be removed)\n",
      "     2858717 [params.py:change_params():1151] [24368] In setting CNMFParams, non-pathed parameters were used; this is deprecated. In some future version of Caiman, allow_legacy will default to False (and eventually will be removed)\n"
     ]
    },
    {
     "name": "stdout",
     "output_type": "stream",
     "text": [
      "making memmap\n"
     ]
    },
    {
     "name": "stderr",
     "output_type": "stream",
     "text": [
      "     2868635 [cluster.py:setup_cluster():225] [24368] The local backend is an alias for the multiprocessing backend, and the alias may be removed in some future version of Caiman\n",
      "     2868635 [cluster.py:setup_cluster():225] [24368] The local backend is an alias for the multiprocessing backend, and the alias may be removed in some future version of Caiman\n"
     ]
    },
    {
     "name": "stdout",
     "output_type": "stream",
     "text": [
      "performing CNMF\n",
      "fitting images\n",
      "refitting\n",
      "performing eval\n",
      "Running 05f36389-5168-47d5-9216-3feabe0a64f3 with local backend\n",
      "************************************************************************\n",
      "\n",
      "Starting CNMF item:\n",
      "algo                                                                                                                                   cnmf\n",
      "item_name                                                                                                                            cnmf_1\n",
      "input_movie_path    b32f41bf-a9a5-4965-be7c-e6779e854328\\b32f41bf-a9a5-4965-be7c-e6779e854328-extracted_plane_1_els__d1_583_d2_536_d3_1_...\n",
      "params              {'main': {'fr': 9.62, 'dxy': (1.0, 1.0), 'decay_time': 0.4, 'strides': (48, 48), 'overlaps': (24, 24), 'max_shifts':...\n",
      "outputs                                                                                                                                None\n",
      "added_time                                                                                                              2024-09-30T14:36:58\n",
      "ran_time                                                                                                                               None\n",
      "algo_duration                                                                                                                          None\n",
      "comments                                                                                                                               None\n",
      "uuid                                                                                                   05f36389-5168-47d5-9216-3feabe0a64f3\n",
      "Name: 20, dtype: object\n",
      "With params:{'main': {'fr': 9.62, 'dxy': (1.0, 1.0), 'decay_time': 0.4, 'strides': (48, 48), 'overlaps': (24, 24), 'max_shifts': (6, 6), 'max_deviation_rigid': 3, 'pw_rigid': True, 'p': 2, 'nb': 1, 'rf': 40, 'K': 80, 'gSig': (6, 6), 'gSiz': None, 'stride': 10, 'method_init': 'greedy_roi', 'rolling_sum': True, 'use_cnn': False, 'ssub': 1, 'tsub': 1, 'merge_thr': 0.8, 'bas_nonneg': True, 'min_SNR': 1.4, 'rval_thr': 0.7}, 'refit': True}\n"
     ]
    },
    {
     "name": "stderr",
     "output_type": "stream",
     "text": [
      "     3131241 [cluster.py:setup_cluster():225] [24368] The local backend is an alias for the multiprocessing backend, and the alias may be removed in some future version of Caiman\n",
      "     3131241 [cluster.py:setup_cluster():225] [24368] The local backend is an alias for the multiprocessing backend, and the alias may be removed in some future version of Caiman\n",
      "     3131341 [params.py:change_params():1151] [24368] In setting CNMFParams, non-pathed parameters were used; this is deprecated. In some future version of Caiman, allow_legacy will default to False (and eventually will be removed)\n",
      "     3131341 [params.py:change_params():1151] [24368] In setting CNMFParams, non-pathed parameters were used; this is deprecated. In some future version of Caiman, allow_legacy will default to False (and eventually will be removed)\n"
     ]
    },
    {
     "name": "stdout",
     "output_type": "stream",
     "text": [
      "making memmap\n"
     ]
    },
    {
     "name": "stderr",
     "output_type": "stream",
     "text": [
      "     3141455 [cluster.py:setup_cluster():225] [24368] The local backend is an alias for the multiprocessing backend, and the alias may be removed in some future version of Caiman\n",
      "     3141455 [cluster.py:setup_cluster():225] [24368] The local backend is an alias for the multiprocessing backend, and the alias may be removed in some future version of Caiman\n"
     ]
    },
    {
     "name": "stdout",
     "output_type": "stream",
     "text": [
      "performing CNMF\n",
      "fitting images\n",
      "refitting\n",
      "performing eval\n",
      "Running 79beadbb-7140-4c23-b914-768a4b5b4a4d with local backend\n",
      "************************************************************************\n",
      "\n",
      "Starting CNMF item:\n",
      "algo                                                                                                                                   cnmf\n",
      "item_name                                                                                                                            cnmf_1\n",
      "input_movie_path    b32f41bf-a9a5-4965-be7c-e6779e854328\\b32f41bf-a9a5-4965-be7c-e6779e854328-extracted_plane_1_els__d1_583_d2_536_d3_1_...\n",
      "params              {'main': {'fr': 9.62, 'dxy': (1.0, 1.0), 'decay_time': 0.4, 'strides': (48, 48), 'overlaps': (24, 24), 'max_shifts':...\n",
      "outputs                                                                                                                                None\n",
      "added_time                                                                                                              2024-09-30T14:36:58\n",
      "ran_time                                                                                                                               None\n",
      "algo_duration                                                                                                                          None\n",
      "comments                                                                                                                               None\n",
      "uuid                                                                                                   79beadbb-7140-4c23-b914-768a4b5b4a4d\n",
      "Name: 21, dtype: object\n",
      "With params:{'main': {'fr': 9.62, 'dxy': (1.0, 1.0), 'decay_time': 0.4, 'strides': (48, 48), 'overlaps': (24, 24), 'max_shifts': (6, 6), 'max_deviation_rigid': 3, 'pw_rigid': True, 'p': 2, 'nb': 1, 'rf': 40, 'K': 80, 'gSig': (6, 6), 'gSiz': None, 'stride': 10, 'method_init': 'greedy_roi', 'rolling_sum': True, 'use_cnn': False, 'ssub': 1, 'tsub': 1, 'merge_thr': 0.95, 'bas_nonneg': True, 'min_SNR': 1.4, 'rval_thr': 0.7}, 'refit': True}\n"
     ]
    },
    {
     "name": "stderr",
     "output_type": "stream",
     "text": [
      "     3422174 [cluster.py:setup_cluster():225] [24368] The local backend is an alias for the multiprocessing backend, and the alias may be removed in some future version of Caiman\n",
      "     3422174 [cluster.py:setup_cluster():225] [24368] The local backend is an alias for the multiprocessing backend, and the alias may be removed in some future version of Caiman\n",
      "     3422275 [params.py:change_params():1151] [24368] In setting CNMFParams, non-pathed parameters were used; this is deprecated. In some future version of Caiman, allow_legacy will default to False (and eventually will be removed)\n",
      "     3422275 [params.py:change_params():1151] [24368] In setting CNMFParams, non-pathed parameters were used; this is deprecated. In some future version of Caiman, allow_legacy will default to False (and eventually will be removed)\n"
     ]
    },
    {
     "name": "stdout",
     "output_type": "stream",
     "text": [
      "making memmap\n"
     ]
    },
    {
     "name": "stderr",
     "output_type": "stream",
     "text": [
      "     3432343 [cluster.py:setup_cluster():225] [24368] The local backend is an alias for the multiprocessing backend, and the alias may be removed in some future version of Caiman\n",
      "     3432343 [cluster.py:setup_cluster():225] [24368] The local backend is an alias for the multiprocessing backend, and the alias may be removed in some future version of Caiman\n"
     ]
    },
    {
     "name": "stdout",
     "output_type": "stream",
     "text": [
      "performing CNMF\n",
      "fitting images\n",
      "refitting\n",
      "performing eval\n",
      "Running 926d6546-12c8-43ac-a033-9a4c97817b31 with local backend\n",
      "************************************************************************\n",
      "\n",
      "Starting CNMF item:\n",
      "algo                                                                                                                                   cnmf\n",
      "item_name                                                                                                                            cnmf_1\n",
      "input_movie_path    b32f41bf-a9a5-4965-be7c-e6779e854328\\b32f41bf-a9a5-4965-be7c-e6779e854328-extracted_plane_1_els__d1_583_d2_536_d3_1_...\n",
      "params              {'main': {'fr': 9.62, 'dxy': (1.0, 1.0), 'decay_time': 0.4, 'strides': (48, 48), 'overlaps': (24, 24), 'max_shifts':...\n",
      "outputs                                                                                                                                None\n",
      "added_time                                                                                                              2024-09-30T14:36:58\n",
      "ran_time                                                                                                                               None\n",
      "algo_duration                                                                                                                          None\n",
      "comments                                                                                                                               None\n",
      "uuid                                                                                                   926d6546-12c8-43ac-a033-9a4c97817b31\n",
      "Name: 22, dtype: object\n",
      "With params:{'main': {'fr': 9.62, 'dxy': (1.0, 1.0), 'decay_time': 0.4, 'strides': (48, 48), 'overlaps': (24, 24), 'max_shifts': (6, 6), 'max_deviation_rigid': 3, 'pw_rigid': True, 'p': 2, 'nb': 1, 'rf': 40, 'K': 80, 'gSig': (6, 6), 'gSiz': None, 'stride': 10, 'method_init': 'greedy_roi', 'rolling_sum': True, 'use_cnn': False, 'ssub': 1, 'tsub': 1, 'merge_thr': 0.7, 'bas_nonneg': True, 'min_SNR': 1.4, 'rval_thr': 0.8}, 'refit': True}\n"
     ]
    },
    {
     "name": "stderr",
     "output_type": "stream",
     "text": [
      "     3731001 [cluster.py:setup_cluster():225] [24368] The local backend is an alias for the multiprocessing backend, and the alias may be removed in some future version of Caiman\n",
      "     3731001 [cluster.py:setup_cluster():225] [24368] The local backend is an alias for the multiprocessing backend, and the alias may be removed in some future version of Caiman\n",
      "     3731105 [params.py:change_params():1151] [24368] In setting CNMFParams, non-pathed parameters were used; this is deprecated. In some future version of Caiman, allow_legacy will default to False (and eventually will be removed)\n",
      "     3731105 [params.py:change_params():1151] [24368] In setting CNMFParams, non-pathed parameters were used; this is deprecated. In some future version of Caiman, allow_legacy will default to False (and eventually will be removed)\n"
     ]
    },
    {
     "name": "stdout",
     "output_type": "stream",
     "text": [
      "making memmap\n"
     ]
    },
    {
     "name": "stderr",
     "output_type": "stream",
     "text": [
      "     3741290 [cluster.py:setup_cluster():225] [24368] The local backend is an alias for the multiprocessing backend, and the alias may be removed in some future version of Caiman\n",
      "     3741290 [cluster.py:setup_cluster():225] [24368] The local backend is an alias for the multiprocessing backend, and the alias may be removed in some future version of Caiman\n"
     ]
    },
    {
     "name": "stdout",
     "output_type": "stream",
     "text": [
      "performing CNMF\n",
      "fitting images\n",
      "refitting\n",
      "performing eval\n",
      "Running e1069d70-5735-47c4-8102-594a1f9f1702 with local backend\n",
      "************************************************************************\n",
      "\n",
      "Starting CNMF item:\n",
      "algo                                                                                                                                   cnmf\n",
      "item_name                                                                                                                            cnmf_1\n",
      "input_movie_path    b32f41bf-a9a5-4965-be7c-e6779e854328\\b32f41bf-a9a5-4965-be7c-e6779e854328-extracted_plane_1_els__d1_583_d2_536_d3_1_...\n",
      "params              {'main': {'fr': 9.62, 'dxy': (1.0, 1.0), 'decay_time': 0.4, 'strides': (48, 48), 'overlaps': (24, 24), 'max_shifts':...\n",
      "outputs                                                                                                                                None\n",
      "added_time                                                                                                              2024-09-30T14:36:58\n",
      "ran_time                                                                                                                               None\n",
      "algo_duration                                                                                                                          None\n",
      "comments                                                                                                                               None\n",
      "uuid                                                                                                   e1069d70-5735-47c4-8102-594a1f9f1702\n",
      "Name: 23, dtype: object\n",
      "With params:{'main': {'fr': 9.62, 'dxy': (1.0, 1.0), 'decay_time': 0.4, 'strides': (48, 48), 'overlaps': (24, 24), 'max_shifts': (6, 6), 'max_deviation_rigid': 3, 'pw_rigid': True, 'p': 2, 'nb': 1, 'rf': 40, 'K': 80, 'gSig': (6, 6), 'gSiz': None, 'stride': 10, 'method_init': 'greedy_roi', 'rolling_sum': True, 'use_cnn': False, 'ssub': 1, 'tsub': 1, 'merge_thr': 0.8, 'bas_nonneg': True, 'min_SNR': 1.4, 'rval_thr': 0.8}, 'refit': True}\n"
     ]
    },
    {
     "name": "stderr",
     "output_type": "stream",
     "text": [
      "     4004548 [cluster.py:setup_cluster():225] [24368] The local backend is an alias for the multiprocessing backend, and the alias may be removed in some future version of Caiman\n",
      "     4004548 [cluster.py:setup_cluster():225] [24368] The local backend is an alias for the multiprocessing backend, and the alias may be removed in some future version of Caiman\n",
      "     4004660 [params.py:change_params():1151] [24368] In setting CNMFParams, non-pathed parameters were used; this is deprecated. In some future version of Caiman, allow_legacy will default to False (and eventually will be removed)\n",
      "     4004660 [params.py:change_params():1151] [24368] In setting CNMFParams, non-pathed parameters were used; this is deprecated. In some future version of Caiman, allow_legacy will default to False (and eventually will be removed)\n"
     ]
    },
    {
     "name": "stdout",
     "output_type": "stream",
     "text": [
      "making memmap\n"
     ]
    },
    {
     "name": "stderr",
     "output_type": "stream",
     "text": [
      "     4014699 [cluster.py:setup_cluster():225] [24368] The local backend is an alias for the multiprocessing backend, and the alias may be removed in some future version of Caiman\n",
      "     4014699 [cluster.py:setup_cluster():225] [24368] The local backend is an alias for the multiprocessing backend, and the alias may be removed in some future version of Caiman\n"
     ]
    },
    {
     "name": "stdout",
     "output_type": "stream",
     "text": [
      "performing CNMF\n",
      "fitting images\n",
      "refitting\n",
      "performing eval\n",
      "Running 4b6a7355-508e-4505-84ed-95ef3db5e81b with local backend\n",
      "************************************************************************\n",
      "\n",
      "Starting CNMF item:\n",
      "algo                                                                                                                                   cnmf\n",
      "item_name                                                                                                                            cnmf_1\n",
      "input_movie_path    b32f41bf-a9a5-4965-be7c-e6779e854328\\b32f41bf-a9a5-4965-be7c-e6779e854328-extracted_plane_1_els__d1_583_d2_536_d3_1_...\n",
      "params              {'main': {'fr': 9.62, 'dxy': (1.0, 1.0), 'decay_time': 0.4, 'strides': (48, 48), 'overlaps': (24, 24), 'max_shifts':...\n",
      "outputs                                                                                                                                None\n",
      "added_time                                                                                                              2024-09-30T14:36:58\n",
      "ran_time                                                                                                                               None\n",
      "algo_duration                                                                                                                          None\n",
      "comments                                                                                                                               None\n",
      "uuid                                                                                                   4b6a7355-508e-4505-84ed-95ef3db5e81b\n",
      "Name: 24, dtype: object\n",
      "With params:{'main': {'fr': 9.62, 'dxy': (1.0, 1.0), 'decay_time': 0.4, 'strides': (48, 48), 'overlaps': (24, 24), 'max_shifts': (6, 6), 'max_deviation_rigid': 3, 'pw_rigid': True, 'p': 2, 'nb': 1, 'rf': 40, 'K': 80, 'gSig': (6, 6), 'gSiz': None, 'stride': 10, 'method_init': 'greedy_roi', 'rolling_sum': True, 'use_cnn': False, 'ssub': 1, 'tsub': 1, 'merge_thr': 0.95, 'bas_nonneg': True, 'min_SNR': 1.4, 'rval_thr': 0.8}, 'refit': True}\n"
     ]
    },
    {
     "name": "stderr",
     "output_type": "stream",
     "text": [
      "     4312881 [cluster.py:setup_cluster():225] [24368] The local backend is an alias for the multiprocessing backend, and the alias may be removed in some future version of Caiman\n",
      "     4312881 [cluster.py:setup_cluster():225] [24368] The local backend is an alias for the multiprocessing backend, and the alias may be removed in some future version of Caiman\n",
      "     4312983 [params.py:change_params():1151] [24368] In setting CNMFParams, non-pathed parameters were used; this is deprecated. In some future version of Caiman, allow_legacy will default to False (and eventually will be removed)\n",
      "     4312983 [params.py:change_params():1151] [24368] In setting CNMFParams, non-pathed parameters were used; this is deprecated. In some future version of Caiman, allow_legacy will default to False (and eventually will be removed)\n"
     ]
    },
    {
     "name": "stdout",
     "output_type": "stream",
     "text": [
      "making memmap\n"
     ]
    },
    {
     "name": "stderr",
     "output_type": "stream",
     "text": [
      "     4323211 [cluster.py:setup_cluster():225] [24368] The local backend is an alias for the multiprocessing backend, and the alias may be removed in some future version of Caiman\n",
      "     4323211 [cluster.py:setup_cluster():225] [24368] The local backend is an alias for the multiprocessing backend, and the alias may be removed in some future version of Caiman\n"
     ]
    },
    {
     "name": "stdout",
     "output_type": "stream",
     "text": [
      "performing CNMF\n",
      "fitting images\n"
     ]
    }
   ],
   "source": [
    "for i, row in df.iterrows():\n",
    "    if row[\"outputs\"] is not None: # item has already been run\n",
    "        continue # skip\n",
    "\n",
    "    process = row.caiman.run()\n",
    "\n",
    "    # on Windows you MUST reload the batch dataframe after every iteration because it uses the `local` backend.\n",
    "    # this is unnecessary on Linux & Mac\n",
    "    # \"DummyProcess\" is used for local backend so this is automatic\n",
    "    if process.__class__.__name__ == \"DummyProcess\":\n",
    "        df = df.caiman.reload_from_disk()"
   ]
  },
  {
   "cell_type": "code",
   "execution_count": 15,
   "id": "8f835b4e",
   "metadata": {},
   "outputs": [
    {
     "data": {
      "text/plain": [
       "[1314,\n",
       " 188,\n",
       " 208,\n",
       " 357,\n",
       " 413,\n",
       " 1783,\n",
       " 1301,\n",
       " 1783,\n",
       " 2372,\n",
       " 1301,\n",
       " 1783,\n",
       " 2372,\n",
       " 1820,\n",
       " 2681,\n",
       " 3639,\n",
       " 1820,\n",
       " 2681,\n",
       " 3639,\n",
       " 2518,\n",
       " 3664,\n",
       " 4941,\n",
       " 2518,\n",
       " 3664]"
      ]
     },
     "execution_count": 15,
     "metadata": {},
     "output_type": "execute_result"
    }
   ],
   "source": [
    "num_neurons = (df.iloc[i].cnmf.get_temporal() for i, row in df.iterrows() if row['algo'] == 'cnmf')\n",
    "[len(x) for x in num_neurons]"
   ]
  },
  {
   "cell_type": "code",
   "execution_count": 49,
   "id": "69dc4120",
   "metadata": {},
   "outputs": [],
   "source": [
    "out = df.iloc[1].cnmf.get_output()\n",
    "Yr = np.mean(df.iloc[0].mcorr.get_output(), axis=0)"
   ]
  },
  {
   "cell_type": "code",
   "execution_count": 56,
   "id": "8dcead15",
   "metadata": {},
   "outputs": [
    {
     "data": {
      "text/plain": [
       "{'border_pix': 0,\n",
       " 'del_duplicates': False,\n",
       " 'in_memory': True,\n",
       " 'low_rank_background': True,\n",
       " 'memory_fact': 1,\n",
       " 'n_processes': 31,\n",
       " 'nb_patch': 1,\n",
       " 'only_init': False,\n",
       " 'p_patch': 0,\n",
       " 'remove_very_bad_comps': False,\n",
       " 'rf': None,\n",
       " 'skip_refinement': False,\n",
       " 'p_ssub': 2,\n",
       " 'stride': 10,\n",
       " 'p_tsub': 2}"
      ]
     },
     "execution_count": 56,
     "metadata": {},
     "output_type": "execute_result"
    }
   ],
   "source": [
    "# calculate stride and overlap from parameters\n",
    "# cnmf_patch_width = out.params.patch['rf']\n",
    "# cnmf_patch_overlap = out.params.patch['stride']\n",
    "\n",
    "out.params.patch"
   ]
  },
  {
   "cell_type": "code",
   "execution_count": null,
   "id": "206c8a66366d84d9",
   "metadata": {},
   "outputs": [],
   "source": [
    "from caiman import load_memmap"
   ]
  },
  {
   "cell_type": "code",
   "execution_count": 1,
   "id": "4ad27fb86cbebebe",
   "metadata": {
    "ExecuteTime": {
     "end_time": "2024-10-01T15:14:39.298026Z",
     "start_time": "2024-10-01T15:14:38.663372Z"
    }
   },
   "outputs": [
    {
     "ename": "NameError",
     "evalue": "name 'load_memmap' is not defined",
     "output_type": "error",
     "traceback": [
      "\u001b[1;31m---------------------------------------------------------------------------\u001b[0m",
      "\u001b[1;31mNameError\u001b[0m                                 Traceback (most recent call last)",
      "Cell \u001b[1;32mIn[1], line 1\u001b[0m\n\u001b[1;32m----> 1\u001b[0m Yr, dims, T \u001b[38;5;241m=\u001b[39m \u001b[43mload_memmap\u001b[49m(\u001b[38;5;28mstr\u001b[39m(df\u001b[38;5;241m.\u001b[39miloc[\u001b[38;5;241m1\u001b[39m]\u001b[38;5;241m.\u001b[39mcnmf\u001b[38;5;241m.\u001b[39mget_m), mode\u001b[38;5;241m=\u001b[39mmode)\n",
      "\u001b[1;31mNameError\u001b[0m: name 'load_memmap' is not defined"
     ]
    }
   ],
   "source": [
    "Yr, dims, T = load_memmap(str(df.iloc[1].cnmf.get_m), mode=mode)"
   ]
  },
  {
   "cell_type": "code",
   "execution_count": null,
   "id": "68257ea7",
   "metadata": {},
   "outputs": [],
   "source": [
    "\n",
    "cnmf_patch_stride = cnmf_patch_width - cnmf_patch_overlap\n",
    "print(f'Patch width: {cnmf_patch_width} , Stride: {cnmf_patch_stride}, Overlap: {cnmf_patch_overlap}');\n"
   ]
  },
  {
   "cell_type": "code",
   "execution_count": 50,
   "id": "f8ae4b1d",
   "metadata": {},
   "outputs": [
    {
     "data": {
      "text/plain": [
       "(583, 536)"
      ]
     },
     "execution_count": 50,
     "metadata": {},
     "output_type": "execute_result"
    }
   ],
   "source": [
    "Yr.shape"
   ]
  },
  {
   "cell_type": "code",
   "execution_count": 34,
   "id": "329af6b5",
   "metadata": {},
   "outputs": [
    {
     "data": {
      "text/plain": [
       "{'dview': None,\n",
       " 'dims': (583, 536),\n",
       " 'empty_merged': None,\n",
       " 'skip_refinement': False,\n",
       " 'remove_very_bad_comps': False,\n",
       " 'params': CNMFParams:\n",
       " \n",
       " data:\n",
       " \n",
       " {'caiman_version': '1.11.3',\n",
       "  'decay_time': 0.4,\n",
       "  'dims': None,\n",
       "  'dxy': (1.0, 1.0),\n",
       "  'fnames': None,\n",
       "  'fr': 9.62,\n",
       "  'last_commit': 'GITW-7a5f5454580c4ed3e2726178ce4c5fa9306076b5',\n",
       "  'var_name_hdf5': 'mov'}\n",
       " \n",
       " init:\n",
       " \n",
       " {'K': 30,\n",
       "  'SC_kernel': 'heat',\n",
       "  'SC_nnn': 20,\n",
       "  'SC_normalize': True,\n",
       "  'SC_sigma': 1,\n",
       "  'SC_thr': 0,\n",
       "  'SC_use_NN': False,\n",
       "  'alpha_snmf': 0.5,\n",
       "  'center_psf': False,\n",
       "  'gSig': array([6, 6]),\n",
       "  'gSiz': array([13, 13]),\n",
       "  'init_iter': 2,\n",
       "  'kernel': None,\n",
       "  'lambda_gnmf': 1,\n",
       "  'maxIter': 5,\n",
       "  'max_iter_snmf': 500,\n",
       "  'method_init': 'greedy_roi',\n",
       "  'min_corr': 0.85,\n",
       "  'min_pnr': 20,\n",
       "  'nIter': 5,\n",
       "  'nb': 1,\n",
       "  'normalize_init': True,\n",
       "  'options_local_NMF': None,\n",
       "  'perc_baseline_snmf': 20,\n",
       "  'ring_size_factor': 1.5,\n",
       "  'rolling_length': 100,\n",
       "  'rolling_sum': True,\n",
       "  'seed_method': 'auto',\n",
       "  'sigma_smooth_snmf': (0.5, 0.5, 0.5),\n",
       "  'ssub': 1,\n",
       "  'ssub_B': 2,\n",
       "  'tsub': 1}\n",
       " \n",
       " merging:\n",
       " \n",
       " {'do_merge': True, 'merge_parallel': False, 'merge_thr': 0.8}\n",
       " \n",
       " motion:\n",
       " \n",
       " {'border_nan': 'copy',\n",
       "  'gSig_filt': None,\n",
       "  'indices': array([b'slice(None, None, None)', b'slice(None, None, None)'],\n",
       "       dtype='|S32'),\n",
       "  'is3D': False,\n",
       "  'max_deviation_rigid': 3,\n",
       "  'max_shifts': (6, 6),\n",
       "  'min_mov': None,\n",
       "  'niter_rig': 1,\n",
       "  'nonneg_movie': True,\n",
       "  'num_frames_split': 80,\n",
       "  'num_splits_to_process_els': None,\n",
       "  'num_splits_to_process_rig': None,\n",
       "  'overlaps': (24, 24),\n",
       "  'pw_rigid': True,\n",
       "  'shifts_opencv': True,\n",
       "  'splits_els': 14,\n",
       "  'splits_rig': 14,\n",
       "  'strides': (48, 48),\n",
       "  'upsample_factor_grid': 4,\n",
       "  'use_cuda': False}\n",
       " \n",
       " online:\n",
       " \n",
       " {'N_samples_exceptionality': 4,\n",
       "  'W_update_factor': 1,\n",
       "  'batch_update_suff_stat': False,\n",
       "  'dist_shape_update': False,\n",
       "  'ds_factor': 1,\n",
       "  'epochs': 1,\n",
       "  'expected_comps': 500,\n",
       "  'full_XXt': False,\n",
       "  'init_batch': 1730,\n",
       "  'init_method': 'bare',\n",
       "  'iters_shape': 5,\n",
       "  'max_comp_update_shape': inf,\n",
       "  'max_num_added': 5,\n",
       "  'max_shifts_online': 10,\n",
       "  'min_SNR': 1.5,\n",
       "  'min_num_trial': 5,\n",
       "  'minibatch_shape': 100,\n",
       "  'minibatch_suff_stat': 5,\n",
       "  'motion_correct': True,\n",
       "  'movie_name_online': 'online_movie.mp4',\n",
       "  'n_refit': 0,\n",
       "  'normalize': False,\n",
       "  'num_times_comp_updated': inf,\n",
       "  'opencv_codec': 'H264',\n",
       "  'path_to_model': 'C:\\\\Users\\\\RBO\\\\caiman_data\\\\model\\\\cnn_model_online.h5',\n",
       "  'ring_CNN': False,\n",
       "  'rval_thr': 0.8,\n",
       "  'save_online_movie': False,\n",
       "  'show_movie': False,\n",
       "  'simultaneously': False,\n",
       "  'sniper_mode': False,\n",
       "  'stop_detection': False,\n",
       "  'test_both': False,\n",
       "  'thresh_CNN_noisy': 0.5,\n",
       "  'thresh_fitness_delta': -50,\n",
       "  'thresh_fitness_raw': -10.823777603295559,\n",
       "  'thresh_overlap': 0.5,\n",
       "  'update_freq': 200,\n",
       "  'update_num_comps': True,\n",
       "  'use_corr_img': False,\n",
       "  'use_dense': True,\n",
       "  'use_peak_max': True}\n",
       " \n",
       " patch:\n",
       " \n",
       " {'border_pix': 0,\n",
       "  'del_duplicates': False,\n",
       "  'in_memory': True,\n",
       "  'low_rank_background': True,\n",
       "  'memory_fact': 1,\n",
       "  'n_processes': 31,\n",
       "  'nb_patch': 1,\n",
       "  'only_init': False,\n",
       "  'p_patch': 0,\n",
       "  'p_ssub': 2,\n",
       "  'p_tsub': 2,\n",
       "  'remove_very_bad_comps': False,\n",
       "  'rf': None,\n",
       "  'skip_refinement': False,\n",
       "  'stride': 10}\n",
       " \n",
       " preprocess:\n",
       " \n",
       " {'check_nan': True,\n",
       "  'compute_g': False,\n",
       "  'include_noise': False,\n",
       "  'lags': 5,\n",
       "  'max_num_samples_fft': 3072,\n",
       "  'n_pixels_per_process': 10080,\n",
       "  'noise_method': 'mean',\n",
       "  'noise_range': array([0.25, 0.5 ]),\n",
       "  'p': 2,\n",
       "  'pixels': None,\n",
       "  'sn': None}\n",
       " \n",
       " ring_CNN:\n",
       " \n",
       " {'loss_fn': 'pct',\n",
       "  'lr': 0.001,\n",
       "  'lr_scheduler': None,\n",
       "  'max_epochs': 100,\n",
       "  'n_channels': 2,\n",
       "  'path_to_model': None,\n",
       "  'patience': 3,\n",
       "  'pct': 0.01,\n",
       "  'remove_activity': False,\n",
       "  'reuse_model': False,\n",
       "  'use_add': False,\n",
       "  'use_bias': False,\n",
       "  'width': 5}\n",
       " \n",
       " quality:\n",
       " \n",
       " {'SNR_lowest': 0.5,\n",
       "  'cnn_lowest': 0.1,\n",
       "  'gSig_range': None,\n",
       "  'max_ecc': 3,\n",
       "  'min_SNR': 1.5,\n",
       "  'min_cnn_thr': 0.9,\n",
       "  'rval_lowest': -1,\n",
       "  'rval_thr': 0.8,\n",
       "  'use_cnn': False,\n",
       "  'use_ecc': False}\n",
       " \n",
       " spatial:\n",
       " \n",
       " {'dist': 3,\n",
       "  'expandCore': array([[0, 0, 1, 0, 0],\n",
       "        [0, 1, 1, 1, 0],\n",
       "        [1, 1, 1, 1, 1],\n",
       "        [0, 1, 1, 1, 0],\n",
       "        [0, 0, 1, 0, 0]]),\n",
       "  'extract_cc': True,\n",
       "  'maxthr': 0.1,\n",
       "  'medw': None,\n",
       "  'method_exp': 'dilate',\n",
       "  'method_ls': 'lasso_lars',\n",
       "  'n_pixels_per_process': 10080,\n",
       "  'nb': 1,\n",
       "  'normalize_yyt_one': True,\n",
       "  'nrgthr': 0.9999,\n",
       "  'num_blocks_per_run_spat': 20,\n",
       "  'se': None,\n",
       "  'ss': None,\n",
       "  'thr_method': 'nrg',\n",
       "  'update_background_components': True}\n",
       " \n",
       " temporal:\n",
       " \n",
       " {'ITER': 2,\n",
       "  'bas_nonneg': True,\n",
       "  'block_size_temp': 5000,\n",
       "  'fudge_factor': 0.96,\n",
       "  'lags': 5,\n",
       "  'method_deconvolution': 'oasis',\n",
       "  'nb': 1,\n",
       "  'noise_method': 'mean',\n",
       "  'noise_range': array([0.25, 0.5 ]),\n",
       "  'num_blocks_per_run_temp': 20,\n",
       "  'optimize_g': False,\n",
       "  'p': 2,\n",
       "  's_min': None,\n",
       "  'solvers': array([b'ECOS', b'SCS'], dtype='|S4'),\n",
       "  'verbosity': False},\n",
       " 'estimates': <caiman.source_extraction.cnmf.estimates.Estimates at 0x1bccdb04c10>,\n",
       " 'mmap_file': 'C:\\\\Users\\\\RBO\\\\caiman_data\\\\temp\\\\a057e39e-a2df-41d3-8217-83c9cd7ffb6d_cnmf-memmap_d1_583_d2_536_d3_1_order_C_frames_1730.mmap'}"
      ]
     },
     "execution_count": 34,
     "metadata": {},
     "output_type": "execute_result"
    }
   ],
   "source": [
    "out.__dict__"
   ]
  },
  {
   "cell_type": "code",
   "execution_count": 22,
   "id": "1561814c",
   "metadata": {},
   "outputs": [
    {
     "data": {
      "text/plain": [
       "{'A': <Compressed Sparse Column sparse matrix of dtype 'float64'\n",
       " \twith 579349 stored elements and shape (312488, 1314)>,\n",
       " 'C': array([[4472.99026926, 4365.36562107, 5595.72108568, ...,  141.40027243,\n",
       "          118.57100293,   99.42755056],\n",
       "        [   0.        ,    0.        , 4173.34844444, ..., 5099.3493474 ,\n",
       "         4463.27577524, 4795.07249115],\n",
       "        [3965.71293389, 3597.13128374, 4034.38615671, ..., 1936.96977384,\n",
       "         1656.27008831, 2960.56356587],\n",
       "        ...,\n",
       "        [   0.        ,    0.        ,    0.        , ..., 1282.99838309,\n",
       "          993.56003989,  769.09202546],\n",
       "        [   0.        ,    0.        ,    0.        , ...,  110.29273966,\n",
       "           89.63924066,   72.85333097],\n",
       "        [   0.        ,    0.        ,    0.        , ..., 7417.69580277,\n",
       "         6148.52758428, 5755.05429957]]),\n",
       " 'f': array([[2000385.40348365, 1775443.23324557, 1713538.14611211, ...,\n",
       "         1502142.83634028, 1507307.05741546, 1541275.92381877]]),\n",
       " 'b': array([[0.00063404],\n",
       "        [0.00056249],\n",
       "        [0.00058995],\n",
       "        ...,\n",
       "        [0.        ],\n",
       "        [0.        ],\n",
       "        [0.        ]]),\n",
       " 'R': array([[ 1727.6211459 , -1424.30985809,   833.42865084, ...,\n",
       "          2457.12293752,  1824.23293688,  3084.49771196],\n",
       "        [ 8130.79418289,  3690.85421254,  1471.35772766, ...,\n",
       "          1272.92706826,   106.28601052,  2314.53261037],\n",
       "        [ 1638.40579834,  -241.1628387 ,  1652.13915002, ...,\n",
       "          1659.67143843,   298.53997953,  1879.57897458],\n",
       "        ...,\n",
       "        [12345.24446233,  6849.03475497,  5686.63919315, ...,\n",
       "          5222.59784974,  6288.41368417,  -883.94079419],\n",
       "        [19285.59768835, 15867.13968758, 10333.27304391, ...,\n",
       "          6516.92055035,  8480.08892442,  8113.50878388],\n",
       "        [14444.45598263, 12503.71606756, 13229.24817807, ...,\n",
       "          9541.78087223,  4156.59996496,  9563.34072722]]),\n",
       " 'W': None,\n",
       " 'b0': None,\n",
       " 'YrA': array([[ 1727.6211459 , -1424.30985809,   833.42865084, ...,\n",
       "          2457.12293752,  1824.23293688,  3084.49771196],\n",
       "        [ 8130.79418289,  3690.85421254,  1471.35772766, ...,\n",
       "          1272.92706826,   106.28601052,  2314.53261037],\n",
       "        [ 1638.40579834,  -241.1628387 ,  1652.13915002, ...,\n",
       "          1659.67143843,   298.53997953,  1879.57897458],\n",
       "        ...,\n",
       "        [12345.24446233,  6849.03475497,  5686.63919315, ...,\n",
       "          5222.59784974,  6288.41368417,  -883.94079419],\n",
       "        [19285.59768835, 15867.13968758, 10333.27304391, ...,\n",
       "          6516.92055035,  8480.08892442,  8113.50878388],\n",
       "        [14444.45598263, 12503.71606756, 13229.24817807, ...,\n",
       "          9541.78087223,  4156.59996496,  9563.34072722]]),\n",
       " 'S': array([[4472.99026926,    0.        , 1850.7170994 , ...,    0.        ,\n",
       "            0.        ,    0.        ],\n",
       "        [   0.        ,    0.        , 4173.34844444, ..., 2837.25174724,\n",
       "            0.        , 1144.79496069],\n",
       "        [3965.71293389,    0.        , 1025.79571418, ...,  627.09226049,\n",
       "            0.        , 1582.39715593],\n",
       "        ...,\n",
       "        [   0.        ,    0.        ,    0.        , ...,    0.        ,\n",
       "            0.        ,    0.        ],\n",
       "        [   0.        ,    0.        ,    0.        , ...,    0.        ,\n",
       "            0.        ,    0.        ],\n",
       "        [   0.        ,    0.        ,    0.        , ..., 2740.04155514,\n",
       "            0.        ,  927.40096119]]),\n",
       " 'sn': array([ 329.4269104 ,  288.60464478,  312.21618652, ..., 9816.20410156,\n",
       "        9811.28320312, 9822.16796875]),\n",
       " 'g': array([[ 0.97593899, -0.11520851],\n",
       "        [ 0.92679829, -0.09536095],\n",
       "        [ 0.90705791, -0.06410346],\n",
       "        ...,\n",
       "        [ 1.09928643, -0.25184369],\n",
       "        [ 0.9275073 , -0.09327649],\n",
       "        [ 0.90634119, -0.10043691]]),\n",
       " 'bl': array([b'0.0', b'0.0', b'0.0', ..., b'0.0', b'0.0', b'0.0'], dtype='|S32'),\n",
       " 'c1': array([b'4472.990269255704', b'0.0', b'3965.712933886429', ..., b'0.0',\n",
       "        b'0.0', b'0.0'], dtype='|S32'),\n",
       " 'neurons_sn': array([b'2003.7556634463947', b'2592.926421976352', b'1812.437373961289',\n",
       "        ..., b'4945.069746529748', b'6219.890182890308',\n",
       "        b'9001.321357606346'], dtype='|S32'),\n",
       " 'lam': array([b'0.9354873814369524', b'1.2661369498029926',\n",
       "        b'1.0166856047990085', ..., b'0.9518921960295078',\n",
       "        b'1.5572755860686611', b'1.1216093982035575'], dtype='|S32'),\n",
       " 'center': None,\n",
       " 'merged_ROIs': None,\n",
       " 'coordinates': None,\n",
       " 'F_dff': None,\n",
       " 'idx_components': array([   4,    6,   16,   17,   37,   39,   53,   57,   60,   61,   69,\n",
       "          80,   83,   98,  100,  120,  121,  132,  133,  134,  162,  164,\n",
       "         165,  175,  180,  182,  185,  201,  217,  219,  221,  238,  250,\n",
       "         265,  267,  283,  284,  286,  295,  301,  313,  329,  347,  348,\n",
       "         349,  367,  368,  370,  374,  388,  409,  410,  411,  427,  428,\n",
       "         446,  451,  452,  465,  466,  467,  481,  488,  511,  512,  516,\n",
       "         531,  532,  547,  549,  555,  556,  560,  562,  572,  592,  600,\n",
       "         601,  602,  603,  619,  621,  632,  635,  649,  650,  651,  655,\n",
       "         664,  665,  670,  684,  695,  698,  702,  710,  712,  720,  721,\n",
       "         722,  723,  724,  740,  741,  742,  759,  760,  777,  778,  780,\n",
       "         781,  794,  795,  796,  797,  800,  802,  813,  814,  815,  847,\n",
       "         867,  871,  872,  874,  880,  883,  884,  897,  898,  899,  900,\n",
       "         902,  903,  908,  909,  911,  913,  914,  918,  921,  925,  929,\n",
       "         935,  939,  942,  947,  950,  952,  954,  958,  961,  962,  964,\n",
       "         968,  970,  971,  973,  975,  976,  977,  984,  985,  988,  989,\n",
       "         994,  995,  998, 1006, 1007, 1009, 1024, 1037, 1040, 1046, 1054,\n",
       "        1055, 1056, 1057, 1062, 1069, 1071, 1080, 1081, 1082, 1085, 1087,\n",
       "        1089, 1090, 1094, 1095, 1101, 1107, 1108, 1109, 1112, 1113, 1114,\n",
       "        1115, 1116, 1119, 1121, 1122, 1124, 1125, 1128, 1130, 1131, 1134,\n",
       "        1145, 1146, 1147, 1148, 1152, 1157, 1160, 1164, 1175, 1176, 1187,\n",
       "        1188, 1200, 1212, 1222, 1223, 1229, 1244, 1248, 1252, 1257, 1259,\n",
       "        1264, 1265, 1266, 1272, 1278, 1285, 1286, 1301, 1308]),\n",
       " 'idx_components_bad': array([   0,    1,    2, ..., 1311, 1312, 1313]),\n",
       " 'SNR_comp': array([1.29210473, 0.9566602 , 0.88544687, ..., 1.0144841 , 1.10799946,\n",
       "        1.23219687]),\n",
       " 'r_values': array([ 0.61398879,  0.6533914 ,  0.50217689, ...,  0.00712864,\n",
       "         0.74599601, -0.44177269]),\n",
       " 'cnn_preds': array([], dtype=float64),\n",
       " 'ecc': None,\n",
       " 'noisyC': None,\n",
       " 'C_on': None,\n",
       " 'Ab': None,\n",
       " 'Cf': None,\n",
       " 'OASISinstances': None,\n",
       " 'CY': None,\n",
       " 'CC': None,\n",
       " 'Ab_dense': None,\n",
       " 'Yr_buf': None,\n",
       " 'mn': None,\n",
       " 'vr': None,\n",
       " 'ind_new': None,\n",
       " 'rho_buf': None,\n",
       " 'AtA': None,\n",
       " 'AtY_buf': None,\n",
       " 'sv': None,\n",
       " 'groups': None,\n",
       " 'dims': (583, 536),\n",
       " 'shifts': array([], dtype=float64),\n",
       " 'A_thr': None,\n",
       " 'discarded_components': None,\n",
       " 'nr': 1314,\n",
       " 'psx': None}"
      ]
     },
     "execution_count": 22,
     "metadata": {},
     "output_type": "execute_result"
    }
   ],
   "source": [
    "est.__dict__"
   ]
  },
  {
   "cell_type": "code",
   "execution_count": 53,
   "id": "17472d1b",
   "metadata": {},
   "outputs": [
    {
     "ename": "AttributeError",
     "evalue": "'Estimates' object has no attribute 'Y'",
     "output_type": "error",
     "traceback": [
      "\u001b[1;31m---------------------------------------------------------------------------\u001b[0m",
      "\u001b[1;31mAttributeError\u001b[0m                            Traceback (most recent call last)",
      "Cell \u001b[1;32mIn[53], line 1\u001b[0m\n\u001b[1;32m----> 1\u001b[0m \u001b[43mest\u001b[49m\u001b[38;5;241;43m.\u001b[39;49m\u001b[43mY\u001b[49m\n",
      "\u001b[1;31mAttributeError\u001b[0m: 'Estimates' object has no attribute 'Y'"
     ]
    }
   ],
   "source": [
    "est.Y"
   ]
  },
  {
   "cell_type": "code",
   "execution_count": 51,
   "id": "8a28a0fe",
   "metadata": {},
   "outputs": [
    {
     "ename": "ValueError",
     "evalue": "dimension mismatch",
     "output_type": "error",
     "traceback": [
      "\u001b[1;31m---------------------------------------------------------------------------\u001b[0m",
      "\u001b[1;31mValueError\u001b[0m                                Traceback (most recent call last)",
      "Cell \u001b[1;32mIn[51], line 1\u001b[0m\n\u001b[1;32m----> 1\u001b[0m \u001b[43mcm\u001b[49m\u001b[38;5;241;43m.\u001b[39;49m\u001b[43mutils\u001b[49m\u001b[38;5;241;43m.\u001b[39;49m\u001b[43mvisualization\u001b[49m\u001b[38;5;241;43m.\u001b[39;49m\u001b[43mhv_view_patches\u001b[49m\u001b[43m(\u001b[49m\u001b[43mYr\u001b[49m\u001b[43m,\u001b[49m\u001b[43m \u001b[49m\u001b[43mest\u001b[49m\u001b[38;5;241;43m.\u001b[39;49m\u001b[43mA\u001b[49m\u001b[43m,\u001b[49m\u001b[43m \u001b[49m\u001b[43mest\u001b[49m\u001b[38;5;241;43m.\u001b[39;49m\u001b[43mC\u001b[49m\u001b[43m,\u001b[49m\u001b[43m \u001b[49m\u001b[43mest\u001b[49m\u001b[38;5;241;43m.\u001b[39;49m\u001b[43mb\u001b[49m\u001b[43m,\u001b[49m\u001b[43m \u001b[49m\u001b[43mest\u001b[49m\u001b[38;5;241;43m.\u001b[39;49m\u001b[43mf\u001b[49m\u001b[43m,\u001b[49m\u001b[43m \u001b[49m\u001b[43mout\u001b[49m\u001b[38;5;241;43m.\u001b[39;49m\u001b[43mdims\u001b[49m\u001b[43m[\u001b[49m\u001b[38;5;241;43m0\u001b[39;49m\u001b[43m]\u001b[49m\u001b[43m,\u001b[49m\u001b[43m \u001b[49m\u001b[43mout\u001b[49m\u001b[38;5;241;43m.\u001b[39;49m\u001b[43mdims\u001b[49m\u001b[43m[\u001b[49m\u001b[38;5;241;43m1\u001b[39;49m\u001b[43m]\u001b[49m\u001b[43m)\u001b[49m\n",
      "File \u001b[1;32mc:\\Users\\RBO\\anaconda3\\envs\\mescore\\lib\\site-packages\\caiman\\utils\\visualization.py:324\u001b[0m, in \u001b[0;36mhv_view_patches\u001b[1;34m(Yr, A, C, b, f, d1, d2, YrA, image_neurons, denoised_color, cmap, r_values, SNR, cnn_preds)\u001b[0m\n\u001b[0;32m    320\u001b[0m f \u001b[38;5;241m=\u001b[39m np\u001b[38;5;241m.\u001b[39msqueeze(f)\n\u001b[0;32m    321\u001b[0m \u001b[38;5;28;01mif\u001b[39;00m YrA \u001b[38;5;129;01mis\u001b[39;00m \u001b[38;5;28;01mNone\u001b[39;00m:\n\u001b[0;32m    322\u001b[0m     Y_r \u001b[38;5;241m=\u001b[39m np\u001b[38;5;241m.\u001b[39marray(\n\u001b[0;32m    323\u001b[0m         spdiags(\u001b[38;5;241m1\u001b[39m \u001b[38;5;241m/\u001b[39m nA2, \u001b[38;5;241m0\u001b[39m, nr, nr) \u001b[38;5;241m*\u001b[39m\n\u001b[1;32m--> 324\u001b[0m         (\u001b[43mA\u001b[49m\u001b[38;5;241;43m.\u001b[39;49m\u001b[43mT\u001b[49m\u001b[43m \u001b[49m\u001b[38;5;241;43m*\u001b[39;49m\u001b[43m \u001b[49m\u001b[43mnp\u001b[49m\u001b[38;5;241;43m.\u001b[39;49m\u001b[43mmatrix\u001b[49m\u001b[43m(\u001b[49m\u001b[43mYr\u001b[49m\u001b[43m)\u001b[49m \u001b[38;5;241m-\u001b[39m\n\u001b[0;32m    325\u001b[0m          (A\u001b[38;5;241m.\u001b[39mT \u001b[38;5;241m*\u001b[39m np\u001b[38;5;241m.\u001b[39mmatrix(b[:, np\u001b[38;5;241m.\u001b[39mnewaxis])) \u001b[38;5;241m*\u001b[39m np\u001b[38;5;241m.\u001b[39mmatrix(f[np\u001b[38;5;241m.\u001b[39mnewaxis]) \u001b[38;5;241m-\u001b[39m\n\u001b[0;32m    326\u001b[0m          A\u001b[38;5;241m.\u001b[39mT\u001b[38;5;241m.\u001b[39mdot(A) \u001b[38;5;241m*\u001b[39m np\u001b[38;5;241m.\u001b[39mmatrix(C)) \u001b[38;5;241m+\u001b[39m C)\n\u001b[0;32m    327\u001b[0m \u001b[38;5;28;01melse\u001b[39;00m:\n\u001b[0;32m    328\u001b[0m     Y_r \u001b[38;5;241m=\u001b[39m C \u001b[38;5;241m+\u001b[39m YrA\n",
      "File \u001b[1;32mc:\\Users\\RBO\\anaconda3\\envs\\mescore\\lib\\site-packages\\scipy\\sparse\\_matrix.py:44\u001b[0m, in \u001b[0;36mspmatrix.__mul__\u001b[1;34m(self, other)\u001b[0m\n\u001b[0;32m     43\u001b[0m \u001b[38;5;28;01mdef\u001b[39;00m \u001b[38;5;21m__mul__\u001b[39m(\u001b[38;5;28mself\u001b[39m, other):\n\u001b[1;32m---> 44\u001b[0m     \u001b[38;5;28;01mreturn\u001b[39;00m \u001b[38;5;28;43mself\u001b[39;49m\u001b[38;5;241;43m.\u001b[39;49m\u001b[43m_matmul_dispatch\u001b[49m\u001b[43m(\u001b[49m\u001b[43mother\u001b[49m\u001b[43m)\u001b[49m\n",
      "File \u001b[1;32mc:\\Users\\RBO\\anaconda3\\envs\\mescore\\lib\\site-packages\\scipy\\sparse\\_base.py:616\u001b[0m, in \u001b[0;36m_spbase._matmul_dispatch\u001b[1;34m(self, other)\u001b[0m\n\u001b[0;32m    611\u001b[0m \u001b[38;5;28;01melif\u001b[39;00m other\u001b[38;5;241m.\u001b[39mndim \u001b[38;5;241m==\u001b[39m \u001b[38;5;241m2\u001b[39m:\n\u001b[0;32m    612\u001b[0m     \u001b[38;5;66;03m##\u001b[39;00m\n\u001b[0;32m    613\u001b[0m     \u001b[38;5;66;03m# dense 2D array or matrix (\"multivector\")\u001b[39;00m\n\u001b[0;32m    615\u001b[0m     \u001b[38;5;28;01mif\u001b[39;00m other\u001b[38;5;241m.\u001b[39mshape[\u001b[38;5;241m0\u001b[39m] \u001b[38;5;241m!=\u001b[39m N:\n\u001b[1;32m--> 616\u001b[0m         \u001b[38;5;28;01mraise\u001b[39;00m \u001b[38;5;167;01mValueError\u001b[39;00m(\u001b[38;5;124m'\u001b[39m\u001b[38;5;124mdimension mismatch\u001b[39m\u001b[38;5;124m'\u001b[39m)\n\u001b[0;32m    618\u001b[0m     result \u001b[38;5;241m=\u001b[39m \u001b[38;5;28mself\u001b[39m\u001b[38;5;241m.\u001b[39m_matmul_multivector(np\u001b[38;5;241m.\u001b[39masarray(other))\n\u001b[0;32m    620\u001b[0m     \u001b[38;5;28;01mif\u001b[39;00m \u001b[38;5;28misinstance\u001b[39m(other, np\u001b[38;5;241m.\u001b[39mmatrix):\n",
      "\u001b[1;31mValueError\u001b[0m: dimension mismatch"
     ]
    }
   ],
   "source": [
    "cm.utils.visualization.hv_view_patches(Yr, est.A, est.C, est.b, est.f, out.dims[0], out.dims[1], YrA)"
   ]
  }
 ],
 "metadata": {
  "kernelspec": {
   "display_name": "lcp",
   "language": "python",
   "name": "python3"
  },
  "language_info": {
   "codemirror_mode": {
    "name": "ipython",
    "version": 3
   },
   "file_extension": ".py",
   "mimetype": "text/x-python",
   "name": "python",
   "nbconvert_exporter": "python",
   "pygments_lexer": "ipython3",
   "version": "3.10.8"
  }
 },
 "nbformat": 4,
 "nbformat_minor": 5
}
