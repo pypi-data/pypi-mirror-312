{
 "cells": [
  {
   "cell_type": "markdown",
   "id": "1acf6f61-df5e-4cb0-ad1b-ae0de9a13025",
   "metadata": {
    "tags": []
   },
   "source": [
    "# Creating a Mock Galaxy Catalog With Alignment"
   ]
  },
  {
   "cell_type": "markdown",
   "id": "08d209c4-4be9-45f1-bf27-6cc65c8b46db",
   "metadata": {},
   "source": [
    "Here we show how to create an HOD model that has alignment information using halotools built-in catalogs"
   ]
  },
  {
   "cell_type": "code",
   "execution_count": 1,
   "id": "c57696c8-7324-4ea9-9964-64db2397ca84",
   "metadata": {},
   "outputs": [],
   "source": [
    "# The imports shown here are the most basic needed\n",
    "# Extra imports for using the SubhaloAlignment component and for using IA strength models are given below in their respective subsections\n",
    "import numpy as np\n",
    "from halotools.empirical_models import HodModelFactory\n",
    "from halotools.empirical_models import TrivialPhaseSpace, SubhaloPhaseSpace, Zheng07Cens, Zheng07Sats\n",
    "from halotools.empirical_models.ia_models.ia_model_components import CentralAlignment, RadialSatelliteAlignment, SubhaloAlignment\n",
    "\n",
    "from halotools.sim_manager import CachedHaloCatalog"
   ]
  },
  {
   "cell_type": "markdown",
   "id": "0dbee27d-fcd0-4c6e-9178-1d525a127b77",
   "metadata": {},
   "source": [
    "The following masking function is just my personal way of ignoring halos without axis values"
   ]
  },
  {
   "cell_type": "code",
   "execution_count": 2,
   "id": "4a559519-f3bb-4fe1-b6fd-797701607a49",
   "metadata": {},
   "outputs": [],
   "source": [
    "# Eliminate halos with 0 for halo_axisA_x(,y,z)\n",
    "def mask_bad_halocat(halocat):\n",
    "    bad_mask = (halocat.halo_table[\"halo_axisA_x\"] == 0) & (halocat.halo_table[\"halo_axisA_y\"] == 0) & (halocat.halo_table[\"halo_axisA_z\"] == 0)\n",
    "    halocat._halo_table = halocat.halo_table[ ~bad_mask ]"
   ]
  },
  {
   "cell_type": "markdown",
   "id": "089ec6ff-4586-4861-a728-7888b0bc9287",
   "metadata": {},
   "source": [
    "First, read in the cached halo catalog (below).</br>\n",
    "IMPORTANT: Run this line only once during each kernel session (restarting the kernel and running again is fine).</br>\n",
    "If you try to rerun this line with an existing, you will get errors."
   ]
  },
  {
   "cell_type": "code",
   "execution_count": 3,
   "id": "bceee8ac-c0f6-4386-ba10-727af203412d",
   "metadata": {},
   "outputs": [],
   "source": [
    "halocat = CachedHaloCatalog(simname='bolplanck', halo_finder='rockstar', redshift=0, version_name='halotools_v0p4')\n",
    "mask_bad_halocat(halocat)"
   ]
  },
  {
   "cell_type": "markdown",
   "id": "1c674bad-231b-4717-be80-70267b398dec",
   "metadata": {
    "tags": []
   },
   "source": [
    "## Creating a basic (no IA strength model) HOD model with galaxy alignment"
   ]
  },
  {
   "cell_type": "markdown",
   "id": "25306794-490c-499e-a57c-7f1d9a7c67b0",
   "metadata": {},
   "source": [
    "Instantiate the separate model components</br>\n",
    "Normally, halotools will take arguments for occupation and profile models for central and satellite galaxy populations.</br>\n",
    "We have added the ability to pass in alignment model components for each as well"
   ]
  },
  {
   "cell_type": "markdown",
   "id": "11ab42cb-7e38-4977-ad1c-9a8188b8feac",
   "metadata": {
    "jp-MarkdownHeadingCollapsed": true,
    "tags": []
   },
   "source": [
    "### Using a radial satellite alignment model\n",
    "There are different alignment models for the centrals and satellites. Here, we look at the RadialSatellitesAlignment model for the satellite galaxies.</br>\n",
    "This is where the satellite galaxy will align with respect to the radial vector between it and its central galaxy. This model uses the default</br>\n",
    "parameter dictionary (explained in subhalo alignment model section), meaning we don't have to think about it yet."
   ]
  },
  {
   "cell_type": "code",
   "execution_count": 4,
   "id": "c6179375-08ab-4e5c-9569-da3e7ef035ed",
   "metadata": {},
   "outputs": [],
   "source": [
    "# MODELS\n",
    "\n",
    "# Alignment Strengths\n",
    "satellite_alignment = 0.6\n",
    "central_alignment = 0.8\n",
    "\n",
    "# Central galaxy components\n",
    "cens_occ_model = Zheng07Cens()\n",
    "cens_prof_model = TrivialPhaseSpace()\n",
    "cens_orientation_model = CentralAlignment(central_alignment_strength=central_alignment)\n",
    "\n",
    "# Satellite galaxy Components\n",
    "sats_occ_model = Zheng07Sats()\n",
    "prof_args = (\"satellites\", np.logspace(10.5, 15.2, 15))\n",
    "sats_prof_model = SubhaloPhaseSpace(*prof_args)\n",
    "sats_orientation_model = RadialSatelliteAlignment(satellite_alignment_strength=satellite_alignment)"
   ]
  },
  {
   "cell_type": "markdown",
   "id": "7dd22b0e-c421-4e7a-baec-db294b869b1f",
   "metadata": {},
   "source": [
    "When building an HOD model, we pass in these different model components. The order in which we give these is very important.</br>\n",
    "Occupation models must come before the profile, since the number of galaxies must be determined before we can place them. Similarly,</br>\n",
    "the profile must come before the orientation."
   ]
  },
  {
   "cell_type": "code",
   "execution_count": 5,
   "id": "67618dd7-ac15-404e-b738-a85c7cb91e93",
   "metadata": {},
   "outputs": [
    {
     "name": "stderr",
     "output_type": "stream",
     "text": [
      "/media/nvanalfen/T7/Northeastern/Research/my halotools/halotools/halotools/empirical_models/ia_models/ia_model_components.py:190: UserWarning: `central_alignment_strength` not detected in the table, using value in self.param_dict.\n",
      "  warn(msg)\n",
      "/media/nvanalfen/T7/Northeastern/Research/my halotools/halotools/halotools/empirical_models/ia_models/ia_model_components.py:520: UserWarning: `satellite_alignment_strength` key not detected in `table`.The value set in self.param_dict of this class will be used instead.\n",
      "  warn(msg)\n"
     ]
    }
   ],
   "source": [
    "# Initially create the mock with SubhaloAlignment to overwrite the host information with subhalo\n",
    "model_instance = HodModelFactory(centrals_occupation = cens_occ_model,\n",
    "                                     centrals_profile = cens_prof_model,\n",
    "                                     satellites_occupation = sats_occ_model,\n",
    "                                     satellites_profile = sats_prof_model,\n",
    "                                     centrals_orientation = cens_orientation_model,\n",
    "                                     satellites_orientation = sats_orientation_model,\n",
    "                                     model_feature_calling_sequence = (\n",
    "                                     'centrals_occupation',\n",
    "                                     'centrals_profile',\n",
    "                                     'satellites_occupation',\n",
    "                                     'satellites_profile',\n",
    "                                     'centrals_orientation',\n",
    "                                     'satellites_orientation')\n",
    "                                    )\n",
    "\n",
    "#seed=132358712\n",
    "seed=None\n",
    "model_instance.populate_mock(halocat, seed=seed)"
   ]
  },
  {
   "cell_type": "markdown",
   "id": "7403a20d-734b-4900-9afc-27fe6a05e4ee",
   "metadata": {},
   "source": [
    "As easy as that. If we want, we can now view the galaxy table"
   ]
  },
  {
   "cell_type": "code",
   "execution_count": 6,
   "id": "ea347d22-89db-4f24-8e64-4b5d2d1d62cb",
   "metadata": {},
   "outputs": [
    {
     "data": {
      "text/html": [
       "<div><i>Table length=5</i>\n",
       "<table id=\"table139918352145120\" class=\"table-striped table-bordered table-condensed\">\n",
       "<thead><tr><th>halo_upid</th><th>halo_vy</th><th>_subhalo_inheritance_id</th><th>halo_mpeak</th><th>halo_y</th><th>halo_rvir</th><th>halo_axisA_y</th><th>halo_id</th><th>halo_hostid</th><th>halo_vx</th><th>halo_x</th><th>halo_mvir_host_halo_bin_number</th><th>halo_z</th><th>halo_axisA_z</th><th>halo_vz</th><th>halo_mvir_host_halo</th><th>halo_mvir</th><th>halo_axisA_x</th><th>halo_num_centrals</th><th>halo_num_satellites</th><th>gal_type</th><th>vy</th><th>galaxy_axisA_z</th><th>galaxy_axisC_x</th><th>galaxy_axisA_y</th><th>z</th><th>galaxy_axisC_y</th><th>x</th><th>real_subhalo</th><th>galaxy_axisA_x</th><th>vz</th><th>galaxy_axisB_x</th><th>galaxy_axisB_z</th><th>galaxy_axisC_z</th><th>galaxy_axisB_y</th><th>vx</th><th>y</th></tr></thead>\n",
       "<thead><tr><th>int64</th><th>float32</th><th>int64</th><th>float64</th><th>float32</th><th>float32</th><th>float32</th><th>int64</th><th>int64</th><th>float32</th><th>float32</th><th>int64</th><th>float32</th><th>float32</th><th>float32</th><th>float32</th><th>float32</th><th>float32</th><th>int32</th><th>int32</th><th>object</th><th>float32</th><th>float32</th><th>float32</th><th>float32</th><th>float32</th><th>float32</th><th>float32</th><th>bool</th><th>float32</th><th>float32</th><th>float32</th><th>float32</th><th>float32</th><th>float32</th><th>float32</th><th>float32</th></tr></thead>\n",
       "<tr><td>-1</td><td>142.24</td><td>689924</td><td>179099992064.0</td><td>47.75759</td><td>0.114595</td><td>5.49892</td><td>2812753737</td><td>2812753737</td><td>-313.51</td><td>59.33419</td><td>3</td><td>206.11255</td><td>-5.86109</td><td>28.29</td><td>179100000000.0</td><td>179100000000.0</td><td>-3.80638</td><td>1</td><td>0</td><td>centrals</td><td>142.24</td><td>-0.42755228</td><td>0.9862721</td><td>0.90388715</td><td>206.11255</td><td>0.08256559</td><td>59.33419</td><td>False</td><td>-0.013675861</td><td>28.29</td><td>-0.16456094</td><td>0.89260787</td><td>0.1430044</td><td>0.41972718</td><td>-313.51</td><td>47.75759</td></tr>\n",
       "<tr><td>-1</td><td>332.93</td><td>733748</td><td>260000006144.0</td><td>188.50624</td><td>0.121388</td><td>2.75186</td><td>2816927677</td><td>2816927677</td><td>512.41</td><td>144.0893</td><td>3</td><td>155.66914</td><td>2.93946</td><td>171.44</td><td>212900000000.0</td><td>212900000000.0</td><td>6.45063</td><td>1</td><td>0</td><td>centrals</td><td>332.93</td><td>-0.44413498</td><td>0.37484723</td><td>0.17378844</td><td>155.66914</td><td>0.8274911</td><td>144.0893</td><td>False</td><td>-0.8789435</td><td>171.44</td><td>-0.29486918</td><td>0.7924621</td><td>-0.41802868</td><td>0.53390634</td><td>512.41</td><td>188.50624</td></tr>\n",
       "<tr><td>-1</td><td>-19.71</td><td>734685</td><td>213799993344.0</td><td>17.493</td><td>0.121565</td><td>-2.10174</td><td>2810856805</td><td>2810856805</td><td>-10.74</td><td>43.4098</td><td>3</td><td>36.52288</td><td>7.61044</td><td>-308.07</td><td>213800000000.0</td><td>213800000000.0</td><td>0.67711</td><td>1</td><td>0</td><td>centrals</td><td>-19.71</td><td>-0.5077041</td><td>-0.46386406</td><td>0.52843094</td><td>36.52288</td><td>-0.8469444</td><td>43.4098</td><td>False</td><td>-0.68043905</td><td>-308.07</td><td>0.5673031</td><td>-0.8214142</td><td>-0.25983718</td><td>-0.058702294</td><td>-10.74</td><td>17.493</td></tr>\n",
       "<tr><td>-1</td><td>253.17</td><td>754390</td><td>235699994624.0</td><td>188.20416</td><td>0.125185</td><td>6.13927</td><td>2820092494</td><td>2820092494</td><td>-128.43</td><td>200.56201</td><td>3</td><td>153.52306</td><td>-2.91432</td><td>219.06</td><td>233500000000.0</td><td>233500000000.0</td><td>-2.7247</td><td>1</td><td>0</td><td>centrals</td><td>253.17</td><td>0.31779182</td><td>-0.7513775</td><td>0.94769114</td><td>153.52306</td><td>-0.18841346</td><td>200.56201</td><td>False</td><td>0.029831069</td><td>219.06</td><td>-0.6591979</td><td>-0.70645326</td><td>0.6324019</td><td>0.25764686</td><td>-128.43</td><td>188.20416</td></tr>\n",
       "<tr><td>-1</td><td>193.15</td><td>755442</td><td>236000002048.0</td><td>149.3881</td><td>0.125378</td><td>0.07564</td><td>2810092159</td><td>2810092159</td><td>382.7</td><td>22.71359</td><td>3</td><td>69.14876</td><td>6.94361</td><td>-148.26</td><td>234600000000.0</td><td>234600000000.0</td><td>-2.1641</td><td>1</td><td>0</td><td>centrals</td><td>193.15</td><td>0.20515724</td><td>-0.4350715</td><td>-0.65240085</td><td>69.14876</td><td>0.67420805</td><td>22.71359</td><td>False</td><td>-0.7295777</td><td>-148.26</td><td>0.5276639</td><td>0.77572817</td><td>0.59678835</td><td>-0.3461454</td><td>382.7</td><td>149.3881</td></tr>\n",
       "</table></div>"
      ],
      "text/plain": [
       "<Table length=5>\n",
       "halo_upid halo_vy _subhalo_inheritance_id ... galaxy_axisB_y    vx       y    \n",
       "  int64   float32          int64          ...    float32     float32  float32 \n",
       "--------- ------- ----------------------- ... -------------- ------- ---------\n",
       "       -1  142.24                  689924 ...     0.41972718 -313.51  47.75759\n",
       "       -1  332.93                  733748 ...     0.53390634  512.41 188.50624\n",
       "       -1  -19.71                  734685 ...   -0.058702294  -10.74    17.493\n",
       "       -1  253.17                  754390 ...     0.25764686 -128.43 188.20416\n",
       "       -1  193.15                  755442 ...     -0.3461454   382.7  149.3881"
      ]
     },
     "execution_count": 6,
     "metadata": {},
     "output_type": "execute_result"
    }
   ],
   "source": [
    "model_instance.mock.galaxy_table[:5]"
   ]
  },
  {
   "cell_type": "markdown",
   "id": "65119b0e-6ca8-427b-b618-6f8961507e8f",
   "metadata": {},
   "source": [
    "As we see, there are now columns for galaxy_axisA_x (and y, and z). We have successfully incorporated the alignment model component into</br>\n",
    "a halotools HOD model!"
   ]
  },
  {
   "cell_type": "markdown",
   "id": "c814712a-9e30-463c-923f-7f09dd6d8c68",
   "metadata": {
    "tags": []
   },
   "source": [
    "### Using a subhalo alignment model\n",
    "While earlier, we used RadialSatellitesAlignment, here we will use SubhaloAlignment to align the satellites with respect to their own subhalos.</br>\n",
    "As mentioned earlier, we will not be using the default subhalo inheritence dictionary. This means we will need to tell the HOD model to inherit</br>\n",
    "certain extra parameters in the alignment model component.</br></br>\n",
    "\n",
    "To do this, we <strong>MUST</strong> use SubhaloPhaseSpace as our satellite phase space model. Additionally, we must use the proper inherited_subhalo_props_dict</br>\n",
    "for SubhaloAlignment. This dict is in subhalo_phase_space.py (the same file as SubhaloPhaseSpace) and is called alignment_inherited_subhalo_props_dict."
   ]
  },
  {
   "cell_type": "code",
   "execution_count": 7,
   "id": "0868190a-9f4e-4f69-aa8a-fa28ca56b4da",
   "metadata": {},
   "outputs": [],
   "source": [
    "# Import the alignment_inherited_subhalo_props_dict\n",
    "from halotools.empirical_models.phase_space_models.subhalo_based_models.subhalo_phase_space import alignment_inherited_subhalo_props_dict"
   ]
  },
  {
   "cell_type": "markdown",
   "id": "4b62ee4e-700d-45a3-ac14-393e34be98c0",
   "metadata": {},
   "source": [
    "With the proper inheritance dictionary, the following steps are <strong>ALMOST</strong> the exact same as before.</br></br>\n",
    "\n",
    "The important difference being that when we instantiate our sats_prof_model using SubhaloPhaseSpace, in addition to the arguments</br>\n",
    "passed in, we include the keyword argument \"inherited_subhalo_props_dict\" and set it equal to the dictionary we just imported</br></br>\n",
    "\n",
    "Note also that in SubhaloAlignment, we must pass in the halocat. This lets the alignment model component retain access to the full halo catalog,</br>\n",
    "which it uses to help reorient subhalos in the cases where other subhalos have been used in places where they do not truly exist.</br>\n",
    "These instances will also show up in the galaxy_table as False in the \"real_subhalo\" column"
   ]
  },
  {
   "cell_type": "code",
   "execution_count": 8,
   "id": "cecbe18b-e92e-428e-bf7c-4cffcd6b5576",
   "metadata": {},
   "outputs": [],
   "source": [
    "# MODELS\n",
    "\n",
    "# Alignment Strengths\n",
    "satellite_alignment = 0.6\n",
    "central_alignment = 0.8\n",
    "\n",
    "# Central galaxy components\n",
    "cens_occ_model = Zheng07Cens()\n",
    "cens_prof_model = TrivialPhaseSpace()\n",
    "cens_orientation_model = CentralAlignment(central_alignment_strength=central_alignment)\n",
    "\n",
    "# Satellite galaxy Components\n",
    "sats_occ_model = Zheng07Sats()\n",
    "prof_args = (\"satellites\", np.logspace(10.5, 15.2, 15))\n",
    "sats_prof_model = SubhaloPhaseSpace(*prof_args, inherited_subhalo_props_dict=alignment_inherited_subhalo_props_dict)\n",
    "sats_orientation_model = SubhaloAlignment(satellite_alignment_strength=satellite_alignment, halocat=halocat)"
   ]
  },
  {
   "cell_type": "code",
   "execution_count": 9,
   "id": "e98dfefb-1efa-4f97-a1ec-e256b36eddbc",
   "metadata": {},
   "outputs": [
    {
     "name": "stderr",
     "output_type": "stream",
     "text": [
      "/media/nvanalfen/T7/Northeastern/Research/my halotools/halotools/halotools/empirical_models/ia_models/ia_model_components.py:190: UserWarning: `central_alignment_strength` not detected in the table, using value in self.param_dict.\n",
      "  warn(msg)\n",
      "/media/nvanalfen/T7/Northeastern/Research/my halotools/halotools/halotools/empirical_models/ia_models/ia_model_components.py:879: UserWarning: `satellite_alignment_strength` not detected in the table, using value in self.param_dict.\n",
      "  warn(msg)\n"
     ]
    }
   ],
   "source": [
    "# Initially create the mock with SubhaloAlignment to overwrite the host information with subhalo\n",
    "model_instance = HodModelFactory(centrals_occupation = cens_occ_model,\n",
    "                                     centrals_profile = cens_prof_model,\n",
    "                                     satellites_occupation = sats_occ_model,\n",
    "                                     satellites_profile = sats_prof_model,\n",
    "                                     centrals_orientation = cens_orientation_model,\n",
    "                                     satellites_orientation = sats_orientation_model,\n",
    "                                     model_feature_calling_sequence = (\n",
    "                                     'centrals_occupation',\n",
    "                                     'centrals_profile',\n",
    "                                     'satellites_occupation',\n",
    "                                     'satellites_profile',\n",
    "                                     'centrals_orientation',\n",
    "                                     'satellites_orientation')\n",
    "                                    )\n",
    "\n",
    "#seed=132358712\n",
    "seed=None\n",
    "model_instance.populate_mock(halocat, seed=seed)"
   ]
  },
  {
   "cell_type": "markdown",
   "id": "3f4b1b48-f138-472f-8944-6c319bbdaa2f",
   "metadata": {},
   "source": [
    "Just as before, we get an HOD model instance with essentially the same construction."
   ]
  },
  {
   "cell_type": "code",
   "execution_count": 10,
   "id": "62c6f6d3-b5f2-4b1f-8b9a-035444a9e3d9",
   "metadata": {},
   "outputs": [
    {
     "data": {
      "text/html": [
       "<div><i>Table length=5</i>\n",
       "<table id=\"table139918352148240\" class=\"table-striped table-bordered table-condensed\">\n",
       "<thead><tr><th>halo_upid</th><th>halo_vy</th><th>_subhalo_inheritance_id</th><th>halo_mpeak</th><th>halo_y</th><th>halo_rvir</th><th>halo_axisA_y</th><th>halo_id</th><th>halo_hostid</th><th>halo_vx</th><th>halo_x</th><th>halo_mvir_host_halo_bin_number</th><th>halo_z</th><th>halo_axisA_z</th><th>halo_vz</th><th>halo_mvir_host_halo</th><th>halo_mvir</th><th>halo_axisA_x</th><th>halo_num_centrals</th><th>halo_num_satellites</th><th>gal_type</th><th>subhalo_vy</th><th>vy</th><th>subhalo_rvir</th><th>galaxy_axisA_z</th><th>galaxy_axisC_x</th><th>subhalo_y</th><th>subhalo_vx</th><th>galaxy_axisA_y</th><th>z</th><th>subhalo_axisA_x</th><th>subhalo_x</th><th>galaxy_axisC_y</th><th>x</th><th>real_subhalo</th><th>galaxy_axisA_x</th><th>subhalo_vz</th><th>subhalo_upid</th><th>subhalo_axisA_z</th><th>subhalo_mvir</th><th>vz</th><th>subhalo_axisA_y</th><th>subhalo_z</th><th>galaxy_axisB_x</th><th>galaxy_axisB_z</th><th>galaxy_axisC_z</th><th>galaxy_axisB_y</th><th>vx</th><th>y</th></tr></thead>\n",
       "<thead><tr><th>int64</th><th>float32</th><th>int64</th><th>float64</th><th>float32</th><th>float32</th><th>float32</th><th>int64</th><th>int64</th><th>float32</th><th>float32</th><th>int64</th><th>float32</th><th>float32</th><th>float32</th><th>float32</th><th>float32</th><th>float32</th><th>int32</th><th>int32</th><th>object</th><th>float64</th><th>float32</th><th>float64</th><th>float32</th><th>float32</th><th>float64</th><th>float64</th><th>float32</th><th>float32</th><th>float64</th><th>float64</th><th>float32</th><th>float32</th><th>bool</th><th>float32</th><th>float64</th><th>int64</th><th>float64</th><th>float64</th><th>float32</th><th>float64</th><th>float64</th><th>float32</th><th>float32</th><th>float32</th><th>float32</th><th>float32</th><th>float32</th></tr></thead>\n",
       "<tr><td>-1</td><td>-146.49</td><td>694718</td><td>182199992320.0</td><td>33.9048</td><td>0.115251996</td><td>4.54161</td><td>2814302315</td><td>2814302315</td><td>-265.62</td><td>94.4852</td><td>3</td><td>125.78724</td><td>3.2406</td><td>-158.9</td><td>182200000000.0</td><td>182200000000.0</td><td>-4.4058</td><td>1</td><td>0</td><td>centrals</td><td>0.0</td><td>-146.49</td><td>0.0</td><td>0.8213909</td><td>-0.41559106</td><td>0.0</td><td>0.0</td><td>-0.041707985</td><td>125.78724</td><td>0.0</td><td>0.0</td><td>0.8764047</td><td>94.4852</td><td>False</td><td>-0.56883866</td><td>0.0</td><td>0</td><td>0.0</td><td>0.0</td><td>-158.9</td><td>0.0</td><td>0.0</td><td>0.70972294</td><td>0.51586634</td><td>-0.24330826</td><td>0.47976586</td><td>-265.62</td><td>33.9048</td></tr>\n",
       "<tr><td>-1</td><td>-66.94</td><td>719106</td><td>200399994880.0</td><td>245.20497</td><td>0.118954</td><td>6.93008</td><td>2817092347</td><td>2817092347</td><td>292.54</td><td>148.39645</td><td>3</td><td>125.80485</td><td>2.18979</td><td>50.49</td><td>200400000000.0</td><td>200400000000.0</td><td>-3.1892</td><td>1</td><td>0</td><td>centrals</td><td>0.0</td><td>-66.94</td><td>0.0</td><td>-0.0839682</td><td>-0.35927087</td><td>0.0</td><td>0.0</td><td>0.6174169</td><td>125.80485</td><td>0.0</td><td>0.0</td><td>-0.33675537</td><td>148.39645</td><td>False</td><td>-0.7821417</td><td>0.0</td><td>0</td><td>0.0</td><td>0.0</td><td>50.49</td><td>0.0</td><td>0.0</td><td>-0.509096</td><td>-0.48521033</td><td>0.8703564</td><td>-0.71090937</td><td>292.54</td><td>245.20497</td></tr>\n",
       "<tr><td>-1</td><td>-179.06</td><td>730923</td><td>210400002048.0</td><td>183.97427</td><td>0.120915</td><td>-7.41303</td><td>2810339199</td><td>2810339199</td><td>261.58</td><td>25.67056</td><td>3</td><td>107.1958</td><td>2.95114</td><td>-665.65</td><td>210400000000.0</td><td>210400000000.0</td><td>7.53031</td><td>1</td><td>0</td><td>centrals</td><td>0.0</td><td>-179.06</td><td>0.0</td><td>0.14933054</td><td>-0.4323325</td><td>0.0</td><td>0.0</td><td>-0.757522</td><td>107.1958</td><td>0.0</td><td>0.0</td><td>-0.5093699</td><td>25.67056</td><td>False</td><td>0.63550043</td><td>0.0</td><td>0</td><td>0.0</td><td>0.0</td><td>-665.65</td><td>0.0</td><td>0.0</td><td>-0.6397092</td><td>0.6512062</td><td>-0.7440638</td><td>-0.4082924</td><td>261.58</td><td>183.97427</td></tr>\n",
       "<tr><td>-1</td><td>359.16</td><td>753467</td><td>232399994880.0</td><td>34.07706</td><td>0.124991</td><td>6.70509</td><td>2812706120</td><td>2812706120</td><td>167.08</td><td>66.22626</td><td>3</td><td>127.50671</td><td>5.19212</td><td>27.0</td><td>232400000000.0</td><td>232400000000.0</td><td>-0.44072</td><td>1</td><td>0</td><td>centrals</td><td>0.0</td><td>359.16</td><td>0.0</td><td>-0.66723937</td><td>-0.84194475</td><td>0.0</td><td>0.0</td><td>-0.6053868</td><td>127.50671</td><td>0.0</td><td>0.0</td><td>0.5360862</td><td>66.22626</td><td>False</td><td>-0.43393368</td><td>0.0</td><td>0</td><td>0.0</td><td>0.0</td><td>27.0</td><td>0.0</td><td>0.0</td><td>-0.32067204</td><td>0.7423281</td><td>0.061160523</td><td>-0.58831835</td><td>167.08</td><td>34.07706</td></tr>\n",
       "<tr><td>-1</td><td>52.84</td><td>757879</td><td>237300006912.0</td><td>48.83463</td><td>0.125846</td><td>9.53717</td><td>2811177709</td><td>2811177709</td><td>-249.68</td><td>34.4197</td><td>3</td><td>181.64655</td><td>6.99473</td><td>270.32</td><td>237300000000.0</td><td>237300000000.0</td><td>10.1726</td><td>1</td><td>0</td><td>centrals</td><td>0.0</td><td>52.84</td><td>0.0</td><td>0.60852945</td><td>0.81275034</td><td>0.0</td><td>0.0</td><td>0.542402</td><td>181.64655</td><td>0.0</td><td>0.0</td><td>-0.44177243</td><td>34.4197</td><td>False</td><td>0.57921666</td><td>0.0</td><td>0</td><td>0.0</td><td>0.0</td><td>270.32</td><td>0.0</td><td>0.0</td><td>-0.06280873</td><td>0.6967194</td><td>-0.37983415</td><td>-0.71458876</td><td>-249.68</td><td>48.83463</td></tr>\n",
       "</table></div>"
      ],
      "text/plain": [
       "<Table length=5>\n",
       "halo_upid halo_vy _subhalo_inheritance_id ... galaxy_axisB_y    vx       y    \n",
       "  int64   float32          int64          ...    float32     float32  float32 \n",
       "--------- ------- ----------------------- ... -------------- ------- ---------\n",
       "       -1 -146.49                  694718 ...     0.47976586 -265.62   33.9048\n",
       "       -1  -66.94                  719106 ...    -0.71090937  292.54 245.20497\n",
       "       -1 -179.06                  730923 ...     -0.4082924  261.58 183.97427\n",
       "       -1  359.16                  753467 ...    -0.58831835  167.08  34.07706\n",
       "       -1   52.84                  757879 ...    -0.71458876 -249.68  48.83463"
      ]
     },
     "execution_count": 10,
     "metadata": {},
     "output_type": "execute_result"
    }
   ],
   "source": [
    "model_instance.mock.galaxy_table[:5]"
   ]
  },
  {
   "cell_type": "markdown",
   "id": "076e27f0-5423-4f32-86f8-7f1f53632f6f",
   "metadata": {
    "jp-MarkdownHeadingCollapsed": true,
    "tags": []
   },
   "source": [
    "## Using an IA strength model"
   ]
  },
  {
   "cell_type": "markdown",
   "id": "b10410ac-da8d-4fca-beba-011bb1a6bb10",
   "metadata": {},
   "source": [
    "The examples above show how to create an HOD model instance using halotools, but every central galaxy in those examples shares</br>\n",
    "the same alignment strength as every other central galaxy, and every satellite galaxy shares the same alignment strength with every other</br>\n",
    "satellite galaxy.</br></br>\n",
    "\n",
    "To add flexibility, we have a fourth codel component called an IA Strength model. Essentially what this does is it takes halo and agalxy</br>\n",
    "properties and converts them into an alignment strength. This way, every galaxy will have its own alignment strength based on its own</br>\n",
    "parameters.</br></br>\n",
    "\n",
    "Note, however, that the alignment process is probabilistic. The misalignment angle for each galaxy is drawn from a Dimroth-Watson distribution</br>\n",
    "whose shape is determined by the alignment strength. THis means that two galaxies with the same alignment strength will nt necessarily</br>\n",
    "have the same misalignment angle (they could be wildly different), and that a galaxy with a lower alignment strength could still align</br>\n",
    "more closely to its reference vector than a galaxy with a higher alignment strength. A high alignment strength means the Dimroth-Watson</br>\n",
    "will be a very narrow peak around perfect alignment. This would mean that a high alignment strength means that a galaxy is veery likely</br>\n",
    "to align very closely on average.</br></br>\n",
    "\n",
    "Here, we will look at the RadialSatellitesAlignmentStrength model, which assigns alignment strengths to satellites following a power law</br>\n",
    "based on how close they are to their entral galaxy. At the time of writing this tutorial, this is the only IA strength model for</br>\n",
    "satellite galaxies, but more are being planned and worked on."
   ]
  },
  {
   "cell_type": "code",
   "execution_count": 11,
   "id": "455e05c4-5e79-45c8-a169-6496d3df61dc",
   "metadata": {},
   "outputs": [],
   "source": [
    "# Import the RadialSAtellitesAlignmentStrength model\n",
    "from halotools.empirical_models.ia_models.ia_strength_models import RadialSatelliteAlignmentStrength"
   ]
  },
  {
   "cell_type": "markdown",
   "id": "43fda50b-1c49-4d01-a8bf-a3fff8fe0c92",
   "metadata": {},
   "source": [
    "We will return to using the RadialSatelliteAlignment from before (as it makes the most sense to vary with distance).</br>\n",
    "Note that this means we will return to using the default subhalo_props_dict in subhaloPhaseSpace</br></br>\n",
    "\n",
    "The RadialSatelliteAlignmentStrength component determines alignment strength via the equation $\\mu = a*(\\frac{r}{r_{vir}})^\\gamma$</br>\n",
    "where $a$ and $\\gamma$ are out IA strength parameters, $r$ is the distance between the satellite galaxy and central galaxy,</br>\n",
    "and $r_{vir}$ is the virial radius of the host halo."
   ]
  },
  {
   "cell_type": "code",
   "execution_count": 12,
   "id": "faa13038-beef-4761-8005-69537d7a92f3",
   "metadata": {},
   "outputs": [],
   "source": [
    "# MODELS\n",
    "\n",
    "# Alignment Strengths\n",
    "satellite_alignment = 0.6\n",
    "central_alignment = 0.8\n",
    "\n",
    "# IA strength parameters\n",
    "a = 0.8\n",
    "gamma = -0.03\n",
    "\n",
    "# Central galaxy components\n",
    "cens_occ_model = Zheng07Cens()\n",
    "cens_prof_model = TrivialPhaseSpace()\n",
    "cens_orientation_model = CentralAlignment(central_alignment_strength=central_alignment)\n",
    "\n",
    "# Satellite galaxy Components\n",
    "sats_occ_model = Zheng07Sats()\n",
    "prof_args = (\"satellites\", np.logspace(10.5, 15.2, 15))\n",
    "sats_prof_model = SubhaloPhaseSpace(*prof_args)\n",
    "sats_orientation_model = RadialSatelliteAlignment(satellite_alignment_strength=satellite_alignment)\n",
    "\n",
    "# Satellite strength model\n",
    "sats_strength_model = RadialSatelliteAlignmentStrength(satellite_alignment_a=a, satellite_alignment_gamma=gamma)\n",
    "sats_strength_model.inherit_halocat_properties(Lbox=halocat.Lbox)"
   ]
  },
  {
   "cell_type": "markdown",
   "id": "7355d2c2-96c1-4afc-bd1a-88c944f2519d",
   "metadata": {},
   "source": [
    "Now create the model instance. Note again that the order of the model components is very important. The IA strength model must come before the orientation model that it is intended for. Here, as long as it comes before the satellites_orientation model, it's fine."
   ]
  },
  {
   "cell_type": "code",
   "execution_count": 13,
   "id": "18101c33-68dc-4109-b99e-7aaee13de279",
   "metadata": {},
   "outputs": [
    {
     "name": "stderr",
     "output_type": "stream",
     "text": [
      "/media/nvanalfen/T7/Northeastern/Research/my halotools/halotools/halotools/empirical_models/ia_models/ia_model_components.py:190: UserWarning: `central_alignment_strength` not detected in the table, using value in self.param_dict.\n",
      "  warn(msg)\n"
     ]
    }
   ],
   "source": [
    "# Initially create the mock with SubhaloAlignment to overwrite the host information with subhalo\n",
    "model_instance = HodModelFactory(centrals_occupation = cens_occ_model,\n",
    "                                     centrals_profile = cens_prof_model,\n",
    "                                     satellites_occupation = sats_occ_model,\n",
    "                                     satellites_profile = sats_prof_model,\n",
    "                                     satellites_radial_alignment_strength = sats_strength_model,\n",
    "                                     centrals_orientation = cens_orientation_model,\n",
    "                                     satellites_orientation = sats_orientation_model,\n",
    "                                     model_feature_calling_sequence = (\n",
    "                                     'centrals_occupation',\n",
    "                                     'centrals_profile',\n",
    "                                     'satellites_occupation',\n",
    "                                     'satellites_profile',\n",
    "                                     'satellites_radial_alignment_strength',\n",
    "                                     'centrals_orientation',\n",
    "                                     'satellites_orientation')\n",
    "                                    )\n",
    "\n",
    "#seed=132358712\n",
    "seed=None\n",
    "model_instance.populate_mock(halocat, seed=seed)"
   ]
  },
  {
   "cell_type": "code",
   "execution_count": 14,
   "id": "6e59d5f2-88d2-43f1-a50a-a74266119ab2",
   "metadata": {},
   "outputs": [
    {
     "data": {
      "text/html": [
       "<div><i>Table length=5</i>\n",
       "<table id=\"table139918352148096\" class=\"table-striped table-bordered table-condensed\">\n",
       "<thead><tr><th>halo_upid</th><th>halo_vy</th><th>_subhalo_inheritance_id</th><th>halo_mpeak</th><th>halo_y</th><th>halo_rvir</th><th>halo_axisA_y</th><th>halo_id</th><th>halo_hostid</th><th>halo_vx</th><th>halo_x</th><th>halo_mvir_host_halo_bin_number</th><th>halo_z</th><th>halo_axisA_z</th><th>halo_vz</th><th>halo_mvir_host_halo</th><th>halo_mvir</th><th>halo_axisA_x</th><th>halo_num_centrals</th><th>halo_num_satellites</th><th>gal_type</th><th>vy</th><th>galaxy_axisA_z</th><th>galaxy_axisC_x</th><th>galaxy_axisA_y</th><th>z</th><th>satellite_alignment_strength</th><th>galaxy_axisC_y</th><th>x</th><th>real_subhalo</th><th>galaxy_axisA_x</th><th>vz</th><th>galaxy_axisB_x</th><th>galaxy_axisB_z</th><th>galaxy_axisC_z</th><th>galaxy_axisB_y</th><th>vx</th><th>y</th></tr></thead>\n",
       "<thead><tr><th>int64</th><th>float32</th><th>int64</th><th>float64</th><th>float32</th><th>float32</th><th>float32</th><th>int64</th><th>int64</th><th>float32</th><th>float32</th><th>int64</th><th>float32</th><th>float32</th><th>float32</th><th>float32</th><th>float32</th><th>float32</th><th>int32</th><th>int32</th><th>object</th><th>float32</th><th>float32</th><th>float32</th><th>float32</th><th>float32</th><th>float32</th><th>float32</th><th>float32</th><th>bool</th><th>float32</th><th>float32</th><th>float32</th><th>float32</th><th>float32</th><th>float32</th><th>float32</th><th>float32</th></tr></thead>\n",
       "<tr><td>-1</td><td>259.3</td><td>704428</td><td>189099999232.0</td><td>121.77341</td><td>0.116671994</td><td>0.91472</td><td>2811519774</td><td>2811519774</td><td>-2.51</td><td>38.25502</td><td>3</td><td>118.92752</td><td>6.62054</td><td>-238.03</td><td>189100000000.0</td><td>189100000000.0</td><td>2.41595</td><td>1</td><td>0</td><td>centrals</td><td>259.3</td><td>-0.34991255</td><td>0.4127311</td><td>-0.24286431</td><td>118.92752</td><td>0.0</td><td>0.29691273</td><td>38.25502</td><td>False</td><td>0.9047531</td><td>-238.03</td><td>0.105237335</td><td>-0.36887038</td><td>0.8611015</td><td>0.92350405</td><td>-2.51</td><td>121.77341</td></tr>\n",
       "<tr><td>-1</td><td>403.02</td><td>711014</td><td>194999992320.0</td><td>129.05438</td><td>0.117683</td><td>-2.68788</td><td>2810144527</td><td>2810144527</td><td>-207.58</td><td>16.01311</td><td>3</td><td>133.66336</td><td>1.42741</td><td>22.94</td><td>194000000000.0</td><td>194000000000.0</td><td>6.76578</td><td>1</td><td>0</td><td>centrals</td><td>403.02</td><td>-0.2104285</td><td>0.357255</td><td>0.6276092</td><td>133.66336</td><td>0.0</td><td>0.11593043</td><td>16.01311</td><td>False</td><td>-0.7495509</td><td>22.94</td><td>0.5572632</td><td>0.31111228</td><td>-0.9267842</td><td>0.7698486</td><td>-207.58</td><td>129.05438</td></tr>\n",
       "<tr><td>-1</td><td>-89.86</td><td>719040</td><td>227499999232.0</td><td>113.22632</td><td>0.118954</td><td>5.90154</td><td>2817804471</td><td>2817804471</td><td>-69.15</td><td>191.22415</td><td>3</td><td>25.03954</td><td>4.74046</td><td>-421.39</td><td>200400000000.0</td><td>200400000000.0</td><td>-1.73171</td><td>1</td><td>0</td><td>centrals</td><td>-89.86</td><td>0.95956695</td><td>0.10418287</td><td>0.20184815</td><td>25.03954</td><td>0.0</td><td>-0.96875405</td><td>191.22415</td><td>False</td><td>-0.19618507</td><td>-421.39</td><td>-0.9750166</td><td>-0.16902597</td><td>0.22508106</td><td>-0.14412798</td><td>-69.15</td><td>113.22632</td></tr>\n",
       "<tr><td>-1</td><td>116.46</td><td>720632</td><td>201600008192.0</td><td>120.55582</td><td>0.119199</td><td>9.84778</td><td>2819451595</td><td>2819451595</td><td>-103.93</td><td>218.74976</td><td>3</td><td>108.82352</td><td>-4.1572</td><td>-82.19</td><td>201600000000.0</td><td>201600000000.0</td><td>-8.24602</td><td>1</td><td>0</td><td>centrals</td><td>116.46</td><td>0.36423543</td><td>0.8568757</td><td>0.8204941</td><td>108.82352</td><td>0.0</td><td>0.50535583</td><td>218.74976</td><td>False</td><td>-0.4405927</td><td>-82.19</td><td>0.2676604</td><td>0.9257176</td><td>-0.10187998</td><td>-0.26721692</td><td>-103.93</td><td>120.55582</td></tr>\n",
       "<tr><td>-1</td><td>35.44</td><td>736682</td><td>215699996672.0</td><td>109.56529</td><td>0.121916</td><td>-3.91829</td><td>2816433172</td><td>2816433172</td><td>-5.34</td><td>153.79167</td><td>3</td><td>91.82954</td><td>4.78232</td><td>314.93</td><td>215700000000.0</td><td>215700000000.0</td><td>5.68385</td><td>1</td><td>0</td><td>centrals</td><td>35.44</td><td>0.57012194</td><td>-0.2833127</td><td>-0.19017313</td><td>91.82954</td><td>0.0</td><td>-0.95582235</td><td>153.79167</td><td>False</td><td>0.7992466</td><td>314.93</td><td>-0.53003657</td><td>0.8178162</td><td>0.07834286</td><td>0.22413807</td><td>-5.34</td><td>109.56529</td></tr>\n",
       "</table></div>"
      ],
      "text/plain": [
       "<Table length=5>\n",
       "halo_upid halo_vy _subhalo_inheritance_id ... galaxy_axisB_y    vx       y    \n",
       "  int64   float32          int64          ...    float32     float32  float32 \n",
       "--------- ------- ----------------------- ... -------------- ------- ---------\n",
       "       -1   259.3                  704428 ...     0.92350405   -2.51 121.77341\n",
       "       -1  403.02                  711014 ...      0.7698486 -207.58 129.05438\n",
       "       -1  -89.86                  719040 ...    -0.14412798  -69.15 113.22632\n",
       "       -1  116.46                  720632 ...    -0.26721692 -103.93 120.55582\n",
       "       -1   35.44                  736682 ...     0.22413807   -5.34 109.56529"
      ]
     },
     "execution_count": 14,
     "metadata": {},
     "output_type": "execute_result"
    }
   ],
   "source": [
    "model_instance.mock.galaxy_table[:5]"
   ]
  },
  {
   "cell_type": "markdown",
   "id": "952cc0e8-2da1-4d49-bda7-4a0bce8d7354",
   "metadata": {},
   "source": [
    "Notice now the presence of the \"satellite_alignmnet_strength\" column in the galaxy table. This is what the IA strength model has done.</br>\n",
    "When performing an alignment, the orientation model will first check to see if there is an appropriate alignment strength column in the</br>\n",
    "table before using any parameters passed in as such. Of course, this value is 0.0 for all centrals since they would look for a</br>\n",
    "\"central_alignment_strength\" column instead."
   ]
  },
  {
   "cell_type": "code",
   "execution_count": null,
   "id": "a7025e4e-4d2b-4b08-8f5c-820e961f625a",
   "metadata": {},
   "outputs": [],
   "source": []
  }
 ],
 "metadata": {
  "kernelspec": {
   "display_name": "IA",
   "language": "python",
   "name": "ia"
  },
  "language_info": {
   "codemirror_mode": {
    "name": "ipython",
    "version": 3
   },
   "file_extension": ".py",
   "mimetype": "text/x-python",
   "name": "python",
   "nbconvert_exporter": "python",
   "pygments_lexer": "ipython3",
   "version": "3.10.6"
  }
 },
 "nbformat": 4,
 "nbformat_minor": 5
}
