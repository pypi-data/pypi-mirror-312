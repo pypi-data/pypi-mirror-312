{
 "cells": [
  {
   "cell_type": "markdown",
   "id": "c55a32e5-aa53-4c88-b0ba-338c49228cce",
   "metadata": {},
   "source": [
    "# Using halotools built-in correlation functions"
   ]
  },
  {
   "cell_type": "markdown",
   "id": "26669718-7bb5-4adb-b078-acde537249be",
   "metadata": {},
   "source": [
    "Halotools has some extremely useful functions built in to calculate correlations. Here, I will focus on using the function for</br>\n",
    "clustering (position-position), ED (orientation-position), and EE (orientation-orientation) correlations.</br></br>\n",
    "\n",
    "To measure the clustering correlation (DD), halotools has the function tpcf (two-point correlation function) in halotools.mock_observables.</br>\n",
    "Both ED and EE are included as ed_3d and ee_3d respectively in halotools.mock_observables.ia_correlations import ed_3d, ee_3d"
   ]
  },
  {
   "cell_type": "code",
   "execution_count": 1,
   "id": "a4017897-d93e-4ca2-94d6-fdc234232ed8",
   "metadata": {},
   "outputs": [],
   "source": [
    "# Basic imports to build the HOD\n",
    "import numpy as np\n",
    "from halotools.empirical_models import HodModelFactory\n",
    "from halotools.empirical_models import TrivialPhaseSpace, SubhaloPhaseSpace, Zheng07Cens, Zheng07Sats\n",
    "from halotools.empirical_models.ia_models.ia_model_components import CentralAlignment, SubhaloAlignment\n",
    "from halotools.empirical_models.phase_space_models.subhalo_based_models.subhalo_phase_space import alignment_inherited_subhalo_props_dict\n",
    "\n",
    "# Import for getting the halocat\n",
    "from halotools.sim_manager import CachedHaloCatalog\n",
    "\n",
    "# Import correlation functions\n",
    "from halotools.mock_observables.ia_correlations import ed_3d, ee_3d\n",
    "from halotools.mock_observables import tpcf\n",
    "\n",
    "# Import some helper libraries for visualizing things\n",
    "import time\n",
    "import matplotlib.pyplot as plt"
   ]
  },
  {
   "cell_type": "code",
   "execution_count": 2,
   "id": "29a80bf9-c311-455e-9f6c-82857d4c03cb",
   "metadata": {},
   "outputs": [],
   "source": [
    "# Eliminate halos with 0 for halo_axisA_x(,y,z)\n",
    "def mask_bad_halocat(halocat):\n",
    "    bad_mask = (halocat.halo_table[\"halo_axisA_x\"] == 0) & (halocat.halo_table[\"halo_axisA_y\"] == 0) & (halocat.halo_table[\"halo_axisA_z\"] == 0)\n",
    "    halocat._halo_table = halocat.halo_table[ ~bad_mask ]"
   ]
  },
  {
   "cell_type": "code",
   "execution_count": 3,
   "id": "9a24f4db-3d5c-4d23-be9f-126455dc6bad",
   "metadata": {},
   "outputs": [],
   "source": [
    "halocat = CachedHaloCatalog(simname='bolplanck', halo_finder='rockstar', redshift=0, version_name='halotools_v0p4')\n",
    "mask_bad_halocat(halocat)"
   ]
  },
  {
   "cell_type": "markdown",
   "id": "d3fc7026-85fb-4a7e-bb15-115c28d1b9cc",
   "metadata": {},
   "source": [
    "## Make the Model"
   ]
  },
  {
   "cell_type": "markdown",
   "id": "420716c2-e20a-4ada-9ec0-443e6e04e907",
   "metadata": {},
   "source": [
    "First, of course, we need to create the HOD model instance. See the \"creating_a_mock.ipynb\" if you need a tutorial on this.</br>\n",
    "We will be using a SubhaoAlignment model for the satellites"
   ]
  },
  {
   "cell_type": "code",
   "execution_count": 4,
   "id": "2e4af733-d9de-419d-b387-2280985df2bb",
   "metadata": {},
   "outputs": [],
   "source": [
    "# MODELS\n",
    "\n",
    "# Alignment Strengths\n",
    "satellite_alignment = 0.6\n",
    "central_alignment = 0.8\n",
    "\n",
    "# Central galaxy components\n",
    "cens_occ_model = Zheng07Cens()\n",
    "cens_prof_model = TrivialPhaseSpace()\n",
    "cens_orientation_model = CentralAlignment(central_alignment_strength=central_alignment)\n",
    "\n",
    "# Satellite galaxy Components\n",
    "sats_occ_model = Zheng07Sats()\n",
    "prof_args = (\"satellites\", np.logspace(10.5, 15.2, 15))\n",
    "sats_prof_model = SubhaloPhaseSpace(*prof_args, inherited_subhalo_props_dict=alignment_inherited_subhalo_props_dict)\n",
    "sats_orientation_model = SubhaloAlignment(satellite_alignment_strength=satellite_alignment, halocat=halocat)"
   ]
  },
  {
   "cell_type": "code",
   "execution_count": 5,
   "id": "789af8b3-2251-4eda-b060-85161c70f3c3",
   "metadata": {},
   "outputs": [
    {
     "name": "stderr",
     "output_type": "stream",
     "text": [
      "/media/nvanalfen/T7/Northeastern/Research/my halotools/halotools/halotools/empirical_models/ia_models/ia_model_components.py:190: UserWarning: `central_alignment_strength` not detected in the table, using value in self.param_dict.\n",
      "  warn(msg)\n",
      "/media/nvanalfen/T7/Northeastern/Research/my halotools/halotools/halotools/empirical_models/ia_models/ia_model_components.py:879: UserWarning: `satellite_alignment_strength` not detected in the table, using value in self.param_dict.\n",
      "  warn(msg)\n"
     ]
    }
   ],
   "source": [
    "# Initially create the mock with SubhaloAlignment to overwrite the host information with subhalo\n",
    "model_instance = HodModelFactory(centrals_occupation = cens_occ_model,\n",
    "                                     centrals_profile = cens_prof_model,\n",
    "                                     satellites_occupation = sats_occ_model,\n",
    "                                     satellites_profile = sats_prof_model,\n",
    "                                     centrals_orientation = cens_orientation_model,\n",
    "                                     satellites_orientation = sats_orientation_model,\n",
    "                                     model_feature_calling_sequence = (\n",
    "                                     'centrals_occupation',\n",
    "                                     'centrals_profile',\n",
    "                                     'satellites_occupation',\n",
    "                                     'satellites_profile',\n",
    "                                     'centrals_orientation',\n",
    "                                     'satellites_orientation')\n",
    "                                    )\n",
    "\n",
    "#seed=132358712\n",
    "seed=None\n",
    "model_instance.populate_mock(halocat, seed=seed)"
   ]
  },
  {
   "cell_type": "markdown",
   "id": "16b6ff01-6888-4314-a1df-0a3b604e5b33",
   "metadata": {},
   "source": [
    "## Measure The Correlations"
   ]
  },
  {
   "cell_type": "markdown",
   "id": "896964c6-7c37-43c8-86d7-839cab8de341",
   "metadata": {},
   "source": [
    "There are a number of things we can do. For the sake of looking at more capabilities, I will be looking at the central-satellite correlations.</br>\n",
    "We can, of course, do all of the same things with all galaxies or any other choices for populations."
   ]
  },
  {
   "cell_type": "markdown",
   "id": "4be621bc-964e-4516-a0ce-04be1c19f783",
   "metadata": {},
   "source": [
    "First, use the \"gal_type\" column to get a mask for the central galaxies. This will make our lives easier"
   ]
  },
  {
   "cell_type": "code",
   "execution_count": 6,
   "id": "4ea97a33-2824-4256-a7cf-13d166683327",
   "metadata": {},
   "outputs": [],
   "source": [
    "central_mask = model_instance.mock.galaxy_table[\"gal_type\"] == \"centrals\""
   ]
  },
  {
   "cell_type": "markdown",
   "id": "b7b92c54-cd64-4acd-8664-146573b1fa89",
   "metadata": {},
   "source": [
    "Next, we can get the positions and orientations. The orientations are stored as the x, y, and z components of the unit vector of the major axis."
   ]
  },
  {
   "cell_type": "code",
   "execution_count": 7,
   "id": "38c2a56a-5ea6-44f0-90a4-e880331b46ba",
   "metadata": {},
   "outputs": [],
   "source": [
    "sat_coords = np.array( [ model_instance.mock.galaxy_table[~central_mask]['x'],\n",
    "                                model_instance.mock.galaxy_table[~central_mask]['y'],\n",
    "                                model_instance.mock.galaxy_table[~central_mask]['z'] ] ).T\n",
    "sat_orientations = np.array( [ model_instance.mock.galaxy_table[~central_mask]['galaxy_axisA_x'],\n",
    "                                    model_instance.mock.galaxy_table[~central_mask]['galaxy_axisA_y'],\n",
    "                                    model_instance.mock.galaxy_table[~central_mask]['galaxy_axisA_z'] ] ).T\n",
    "\n",
    "cen_coords = np.array( [ model_instance.mock.galaxy_table[central_mask]['x'],\n",
    "                                model_instance.mock.galaxy_table[central_mask]['y'],\n",
    "                                model_instance.mock.galaxy_table[central_mask]['z'] ] ).T\n",
    "cen_orientations = np.array( [ model_instance.mock.galaxy_table[central_mask]['galaxy_axisA_x'],\n",
    "                                    model_instance.mock.galaxy_table[central_mask]['galaxy_axisA_y'],\n",
    "                                    model_instance.mock.galaxy_table[central_mask]['galaxy_axisA_z'] ] ).T"
   ]
  },
  {
   "cell_type": "markdown",
   "id": "5d42b024-c67c-4a00-9039-dcfa606713fc",
   "metadata": {},
   "source": [
    "Those are all very fast steps and now we have the values we want to measure the correlations from.</br>\n",
    "Note that we have taken each column and transposed arrays of the values. This avoids issues when trying</br>\n",
    "to cast multiple columns to an array.</br></br>\n",
    "\n",
    "Now, we can just call the three correlation functions. For fun, I will also throw in a timing check to give an idea of how long</br>\n",
    "this step usually takes."
   ]
  },
  {
   "cell_type": "markdown",
   "id": "1e43eb34-85f7-42e6-8d37-9f4034d6e1b3",
   "metadata": {},
   "source": [
    "As a quick variable name explanation, $\\xi$ (xi) is the position-position correlation, $\\omega$ (omega) is orientation-position,</br>\n",
    "and $\\eta$ (eta) is orientation-orientation</br></br>\n",
    "\n",
    "Note that for tpcf, when two samples are passed, it returns three correlations:</br>\n",
    "<ul>\n",
    "    <li>The autocorrelation of sample 3</li>\n",
    "    <li>The cross correlations between samples 1 and 2</li>\n",
    "    <li>The autocorrelation of sample 2</li>\n",
    "</ul>"
   ]
  },
  {
   "cell_type": "code",
   "execution_count": 8,
   "id": "63dbc453-ea27-4ff8-a77f-ad4369c68ff8",
   "metadata": {},
   "outputs": [
    {
     "name": "stdout",
     "output_type": "stream",
     "text": [
      "1.45 seconds for all three correlations on 67808 centrals and 20774 satellites\n"
     ]
    }
   ],
   "source": [
    "# Get logarithmic radial bins\n",
    "rbins = np.logspace(-1,1.4,20)\n",
    "rbin_centers = (rbins[:-1]+rbins[1:])/2.0\n",
    "\n",
    "start = time.time()\n",
    "\n",
    "censat_xi = tpcf(cen_coords, rbins, sat_coords, period=halocat.Lbox)\n",
    "censat_omega = ed_3d( sat_coords, sat_orientations, cen_coords, rbins, period=halocat.Lbox )\n",
    "censat_eta = ee_3d( sat_coords, sat_orientations, cen_coords, cen_orientations, rbins, period=halocat.Lbox )\n",
    "\n",
    "print(f\"{round(time.time()-start,2)} seconds for all three correlations on {len(cen_coords)} centrals and {len(sat_coords)} satellites\")"
   ]
  },
  {
   "cell_type": "markdown",
   "id": "e581a604-36d3-4358-8c68-43281764410c",
   "metadata": {},
   "source": [
    "So this step took longer than the others, but was still quite fast. For fun, let's visualize what we just got"
   ]
  },
  {
   "cell_type": "code",
   "execution_count": 9,
   "id": "736a7af0-e92e-4f1d-9aad-facee560e903",
   "metadata": {},
   "outputs": [
    {
     "data": {
      "image/png": "[encoded data removed]",
      "text/plain": [
       "<Figure size 1600x500 with 3 Axes>"
      ]
     },
     "metadata": {},
     "output_type": "display_data"
    }
   ],
   "source": [
    "fig, axes = plt.subplots(1,3, figsize=(16,5))\n",
    "\n",
    "axes[0].plot( rbin_centers, censat_xi[1] )\n",
    "axes[0].set_xlabel(\"r (Mpc/h)\")\n",
    "axes[0].set_ylabel(r\"$\\xi$\")\n",
    "axes[0].set_xscale(\"log\")\n",
    "axes[0].set_yscale(\"log\")\n",
    "\n",
    "axes[1].plot( rbin_centers, censat_omega )\n",
    "axes[1].set_xlabel(\"r (Mpc/h)\")\n",
    "axes[1].set_ylabel(r\"$\\omega$\")\n",
    "axes[1].set_xscale(\"log\")\n",
    "axes[1].set_yscale(\"log\")\n",
    "\n",
    "axes[2].plot( rbin_centers, censat_eta )\n",
    "axes[2].set_xlabel(\"r (Mpc/h)\")\n",
    "axes[2].set_ylabel(r\"$\\eta$\")\n",
    "axes[2].set_xscale(\"log\")\n",
    "axes[2].set_yscale(\"log\")"
   ]
  },
  {
   "cell_type": "markdown",
   "id": "be8f4c1a-5fe0-4277-9e8b-ac709fff7097",
   "metadata": {},
   "source": [
    "Of course, these don't look great. But that's a result of me choosing arbitrary and meaningless alignment strengths and not caring about much else."
   ]
  },
  {
   "cell_type": "code",
   "execution_count": null,
   "id": "3d3e14d6-d288-4867-861a-8f22179715e8",
   "metadata": {},
   "outputs": [],
   "source": []
  }
 ],
 "metadata": {
  "kernelspec": {
   "display_name": "IA",
   "language": "python",
   "name": "ia"
  },
  "language_info": {
   "codemirror_mode": {
    "name": "ipython",
    "version": 3
   },
   "file_extension": ".py",
   "mimetype": "text/x-python",
   "name": "python",
   "nbconvert_exporter": "python",
   "pygments_lexer": "ipython3",
   "version": "3.10.6"
  }
 },
 "nbformat": 4,
 "nbformat_minor": 5
}
