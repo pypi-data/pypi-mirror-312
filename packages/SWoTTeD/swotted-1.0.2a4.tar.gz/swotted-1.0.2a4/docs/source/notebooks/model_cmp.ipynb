{
 "cells": [
  {
   "cell_type": "markdown",
   "metadata": {},
   "source": [
    "# Comparison of the reconstruction by SWoTTeD and fastSWoTTeD"
   ]
  },
  {
   "cell_type": "code",
   "execution_count": 1,
   "metadata": {},
   "outputs": [],
   "source": [
    "# environnement setting\n",
    "%pwd\n",
    "import sys\n",
    "sys.path.append(\"..\")"
   ]
  },
  {
   "cell_type": "code",
   "execution_count": 2,
   "metadata": {},
   "outputs": [],
   "source": [
    "import torch\n",
    "from model.swotted import swottedModule, swottedTrainer, SlidingWindow\n",
    "from model.fastswotted import fastSWoTTeDModule, SlidingWindowConv\n"
   ]
  },
  {
   "cell_type": "code",
   "execution_count": 3,
   "metadata": {},
   "outputs": [],
   "source": [
    "swotted = SlidingWindow()\n",
    "fastswotted = SlidingWindowConv()"
   ]
  },
  {
   "cell_type": "code",
   "execution_count": 5,
   "metadata": {},
   "outputs": [],
   "source": [
    "Ph = torch.zeros( (2, 4, 3) ) # R=2 phenotypes, with K=4 event types and \\omega=3 (duration)\n",
    "Wp= torch.zeros( (2, 10) ) # R=2\n",
    "\n",
    "# two simple and orthogonal phenotypes\n",
    "Ph[0,:3,:3]=torch.eye( 3 )\n",
    "Ph[1,3,:]=torch.ones( 3 )\n",
    "\n",
    "# random assignement of nb phenotypes per type of phenotypes\n",
    "nb=3\n",
    "v=torch.randint(0, 10, (2,nb))\n",
    "for d in range(2):\n",
    "    for r in range(nb):\n",
    "        Wp[d,v[d,r]]=1"
   ]
  },
  {
   "cell_type": "code",
   "execution_count": 6,
   "metadata": {},
   "outputs": [
    {
     "data": {
      "text/plain": [
       "tensor([[[1., 0., 0.],\n",
       "         [0., 1., 0.],\n",
       "         [0., 0., 1.],\n",
       "         [0., 0., 0.]],\n",
       "\n",
       "        [[0., 0., 0.],\n",
       "         [0., 0., 0.],\n",
       "         [0., 0., 0.],\n",
       "         [1., 1., 1.]]])"
      ]
     },
     "execution_count": 6,
     "metadata": {},
     "output_type": "execute_result"
    }
   ],
   "source": [
    "Ph"
   ]
  },
  {
   "cell_type": "code",
   "execution_count": 7,
   "metadata": {},
   "outputs": [
    {
     "data": {
      "text/plain": [
       "tensor([[1., 0., 0., 1., 0., 0., 0., 0., 1., 0.],\n",
       "        [0., 0., 0., 0., 0., 1., 0., 0., 0., 1.]])"
      ]
     },
     "execution_count": 7,
     "metadata": {},
     "output_type": "execute_result"
    }
   ],
   "source": [
    "Wp"
   ]
  },
  {
   "cell_type": "code",
   "execution_count": 8,
   "metadata": {},
   "outputs": [
    {
     "data": {
      "text/plain": [
       "tensor([[1., 0., 0., 1., 0., 0., 0., 0., 1., 0., 0., 0.],\n",
       "        [0., 1., 0., 0., 1., 0., 0., 0., 0., 1., 0., 0.],\n",
       "        [0., 0., 1., 0., 0., 1., 0., 0., 0., 0., 1., 0.],\n",
       "        [0., 0., 0., 0., 0., 1., 1., 1., 0., 1., 1., 1.]])"
      ]
     },
     "execution_count": 8,
     "metadata": {},
     "output_type": "execute_result"
    }
   ],
   "source": [
    "swotted.reconstruct(Wp, Ph)"
   ]
  },
  {
   "cell_type": "code",
   "execution_count": 9,
   "metadata": {},
   "outputs": [
    {
     "data": {
      "text/plain": [
       "tensor([[[1., 0., 0., 1., 0., 0., 0., 0., 1., 0., 0., 0.],\n",
       "         [0., 1., 0., 0., 1., 0., 0., 0., 0., 1., 0., 0.],\n",
       "         [0., 0., 1., 0., 0., 1., 0., 0., 0., 0., 1., 0.],\n",
       "         [0., 0., 0., 0., 0., 1., 1., 1., 0., 1., 1., 1.]]])"
      ]
     },
     "execution_count": 9,
     "metadata": {},
     "output_type": "execute_result"
    }
   ],
   "source": [
    "fastswotted.reconstruct(Wp, Ph.flip(2)) # we need to flip Ph ... because the model use flipped phenotypes!"
   ]
  },
  {
   "cell_type": "markdown",
   "metadata": {},
   "source": [
    "## Comparison of the phenosuccession losses"
   ]
  },
  {
   "cell_type": "code",
   "execution_count": 10,
   "metadata": {},
   "outputs": [
    {
     "ename": "ImportError",
     "evalue": "cannot import name 'phenotypeNonSuccession_loss' from 'model.fastswotted' (/home/tguyet/Progs/swotted/notebooks/../model/fastswotted.py)",
     "output_type": "error",
     "traceback": [
      "\u001b[0;31m---------------------------------------------------------------------------\u001b[0m",
      "\u001b[0;31mImportError\u001b[0m                               Traceback (most recent call last)",
      "Cell \u001b[0;32mIn[10], line 1\u001b[0m\n\u001b[0;32m----> 1\u001b[0m \u001b[39mfrom\u001b[39;00m \u001b[39mmodel\u001b[39;00m\u001b[39m.\u001b[39;00m\u001b[39mfastswotted\u001b[39;00m \u001b[39mimport\u001b[39;00m phenotypeNonSuccession_loss \u001b[39mas\u001b[39;00m fast_pns\n\u001b[1;32m      2\u001b[0m \u001b[39mfrom\u001b[39;00m \u001b[39mmodel\u001b[39;00m\u001b[39m.\u001b[39;00m\u001b[39mdecomposition_contraints\u001b[39;00m \u001b[39mimport\u001b[39;00m phenotypeSuccession_constraint \u001b[39mas\u001b[39;00m pns\n",
      "\u001b[0;31mImportError\u001b[0m: cannot import name 'phenotypeNonSuccession_loss' from 'model.fastswotted' (/home/tguyet/Progs/swotted/notebooks/../model/fastswotted.py)"
     ]
    }
   ],
   "source": [
    "from model.fastswotted import phenotypeNonSuccession_loss as fast_pns\n",
    "from model.decomposition_contraints import phenotypeSuccession_constraint as pns"
   ]
  },
  {
   "cell_type": "code",
   "execution_count": 11,
   "metadata": {},
   "outputs": [],
   "source": [
    "from math import log\n",
    "def pns_base(Wk, Tw):\n",
    "    penalisation = 0\n",
    "    for p in range(len(Wk)):\n",
    "        for r in range(Wk[p].shape[0]):\n",
    "            for t in range(Wk[p].shape[1]):\n",
    "                sum = 1\n",
    "                for l in range(t - Tw, t + Tw + 1):\n",
    "                    if l >= 0 and l < Wk[p].shape[1]:\n",
    "                        sum += Wk[p][r][l].item()\n",
    "                #if sum==0:\n",
    "                #    sum = 1\n",
    "                print(sum)\n",
    "                penalisation += Wk[p][r][t].item() * log(sum)\n",
    "    return penalisation"
   ]
  },
  {
   "cell_type": "code",
   "execution_count": null,
   "metadata": {},
   "outputs": [
    {
     "data": {
      "text/plain": [
       "2.0794415416798357"
      ]
     },
     "execution_count": 44,
     "metadata": {},
     "output_type": "execute_result"
    }
   ],
   "source": [
    "pns(Wp.unsqueeze(dim=0), 3)"
   ]
  },
  {
   "cell_type": "code",
   "execution_count": null,
   "metadata": {},
   "outputs": [
    {
     "data": {
      "text/plain": [
       "tensor(4.3944)"
      ]
     },
     "execution_count": 73,
     "metadata": {},
     "output_type": "execute_result"
    }
   ],
   "source": [
    "fast_pns(Wp.unsqueeze(dim=0), 3)"
   ]
  },
  {
   "cell_type": "code",
   "execution_count": null,
   "metadata": {},
   "outputs": [
    {
     "name": "stdout",
     "output_type": "stream",
     "text": [
      "2.0\n",
      "2.0\n",
      "3.0\n",
      "3.0\n",
      "3.0\n",
      "3.0\n",
      "3.0\n",
      "2.0\n",
      "2.0\n",
      "1.0\n",
      "1.0\n",
      "2.0\n",
      "2.0\n",
      "2.0\n",
      "3.0\n",
      "3.0\n",
      "3.0\n",
      "3.0\n"
     ]
    },
    {
     "data": {
      "text/plain": [
       "4.394449154672439"
      ]
     },
     "execution_count": 74,
     "metadata": {},
     "output_type": "execute_result"
    }
   ],
   "source": [
    "pns_base(Wp.unsqueeze(dim=0), 3)"
   ]
  },
  {
   "cell_type": "code",
   "execution_count": null,
   "metadata": {},
   "outputs": [],
   "source": [
    "Tw = 3\n",
    "Wk = Wp.unsqueeze(dim=0)\n",
    "O = torch.transpose(\n",
    "    torch.stack([torch.eye(Wk.shape[1]) for i in range(2 * Tw + 1 )]), 0, 2\n",
    ")"
   ]
  },
  {
   "cell_type": "code",
   "execution_count": null,
   "metadata": {},
   "outputs": [
    {
     "data": {
      "text/plain": [
       "tensor([[[1., 1., 1., 1., 1., 1., 1.],\n",
       "         [0., 0., 0., 0., 0., 0., 0.]],\n",
       "\n",
       "        [[0., 0., 0., 0., 0., 0., 0.],\n",
       "         [1., 1., 1., 1., 1., 1., 1.]]])"
      ]
     },
     "execution_count": 76,
     "metadata": {},
     "output_type": "execute_result"
    }
   ],
   "source": [
    "O"
   ]
  },
  {
   "cell_type": "code",
   "execution_count": null,
   "metadata": {},
   "outputs": [
    {
     "data": {
      "text/plain": [
       "tensor([[[0., 0., 0., 1., 0., 1., 0., 0., 0.],\n",
       "         [0., 0., 0., 0., 0., 1., 0., 0., 1.]]])"
      ]
     },
     "execution_count": 77,
     "metadata": {},
     "output_type": "execute_result"
    }
   ],
   "source": [
    "Wk"
   ]
  },
  {
   "cell_type": "code",
   "execution_count": null,
   "metadata": {},
   "outputs": [
    {
     "data": {
      "text/plain": [
       "tensor([[[1., 1., 2., 2., 2., 2., 2., 1., 1.],\n",
       "         [0., 0., 1., 1., 1., 2., 2., 2., 2.]]])"
      ]
     },
     "execution_count": 78,
     "metadata": {},
     "output_type": "execute_result"
    }
   ],
   "source": [
    "torch.conv1d(Wk, O, padding=Tw)"
   ]
  },
  {
   "cell_type": "code",
   "execution_count": null,
   "metadata": {},
   "outputs": [
    {
     "data": {
      "text/plain": [
       "3.0"
      ]
     },
     "execution_count": 64,
     "metadata": {},
     "output_type": "execute_result"
    }
   ],
   "source": [
    "1.0\n",
    "2.0\n",
    "2.0\n",
    "3.0\n",
    "3.0\n",
    "3.0\n",
    "3.0\n",
    "2.0\n",
    "2.0\n",
    "1.0\n",
    "1.0\n",
    "1.0\n",
    "2.0\n",
    "2.0\n",
    "2.0\n",
    "3.0\n",
    "3.0\n",
    "3.0"
   ]
  },
  {
   "cell_type": "markdown",
   "metadata": {},
   "source": [
    "### Comparison with random tensors"
   ]
  },
  {
   "cell_type": "code",
   "execution_count": 12,
   "metadata": {},
   "outputs": [],
   "source": [
    "Ph = torch.rand( (2, 4, 3) ) # R=2 phenotypes, with K=4 event types and \\omega=3 (duration)\n",
    "Wp= torch.rand( (2,9) ) # R=2\n"
   ]
  },
  {
   "cell_type": "code",
   "execution_count": 13,
   "metadata": {},
   "outputs": [
    {
     "data": {
      "text/plain": [
       "tensor([[0.8210, 1.3800, 2.6914, 2.1006, 2.0621, 1.6699, 1.8775, 2.1299, 2.0175,\n",
       "         1.3659, 0.6285],\n",
       "        [0.4587, 1.0660, 2.1632, 1.9104, 1.7513, 1.1155, 1.5354, 1.6241, 1.6849,\n",
       "         1.3032, 0.5311],\n",
       "        [1.1266, 1.8525, 2.5644, 1.8155, 1.5464, 1.6739, 1.7951, 2.1278, 1.7776,\n",
       "         0.8685, 0.2459],\n",
       "        [0.7709, 1.6869, 2.5771, 2.0682, 1.6862, 1.2612, 1.9257, 2.1243, 1.8576,\n",
       "         1.3411, 0.2483]])"
      ]
     },
     "execution_count": 13,
     "metadata": {},
     "output_type": "execute_result"
    }
   ],
   "source": [
    "swotted.reconstruct(Wp, Ph)"
   ]
  },
  {
   "cell_type": "code",
   "execution_count": 14,
   "metadata": {},
   "outputs": [
    {
     "data": {
      "text/plain": [
       "tensor([[[0.8210, 1.3800, 2.6914, 2.1006, 2.0621, 1.6699, 1.8775, 2.1299,\n",
       "          2.0175, 1.3659, 0.6285],\n",
       "         [0.4587, 1.0660, 2.1632, 1.9104, 1.7513, 1.1155, 1.5354, 1.6241,\n",
       "          1.6849, 1.3032, 0.5311],\n",
       "         [1.1266, 1.8525, 2.5644, 1.8155, 1.5464, 1.6739, 1.7951, 2.1278,\n",
       "          1.7776, 0.8685, 0.2459],\n",
       "         [0.7709, 1.6869, 2.5771, 2.0682, 1.6862, 1.2612, 1.9257, 2.1243,\n",
       "          1.8576, 1.3411, 0.2483]]])"
      ]
     },
     "execution_count": 14,
     "metadata": {},
     "output_type": "execute_result"
    }
   ],
   "source": [
    "fastswotted.reconstruct(Wp, Ph.flip(2)) # we need to flip Ph ... because the model use flipped phenotypes!"
   ]
  },
  {
   "cell_type": "code",
   "execution_count": 15,
   "metadata": {},
   "outputs": [
    {
     "ename": "NameError",
     "evalue": "name 'fast_pns' is not defined",
     "output_type": "error",
     "traceback": [
      "\u001b[0;31m---------------------------------------------------------------------------\u001b[0m",
      "\u001b[0;31mNameError\u001b[0m                                 Traceback (most recent call last)",
      "Cell \u001b[0;32mIn[15], line 1\u001b[0m\n\u001b[0;32m----> 1\u001b[0m fast_pns(Wp\u001b[39m.\u001b[39munsqueeze(dim\u001b[39m=\u001b[39m\u001b[39m0\u001b[39m), \u001b[39m3\u001b[39m)\n",
      "\u001b[0;31mNameError\u001b[0m: name 'fast_pns' is not defined"
     ]
    }
   ],
   "source": [
    "fast_pns(Wp.unsqueeze(dim=0), 3)"
   ]
  },
  {
   "cell_type": "code",
   "execution_count": 16,
   "metadata": {},
   "outputs": [
    {
     "name": "stdout",
     "output_type": "stream",
     "text": [
      "3.3005073070526123\n",
      "3.7976690530776978\n",
      "4.566150367259979\n",
      "4.939386188983917\n",
      "5.055931866168976\n",
      "4.688624858856201\n",
      "3.8076741695404053\n",
      "3.7589850425720215\n",
      "3.261823296546936\n",
      "4.091213285923004\n",
      "4.566627085208893\n",
      "4.92310643196106\n",
      "5.707332789897919\n",
      "5.519496262073517\n",
      "5.256077289581299\n",
      "4.306308448314667\n",
      "3.7503592371940613\n",
      "3.2749454379081726\n"
     ]
    },
    {
     "data": {
      "text/plain": [
       "15.85719235221925"
      ]
     },
     "execution_count": 16,
     "metadata": {},
     "output_type": "execute_result"
    }
   ],
   "source": [
    "pns_base(Wp.unsqueeze(dim=0), 3)"
   ]
  },
  {
   "cell_type": "code",
   "execution_count": null,
   "metadata": {},
   "outputs": [
    {
     "data": {
      "text/plain": [
       "8.772329398656115"
      ]
     },
     "execution_count": 19,
     "metadata": {},
     "output_type": "execute_result"
    }
   ],
   "source": [
    "pns(Wp.unsqueeze(dim=0), 3)"
   ]
  },
  {
   "cell_type": "markdown",
   "metadata": {},
   "source": []
  },
  {
   "cell_type": "code",
   "execution_count": null,
   "metadata": {},
   "outputs": [],
   "source": []
  }
 ],
 "metadata": {
  "kernelspec": {
   "display_name": "swotted-oDMlPiGT-py3.10",
   "language": "python",
   "name": "python3"
  },
  "language_info": {
   "codemirror_mode": {
    "name": "ipython",
    "version": 3
   },
   "file_extension": ".py",
   "mimetype": "text/x-python",
   "name": "python",
   "nbconvert_exporter": "python",
   "pygments_lexer": "ipython3",
   "version": "3.10.12"
  },
  "orig_nbformat": 4
 },
 "nbformat": 4,
 "nbformat_minor": 2
}
