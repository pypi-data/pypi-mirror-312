{
 "cells": [
  {
   "attachments": {},
   "cell_type": "markdown",
   "metadata": {},
   "source": [
    "# Testing SWoTTeD on synthetic data"
   ]
  },
  {
   "cell_type": "code",
   "execution_count": null,
   "metadata": {},
   "outputs": [],
   "source": [
    "from gen_data import gen_synthetic_data\n",
    "from swotted.temporalPhenotyping import TemporalPhenotyping\n",
    "from swotted.loss_metrics import *\n",
    "from swotted.slidingWindow_model import SlidingWindow\n",
    "from swotted.utils import success_rate\n",
    "import matplotlib.pyplot as plt\n",
    "import numpy as np\n",
    "import torch\n",
    "import pickle\n",
    "import seaborn as sns"
   ]
  },
  {
   "attachments": {},
   "cell_type": "markdown",
   "metadata": {},
   "source": [
    "#### Params"
   ]
  },
  {
   "cell_type": "code",
   "execution_count": null,
   "metadata": {},
   "outputs": [],
   "source": [
    "K = 100         #: number of patients \n",
    "N = 10          #: number of medical events \n",
    "T = 6           #: length of time's stay \n",
    "R = 4           #: number of phenotypes\n",
    "Tw = 3          #: length of time's window"
   ]
  },
  {
   "attachments": {},
   "cell_type": "markdown",
   "metadata": {},
   "source": [
    "### Synthetic data"
   ]
  },
  {
   "cell_type": "code",
   "execution_count": null,
   "metadata": {},
   "outputs": [],
   "source": [
    "# Generating synthetic data\n",
    "W_, Ph_, X, params =  gen_synthetic_data(K, N, T, R, Tw, sliding_window=True, noise=0.0, truncate=True)"
   ]
  },
  {
   "attachments": {},
   "cell_type": "markdown",
   "metadata": {},
   "source": [
    "### Temporal phenotyping"
   ]
  },
  {
   "cell_type": "code",
   "execution_count": null,
   "metadata": {},
   "outputs": [],
   "source": [
    "# launch the model learning\n",
    "loss = eval(\"Bernoulli\")\n",
    "model = eval(\"SlidingWindow\")\n",
    "tempPheno = TemporalPhenotyping(metric=loss(), model=model())\n",
    "tempPheno.fit(X, \n",
    "\t\trank = R, \n",
    "\t\ttemp_window_length = Tw, \n",
    "\t\tbatch_size = 50,\n",
    "\t\tn_epochs = 1000, \n",
    "\t\tsparsity= True, \n",
    "\t\tnon_negativity = True, \n",
    "\t\tnormalization = True, \n",
    "\t\tpheno_succession = True, \n",
    "\t\ttemp_reg = False,\n",
    "\t\ttrace=True)"
   ]
  },
  {
   "attachments": {},
   "cell_type": "markdown",
   "metadata": {},
   "source": [
    "### Results"
   ]
  },
  {
   "attachments": {},
   "cell_type": "markdown",
   "metadata": {},
   "source": [
    "- Phenotypes"
   ]
  },
  {
   "cell_type": "code",
   "execution_count": null,
   "metadata": {},
   "outputs": [],
   "source": [
    "tempPheno.reorderPhenotypes(Ph_, tw=Tw)\n",
    "if Tw == 1:\n",
    "    Ph = torch.squeeze(tempPheno.Ph, dim=2)\n",
    "else:\n",
    "    Ph = tempPheno.Ph"
   ]
  },
  {
   "cell_type": "code",
   "execution_count": null,
   "metadata": {},
   "outputs": [],
   "source": [
    "if Tw == 1:\n",
    "    plt.subplot(221)\n",
    "    sns.heatmap(Ph_, vmin=0, vmax=1, cmap=\"binary\")\n",
    "    plt.ylabel(\"Drugs\")\n",
    "    plt.xlabel(\"time\")\n",
    "    plt.title(\"phenotype\")\n",
    "    plt.subplot(222)\n",
    "    plt.imshow(Ph.detach().numpy(),cmap = \"gray\", aspect='auto',interpolation = 'none')\n",
    "    sns.heatmap(Ph.detach().numpy(), vmin=0, vmax=1, cmap=\"binary\")\n",
    "    plt.ylabel(\"Drugs\")\n",
    "    plt.xlabel(\"time\")\n",
    "    plt.title(\"result\")\n",
    "    plt.show()\n",
    "else :\n",
    "    for i in range(R):\n",
    "        plt.subplot(221)\n",
    "        sns.heatmap(Ph_[i], vmin=0, vmax=1, cmap=\"binary\")\n",
    "        plt.ylabel(\"Drugs\")\n",
    "        plt.xlabel(\"time\")\n",
    "        plt.title(\"phenotype\")\n",
    "        plt.subplot(222)\n",
    "        sns.heatmap(Ph[i].detach().numpy(), vmin=0, vmax=1, cmap=\"binary\")\n",
    "        plt.ylabel(\"Drugs\")\n",
    "        plt.xlabel(\"time\")\n",
    "        plt.title(\"result\")\n",
    "        plt.show()"
   ]
  },
  {
   "attachments": {},
   "cell_type": "markdown",
   "metadata": {},
   "source": [
    "- Reconctruction"
   ]
  },
  {
   "cell_type": "code",
   "execution_count": null,
   "metadata": {},
   "outputs": [],
   "source": [
    "tempPheno.reconstruction()\n",
    "Y = tempPheno.recons"
   ]
  },
  {
   "cell_type": "code",
   "execution_count": null,
   "metadata": {},
   "outputs": [],
   "source": [
    "for i in range(10):\n",
    "        plt.subplot(221)\n",
    "        sns.heatmap(X[i], vmin=0, vmax=1, cmap=\"binary\")\n",
    "        plt.ylabel(\"Drugs\")\n",
    "        plt.xlabel(\"time\")\n",
    "        plt.title(\"phenotype\")\n",
    "        plt.subplot(222)\n",
    "        sns.heatmap(Y[i].detach().numpy(), vmin=0, vmax=1, cmap=\"binary\")\n",
    "        plt.ylabel(\"Drugs\")\n",
    "        plt.xlabel(\"time\")\n",
    "        plt.title(\"result\")\n",
    "        plt.show()"
   ]
  },
  {
   "attachments": {},
   "cell_type": "markdown",
   "metadata": {},
   "source": [
    "### FIT Scores"
   ]
  },
  {
   "attachments": {},
   "cell_type": "markdown",
   "metadata": {},
   "source": [
    "- FIT X:"
   ]
  },
  {
   "cell_type": "code",
   "execution_count": null,
   "metadata": {},
   "outputs": [],
   "source": [
    "error_X= success_rate(X, Y)\n",
    "print(error_X)"
   ]
  },
  {
   "attachments": {},
   "cell_type": "markdown",
   "metadata": {},
   "source": [
    "- FIT P:"
   ]
  },
  {
   "cell_type": "code",
   "execution_count": null,
   "metadata": {},
   "outputs": [],
   "source": [
    "tempPheno.reorderPhenotypes(Ph_, tw=Tw)\n",
    "error_Ph= success_rate(Ph_, Ph)\n",
    "print(error_Ph)"
   ]
  },
  {
   "attachments": {},
   "cell_type": "markdown",
   "metadata": {},
   "source": [
    "- FIT W:"
   ]
  },
  {
   "cell_type": "code",
   "execution_count": null,
   "metadata": {},
   "outputs": [],
   "source": [
    "error_W= success_rate(W_, tempPheno.Wk)\n",
    "print(error_W)"
   ]
  }
 ],
 "metadata": {
  "interpreter": {
   "hash": "916dbcbb3f70747c44a77c7bcd40155683ae19c65e1c03b4aa3499c5328201f1"
  },
  "kernelspec": {
   "display_name": "Python 3.8.10 64-bit",
   "language": "python",
   "name": "python3"
  },
  "language_info": {
   "codemirror_mode": {
    "name": "ipython",
    "version": 3
   },
   "file_extension": ".py",
   "mimetype": "text/x-python",
   "name": "python",
   "nbconvert_exporter": "python",
   "pygments_lexer": "ipython3",
   "version": "3.8.10"
  },
  "orig_nbformat": 4
 },
 "nbformat": 4,
 "nbformat_minor": 2
}
