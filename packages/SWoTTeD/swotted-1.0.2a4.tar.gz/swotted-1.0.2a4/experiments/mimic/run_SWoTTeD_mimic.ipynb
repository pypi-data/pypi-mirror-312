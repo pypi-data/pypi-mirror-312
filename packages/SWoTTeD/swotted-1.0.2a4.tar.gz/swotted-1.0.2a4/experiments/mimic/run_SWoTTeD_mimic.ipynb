{
 "cells": [
  {
   "cell_type": "markdown",
   "metadata": {},
   "source": [
    "# Testing SWoTTeD on MIMIC-IV data\n"
   ]
  },
  {
   "cell_type": "code",
   "execution_count": null,
   "metadata": {},
   "outputs": [],
   "source": [
    "from model.temporalPhenotyping import TemporalPhenotyping\n",
    "from model.loss_metrics import *\n",
    "from model.slidingWindow_model import SlidingWindow\n",
    "from model.utils import success_rate\n",
    "import matplotlib.pyplot as plt\n",
    "import numpy as np\n",
    "import torch\n",
    "import pickle\n",
    "import seaborn as sns"
   ]
  },
  {
   "cell_type": "markdown",
   "metadata": {},
   "source": [
    "### Params"
   ]
  },
  {
   "cell_type": "code",
   "execution_count": null,
   "metadata": {},
   "outputs": [],
   "source": [
    "R = 4           #: number of phenotype\n",
    "Tw = 3          #: length of time's window"
   ]
  },
  {
   "cell_type": "markdown",
   "metadata": {},
   "source": [
    "### Loading MIMIC-IV data"
   ]
  },
  {
   "cell_type": "code",
   "execution_count": null,
   "metadata": {},
   "outputs": [],
   "source": [
    "# Indicate the path to the file containing mimic-iv data, generated using CohortConstruction.ipynb\n",
    "W_, Ph_, X, params =  pickle.load(open(\"mimic_data.pkl\",\"rb\"))\n",
    "\n",
    "# selecting patients with T > Tw\n",
    "data = []\n",
    "for i in range(len(X)):\n",
    "    if X[i].shape[1] > Tw:\n",
    "        data.append(X[i])\n",
    "\t\n",
    "X = data"
   ]
  },
  {
   "cell_type": "markdown",
   "metadata": {},
   "source": [
    "### Temporal phenotyping"
   ]
  },
  {
   "cell_type": "code",
   "execution_count": null,
   "metadata": {},
   "outputs": [],
   "source": [
    "# launch the model learning\n",
    "loss = eval(\"Bernoulli\")\n",
    "model = eval(\"SlidingWindow\")\n",
    "tempPheno = TemporalPhenotyping(metric=loss(), model=model())\n",
    "tempPheno.fit(X, \n",
    "\t\trank = R, \n",
    "\t\ttemp_window_length = Tw, \n",
    "\t\tbatch_size = 50,\n",
    "\t\tn_epochs = 1000, \n",
    "\t\tsparsity= True, \n",
    "\t\tnon_negativity = True, \n",
    "\t\tnormalization = True, \n",
    "\t\tpheno_succession = True, \n",
    "\t\ttemp_reg = False,\n",
    "\t\ttrace=True)"
   ]
  },
  {
   "cell_type": "markdown",
   "metadata": {},
   "source": [
    "### Results"
   ]
  },
  {
   "cell_type": "markdown",
   "metadata": {},
   "source": [
    "- Phenotypes"
   ]
  },
  {
   "cell_type": "code",
   "execution_count": null,
   "metadata": {},
   "outputs": [],
   "source": [
    "for i in range(R):\n",
    "    sns.heatmap(tempPheno.Ph[i].detach().numpy(), vmin=0, vmax=1, cmap=\"binary\")\n",
    "    plt.ylabel(\"Drugs\")\n",
    "    plt.xlabel(\"time\")\n",
    "    plt.title(\"result\")\n",
    "    plt.show()"
   ]
  },
  {
   "cell_type": "markdown",
   "metadata": {},
   "source": [
    "- Reconctruction"
   ]
  },
  {
   "cell_type": "code",
   "execution_count": null,
   "metadata": {},
   "outputs": [],
   "source": [
    "tempPheno.reconstruction()\n",
    "Y = tempPheno.recons"
   ]
  },
  {
   "cell_type": "code",
   "execution_count": null,
   "metadata": {},
   "outputs": [],
   "source": [
    "for i in range(10):\n",
    "        plt.subplot(221)\n",
    "        sns.heatmap(X[i], vmin=0, vmax=1, cmap=\"binary\")\n",
    "        plt.ylabel(\"Drugs\")\n",
    "        plt.xlabel(\"time\")\n",
    "        plt.title(\"phenotype\")\n",
    "        plt.subplot(222)\n",
    "        sns.heatmap(Y[i].detach().numpy(), vmin=0, vmax=1, cmap=\"binary\")\n",
    "        plt.ylabel(\"Drugs\")\n",
    "        plt.xlabel(\"time\")\n",
    "        plt.title(\"result\")\n",
    "        plt.show()"
   ]
  },
  {
   "cell_type": "markdown",
   "metadata": {},
   "source": [
    "### FIT Score"
   ]
  },
  {
   "cell_type": "code",
   "execution_count": null,
   "metadata": {},
   "outputs": [],
   "source": [
    "error_X= success_rate(X, Y)\n",
    "print(error_X)"
   ]
  }
 ],
 "metadata": {
  "interpreter": {
   "hash": "916dbcbb3f70747c44a77c7bcd40155683ae19c65e1c03b4aa3499c5328201f1"
  },
  "kernelspec": {
   "display_name": "Python 3.8.10 64-bit",
   "language": "python",
   "name": "python3"
  },
  "language_info": {
   "codemirror_mode": {
    "name": "ipython",
    "version": 3
   },
   "file_extension": ".py",
   "mimetype": "text/x-python",
   "name": "python",
   "nbconvert_exporter": "python",
   "pygments_lexer": "ipython3",
   "version": "3.8.10"
  },
  "orig_nbformat": 4
 },
 "nbformat": 4,
 "nbformat_minor": 2
}
