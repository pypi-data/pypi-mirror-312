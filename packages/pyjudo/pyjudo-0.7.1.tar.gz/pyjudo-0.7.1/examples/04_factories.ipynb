{
 "cells": [
  {
   "cell_type": "markdown",
   "metadata": {},
   "source": [
    "# 04 Factories"
   ]
  },
  {
   "cell_type": "markdown",
   "metadata": {},
   "source": [
    "So far we have looked at ways of registering classes and retrieving instances of those classes with the `ServiceContainer`. This will get us most of the way when developing a system using dependency injection, but in some situations we may want to have finer control over when the instances of our classes are created. This is typically done by using a \"Factory\".  \n",
    "\n",
    "A Factory is a callable which returns an instance of a class. There are two \"locations\" in the dependency injection setup where we might want to define factories: \n",
    " - during the registration of a service\n",
    " - in a service's dependencies\n",
    "\n",
    "We may want to specify a factory to create instances of our registered service, rather than letting the `ServiceContainer` directly call it's constructor. This gives greater control over how the service instance is created.\n",
    "\n",
    "Additionally, we may want to give a service a factory to allow it to create it's own instance (or multiple instances) of one or more of it's dependencies.\n",
    "\n",
    "Both of these scenarios are supported with PyJudo. Let's take a look at how..."
   ]
  },
  {
   "cell_type": "code",
   "execution_count": 1,
   "metadata": {},
   "outputs": [],
   "source": [
    "from abc import ABC, abstractmethod\n",
    "\n",
    "from pyjudo import ServiceContainer"
   ]
  },
  {
   "cell_type": "code",
   "execution_count": 2,
   "metadata": {},
   "outputs": [],
   "source": [
    "# Interface\n",
    "class IFoo(ABC):\n",
    "    @abstractmethod\n",
    "    def foo(self): ...\n",
    "\n",
    "# Implementation\n",
    "class Foo(IFoo):\n",
    "    def __init__(self, text: str = \"default\"):\n",
    "        self.text = text\n",
    "\n",
    "    def foo(self):\n",
    "        print(self.text)\n",
    "\n",
    "# Factory function\n",
    "def create_foo() -> Foo:\n",
    "    return Foo(\"I was built in a factory!\")"
   ]
  },
  {
   "cell_type": "code",
   "execution_count": 3,
   "metadata": {},
   "outputs": [],
   "source": [
    "# Create a container and register the factory\n",
    "container = ServiceContainer()\n",
    "\n",
    "container.register(IFoo, create_foo)"
   ]
  },
  {
   "cell_type": "code",
   "execution_count": 4,
   "metadata": {},
   "outputs": [
    {
     "name": "stdout",
     "output_type": "stream",
     "text": [
      "I was built in a factory!\n"
     ]
    }
   ],
   "source": [
    "foo = container.get(IFoo)\n",
    "\n",
    "foo.foo()"
   ]
  },
  {
   "cell_type": "markdown",
   "metadata": {},
   "source": [
    "It's as simple as that. Instead of registering the `Foo` class, we registered a callable that returns a `Foo` and we were able to retrieve the factory built `IFoo` from the `ServiceContainer`.\n",
    "\n",
    "There are some caveats to this... The `ServiceContainer` relies on proper type annotations in factory registration. Since it cannot check the return type of the factory before it calls it, it has to rely on the developer responsibly implementing the correct return type.  \n",
    "\n",
    "For example, this is entirely \"legal\", but broken to do:"
   ]
  },
  {
   "cell_type": "code",
   "execution_count": 5,
   "metadata": {},
   "outputs": [],
   "source": [
    "# Stupid is as stupid does...\n",
    "container.unregister(IFoo)\n",
    "\n",
    "def incorrect_create_foo() -> Foo:\n",
    "    return \"derp\"\n",
    "\n",
    "container.register(IFoo, incorrect_create_foo)"
   ]
  },
  {
   "cell_type": "code",
   "execution_count": 6,
   "metadata": {},
   "outputs": [
    {
     "name": "stdout",
     "output_type": "stream",
     "text": [
      "Error: ServiceTypeError(\"Service 'derp' is not of type 'IFoo'\")\n"
     ]
    }
   ],
   "source": [
    "from pyjudo.exceptions import ServiceTypeError\n",
    "\n",
    "try:\n",
    "    foo = container.get(IFoo)\n",
    "except ServiceTypeError as e:\n",
    "    print(f\"Error: {e!r}\")\n"
   ]
  },
  {
   "cell_type": "markdown",
   "metadata": {},
   "source": [
    "The example above has the correct annotation for the factory (returning `Foo`), so the `ServiceContainer` doesn't complain during registration, but the actual implementation returns a string. And thus, there are no errors during registration; however, when we try to retrieve `IFoo` from the `ServiceContainer`, we get a `ServiceTypeError`."
   ]
  },
  {
   "cell_type": "markdown",
   "metadata": {},
   "source": [
    "The other use case for factories is in a services dependencies.  \n",
    "In some scenarios we may want to give a service a factory toallow it to create instances of it's dependencies. This is achieved in PyJudo by annotating the dependency with `Factory`:"
   ]
  },
  {
   "cell_type": "code",
   "execution_count": 7,
   "metadata": {},
   "outputs": [],
   "source": [
    "from pyjudo import Factory\n",
    "\n",
    "# Interface\n",
    "class IBar(ABC): ...\n",
    "\n",
    "# Implementation with a Factory[IFoo] dependency\n",
    "class Bar(IBar):\n",
    "    def __init__(self, foo_factory: Factory[IFoo]):\n",
    "        self.foo_factory = foo_factory"
   ]
  },
  {
   "cell_type": "code",
   "execution_count": 8,
   "metadata": {},
   "outputs": [
    {
     "data": {
      "text/plain": [
       "<pyjudo.service_container.ServiceContainer at 0x26f71819250>"
      ]
     },
     "execution_count": 8,
     "metadata": {},
     "output_type": "execute_result"
    }
   ],
   "source": [
    "container.unregister(IFoo)\n",
    "\n",
    "container.add_transient(IFoo, Foo)\n",
    "container.add_transient(IBar, Bar)"
   ]
  },
  {
   "cell_type": "code",
   "execution_count": 9,
   "metadata": {},
   "outputs": [
    {
     "name": "stdout",
     "output_type": "stream",
     "text": [
      "default\n",
      "I was built by Bar!\n"
     ]
    }
   ],
   "source": [
    "bar = container.get(IBar)\n",
    "\n",
    "foo1 = bar.foo_factory()\n",
    "foo1.foo()\n",
    "\n",
    "foo2 = bar.foo_factory(text=\"I was built by Bar!\")\n",
    "foo2.foo()"
   ]
  },
  {
   "cell_type": "markdown",
   "metadata": {},
   "source": [
    "In this example, the implementation of `Bar` specifies `Factory[IFoo]` in it's dependencies. So, the `ServiceContainer` injects a callable (rather than an instance) into the `Bar` constructor. \n",
    "\n",
    "The injected factory works in a similar manner to retrieving services from the `ServiceContainer`, allowing you to pass in additional  arguments for constructing the service instance."
   ]
  }
 ],
 "metadata": {
  "kernelspec": {
   "display_name": ".venv",
   "language": "python",
   "name": "python3"
  },
  "language_info": {
   "codemirror_mode": {
    "name": "ipython",
    "version": 3
   },
   "file_extension": ".py",
   "mimetype": "text/x-python",
   "name": "python",
   "nbconvert_exporter": "python",
   "pygments_lexer": "ipython3",
   "version": "3.12.5"
  }
 },
 "nbformat": 4,
 "nbformat_minor": 2
}
