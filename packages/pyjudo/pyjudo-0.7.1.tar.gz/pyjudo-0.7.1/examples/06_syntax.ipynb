{
 "cells": [
  {
   "cell_type": "markdown",
   "metadata": {},
   "source": [
    "# 06 Syntax"
   ]
  },
  {
   "cell_type": "markdown",
   "metadata": {},
   "source": [
    "**PyJudo** offers several alternative syntaxes for registering and resolving services, shown here:"
   ]
  },
  {
   "cell_type": "code",
   "execution_count": 1,
   "metadata": {},
   "outputs": [],
   "source": [
    "from abc import ABC\n",
    "\n",
    "from pyjudo import ServiceContainer, ServiceLife\n",
    "\n",
    "# Interfaces\n",
    "class IFoo(ABC): ...\n",
    "\n",
    "class IBar(ABC): ...\n",
    "\n",
    "class IBaz(ABC): ...\n",
    "\n",
    "# Implementations\n",
    "class Foo(IFoo): \n",
    "    def __init__(self, text: str = \"default\"):\n",
    "        ...\n",
    "\n",
    "class Bar(IBar): ...\n",
    "\n",
    "class Baz(IBaz): ..."
   ]
  },
  {
   "cell_type": "markdown",
   "metadata": {},
   "source": [
    "## Registration"
   ]
  },
  {
   "cell_type": "markdown",
   "metadata": {},
   "source": [
    "The following examples show equivalent syntax for registering services with the `ServiceContainer`:"
   ]
  },
  {
   "cell_type": "code",
   "execution_count": 2,
   "metadata": {},
   "outputs": [],
   "source": [
    "container = ServiceContainer()"
   ]
  },
  {
   "cell_type": "code",
   "execution_count": 3,
   "metadata": {},
   "outputs": [
    {
     "data": {
      "text/plain": [
       "<pyjudo.service_container.ServiceContainer at 0x21d0e488680>"
      ]
     },
     "execution_count": 3,
     "metadata": {},
     "output_type": "execute_result"
    }
   ],
   "source": [
    "# container.register(IFoo, Foo)  # Default lifetime is ServiceLife.TRANSIENT\n",
    "# container.register(IBar, Bar, ServiceLife.TRANSIENT)\n",
    "container.add_transient(IFoo, Foo)"
   ]
  },
  {
   "cell_type": "code",
   "execution_count": 4,
   "metadata": {},
   "outputs": [
    {
     "data": {
      "text/plain": [
       "<pyjudo.service_container.ServiceContainer at 0x21d0e488680>"
      ]
     },
     "execution_count": 4,
     "metadata": {},
     "output_type": "execute_result"
    }
   ],
   "source": [
    "# container.register(IBar, Bar, ServiceLife.SCOPED)\n",
    "container.add_scoped(IBar, Bar)"
   ]
  },
  {
   "cell_type": "code",
   "execution_count": 5,
   "metadata": {},
   "outputs": [
    {
     "data": {
      "text/plain": [
       "<pyjudo.service_container.ServiceContainer at 0x21d0e488680>"
      ]
     },
     "execution_count": 5,
     "metadata": {},
     "output_type": "execute_result"
    }
   ],
   "source": [
    "# container.register(IBaz, Baz, ServiceLife.SINGLETON)\n",
    "container.add_singleton(IBaz, Baz)"
   ]
  },
  {
   "cell_type": "markdown",
   "metadata": {},
   "source": [
    "You can use the `add_...` methods in a fluent style:"
   ]
  },
  {
   "cell_type": "code",
   "execution_count": 6,
   "metadata": {},
   "outputs": [
    {
     "data": {
      "text/plain": [
       "<pyjudo.service_container.ServiceContainer at 0x21d0e5f9b80>"
      ]
     },
     "execution_count": 6,
     "metadata": {},
     "output_type": "execute_result"
    }
   ],
   "source": [
    "container = ServiceContainer()\n",
    "\n",
    "\n",
    "(container\n",
    "    .add_transient(IFoo, Foo)\n",
    "    .add_scoped(IBar, Bar)\n",
    "    .add_scoped(IBaz, Baz))\n"
   ]
  },
  {
   "cell_type": "markdown",
   "metadata": {},
   "source": [
    "## Retrieving Services"
   ]
  },
  {
   "cell_type": "markdown",
   "metadata": {},
   "source": [
    "The following examples show equivalent syntax for retrieving services from the `ServiceContainer`:"
   ]
  },
  {
   "cell_type": "code",
   "execution_count": 7,
   "metadata": {},
   "outputs": [],
   "source": [
    "foo = container.get(IFoo, text=\"something\")\n",
    "foo = container[IFoo](test=\"something\")"
   ]
  },
  {
   "cell_type": "code",
   "execution_count": 8,
   "metadata": {},
   "outputs": [],
   "source": [
    "with container.create_scope() as scope:\n",
    "    bar = scope.get(IBar)\n",
    "    bar = scope[IBar]()\n",
    "\n",
    "with container.create_scope():\n",
    "    bar = container.get(IBar)\n",
    "    bar = container[IBar]()"
   ]
  }
 ],
 "metadata": {
  "kernelspec": {
   "display_name": ".venv",
   "language": "python",
   "name": "python3"
  },
  "language_info": {
   "codemirror_mode": {
    "name": "ipython",
    "version": 3
   },
   "file_extension": ".py",
   "mimetype": "text/x-python",
   "name": "python",
   "nbconvert_exporter": "python",
   "pygments_lexer": "ipython3",
   "version": "3.12.5"
  }
 },
 "nbformat": 4,
 "nbformat_minor": 2
}
