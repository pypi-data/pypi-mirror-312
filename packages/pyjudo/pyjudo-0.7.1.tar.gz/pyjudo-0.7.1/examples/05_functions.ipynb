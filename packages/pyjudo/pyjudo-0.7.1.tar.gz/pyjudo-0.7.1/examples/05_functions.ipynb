{
 "cells": [
  {
   "cell_type": "markdown",
   "metadata": {},
   "source": [
    "# 05 Functions"
   ]
  },
  {
   "cell_type": "markdown",
   "metadata": {},
   "source": [
    "**PyJudo** supports injecting dependencies into functions. This is achieved with the `@container.inject` decorator.  \n",
    "\n",
    "In some circumstances, it may be useful to add dependencies to a function or method, rather than in a class constructor.\n",
    "\n",
    "**PyJudo** supports injecting dependencies into vanilla functions, bound methods, class methods and static methods."
   ]
  },
  {
   "cell_type": "code",
   "execution_count": 1,
   "metadata": {},
   "outputs": [],
   "source": [
    "from abc import ABC, abstractmethod\n",
    "\n",
    "from pyjudo import ServiceContainer"
   ]
  },
  {
   "cell_type": "markdown",
   "metadata": {},
   "source": [
    "Lets take a look at some examples:"
   ]
  },
  {
   "cell_type": "code",
   "execution_count": 2,
   "metadata": {},
   "outputs": [],
   "source": [
    "# Interfaces\n",
    "class IFoo(ABC):\n",
    "    @abstractmethod\n",
    "    def print_text(self): ...\n",
    "\n",
    "class IBar(ABC):\n",
    "    @abstractmethod\n",
    "    def print_text(self): ...\n",
    "\n",
    "class IBaz(ABC):\n",
    "    @abstractmethod\n",
    "    def print_text(self): ...\n",
    "\n",
    "# Implementations\n",
    "class Foo(IFoo):\n",
    "    def __init__(self, text:str = \"text\"):\n",
    "        self.text = text\n",
    "\n",
    "    def print_text(self):\n",
    "        print(self.text)\n",
    "\n",
    "class Bar(IBar):\n",
    "    def __init__(self, text:str = \"text\"):\n",
    "        self.text = text\n",
    "\n",
    "    def print_text(self):\n",
    "        print(self.text)\n",
    "\n",
    "class Baz(IBaz):\n",
    "    def __init__(self, foo:IFoo, bar:IBar):\n",
    "        self.foo = foo\n",
    "        self.bar = bar\n",
    "\n",
    "    def print_text(self):\n",
    "        self.foo.print_text()\n",
    "        self.bar.print_text()\n",
    "    \n",
    "    def dispose(self):\n",
    "        print(\"Disposing Baz\")"
   ]
  },
  {
   "cell_type": "code",
   "execution_count": 3,
   "metadata": {},
   "outputs": [
    {
     "data": {
      "text/plain": [
       "<pyjudo.service_container.ServiceContainer at 0x1d4ca455790>"
      ]
     },
     "execution_count": 3,
     "metadata": {},
     "output_type": "execute_result"
    }
   ],
   "source": [
    "# Serup a container\n",
    "container = ServiceContainer()\n",
    "container.add_singleton(IFoo, Foo)\n",
    "container.add_transient(IBar, Bar)\n",
    "container.add_scoped(IBaz, Baz)"
   ]
  },
  {
   "cell_type": "code",
   "execution_count": 4,
   "metadata": {},
   "outputs": [
    {
     "name": "stdout",
     "output_type": "stream",
     "text": [
      "x=2, y=1\n",
      "override\n",
      "text\n",
      "Disposing Baz\n"
     ]
    }
   ],
   "source": [
    "# Lets get some services, and notably create the singleton IFoo with overwritten text\n",
    "foo = container.get(IFoo, text=\"override\")\n",
    "bar = container.get(IBar, text=\"override\")\n",
    "\n",
    "# Define a function that takes some arguments, and injects the IBaz service\n",
    "@container.inject\n",
    "def something(x: int, baz: IBaz, y: int):\n",
    "    print(f\"{x=}, {y=}\")\n",
    "    baz.print_text()\n",
    "\n",
    "# IBaz is scoped, so we need to create a scope to get a new instance\n",
    "with container.create_scope():\n",
    "    something(x=2, y=1)"
   ]
  },
  {
   "cell_type": "markdown",
   "metadata": {},
   "source": [
    "We can see in this example that we didn't explicitly pass an argument for `baz` in `something(...)`; the `ServiceContainer` resolved it for us, and also took care of its disposal."
   ]
  },
  {
   "cell_type": "markdown",
   "metadata": {},
   "source": [
    "Whilst a little out of the norm; we may also want to inject services into methods. We can inject services into instance (bound), class and static methods using the same `@container.inject` syntax:"
   ]
  },
  {
   "cell_type": "code",
   "execution_count": 5,
   "metadata": {},
   "outputs": [],
   "source": [
    "class Qux:\n",
    "    @container.inject\n",
    "    def do_a_foo(self, foo: IFoo):\n",
    "        foo.print_text()\n",
    "\n",
    "    @container.inject\n",
    "    @classmethod\n",
    "    def do_a_bar(cls, bar: IBar):\n",
    "        bar.print_text()\n",
    "\n",
    "    @container.inject\n",
    "    @staticmethod\n",
    "    def do_a_static_bar(baz: IBaz):\n",
    "        baz.print_text()"
   ]
  },
  {
   "cell_type": "code",
   "execution_count": 6,
   "metadata": {},
   "outputs": [
    {
     "name": "stdout",
     "output_type": "stream",
     "text": [
      "Bound method injection\n",
      "override\n",
      "\n",
      "Classmethod injection\n",
      "text\n",
      "\n",
      "Staticmethod injection\n",
      "override\n",
      "text\n",
      "Disposing Baz\n"
     ]
    }
   ],
   "source": [
    "# Bound method\n",
    "print(\"Bound method injection\")\n",
    "q = Qux()\n",
    "q.do_a_foo()\n",
    "\n",
    "# Class method\n",
    "print(\"\\nClassmethod injection\")\n",
    "Qux.do_a_bar()\n",
    "\n",
    "# Static method\n",
    "print(\"\\nStaticmethod injection\")\n",
    "with container.create_scope():\n",
    "    Qux.do_a_static_bar()"
   ]
  },
  {
   "cell_type": "markdown",
   "metadata": {},
   "source": [
    "Like the previous example, we can see that the `ServiceContainer` resolves the dependencies for the methods, adhering to the lifetimes we specified for the services during registration."
   ]
  },
  {
   "cell_type": "markdown",
   "metadata": {},
   "source": [
    "Overall, function injection gives us more flexibility for injecting dependencies but keeps the interface simple 😎"
   ]
  }
 ],
 "metadata": {
  "kernelspec": {
   "display_name": ".venv",
   "language": "python",
   "name": "python3"
  },
  "language_info": {
   "codemirror_mode": {
    "name": "ipython",
    "version": 3
   },
   "file_extension": ".py",
   "mimetype": "text/x-python",
   "name": "python",
   "nbconvert_exporter": "python",
   "pygments_lexer": "ipython3",
   "version": "3.12.5"
  }
 },
 "nbformat": 4,
 "nbformat_minor": 2
}
