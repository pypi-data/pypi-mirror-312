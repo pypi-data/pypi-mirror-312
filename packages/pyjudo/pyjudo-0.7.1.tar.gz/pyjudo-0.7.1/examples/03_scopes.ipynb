{
 "cells": [
  {
   "cell_type": "markdown",
   "metadata": {},
   "source": [
    "# 03 Scopes"
   ]
  },
  {
   "cell_type": "markdown",
   "metadata": {},
   "source": [
    "As discussed in [02 Service Lifetimes](02_lifetimes.ipynb), services in a `ServiceContainer` can have a lifetime associated with them.\n",
    "To briefly recap, service lifetimes can be defined as:\n",
    " - Transient: a new service instance is created each time it is retrieved\n",
    " - Scoped: a single instance is created per scope\n",
    " - Singleton: a single instance is created per `ServiceContainer`\n",
    "\n",
    "Transient and Singleton services are fairly simple to understand, and don't require any additional mechanics to make use of them. However, Scoped services require a `Scope`.\n",
    "\n",
    "Bear with me, this is going to be a bit of a wordy one..."
   ]
  },
  {
   "cell_type": "markdown",
   "metadata": {},
   "source": [
    "**What is a Scope?**  \n",
    "A scope acts as a boundary within which scoped services are instantiated and managed. Think of a scope as a distinct context or environment that controls the lifecycle of its scoped services. This ensures that within a given scope:\n",
    " - Scoped services are created once and reused whenever requested.\n",
    " - Transient and Singleton services behave consistently across scopes, adhering to their respective lifetimes.\n",
    "\n",
    "**How Scopes Work**  \n",
    "Each scope maintains its own set of scoped service instances. This means that scoped services within one scope are isolated from those in another, preventing unintended sharing or conflicts.\n",
    "\n",
    "When a new scope is created, it inherits all the service registrations from the parent `ServiceContainer`. However, for scoped services, the scope ensures that new instances are provided within its boundary while respecting singleton and transient lifetimes.\n",
    "\n",
    "Once a scope is exited, it is typical that all scoped service instances within it are disposed. This automatic cleanup helps manage resources efficiently and avoids memory leaks.\n",
    "\n",
    "Scopes operate with a stack. When you enter into a new scope, it is pushed to the top of the stack. And conversly, when you exit from a scope, it is popped from the top of the stack. When you retrieve a scoped service from the `ServiceCollection`, it will retrieve it from the top of the scope stack.  \n",
    "In PyJudo, there is no \"base\" or \"global\" scope, you need to explicitly enter a new scope. Trying to retrieve a service without entering a scope will throw an exception*.\n",
    "\n",
    "**When to use Scopes**  \n",
    "Scoped services are ideal in scenarios where you need:\n",
    " - \"Per-request\" Lifetimes  \n",
    "   For example, in web applications it is typical to create a new scope for each HTTP request. This ensures that services are consistent throughout the handling of that request but isolated from others.\n",
    "\n",
    " - \"Operational\" Services\n",
    "   When services hold resources that should be released after a specific operation or context. Scoped lifetimes ensure isolation from other (sometimes concurrent) operations and provide a post-operation disposal mechanism.\n"
   ]
  },
  {
   "cell_type": "markdown",
   "metadata": {},
   "source": [
    "> **\\* NOTE**  \n",
    "> It is debatable whether there should be a \"global\" scope, but I'm of the opinion that this is a poor design.  \n",
    ">  \n",
    "> Services which are scoped imply they have an expiration and should be disposed of. A \"global\" scope would not be disposed of until the container is disposed, meaning scoped services resolved in the \"global\" scope are effectively implicit singletons.  \n",
    ">  \n",
    "> I think it's better to explicitly define that behaviour to prevent accidental misuse; thus, scoped services cannot be resolved unless within an explicitly defined scope."
   ]
  },
  {
   "cell_type": "markdown",
   "metadata": {},
   "source": [
    "Lets take a look at some examples to better understand scopes and scoped services..."
   ]
  },
  {
   "cell_type": "code",
   "execution_count": 20,
   "metadata": {},
   "outputs": [],
   "source": [
    "from abc import ABC, abstractmethod\n",
    "\n",
    "from pyjudo import ServiceContainer"
   ]
  },
  {
   "cell_type": "code",
   "execution_count": 21,
   "metadata": {},
   "outputs": [],
   "source": [
    "# Interfaces\n",
    "class IFoo(ABC):\n",
    "    text: str\n",
    "\n",
    "    @abstractmethod\n",
    "    def foo(self): ...\n",
    "\n",
    "class IBar(ABC):\n",
    "    @abstractmethod\n",
    "    def bar(self): ...\n",
    "\n",
    "\n",
    "# Implementations\n",
    "class Foo(IFoo):\n",
    "    def __init__(self, text: str = \"default text\"):\n",
    "        self.text = text\n",
    "\n",
    "    def foo(self):\n",
    "        print(self.text)\n",
    "\n",
    "class Bar(IBar):\n",
    "    def __init__(self, foo: IFoo):\n",
    "        self.foo = foo\n",
    "\n",
    "    def bar(self):\n",
    "        print(f\"My Foo says: {self.foo.text}\")\n"
   ]
  },
  {
   "cell_type": "code",
   "execution_count": 22,
   "metadata": {},
   "outputs": [
    {
     "data": {
      "text/plain": [
       "<pyjudo.service_container.ServiceContainer at 0x23fd2b2d220>"
      ]
     },
     "execution_count": 22,
     "metadata": {},
     "output_type": "execute_result"
    }
   ],
   "source": [
    "# Create a container and register the services\n",
    "container = ServiceContainer()\n",
    "\n",
    "container.add_scoped(IFoo, Foo)\n",
    "container.add_transient(IBar, Bar)"
   ]
  },
  {
   "cell_type": "markdown",
   "metadata": {},
   "source": [
    "Note that we have registered `IFoo` as a scoped service."
   ]
  },
  {
   "cell_type": "code",
   "execution_count": 23,
   "metadata": {},
   "outputs": [
    {
     "name": "stdout",
     "output_type": "stream",
     "text": [
      "My Foo says: default text\n"
     ]
    }
   ],
   "source": [
    "# Simple scope\n",
    "with container.create_scope() as scope:\n",
    "    bar = scope.get(IBar)\n",
    "    bar.bar()\n"
   ]
  },
  {
   "cell_type": "markdown",
   "metadata": {},
   "source": [
    "This is the most basic use of a scope. Enter into a new scope, retrieve our service, and utilise it within the scope. EZ PZ."
   ]
  },
  {
   "cell_type": "code",
   "execution_count": 24,
   "metadata": {},
   "outputs": [
    {
     "name": "stdout",
     "output_type": "stream",
     "text": [
      "Error: Service 'IFoo' is scoped but no scope was provided.\n"
     ]
    }
   ],
   "source": [
    "from pyjudo.exceptions import ServiceResolutionError\n",
    "\n",
    "try:\n",
    "    foo = container.get(IFoo)\n",
    "except ServiceResolutionError as e:\n",
    "    print(f\"Error: {e}\")"
   ]
  },
  {
   "cell_type": "markdown",
   "metadata": {},
   "source": [
    "As previously mentioned, scoped services require an explicit scope to be retrieved. Here we get a `ServiceResolutionError` because we are trying to retrieve `IFoo` outside of any scopes."
   ]
  },
  {
   "cell_type": "code",
   "execution_count": 25,
   "metadata": {},
   "outputs": [
    {
     "name": "stdout",
     "output_type": "stream",
     "text": [
      "default text\n",
      "Hello from outer scope\n"
     ]
    }
   ],
   "source": [
    "# Nested scope\n",
    "with container.create_scope() as scope:\n",
    "    foo_outer = scope.get(IFoo)\n",
    "    foo_outer.text = \"Hello from outer scope\"\n",
    "    \n",
    "    with container.create_scope() as nested_scope:\n",
    "        foo_inner = nested_scope.get(IFoo)\n",
    "        foo_inner.foo()\n",
    "\n",
    "    foo_outer.foo()"
   ]
  },
  {
   "cell_type": "markdown",
   "metadata": {},
   "source": [
    "This example makes use of scope stacks. The `IFoo` in the outer scope is modified, but the inner `IFoo` displays the original default text.\n",
    "\n",
    "All of the examples so far have used the syntax:\n",
    "```python\n",
    "with container.create_scope() as scope:\n",
    "    ... = scope.get(...)\n",
    "```\n",
    "\n",
    "This gives our scope an identifier, in this case `scope`. Technically, this is not required. You can directly use the `ServiceContainer`, because it will always try to retrieve scoped services from the top of the scope stack.\n",
    "\n",
    "It is just as valid to do the following:"
   ]
  },
  {
   "cell_type": "code",
   "execution_count": 26,
   "metadata": {},
   "outputs": [
    {
     "name": "stdout",
     "output_type": "stream",
     "text": [
      "default text\n",
      "Hello from outer scope\n"
     ]
    }
   ],
   "source": [
    "# Unnamed nested scope\n",
    "with container.create_scope():\n",
    "    foo_outer = container.get(IFoo)\n",
    "    foo_outer.text = \"Hello from outer scope\"\n",
    "    \n",
    "    with container.create_scope():\n",
    "        foo_inner = container.get(IFoo)\n",
    "        foo_inner.foo()\n",
    "\n",
    "    foo_outer.foo()"
   ]
  },
  {
   "cell_type": "markdown",
   "metadata": {},
   "source": [
    "Personally, I prefer the named style and will use it going forward. I think it is more readable, particularly when the context body gets long."
   ]
  },
  {
   "cell_type": "markdown",
   "metadata": {},
   "source": [
    "At this point, you might be wondering \"hey, what if i access the `foo_inner` outside of the scope it was created in\" (at least if you're anything like me...)"
   ]
  },
  {
   "cell_type": "code",
   "execution_count": 27,
   "metadata": {},
   "outputs": [
    {
     "name": "stdout",
     "output_type": "stream",
     "text": [
      "default text\n",
      "Hello from outer scope\n"
     ]
    }
   ],
   "source": [
    "# Out of scope service use\n",
    "with container.create_scope() as scope:\n",
    "    foo_outer = scope.get(IFoo)\n",
    "    foo_outer.text = \"Hello from outer scope\"\n",
    "    \n",
    "    with container.create_scope() as nested_scope:\n",
    "        foo_inner = nested_scope.get(IFoo)\n",
    "    \n",
    "    foo_inner.foo()\n",
    "    foo_outer.foo()"
   ]
  },
  {
   "cell_type": "markdown",
   "metadata": {},
   "source": [
    "Well, the answer is pretty much \"nothing - it does what you'd expect... kinda\".  \n",
    "\n",
    "In the example above we did as usual, retrieved a `foo_outer` and a `foo_inner`, but this time accessed them both in the outer scope. And `foo_inner` printed as it did previously...  \n",
    "Well, that's kinda what we expected, but did't that big long winded text block at the start of this example talk about \"disposing\" and \"isolation\"? We've just blown straight through that \"isolation\"... \n",
    "\n",
    "In some cases, the displayed behaviour may be intended. You may want to control creating `IFoo` instances in a scope to be used later outwith the scope. We're also in \"Python\" land, where rules are not so much rules, but small fences to be tripped over.  \n",
    "\n",
    "It is however typical that scoped services are disposed of when leaving the scope they were created in. In order to do that, we need to implement a `dispose` method on any scoped service, so that the `ServiceContainer` knows what to do with each service when the scope is exited."
   ]
  },
  {
   "cell_type": "code",
   "execution_count": 28,
   "metadata": {},
   "outputs": [],
   "source": [
    "class DisposableFoo(IFoo):\n",
    "    def __init__(self, text: str = \"default text\"):\n",
    "        self.text = text\n",
    "\n",
    "    def foo(self):\n",
    "        print(self.text)\n",
    "\n",
    "    def dispose(self):\n",
    "        self.text = \"IM DISPOSED DONT USE ME\""
   ]
  },
  {
   "cell_type": "code",
   "execution_count": 29,
   "metadata": {},
   "outputs": [
    {
     "data": {
      "text/plain": [
       "<pyjudo.service_container.ServiceContainer at 0x23fd2b2d220>"
      ]
     },
     "execution_count": 29,
     "metadata": {},
     "output_type": "execute_result"
    }
   ],
   "source": [
    "# Register the new DisposableFoo\n",
    "container.unregister(IFoo)\n",
    "\n",
    "container.add_scoped(IFoo, DisposableFoo)"
   ]
  },
  {
   "cell_type": "code",
   "execution_count": 30,
   "metadata": {},
   "outputs": [
    {
     "name": "stdout",
     "output_type": "stream",
     "text": [
      "default text\n",
      "IM DISPOSED DONT USE ME\n",
      "Hello from outer scope\n"
     ]
    }
   ],
   "source": [
    "# Out of scope service use with disposable\n",
    "with container.create_scope() as scope:\n",
    "    foo_outer = scope.get(IFoo)\n",
    "    foo_outer.text = \"Hello from outer scope\"\n",
    "    \n",
    "    with container.create_scope() as nested_scope:\n",
    "        foo_inner = nested_scope.get(IFoo)\n",
    "        foo_inner.foo()\n",
    "    \n",
    "    foo_inner.foo()\n",
    "    foo_outer.foo()"
   ]
  },
  {
   "cell_type": "markdown",
   "metadata": {},
   "source": [
    "This time when we accessed our `DisposableFoo` outside its scope, it printed the updated text set in `dispose()`. So, if our scoped service has a `dispose()` method, the `ServiceContainer` will automatically call it on each scoped service when it leaves a scope.\n",
    "\n",
    "This is useful for updating a services state when a scope exits, but it doesnt really prevent any accidental continued use of the service outwith the scope (unless you implement it).  \n",
    "\n",
    "PyJudo provides an `IDisposable` abstract class, which will do just that."
   ]
  },
  {
   "cell_type": "code",
   "execution_count": 31,
   "metadata": {},
   "outputs": [],
   "source": [
    "from pyjudo.disposable import IDisposable\n",
    "\n",
    "class DisposableFoo_v2(IFoo, IDisposable):\n",
    "    def __init__(self, text: str = \"default text\"):\n",
    "        self.text = text\n",
    "\n",
    "    def foo(self):\n",
    "        print(self.text)\n",
    "\n",
    "    def do_dispose(self):\n",
    "        self.text = \"IM DISPOSED DONT USE ME\""
   ]
  },
  {
   "cell_type": "code",
   "execution_count": 32,
   "metadata": {},
   "outputs": [
    {
     "data": {
      "text/plain": [
       "<pyjudo.service_container.ServiceContainer at 0x23fd2b2d220>"
      ]
     },
     "execution_count": 32,
     "metadata": {},
     "output_type": "execute_result"
    }
   ],
   "source": [
    "# Register the new-new DisposableFoo\n",
    "container.unregister(IFoo)\n",
    "\n",
    "container.add_scoped(IFoo, DisposableFoo_v2)"
   ]
  },
  {
   "cell_type": "code",
   "execution_count": 33,
   "metadata": {},
   "outputs": [
    {
     "name": "stdout",
     "output_type": "stream",
     "text": [
      "default text\n",
      "Error: ServiceDisposedError('Object is disposed and cannot be used.')\n",
      "Hello from outer scope\n"
     ]
    }
   ],
   "source": [
    "# Out of scope service use with disposable v2\n",
    "\n",
    "from pyjudo.exceptions import ServiceDisposedError\n",
    "\n",
    "with container.create_scope() as scope:\n",
    "    foo_outer = scope.get(IFoo)\n",
    "    foo_outer.text = \"Hello from outer scope\"\n",
    "    \n",
    "    with container.create_scope() as nested_scope:\n",
    "        foo_inner = nested_scope.get(IFoo)\n",
    "        foo_inner.foo()\n",
    "    \n",
    "    try:\n",
    "        foo_inner.foo()\n",
    "    except ServiceDisposedError as e:\n",
    "        print(f\"Error: {e!r}\")\n",
    "    foo_outer.foo()"
   ]
  },
  {
   "cell_type": "markdown",
   "metadata": {},
   "source": [
    "That's more like it. When we tried to access the `foo_inner` outside of it's scope, we get a `ServiceDisposedError`. This prevents services being used outwith their scope, ensuring their isolation."
   ]
  },
  {
   "cell_type": "markdown",
   "metadata": {},
   "source": [
    "And with that, I think that mostly covers scoped services. I hope that gave you some useful information on scoped service lifetimes and how they are implemented in PyJudo!"
   ]
  }
 ],
 "metadata": {
  "kernelspec": {
   "display_name": ".venv",
   "language": "python",
   "name": "python3"
  },
  "language_info": {
   "codemirror_mode": {
    "name": "ipython",
    "version": 3
   },
   "file_extension": ".py",
   "mimetype": "text/x-python",
   "name": "python",
   "nbconvert_exporter": "python",
   "pygments_lexer": "ipython3",
   "version": "3.12.5"
  }
 },
 "nbformat": 4,
 "nbformat_minor": 2
}
