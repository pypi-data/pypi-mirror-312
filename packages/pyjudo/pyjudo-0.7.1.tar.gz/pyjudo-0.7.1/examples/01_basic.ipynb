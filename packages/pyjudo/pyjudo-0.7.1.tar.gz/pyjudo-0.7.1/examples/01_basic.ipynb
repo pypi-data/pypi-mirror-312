{
 "cells": [
  {
   "cell_type": "markdown",
   "metadata": {},
   "source": [
    "# 01 Basic Examples"
   ]
  },
  {
   "cell_type": "code",
   "execution_count": 1,
   "metadata": {},
   "outputs": [],
   "source": [
    "from abc import ABC, abstractmethod\n",
    "\n",
    "from pyjudo import ServiceContainer"
   ]
  },
  {
   "cell_type": "markdown",
   "metadata": {},
   "source": [
    "## Service Resolution\n",
    "This is the most basic use case.  \n",
    "We register some services which have interdependencies, register them with the `ServiceContainer`, then retrieve them from the container, allowing it to resolve the dependencies.\n",
    "\n",
    "In this example, we define two services: `IFoo` and `IBar`, and create an implementation for each: `Foo` and `Bar`.  \n",
    "The implementation of `Bar` has a dependency on `Foo` - so, when we retrieve a `IBar` from the `ServiceContainer` it is automatically created for us."
   ]
  },
  {
   "cell_type": "code",
   "execution_count": 2,
   "metadata": {},
   "outputs": [],
   "source": [
    "# Define some interfaces (abstract classes) and implementations\n",
    "\n",
    "# Interfaces\n",
    "class IFoo(ABC):\n",
    "    @abstractmethod\n",
    "    def foo(self):\n",
    "        pass\n",
    "\n",
    "class IBar(ABC):\n",
    "    @abstractmethod\n",
    "    def bar(self):\n",
    "        pass\n",
    "\n",
    "# Implementations\n",
    "class Foo(IFoo):\n",
    "    def foo(self):\n",
    "        print(\"I'm a Foo\")\n",
    "\n",
    "class Bar(IBar):\n",
    "    def __init__(self, my_foo: IFoo):\n",
    "        self.my_foo = my_foo\n",
    "    \n",
    "    def bar(self):\n",
    "        print(\"I'm a Bar\")\n",
    "        self.my_foo.foo()"
   ]
  },
  {
   "cell_type": "code",
   "execution_count": 3,
   "metadata": {},
   "outputs": [],
   "source": [
    "# Register the services with the container\n",
    "container = ServiceContainer()\n",
    "\n",
    "container.register(IFoo, Foo)\n",
    "container.register(IBar, Bar)"
   ]
  },
  {
   "cell_type": "code",
   "execution_count": 4,
   "metadata": {},
   "outputs": [],
   "source": [
    "# Retrieve the services from the container\n",
    "foo = container.get(IFoo)\n",
    "bar = container.get(IBar)\n",
    "\n",
    "# Note: You can also retrieve services using the alternate syntax:\n",
    "# foo = container[IFoo]()\n",
    "# bar = container[IBar]()"
   ]
  },
  {
   "cell_type": "code",
   "execution_count": 5,
   "metadata": {},
   "outputs": [
    {
     "name": "stdout",
     "output_type": "stream",
     "text": [
      "I'm a Foo\n"
     ]
    }
   ],
   "source": [
    "# Use the services\n",
    "foo.foo()"
   ]
  },
  {
   "cell_type": "code",
   "execution_count": 6,
   "metadata": {},
   "outputs": [
    {
     "name": "stdout",
     "output_type": "stream",
     "text": [
      "I'm a Bar\n",
      "I'm a Foo\n"
     ]
    }
   ],
   "source": [
    "bar.bar()"
   ]
  },
  {
   "cell_type": "markdown",
   "metadata": {},
   "source": [
    "Services that include another service in their constructor (i.e. `__init__`), typically referred to as \"dependencies\", will have them automatically resolved by the `ServiceContainer`.  \n",
    "\n",
    "In our example above, when we retrieved an `IBar` from the `ServiceContainer` (i.e. `container.get(IBar)`), it recognises it requires an `IFoo` so it created one for us and passed it to the `IBar` constructor.  "
   ]
  },
  {
   "cell_type": "markdown",
   "metadata": {},
   "source": [
    "## Unresolvable Dependencies\n",
    "This is a somewhat fancy term for \"stuff that the container does't know about\".\n",
    "This could include parameters such as strings (you probably shouldn't be registering strings as a service type...), or flags, etc. that are particular to a service.\n",
    "\n",
    "In order to pass unresolvable dependencies or parameters to a service constructor, we can pass those arguments to the `ServiceContainer` when we retrieve the service.  "
   ]
  },
  {
   "cell_type": "code",
   "execution_count": 7,
   "metadata": {},
   "outputs": [],
   "source": [
    "# Define another interface and implementation with an unresolvable dependency\n",
    "\n",
    "class IBaz(ABC):\n",
    "    text: str\n",
    "\n",
    "    @abstractmethod\n",
    "    def baz(self):\n",
    "        pass\n",
    "\n",
    "class Baz(IBaz):\n",
    "    def __init__(self, text: str):\n",
    "        self.text = text\n",
    "    \n",
    "    def baz(self):\n",
    "        print(f\"I'm a Baz with text: {self.text}\")"
   ]
  },
  {
   "cell_type": "code",
   "execution_count": 8,
   "metadata": {},
   "outputs": [],
   "source": [
    "# Register the service with the container\n",
    "\n",
    "container.register(IBaz, Baz)"
   ]
  },
  {
   "cell_type": "code",
   "execution_count": 9,
   "metadata": {},
   "outputs": [
    {
     "name": "stdout",
     "output_type": "stream",
     "text": [
      "Error: ServiceResolutionError(\"Unable to resolve dependency 'text' for 'Baz'\")\n",
      "I'm a Baz with text: Hello, World!\n"
     ]
    }
   ],
   "source": [
    "# Try to retrieve the service from the container\n",
    "\n",
    "from pyjudo.exceptions import ServiceResolutionError\n",
    "\n",
    "# This will raise a ServicesResolutionError because the container cannot resolve the \n",
    "# dependency of 'text' in the Baz constructor (i.e. __init__(self, text: str))\n",
    "try:\n",
    "    baz = container.get(IBaz)\n",
    "except ServiceResolutionError as e:\n",
    "    print(f\"Error: {e!r}\")\n",
    "\n",
    "# We need to give the container the value of 'text' in order to resolve the dependency\n",
    "baz = container.get(IBaz, text=\"Hello, World!\")\n",
    "\n",
    "baz.baz()"
   ]
  },
  {
   "cell_type": "markdown",
   "metadata": {},
   "source": [
    "In this example, we have specified an \"unresolvable dependency\" in `Baz`, i.e. `text`. We can pass this as an argument when retrieving `IBaz` from the `ServiceContainer`."
   ]
  },
  {
   "cell_type": "markdown",
   "metadata": {},
   "source": [
    "> **NOTE**  \n",
    "> Arguments or \"overrides\" passed to the `ServiceContainer` can only be keyword arguments - it does not support positional. This makes it more explicit about which parameters are being provided."
   ]
  },
  {
   "cell_type": "code",
   "execution_count": 10,
   "metadata": {},
   "outputs": [],
   "source": [
    "# If the service has a default value in the constructor, it will be automatically used if an\n",
    "# overriding argument is not passed to the container.\n",
    "\n",
    "class BazWithDefault(IBaz):\n",
    "    def __init__(self, text: str = \"Default text\"):\n",
    "        self.text = text\n",
    "    \n",
    "    def baz(self):\n",
    "        print(f\"I'm a Baz with text: {self.text}\")\n",
    "\n",
    "# Lets remove the current registration for IBaz and register the new implementation\n",
    "container.unregister(IBaz)\n",
    "container.register(IBaz, BazWithDefault)"
   ]
  },
  {
   "cell_type": "code",
   "execution_count": 11,
   "metadata": {},
   "outputs": [
    {
     "name": "stdout",
     "output_type": "stream",
     "text": [
      "I'm a Baz with text: Default text\n"
     ]
    }
   ],
   "source": [
    "# Now we can retrieve the service without passing the 'text' argument\n",
    "\n",
    "baz = container.get(IBaz)\n",
    "\n",
    "baz.baz()"
   ]
  }
 ],
 "metadata": {
  "kernelspec": {
   "display_name": ".venv",
   "language": "python",
   "name": "python3"
  },
  "language_info": {
   "codemirror_mode": {
    "name": "ipython",
    "version": 3
   },
   "file_extension": ".py",
   "mimetype": "text/x-python",
   "name": "python",
   "nbconvert_exporter": "python",
   "pygments_lexer": "ipython3",
   "version": "3.12.5"
  }
 },
 "nbformat": 4,
 "nbformat_minor": 2
}
