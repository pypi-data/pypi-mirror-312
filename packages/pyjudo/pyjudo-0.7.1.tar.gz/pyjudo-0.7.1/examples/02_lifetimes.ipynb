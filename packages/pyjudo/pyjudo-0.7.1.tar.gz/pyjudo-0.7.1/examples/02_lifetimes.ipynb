{
 "cells": [
  {
   "cell_type": "markdown",
   "metadata": {},
   "source": [
    "# 02 Service Lifetimes"
   ]
  },
  {
   "cell_type": "markdown",
   "metadata": {},
   "source": [
    "In the examples so far, all of the services created have been \"transient\"; this means that when they are requested from the `ServiceContainer` a new instance is created each time. So, (under normal circumstances...) any modifications to the dependency service are not apparent to any other service which use it.  \n",
    "\n",
    "For example, if we have a services `IFoo`, `IBar` and `IBaz`, where `IBar` and `IBaz` are dependent on `IFoo`.\n",
    "If the `IFoo` service is transient, then `IBar` makes a modification to `IFoo`. `IBaz` will not be aware of the modifications because `IBar` and `IBaz` each have their own instances of `IFoo`. \n",
    "\n",
    "\"Transient\" is used to describe the \"LifeTime\" of the service. When services are registered with a `ServiceContainer`, the default lifetime is \"transient\". You can specify other lifetimes, which will be discussed later.\n",
    "\n",
    "Before checking out other lifetimes, let's see a working example of the issue described..."
   ]
  },
  {
   "cell_type": "code",
   "execution_count": 1,
   "metadata": {},
   "outputs": [],
   "source": [
    "from abc import ABC, abstractmethod\n",
    "\n",
    "from pyjudo import ServiceContainer"
   ]
  },
  {
   "cell_type": "code",
   "execution_count": 2,
   "metadata": {},
   "outputs": [],
   "source": [
    "# Interfaces\n",
    "class IFoo(ABC):\n",
    "    text: str\n",
    "\n",
    "    @abstractmethod\n",
    "    def foo(self): ...\n",
    "\n",
    "class IBar(ABC):\n",
    "    @abstractmethod\n",
    "    def bar(self): ...\n",
    "\n",
    "class IBaz(ABC):\n",
    "    @abstractmethod\n",
    "    def baz(self): ...\n",
    "\n",
    "\n",
    "# Implementations\n",
    "class Foo(IFoo):\n",
    "    def __init__(self, text: str = \"default text\"):\n",
    "        self.text = text\n",
    "\n",
    "    def foo(self):\n",
    "        print(self.text)\n",
    "\n",
    "class Bar(IBar):\n",
    "    def __init__(self, foo: IFoo):\n",
    "        self.foo = foo\n",
    "\n",
    "    def bar(self):\n",
    "        print(f\"I'm a Bar and my Foo says: {self.foo.text}\")\n",
    "\n",
    "class Baz(IBaz):\n",
    "    def __init__(self, foo: IFoo):\n",
    "        self.foo = foo\n",
    "\n",
    "    def baz(self):\n",
    "        print(f\"I'm a Baz and my Foo says: {self.foo.text}\")\n"
   ]
  },
  {
   "cell_type": "code",
   "execution_count": 3,
   "metadata": {},
   "outputs": [],
   "source": [
    "# Create container and register services\n",
    "container = ServiceContainer()\n",
    "\n",
    "container.register(IFoo, Foo)\n",
    "container.register(IBar, Bar)\n",
    "container.register(IBaz, Baz)"
   ]
  },
  {
   "cell_type": "code",
   "execution_count": 4,
   "metadata": {},
   "outputs": [],
   "source": [
    "# Retrieve services\n",
    "bar = container.get(IBar)\n",
    "baz = container.get(IBaz)"
   ]
  },
  {
   "cell_type": "code",
   "execution_count": 5,
   "metadata": {},
   "outputs": [
    {
     "name": "stdout",
     "output_type": "stream",
     "text": [
      "I'm a Bar and my Foo says: default text\n",
      "I'm a Baz and my Foo says: default text\n"
     ]
    }
   ],
   "source": [
    "# Check default behaviour\n",
    "bar.bar()\n",
    "baz.baz()"
   ]
  },
  {
   "cell_type": "code",
   "execution_count": 6,
   "metadata": {},
   "outputs": [
    {
     "name": "stdout",
     "output_type": "stream",
     "text": [
      "I'm a Bar and my Foo says: new text\n",
      "I'm a Baz and my Foo says: default text\n"
     ]
    }
   ],
   "source": [
    "# Now lets change Bar's Foo text\n",
    "bar.foo.text = \"new text\"\n",
    "\n",
    "bar.bar()\n",
    "baz.baz()\n"
   ]
  },
  {
   "cell_type": "markdown",
   "metadata": {},
   "source": [
    "We can see from the outputs, that after we modified the `Bar` service's `Foo.text`, the `Bar` output the new text, but the `Baz` still had the default text. This is because `Bar` and `Baz` each have their own instance of `Foo`, because it was registered with the `ServiceContainer` with a \"transient\" lifetime (the default)."
   ]
  },
  {
   "cell_type": "markdown",
   "metadata": {},
   "source": [
    "We can specify a services lifetime when it is registered with the `ServiceContainer`, by passing it a `ServiceLife`.\n",
    "\n",
    "There are a handful of lifetimes which we can specify:\n",
    "\n",
    " - `ServiceLife.TRANSIENT`\n",
    "   This is the default lifetime. Each time the service is requested, a new instance is created.\n",
    "\n",
    " - `ServiceLife.SCOPED`\n",
    "   A single service is created per \"scope\".\n",
    "\n",
    " - `ServiceLife.SINGLETON`\n",
    "   A single service is created per container."
   ]
  },
  {
   "cell_type": "markdown",
   "metadata": {},
   "source": [
    "We have looked a little at \"transient\" behavior, so let's examine the others: \"scoped\" and \"singleton\".\n",
    "\n",
    "We'll start with \"singleton\" as it's a little simpler than \"scoped\"."
   ]
  },
  {
   "cell_type": "markdown",
   "metadata": {},
   "source": [
    "The \"singleton\" lifetime means that the `ServiceContainer` will only ever create one instance of the specified service. This means when multiple services define it as a dependency, they will all recieve the same object.  \n",
    "\n",
    "If we update the previous example, and register `IFoo` as a \"singleton\" (rather than \"transient\"), our `IBar` and `IBaz` services should both get the same `IFoo`. This means, if one of the services modifies `IFoo`, it will be observed by the other."
   ]
  },
  {
   "cell_type": "code",
   "execution_count": 7,
   "metadata": {},
   "outputs": [],
   "source": [
    "from pyjudo import ServiceLife\n",
    "\n",
    "container.unregister(IFoo)\n",
    "container.register(IFoo, Foo, ServiceLife.SINGLETON)\n",
    "# Or alternatively\n",
    "# container.add_singleton(IFoo, Foo)"
   ]
  },
  {
   "cell_type": "code",
   "execution_count": 8,
   "metadata": {},
   "outputs": [],
   "source": [
    "# Retrieve services\n",
    "bar = container.get(IBar)\n",
    "baz = container.get(IBaz)"
   ]
  },
  {
   "cell_type": "code",
   "execution_count": 9,
   "metadata": {},
   "outputs": [
    {
     "name": "stdout",
     "output_type": "stream",
     "text": [
      "I'm a Bar and my Foo says: default text\n",
      "I'm a Baz and my Foo says: default text\n"
     ]
    }
   ],
   "source": [
    "# Check default behaviour\n",
    "bar.bar()\n",
    "baz.baz()"
   ]
  },
  {
   "cell_type": "code",
   "execution_count": 10,
   "metadata": {},
   "outputs": [
    {
     "name": "stdout",
     "output_type": "stream",
     "text": [
      "I'm a Bar and my Foo says: new text\n",
      "I'm a Baz and my Foo says: new text\n"
     ]
    }
   ],
   "source": [
    "# Now lets change Bar's Foo text\n",
    "bar.foo.text = \"new text\"\n",
    "\n",
    "bar.bar()\n",
    "baz.baz()"
   ]
  },
  {
   "cell_type": "markdown",
   "metadata": {},
   "source": [
    "Now this time, both `bar` and `baz` output the new text."
   ]
  },
  {
   "cell_type": "markdown",
   "metadata": {},
   "source": [
    "> CAUTION: You should be careful when using singletons. Multiple objects reading from and/or writing to the same object can lead to unexpected outcomes, especially in multithreaded applications. It's beyond the scope of these documents to detail how to properly handle these cases, but you should be forewarned."
   ]
  },
  {
   "cell_type": "markdown",
   "metadata": {},
   "source": [
    "Lastly (kinda), there is the \"scoped\" lifetime. Services registered with a \"scoped\" lifetime have a single instance created per scope.\n",
    "\n",
    "Service scopes are more complex and further detail on how they work are provided in [03 Scopes](03_scopes.ipynb), but a basic example is provided here.\n",
    "\n",
    "You can create and use scopes with a context manager. So when you enter into the context a new scope is created, and it is disposed of when the context is exited.\n",
    "\n",
    "```python\n",
    "with container.create_scope() as scope:\n",
    "    # This is a new scope\n",
    "# aaand the scope is gone\n",
    "```"
   ]
  },
  {
   "cell_type": "code",
   "execution_count": 11,
   "metadata": {},
   "outputs": [],
   "source": [
    "from pyjudo import ServiceLife\n",
    "\n",
    "container.unregister(IFoo)\n",
    "container.register(IFoo, Foo, ServiceLife.SCOPED)\n",
    "# Or alternatively\n",
    "# `container.add_scoped(IFoo, Foo)`\n",
    "# Going forward, we will use the more explicit registration methods:\n",
    "# `add_transient`, `add_singleton`, and `add_scoped`"
   ]
  },
  {
   "cell_type": "code",
   "execution_count": 12,
   "metadata": {},
   "outputs": [
    {
     "name": "stdout",
     "output_type": "stream",
     "text": [
      "Error: ServiceScopeError('No scope available to resolve scoped services.')\n",
      "\n",
      "In a scope\n",
      "I'm a Bar and my Foo says: im in a scope\n",
      "I'm a Baz and my Foo says: im in a scope\n",
      "\n",
      "In a nested scope\n",
      "I'm a Bar and my Foo says: im in a nested scope\n",
      "I'm a Baz and my Foo says: im in a nested scope\n",
      "\n",
      "Back to the first scope\n",
      "I'm a Bar and my Foo says: im in a scope\n",
      "I'm a Baz and my Foo says: im in a scope\n"
     ]
    }
   ],
   "source": [
    "from pyjudo.exceptions import ServiceScopeError\n",
    "\n",
    "# This will raise an error because we are not in a scope, and IFoo is scoped\n",
    "try:\n",
    "    bar = container.get(IBar)\n",
    "except ServiceScopeError as e:\n",
    "    print(f\"Error: {e!r}\")\n",
    "\n",
    "\n",
    "with container.create_scope() as scope:\n",
    "    print(\"\\nIn a scope\")\n",
    "    bar = scope.get(IBar)\n",
    "    baz = scope.get(IBaz)\n",
    "\n",
    "    bar.foo.text = \"im in a scope\"\n",
    "\n",
    "    bar.bar()\n",
    "    baz.baz()\n",
    "\n",
    "    with container.create_scope() as inner_scope:\n",
    "        print(\"\\nIn a nested scope\")\n",
    "        bar = inner_scope.get(IBar)\n",
    "        baz = inner_scope.get(IBaz)\n",
    "\n",
    "        bar.foo.text = \"im in a nested scope\"\n",
    "\n",
    "        bar.bar()\n",
    "        baz.baz()\n",
    "\n",
    "    print(\"\\nBack to the first scope\")\n",
    "    bar = scope.get(IBar)\n",
    "    baz = scope.get(IBaz)\n",
    "\n",
    "    bar.bar()\n",
    "    baz.baz()"
   ]
  },
  {
   "cell_type": "markdown",
   "metadata": {},
   "source": [
    "In this example, we defined `IFoo` with a lifetime of \"scoped\".\n",
    "\n",
    "First, we tried to retrieve an `IBar` service, outside of a scope. This will raise an exception, because there is no current scope.\n",
    "\n",
    "> **NOTE**  \n",
    "> It is debatable whether there should be a \"global\" scope, but I'm of the opinion that this is a poor design.  \n",
    ">  \n",
    "> Services which are scoped imply they have an expiration and should be disposed of. A \"global\" scope would not be disposed of until the container is disposed, meaning scoped services resolved in the \"global\" scope are effectively implicit singletons.  \n",
    ">  \n",
    "> I think it's better to explicitly define that behaviour to prevent accidental misuse; thus, scoped services cannot be resolved unless within an explicitly defined scope.\n",
    "\n",
    "We then created a new scope, and retrieved the `IBar` and `IBaz` services, and updated the `IFoo` text to \"im in a scope\".\n",
    "\n",
    "A second, nested scope was then created and we retrieved the `IBar` and `IBaz` services from the nested scope and updated the `IFoo` text again, this time to \"im in a nested scope\"\n",
    "\n",
    "Finally, we left the nested scope, and retrieved the services again (somewhat unnecessarily, but helps prove the theory...), and checked the text.\n",
    "\n",
    "You should notice that when we finally checked the `IFoo` text after leaving the nested scope, the text was the same as when we set first set it: \"im in a scope\". This is because each scope has it's own `IFoo` instance. "
   ]
  },
  {
   "cell_type": "markdown",
   "metadata": {},
   "source": [
    "I hope that gives a reasonable summary of the different service lifetimes and an introduction to their use. \n",
    "\n",
    "Scopes and scoped services are a little more complex, and are gone into further detail in the next notebook, [03 Scopes](03_scopes.ipynb)."
   ]
  }
 ],
 "metadata": {
  "kernelspec": {
   "display_name": ".venv",
   "language": "python",
   "name": "python3"
  },
  "language_info": {
   "codemirror_mode": {
    "name": "ipython",
    "version": 3
   },
   "file_extension": ".py",
   "mimetype": "text/x-python",
   "name": "python",
   "nbconvert_exporter": "python",
   "pygments_lexer": "ipython3",
   "version": "3.12.5"
  }
 },
 "nbformat": 4,
 "nbformat_minor": 2
}
