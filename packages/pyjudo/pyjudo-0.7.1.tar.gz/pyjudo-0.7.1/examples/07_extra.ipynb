{
 "cells": [
  {
   "cell_type": "markdown",
   "metadata": {},
   "source": [
    "# 07 Extra"
   ]
  },
  {
   "cell_type": "markdown",
   "metadata": {},
   "source": [
    "There are some additional **PyJudo** featues, not covered in the previous chapters.\n",
    "\n",
    "We'll just run through them here..."
   ]
  },
  {
   "cell_type": "code",
   "execution_count": 1,
   "metadata": {},
   "outputs": [],
   "source": [
    "from pyjudo import ServiceContainer, IServiceContainer"
   ]
  },
  {
   "cell_type": "markdown",
   "metadata": {},
   "source": [
    "## Injecting the `ServiceContainer`"
   ]
  },
  {
   "cell_type": "markdown",
   "metadata": {},
   "source": [
    "The `ServiceContainer` is automatically registered as a singleton service in itself, you can retrieve it using the `IServiceContainer` interface:"
   ]
  },
  {
   "cell_type": "code",
   "execution_count": 2,
   "metadata": {},
   "outputs": [],
   "source": [
    "container = ServiceContainer()\n",
    "\n",
    "c = container.get(IServiceContainer)\n",
    "\n",
    "assert c is container"
   ]
  },
  {
   "cell_type": "markdown",
   "metadata": {},
   "source": [
    "This is more useful in scenarios where you want to specify it as a dependency, you do this by adding an `IServiceContainer` dependency in a constructor:"
   ]
  },
  {
   "cell_type": "code",
   "execution_count": 3,
   "metadata": {},
   "outputs": [],
   "source": [
    "from abc import ABC\n",
    "\n",
    "class IFoo(ABC): ...\n",
    "\n",
    "class Foo(IFoo): \n",
    "    def __init__(self, services: IServiceContainer):\n",
    "        self.services = services"
   ]
  },
  {
   "cell_type": "code",
   "execution_count": 4,
   "metadata": {},
   "outputs": [],
   "source": [
    "container.register(IFoo, Foo)"
   ]
  },
  {
   "cell_type": "code",
   "execution_count": 5,
   "metadata": {},
   "outputs": [],
   "source": [
    "foo = container.get(IFoo)\n",
    "\n",
    "assert foo.services is container"
   ]
  },
  {
   "cell_type": "markdown",
   "metadata": {},
   "source": [
    "> **NOTE**  \n",
    "> Whilst it is possible to inject the `ServiceContainer` as a dependency and retrieve specific services within another service, it is not recommended. Specifying individual service dependencies in constructors is a better practice, as it explicitly defines interdependencies and creates more readable, and maintainable code."
   ]
  }
 ],
 "metadata": {
  "kernelspec": {
   "display_name": ".venv",
   "language": "python",
   "name": "python3"
  },
  "language_info": {
   "codemirror_mode": {
    "name": "ipython",
    "version": 3
   },
   "file_extension": ".py",
   "mimetype": "text/x-python",
   "name": "python",
   "nbconvert_exporter": "python",
   "pygments_lexer": "ipython3",
   "version": "3.12.5"
  }
 },
 "nbformat": 4,
 "nbformat_minor": 2
}
